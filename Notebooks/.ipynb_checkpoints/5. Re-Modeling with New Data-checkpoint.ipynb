{
 "cells": [
  {
   "cell_type": "markdown",
   "id": "00951e4c",
   "metadata": {},
   "source": [
    "# Re-Modeling with New Data<a id='Re-Modeling_with_New_Data'></a>"
   ]
  },
  {
   "cell_type": "markdown",
   "id": "8c041a3d",
   "metadata": {},
   "source": [
    "### 1 Table of Contents<a id='Contents'></a>\n",
    "* [Re-Modeling with New Data](#Re-Modeling_with_New_Data)\n",
    "  * [1 Contents](#Contents)\n",
    "  * [2 Introduction](#2_Introduction)\n",
    "      * [2.1 Problem](#2.1_Problem)\n",
    "      * [2.2 Data Sources](#2.2_Data_Sources)\n",
    "  * [3 Imports](#3_Imports)\n",
    "  * [4 Load Data](#4_Load_Data)\n",
    "  * [5 Collecting and Merging](#5_Collecting_and_Merging)\n",
    "      * [5.1 Attributes](#5.1_Attributes)\n",
    "      * [5.2 Get NSRDB Data](#5.2_Get_NSRDB_Data)\n",
    "          * [5.2.1 Scaling NSRDB Data](#5.2.1_Scaling_NSRDB_Data)\n",
    "      * [5.3 Merging NSRDB Columns](#5.3_Merging_NSRDB_Columns)\n",
    "      * [5.4 E.W. Brown Solar Data](#5.4_E.W._Brown_Solar_Data)\n",
    "      * [5.5 Merge](#5.5_Merge)\n",
    "  * [6 Clean and Explore](#6_Clean_and_Explore)\n",
    "  * [7 Test Train Split](#7_Test_Train_Split)\n",
    "  * [8 Modeling](#8_Modeling)\n",
    "      * [8.1 Dummy Regressor](#8.1_Dummy_Regressor)\n",
    "      * [8.2 Linear Regressor](#8.2_Linear_Regressor)\n",
    "      * [8.3 Gradient Boosting Regressor](#8.3_Gradient_Boosting_Regressor)\n",
    "      * [8.4 Random Forest Regressor](#8.4_Random_Forest_Regressor)\n",
    "      * [8.5 Best Model](#8.5_Best_Model)\n",
    "  * [9 Validate](#9_Validate)\n",
    "  * [10 Save Data](#10_Save_Data)\n",
    "  * [11 Conclusion](#11_Conclusion)"
   ]
  },
  {
   "cell_type": "markdown",
   "id": "81e0dd7d",
   "metadata": {},
   "source": [
    "### 2 Introduction<a id='2_Introduction'></a>"
   ]
  },
  {
   "cell_type": "markdown",
   "id": "05a1e3d0",
   "metadata": {},
   "source": [
    "#### 2.1 Problem<a id='2.1_Problem'></a>"
   ]
  },
  {
   "cell_type": "markdown",
   "id": "c7f94cff",
   "metadata": {},
   "source": [
    "Previously, I had used weather data and solar power data from three sites in the UK to train my model. The model would then be used to predict solar power generated under weather conditions provided by the NSRDB. However, when I tested this out, I found out that my model was predicting the most power generated in the winter months and the least power generated in the summer. This would obviously not be true for any site in the U.S., so I have decided to re-train the model. "
   ]
  },
  {
   "cell_type": "markdown",
   "id": "ca735572",
   "metadata": {},
   "source": [
    "#### 2.2 Data Sources<a id='2.2_Data_Sources'></a>"
   ]
  },
  {
   "cell_type": "markdown",
   "id": "e74599e2",
   "metadata": {},
   "source": [
    "I will now be using solar power data from E.W. Brown Solar Facility and weather data from the NSRDB corresponding to the closest available location to the solar site. The solar data of interest in the KWh columns, as this is the KWh exported from the site.\n",
    "\n",
    "https://lge-ku.com/live-solar-generation/historical-data"
   ]
  },
  {
   "cell_type": "markdown",
   "id": "90e64ac3",
   "metadata": {},
   "source": [
    "### 3 Imports<a id='3_Imports'></a>"
   ]
  },
  {
   "cell_type": "code",
   "execution_count": 1,
   "id": "63724cb0",
   "metadata": {},
   "outputs": [],
   "source": [
    "import warnings\n",
    "warnings.simplefilter('ignore')\n",
    "import pandas as pd\n",
    "import numpy as np\n",
    "import os\n",
    "import pickle\n",
    "import matplotlib.pyplot as plt\n",
    "import seaborn as sns\n",
    "import datetime\n",
    "from sklearn import __version__ as sklearn_version\n",
    "from sklearn.decomposition import PCA\n",
    "from scipy.spatial import cKDTree\n",
    "from sklearn.model_selection import cross_validate, GridSearchCV, RandomizedSearchCV, train_test_split\n",
    "from sklearn.preprocessing import StandardScaler, MinMaxScaler, scale\n",
    "from sklearn.dummy import DummyRegressor\n",
    "from sklearn.linear_model import LinearRegression\n",
    "from sklearn.ensemble import GradientBoostingRegressor\n",
    "from sklearn.svm import SVR\n",
    "from sklearn.metrics import r2_score, mean_squared_error, mean_absolute_error\n",
    "from sklearn.pipeline import make_pipeline, Pipeline\n",
    "from sklearn.impute import SimpleImputer\n",
    "from sklearn.ensemble import RandomForestRegressor\n",
    "import h5pyd\n",
    "import requests\n",
    "import json\n",
    "from requests.structures import CaseInsensitiveDict\n",
    "from library.sb_utils import save_file"
   ]
  },
  {
   "cell_type": "markdown",
   "id": "44fb9b40",
   "metadata": {},
   "source": [
    "### 4 Load Data<a id='4_Load_Data'></a>"
   ]
  },
  {
   "cell_type": "code",
   "execution_count": 2,
   "id": "d87680a9",
   "metadata": {},
   "outputs": [],
   "source": [
    "nsrdb = h5pyd.File(\"/nrel/nsrdb/v3/nsrdb_2020.h5\", 'r')\n",
    "Attributes = pd.read_csv('../data/Attributes.csv', index_col = 'Unnamed: 0')\n",
    "lat1 = 37.78820\n",
    "lon1 = -84.71233\n",
    "data = pd.read_csv('../raw_data/BS_2020.csv')"
   ]
  },
  {
   "cell_type": "markdown",
   "id": "78b795be",
   "metadata": {},
   "source": [
    "### 5 Collecting and Merging<a id='5_Collecting_and_Merging'></a>"
   ]
  },
  {
   "cell_type": "markdown",
   "id": "59f0e700",
   "metadata": {},
   "source": [
    "#### 5.1 Attributes<a id='5.1_Attributes'></a>"
   ]
  },
  {
   "cell_type": "code",
   "execution_count": 3,
   "id": "f9a1826d",
   "metadata": {
    "scrolled": false
   },
   "outputs": [
    {
     "data": {
      "text/html": [
       "<div>\n",
       "<style scoped>\n",
       "    .dataframe tbody tr th:only-of-type {\n",
       "        vertical-align: middle;\n",
       "    }\n",
       "\n",
       "    .dataframe tbody tr th {\n",
       "        vertical-align: top;\n",
       "    }\n",
       "\n",
       "    .dataframe thead th {\n",
       "        text-align: right;\n",
       "    }\n",
       "</style>\n",
       "<table border=\"1\" class=\"dataframe\">\n",
       "  <thead>\n",
       "    <tr style=\"text-align: right;\">\n",
       "      <th></th>\n",
       "      <th>air_temperature</th>\n",
       "      <th>alpha</th>\n",
       "      <th>aod</th>\n",
       "      <th>asymmetry</th>\n",
       "      <th>cld_opd_dcomp</th>\n",
       "      <th>cld_reff_dcomp</th>\n",
       "      <th>clearsky_dhi</th>\n",
       "      <th>clearsky_dni</th>\n",
       "      <th>clearsky_ghi</th>\n",
       "      <th>cloud_press_acha</th>\n",
       "      <th>...</th>\n",
       "      <th>ozone</th>\n",
       "      <th>relative_humidity</th>\n",
       "      <th>solar_zenith_angle</th>\n",
       "      <th>ssa</th>\n",
       "      <th>surface_albedo</th>\n",
       "      <th>surface_pressure</th>\n",
       "      <th>time_index</th>\n",
       "      <th>total_precipitable_water</th>\n",
       "      <th>wind_direction</th>\n",
       "      <th>wind_speed</th>\n",
       "    </tr>\n",
       "  </thead>\n",
       "  <tbody>\n",
       "    <tr>\n",
       "      <th>data_source</th>\n",
       "      <td>MERRA2</td>\n",
       "      <td>MERRA2</td>\n",
       "      <td>MERRA2</td>\n",
       "      <td>climatology</td>\n",
       "      <td>UW-GOES</td>\n",
       "      <td>UW-GOES</td>\n",
       "      <td>output</td>\n",
       "      <td>output</td>\n",
       "      <td>output</td>\n",
       "      <td>UW-GOES</td>\n",
       "      <td>...</td>\n",
       "      <td>MERRA2</td>\n",
       "      <td>derived</td>\n",
       "      <td>calculated</td>\n",
       "      <td>MERRA2</td>\n",
       "      <td>MODIS-IMS</td>\n",
       "      <td>MERRA2</td>\n",
       "      <td>NaN</td>\n",
       "      <td>MERRA2</td>\n",
       "      <td>MERRA2</td>\n",
       "      <td>MERRA2</td>\n",
       "    </tr>\n",
       "    <tr>\n",
       "      <th>elevation_correction</th>\n",
       "      <td>True</td>\n",
       "      <td>False</td>\n",
       "      <td>True</td>\n",
       "      <td>False</td>\n",
       "      <td>False</td>\n",
       "      <td>False</td>\n",
       "      <td>False</td>\n",
       "      <td>False</td>\n",
       "      <td>False</td>\n",
       "      <td>False</td>\n",
       "      <td>...</td>\n",
       "      <td>False</td>\n",
       "      <td>False</td>\n",
       "      <td>False</td>\n",
       "      <td>False</td>\n",
       "      <td>False</td>\n",
       "      <td>True</td>\n",
       "      <td>NaN</td>\n",
       "      <td>True</td>\n",
       "      <td>False</td>\n",
       "      <td>False</td>\n",
       "    </tr>\n",
       "    <tr>\n",
       "      <th>physical_max</th>\n",
       "      <td>70.0</td>\n",
       "      <td>2.5</td>\n",
       "      <td>1.5</td>\n",
       "      <td>1.0</td>\n",
       "      <td>80.0</td>\n",
       "      <td>80.0</td>\n",
       "      <td>800.0</td>\n",
       "      <td>1350.0</td>\n",
       "      <td>1350.0</td>\n",
       "      <td>1100.0</td>\n",
       "      <td>...</td>\n",
       "      <td>0.5</td>\n",
       "      <td>100.0</td>\n",
       "      <td>180.0</td>\n",
       "      <td>1.0</td>\n",
       "      <td>1.0</td>\n",
       "      <td>1100.0</td>\n",
       "      <td>NaN</td>\n",
       "      <td>15.0</td>\n",
       "      <td>360.0</td>\n",
       "      <td>40.0</td>\n",
       "    </tr>\n",
       "    <tr>\n",
       "      <th>physical_min</th>\n",
       "      <td>-100.0</td>\n",
       "      <td>0.0</td>\n",
       "      <td>0.01</td>\n",
       "      <td>-1.0</td>\n",
       "      <td>0.0</td>\n",
       "      <td>0.0</td>\n",
       "      <td>0.0</td>\n",
       "      <td>0.0</td>\n",
       "      <td>0.0</td>\n",
       "      <td>0.0</td>\n",
       "      <td>...</td>\n",
       "      <td>0.2</td>\n",
       "      <td>0.0</td>\n",
       "      <td>0.0</td>\n",
       "      <td>0.0</td>\n",
       "      <td>0.0</td>\n",
       "      <td>300.0</td>\n",
       "      <td>NaN</td>\n",
       "      <td>0.0</td>\n",
       "      <td>0.0</td>\n",
       "      <td>0.0</td>\n",
       "    </tr>\n",
       "    <tr>\n",
       "      <th>psm_scale_factor</th>\n",
       "      <td>10.0</td>\n",
       "      <td>100.0</td>\n",
       "      <td>10000.0</td>\n",
       "      <td>100.0</td>\n",
       "      <td>100.0</td>\n",
       "      <td>100.0</td>\n",
       "      <td>1.0</td>\n",
       "      <td>1.0</td>\n",
       "      <td>1.0</td>\n",
       "      <td>1.0</td>\n",
       "      <td>...</td>\n",
       "      <td>1000.0</td>\n",
       "      <td>100.0</td>\n",
       "      <td>100.0</td>\n",
       "      <td>100.0</td>\n",
       "      <td>100.0</td>\n",
       "      <td>1.0</td>\n",
       "      <td>NaN</td>\n",
       "      <td>10.0</td>\n",
       "      <td>1.0</td>\n",
       "      <td>10.0</td>\n",
       "    </tr>\n",
       "  </tbody>\n",
       "</table>\n",
       "<p>5 rows × 28 columns</p>\n",
       "</div>"
      ],
      "text/plain": [
       "                     air_temperature   alpha      aod    asymmetry  \\\n",
       "data_source                   MERRA2  MERRA2   MERRA2  climatology   \n",
       "elevation_correction            True   False     True        False   \n",
       "physical_max                    70.0     2.5      1.5          1.0   \n",
       "physical_min                  -100.0     0.0     0.01         -1.0   \n",
       "psm_scale_factor                10.0   100.0  10000.0        100.0   \n",
       "\n",
       "                     cld_opd_dcomp cld_reff_dcomp clearsky_dhi clearsky_dni  \\\n",
       "data_source                UW-GOES        UW-GOES       output       output   \n",
       "elevation_correction         False          False        False        False   \n",
       "physical_max                  80.0           80.0        800.0       1350.0   \n",
       "physical_min                   0.0            0.0          0.0          0.0   \n",
       "psm_scale_factor             100.0          100.0          1.0          1.0   \n",
       "\n",
       "                     clearsky_ghi cloud_press_acha  ...   ozone  \\\n",
       "data_source                output          UW-GOES  ...  MERRA2   \n",
       "elevation_correction        False            False  ...   False   \n",
       "physical_max               1350.0           1100.0  ...     0.5   \n",
       "physical_min                  0.0              0.0  ...     0.2   \n",
       "psm_scale_factor              1.0              1.0  ...  1000.0   \n",
       "\n",
       "                     relative_humidity solar_zenith_angle     ssa  \\\n",
       "data_source                    derived         calculated  MERRA2   \n",
       "elevation_correction             False              False   False   \n",
       "physical_max                     100.0              180.0     1.0   \n",
       "physical_min                       0.0                0.0     0.0   \n",
       "psm_scale_factor                 100.0              100.0   100.0   \n",
       "\n",
       "                     surface_albedo surface_pressure time_index  \\\n",
       "data_source               MODIS-IMS           MERRA2        NaN   \n",
       "elevation_correction          False             True        NaN   \n",
       "physical_max                    1.0           1100.0        NaN   \n",
       "physical_min                    0.0            300.0        NaN   \n",
       "psm_scale_factor              100.0              1.0        NaN   \n",
       "\n",
       "                      total_precipitable_water wind_direction wind_speed  \n",
       "data_source                             MERRA2         MERRA2     MERRA2  \n",
       "elevation_correction                      True          False      False  \n",
       "physical_max                              15.0          360.0       40.0  \n",
       "physical_min                               0.0            0.0        0.0  \n",
       "psm_scale_factor                          10.0            1.0       10.0  \n",
       "\n",
       "[5 rows x 28 columns]"
      ]
     },
     "execution_count": 3,
     "metadata": {},
     "output_type": "execute_result"
    }
   ],
   "source": [
    "Attributes.head()"
   ]
  },
  {
   "cell_type": "markdown",
   "id": "aca5db9b",
   "metadata": {},
   "source": [
    "#### 5.2 Get NSRDB Data<a id='5.2_Get_NSRDB_Data'></a>"
   ]
  },
  {
   "cell_type": "code",
   "execution_count": 4,
   "id": "5908d489",
   "metadata": {},
   "outputs": [],
   "source": [
    "def getLocationData(lat, lon, cols = ['meta']):\n",
    "    \n",
    "    tree = cKDTree(nsrdb['coordinates'][...])\n",
    "    dist, pos = tree.query(np.array([lat, lon]))\n",
    "    \n",
    "    df = pd.DataFrame(columns = cols)\n",
    "    \n",
    "    for col in cols:\n",
    "        df[col] = nsrdb[col][:, pos]\n",
    "    \n",
    "    return df"
   ]
  },
  {
   "cell_type": "markdown",
   "id": "035ebd21",
   "metadata": {},
   "source": []
  },
  {
   "cell_type": "code",
   "execution_count": 5,
   "id": "112e806b",
   "metadata": {
    "scrolled": true
   },
   "outputs": [],
   "source": [
    "columns1 = ['air_temperature', 'alpha', 'aod', 'asymmetry', 'cld_opd_dcomp', 'cld_reff_dcomp']\n",
    "columns2 = ['clearsky_dhi', 'clearsky_dni', 'clearsky_ghi', 'cloud_press_acha', 'cloud_type', 'dew_point']\n",
    "columns3 = ['dhi', 'dni', 'ghi', 'ozone', 'relative_humidity', 'solar_zenith_angle', 'ssa', 'surface_albedo']\n",
    "columns4 = ['surface_pressure', 'total_precipitable_water', 'wind_direction', 'wind_speed']"
   ]
  },
  {
   "cell_type": "code",
   "execution_count": 6,
   "id": "bd906070",
   "metadata": {},
   "outputs": [],
   "source": [
    "df1 = getLocationData(lat1, lon1, cols = columns1)"
   ]
  },
  {
   "cell_type": "code",
   "execution_count": 7,
   "id": "f267b85a",
   "metadata": {},
   "outputs": [],
   "source": [
    "df2 = getLocationData(lat1, lon1, cols = columns2)"
   ]
  },
  {
   "cell_type": "code",
   "execution_count": 8,
   "id": "efea3cab",
   "metadata": {},
   "outputs": [],
   "source": [
    "df3 = getLocationData(lat1, lon1, cols = columns3)"
   ]
  },
  {
   "cell_type": "code",
   "execution_count": 9,
   "id": "55b6a804",
   "metadata": {},
   "outputs": [],
   "source": [
    "df4 = getLocationData(lat1, lon1, cols = columns4)"
   ]
  },
  {
   "cell_type": "markdown",
   "id": "acbf842d",
   "metadata": {},
   "source": [
    "#### 5.2.1 Scaling NSRDB Data<a id='5.2.1_Scaling_NSRDB_Data'></a>"
   ]
  },
  {
   "cell_type": "markdown",
   "id": "cb01322f",
   "metadata": {},
   "source": []
  },
  {
   "cell_type": "code",
   "execution_count": 10,
   "id": "86636729",
   "metadata": {},
   "outputs": [],
   "source": [
    "for col in columns1:\n",
    "    if (Attributes.loc['scale_factor', col]):\n",
    "        scale = float(Attributes.loc['scale_factor', col])\n",
    "        df1[col] = df1[col] / scale\n",
    "for col in columns2:\n",
    "    if (Attributes.loc['scale_factor', col]):\n",
    "        scale = float(Attributes.loc['scale_factor', col])\n",
    "        df2[col] = df2[col] / scale\n",
    "for col in columns3:\n",
    "    if (Attributes.loc['scale_factor', col]):\n",
    "        scale = float(Attributes.loc['scale_factor', col])\n",
    "        df3[col] = df3[col] / scale\n",
    "for col in columns4:\n",
    "    if (Attributes.loc['scale_factor', col]):\n",
    "        scale = float(Attributes.loc['scale_factor', col])\n",
    "        df4[col] = df4[col] / scale"
   ]
  },
  {
   "cell_type": "markdown",
   "id": "36a9e4b9",
   "metadata": {},
   "source": [
    "#### 5.3 Merging NSRDB Columns<a id='5.3_Merging_NSRDB_Columns'></a>"
   ]
  },
  {
   "cell_type": "markdown",
   "id": "e954e5e1",
   "metadata": {},
   "source": []
  },
  {
   "cell_type": "code",
   "execution_count": 11,
   "id": "ac57b6f3",
   "metadata": {},
   "outputs": [],
   "source": [
    "Weatherdf = df1.merge(df2, left_index = True, right_index = True).merge(df3, left_index = True, right_index = True).merge(df4, left_index = True, right_index = True)"
   ]
  },
  {
   "cell_type": "code",
   "execution_count": 12,
   "id": "b524adac",
   "metadata": {
    "scrolled": true
   },
   "outputs": [
    {
     "data": {
      "text/html": [
       "<div>\n",
       "<style scoped>\n",
       "    .dataframe tbody tr th:only-of-type {\n",
       "        vertical-align: middle;\n",
       "    }\n",
       "\n",
       "    .dataframe tbody tr th {\n",
       "        vertical-align: top;\n",
       "    }\n",
       "\n",
       "    .dataframe thead th {\n",
       "        text-align: right;\n",
       "    }\n",
       "</style>\n",
       "<table border=\"1\" class=\"dataframe\">\n",
       "  <thead>\n",
       "    <tr style=\"text-align: right;\">\n",
       "      <th></th>\n",
       "      <th>air_temperature</th>\n",
       "      <th>alpha</th>\n",
       "      <th>aod</th>\n",
       "      <th>asymmetry</th>\n",
       "      <th>cld_opd_dcomp</th>\n",
       "      <th>cld_reff_dcomp</th>\n",
       "      <th>clearsky_dhi</th>\n",
       "      <th>clearsky_dni</th>\n",
       "      <th>clearsky_ghi</th>\n",
       "      <th>cloud_press_acha</th>\n",
       "      <th>...</th>\n",
       "      <th>ghi</th>\n",
       "      <th>ozone</th>\n",
       "      <th>relative_humidity</th>\n",
       "      <th>solar_zenith_angle</th>\n",
       "      <th>ssa</th>\n",
       "      <th>surface_albedo</th>\n",
       "      <th>surface_pressure</th>\n",
       "      <th>total_precipitable_water</th>\n",
       "      <th>wind_direction</th>\n",
       "      <th>wind_speed</th>\n",
       "    </tr>\n",
       "  </thead>\n",
       "  <tbody>\n",
       "    <tr>\n",
       "      <th>0</th>\n",
       "      <td>2.2</td>\n",
       "      <td>1.29</td>\n",
       "      <td>0.086</td>\n",
       "      <td>0.61</td>\n",
       "      <td>0.0</td>\n",
       "      <td>0.0</td>\n",
       "      <td>0.0</td>\n",
       "      <td>0.0</td>\n",
       "      <td>0.0</td>\n",
       "      <td>0.0</td>\n",
       "      <td>...</td>\n",
       "      <td>0.0</td>\n",
       "      <td>0.346</td>\n",
       "      <td>88.89</td>\n",
       "      <td>107.29</td>\n",
       "      <td>0.97</td>\n",
       "      <td>0.12</td>\n",
       "      <td>984.0</td>\n",
       "      <td>0.9</td>\n",
       "      <td>270.0</td>\n",
       "      <td>1.9</td>\n",
       "    </tr>\n",
       "    <tr>\n",
       "      <th>1</th>\n",
       "      <td>2.1</td>\n",
       "      <td>1.29</td>\n",
       "      <td>0.086</td>\n",
       "      <td>0.61</td>\n",
       "      <td>0.0</td>\n",
       "      <td>0.0</td>\n",
       "      <td>0.0</td>\n",
       "      <td>0.0</td>\n",
       "      <td>0.0</td>\n",
       "      <td>0.0</td>\n",
       "      <td>...</td>\n",
       "      <td>0.0</td>\n",
       "      <td>0.346</td>\n",
       "      <td>89.52</td>\n",
       "      <td>113.04</td>\n",
       "      <td>0.97</td>\n",
       "      <td>0.12</td>\n",
       "      <td>984.0</td>\n",
       "      <td>1.0</td>\n",
       "      <td>271.0</td>\n",
       "      <td>1.9</td>\n",
       "    </tr>\n",
       "    <tr>\n",
       "      <th>2</th>\n",
       "      <td>2.0</td>\n",
       "      <td>1.29</td>\n",
       "      <td>0.093</td>\n",
       "      <td>0.61</td>\n",
       "      <td>0.0</td>\n",
       "      <td>0.0</td>\n",
       "      <td>0.0</td>\n",
       "      <td>0.0</td>\n",
       "      <td>0.0</td>\n",
       "      <td>0.0</td>\n",
       "      <td>...</td>\n",
       "      <td>0.0</td>\n",
       "      <td>0.345</td>\n",
       "      <td>89.76</td>\n",
       "      <td>118.87</td>\n",
       "      <td>0.97</td>\n",
       "      <td>0.12</td>\n",
       "      <td>984.0</td>\n",
       "      <td>1.0</td>\n",
       "      <td>272.0</td>\n",
       "      <td>1.9</td>\n",
       "    </tr>\n",
       "    <tr>\n",
       "      <th>3</th>\n",
       "      <td>1.8</td>\n",
       "      <td>1.29</td>\n",
       "      <td>0.093</td>\n",
       "      <td>0.61</td>\n",
       "      <td>0.0</td>\n",
       "      <td>0.0</td>\n",
       "      <td>0.0</td>\n",
       "      <td>0.0</td>\n",
       "      <td>0.0</td>\n",
       "      <td>0.0</td>\n",
       "      <td>...</td>\n",
       "      <td>0.0</td>\n",
       "      <td>0.346</td>\n",
       "      <td>91.05</td>\n",
       "      <td>124.77</td>\n",
       "      <td>0.97</td>\n",
       "      <td>0.12</td>\n",
       "      <td>984.0</td>\n",
       "      <td>1.0</td>\n",
       "      <td>272.0</td>\n",
       "      <td>1.9</td>\n",
       "    </tr>\n",
       "    <tr>\n",
       "      <th>4</th>\n",
       "      <td>1.7</td>\n",
       "      <td>1.31</td>\n",
       "      <td>0.092</td>\n",
       "      <td>0.61</td>\n",
       "      <td>0.0</td>\n",
       "      <td>0.0</td>\n",
       "      <td>0.0</td>\n",
       "      <td>0.0</td>\n",
       "      <td>0.0</td>\n",
       "      <td>0.0</td>\n",
       "      <td>...</td>\n",
       "      <td>0.0</td>\n",
       "      <td>0.346</td>\n",
       "      <td>90.85</td>\n",
       "      <td>130.69</td>\n",
       "      <td>0.97</td>\n",
       "      <td>0.12</td>\n",
       "      <td>984.0</td>\n",
       "      <td>1.0</td>\n",
       "      <td>271.0</td>\n",
       "      <td>1.9</td>\n",
       "    </tr>\n",
       "  </tbody>\n",
       "</table>\n",
       "<p>5 rows × 24 columns</p>\n",
       "</div>"
      ],
      "text/plain": [
       "   air_temperature  alpha    aod  asymmetry  cld_opd_dcomp  cld_reff_dcomp  \\\n",
       "0              2.2   1.29  0.086       0.61            0.0             0.0   \n",
       "1              2.1   1.29  0.086       0.61            0.0             0.0   \n",
       "2              2.0   1.29  0.093       0.61            0.0             0.0   \n",
       "3              1.8   1.29  0.093       0.61            0.0             0.0   \n",
       "4              1.7   1.31  0.092       0.61            0.0             0.0   \n",
       "\n",
       "   clearsky_dhi  clearsky_dni  clearsky_ghi  cloud_press_acha  ...  ghi  \\\n",
       "0           0.0           0.0           0.0               0.0  ...  0.0   \n",
       "1           0.0           0.0           0.0               0.0  ...  0.0   \n",
       "2           0.0           0.0           0.0               0.0  ...  0.0   \n",
       "3           0.0           0.0           0.0               0.0  ...  0.0   \n",
       "4           0.0           0.0           0.0               0.0  ...  0.0   \n",
       "\n",
       "   ozone  relative_humidity  solar_zenith_angle   ssa  surface_albedo  \\\n",
       "0  0.346              88.89              107.29  0.97            0.12   \n",
       "1  0.346              89.52              113.04  0.97            0.12   \n",
       "2  0.345              89.76              118.87  0.97            0.12   \n",
       "3  0.346              91.05              124.77  0.97            0.12   \n",
       "4  0.346              90.85              130.69  0.97            0.12   \n",
       "\n",
       "   surface_pressure  total_precipitable_water  wind_direction  wind_speed  \n",
       "0             984.0                       0.9           270.0         1.9  \n",
       "1             984.0                       1.0           271.0         1.9  \n",
       "2             984.0                       1.0           272.0         1.9  \n",
       "3             984.0                       1.0           272.0         1.9  \n",
       "4             984.0                       1.0           271.0         1.9  \n",
       "\n",
       "[5 rows x 24 columns]"
      ]
     },
     "execution_count": 12,
     "metadata": {},
     "output_type": "execute_result"
    }
   ],
   "source": [
    "Weatherdf.head()"
   ]
  },
  {
   "cell_type": "markdown",
   "id": "7dc79ca9",
   "metadata": {},
   "source": [
    "#### 5.4 E.W. Brown Solar Data<a id='5.4_E.W._Brown_Solar_Data'></a>"
   ]
  },
  {
   "cell_type": "code",
   "execution_count": 13,
   "id": "1088fc5a",
   "metadata": {
    "scrolled": true
   },
   "outputs": [
    {
     "data": {
      "text/html": [
       "<div>\n",
       "<style scoped>\n",
       "    .dataframe tbody tr th:only-of-type {\n",
       "        vertical-align: middle;\n",
       "    }\n",
       "\n",
       "    .dataframe tbody tr th {\n",
       "        vertical-align: top;\n",
       "    }\n",
       "\n",
       "    .dataframe thead th {\n",
       "        text-align: right;\n",
       "    }\n",
       "</style>\n",
       "<table border=\"1\" class=\"dataframe\">\n",
       "  <thead>\n",
       "    <tr style=\"text-align: right;\">\n",
       "      <th></th>\n",
       "      <th>Timestamp</th>\n",
       "      <th>Year</th>\n",
       "      <th>Month</th>\n",
       "      <th>Day</th>\n",
       "      <th>Hour</th>\n",
       "      <th>Minute</th>\n",
       "      <th>kW</th>\n",
       "      <th>kWh</th>\n",
       "      <th>POAI</th>\n",
       "      <th>GHI</th>\n",
       "      <th>TmpF</th>\n",
       "      <th>TmpC</th>\n",
       "    </tr>\n",
       "  </thead>\n",
       "  <tbody>\n",
       "    <tr>\n",
       "      <th>0</th>\n",
       "      <td>2020-01-01 00:00:00</td>\n",
       "      <td>2020</td>\n",
       "      <td>1</td>\n",
       "      <td>1</td>\n",
       "      <td>0</td>\n",
       "      <td>0</td>\n",
       "      <td>-20.017269</td>\n",
       "      <td>65290968.0</td>\n",
       "      <td>-0.108067</td>\n",
       "      <td>-0.148322</td>\n",
       "      <td>37.411595</td>\n",
       "      <td>3.006442</td>\n",
       "    </tr>\n",
       "    <tr>\n",
       "      <th>1</th>\n",
       "      <td>2020-01-01 00:01:00</td>\n",
       "      <td>2020</td>\n",
       "      <td>1</td>\n",
       "      <td>1</td>\n",
       "      <td>0</td>\n",
       "      <td>1</td>\n",
       "      <td>-19.700493</td>\n",
       "      <td>65290968.0</td>\n",
       "      <td>-0.221178</td>\n",
       "      <td>-0.147710</td>\n",
       "      <td>37.410739</td>\n",
       "      <td>3.005966</td>\n",
       "    </tr>\n",
       "    <tr>\n",
       "      <th>2</th>\n",
       "      <td>2020-01-01 00:02:00</td>\n",
       "      <td>2020</td>\n",
       "      <td>1</td>\n",
       "      <td>1</td>\n",
       "      <td>0</td>\n",
       "      <td>2</td>\n",
       "      <td>-19.717964</td>\n",
       "      <td>65290968.0</td>\n",
       "      <td>-0.220839</td>\n",
       "      <td>-0.147098</td>\n",
       "      <td>37.409883</td>\n",
       "      <td>3.005491</td>\n",
       "    </tr>\n",
       "    <tr>\n",
       "      <th>3</th>\n",
       "      <td>2020-01-01 00:03:00</td>\n",
       "      <td>2020</td>\n",
       "      <td>1</td>\n",
       "      <td>1</td>\n",
       "      <td>0</td>\n",
       "      <td>3</td>\n",
       "      <td>-19.735436</td>\n",
       "      <td>65290968.0</td>\n",
       "      <td>-0.108067</td>\n",
       "      <td>-0.146486</td>\n",
       "      <td>37.409028</td>\n",
       "      <td>3.005015</td>\n",
       "    </tr>\n",
       "    <tr>\n",
       "      <th>4</th>\n",
       "      <td>2020-01-01 00:04:00</td>\n",
       "      <td>2020</td>\n",
       "      <td>1</td>\n",
       "      <td>1</td>\n",
       "      <td>0</td>\n",
       "      <td>4</td>\n",
       "      <td>-19.752909</td>\n",
       "      <td>65290968.0</td>\n",
       "      <td>-0.216135</td>\n",
       "      <td>-0.145874</td>\n",
       "      <td>37.408172</td>\n",
       "      <td>3.004540</td>\n",
       "    </tr>\n",
       "  </tbody>\n",
       "</table>\n",
       "</div>"
      ],
      "text/plain": [
       "             Timestamp  Year  Month  Day  Hour  Minute         kW         kWh  \\\n",
       "0  2020-01-01 00:00:00  2020      1    1     0       0 -20.017269  65290968.0   \n",
       "1  2020-01-01 00:01:00  2020      1    1     0       1 -19.700493  65290968.0   \n",
       "2  2020-01-01 00:02:00  2020      1    1     0       2 -19.717964  65290968.0   \n",
       "3  2020-01-01 00:03:00  2020      1    1     0       3 -19.735436  65290968.0   \n",
       "4  2020-01-01 00:04:00  2020      1    1     0       4 -19.752909  65290968.0   \n",
       "\n",
       "       POAI       GHI       TmpF      TmpC  \n",
       "0 -0.108067 -0.148322  37.411595  3.006442  \n",
       "1 -0.221178 -0.147710  37.410739  3.005966  \n",
       "2 -0.220839 -0.147098  37.409883  3.005491  \n",
       "3 -0.108067 -0.146486  37.409028  3.005015  \n",
       "4 -0.216135 -0.145874  37.408172  3.004540  "
      ]
     },
     "execution_count": 13,
     "metadata": {},
     "output_type": "execute_result"
    }
   ],
   "source": [
    "data.head()"
   ]
  },
  {
   "cell_type": "markdown",
   "id": "c07dd80b",
   "metadata": {},
   "source": [
    "#### 5.5 Merge<a id='5.5_Merge'></a>"
   ]
  },
  {
   "cell_type": "code",
   "execution_count": 14,
   "id": "65f90c8f",
   "metadata": {},
   "outputs": [],
   "source": [
    "Weatherdf['Timestamp'] = pd.date_range(start = \"01/01/20 00:00:00\", periods = Weatherdf.shape[0], freq = '30T')\n",
    "Weatherdf['Year'] = Weatherdf['Timestamp'].agg(func = lambda x: x.year)\n",
    "Weatherdf['Month'] = Weatherdf['Timestamp'].agg(func = lambda x: x.month)\n",
    "Weatherdf['Day'] = Weatherdf['Timestamp'].agg(func = lambda x: x.day)\n",
    "Weatherdf['Hour'] = Weatherdf['Timestamp'].agg(func = lambda x: x.hour)\n",
    "Weatherdf['Minute'] = Weatherdf['Timestamp'].agg(func = lambda x: x.minute)"
   ]
  },
  {
   "cell_type": "code",
   "execution_count": 15,
   "id": "51a8e83a",
   "metadata": {
    "scrolled": true
   },
   "outputs": [],
   "source": [
    "WeatherPower = Weatherdf.merge(data, how = 'inner', on = ['Year', 'Month', 'Day', 'Hour', 'Minute'])"
   ]
  },
  {
   "cell_type": "code",
   "execution_count": 16,
   "id": "b7582f35",
   "metadata": {},
   "outputs": [],
   "source": [
    "WeatherPower.drop(columns = ['Timestamp_x', 'Timestamp_y', 'Year', 'Month', 'Day', 'Hour', 'Minute'], inplace = True)"
   ]
  },
  {
   "cell_type": "code",
   "execution_count": 17,
   "id": "8f646021",
   "metadata": {},
   "outputs": [],
   "source": [
    "WeatherPower['Power'] = WeatherPower['kWh'].diff()\n",
    "WeatherPower['Power'] = WeatherPower['Power'] / 0.5"
   ]
  },
  {
   "cell_type": "code",
   "execution_count": 18,
   "id": "ee886385",
   "metadata": {},
   "outputs": [],
   "source": [
    "WeatherPower.drop(columns = ['kW', 'kWh', 'POAI', 'GHI', 'TmpF', 'TmpC'], inplace = True)"
   ]
  },
  {
   "cell_type": "markdown",
   "id": "8d820c7c",
   "metadata": {},
   "source": [
    "#### 6 Clean and Explore<a id='6_Clean_and_Explore'></a>"
   ]
  },
  {
   "cell_type": "code",
   "execution_count": 19,
   "id": "dbe9c626",
   "metadata": {},
   "outputs": [],
   "source": [
    "WeatherPower.dropna(inplace = True)"
   ]
  },
  {
   "cell_type": "code",
   "execution_count": 20,
   "id": "67b12be7",
   "metadata": {
    "scrolled": true
   },
   "outputs": [
    {
     "data": {
      "text/plain": [
       "air_temperature             float64\n",
       "alpha                       float64\n",
       "aod                         float64\n",
       "asymmetry                   float64\n",
       "cld_opd_dcomp               float64\n",
       "cld_reff_dcomp              float64\n",
       "clearsky_dhi                float64\n",
       "clearsky_dni                float64\n",
       "clearsky_ghi                float64\n",
       "cloud_press_acha            float64\n",
       "cloud_type                  float64\n",
       "dew_point                   float64\n",
       "dhi                         float64\n",
       "dni                         float64\n",
       "ghi                         float64\n",
       "ozone                       float64\n",
       "relative_humidity           float64\n",
       "solar_zenith_angle          float64\n",
       "ssa                         float64\n",
       "surface_albedo              float64\n",
       "surface_pressure            float64\n",
       "total_precipitable_water    float64\n",
       "wind_direction              float64\n",
       "wind_speed                  float64\n",
       "Power                       float64\n",
       "dtype: object"
      ]
     },
     "execution_count": 20,
     "metadata": {},
     "output_type": "execute_result"
    }
   ],
   "source": [
    "WeatherPower.dtypes"
   ]
  },
  {
   "cell_type": "code",
   "execution_count": 21,
   "id": "d1aefaaa",
   "metadata": {
    "scrolled": true
   },
   "outputs": [
    {
     "data": {
      "text/html": [
       "<div>\n",
       "<style scoped>\n",
       "    .dataframe tbody tr th:only-of-type {\n",
       "        vertical-align: middle;\n",
       "    }\n",
       "\n",
       "    .dataframe tbody tr th {\n",
       "        vertical-align: top;\n",
       "    }\n",
       "\n",
       "    .dataframe thead th {\n",
       "        text-align: right;\n",
       "    }\n",
       "</style>\n",
       "<table border=\"1\" class=\"dataframe\">\n",
       "  <thead>\n",
       "    <tr style=\"text-align: right;\">\n",
       "      <th></th>\n",
       "      <th>air_temperature</th>\n",
       "      <th>alpha</th>\n",
       "      <th>aod</th>\n",
       "      <th>asymmetry</th>\n",
       "      <th>cld_opd_dcomp</th>\n",
       "      <th>cld_reff_dcomp</th>\n",
       "      <th>clearsky_dhi</th>\n",
       "      <th>clearsky_dni</th>\n",
       "      <th>clearsky_ghi</th>\n",
       "      <th>cloud_press_acha</th>\n",
       "      <th>...</th>\n",
       "      <th>ozone</th>\n",
       "      <th>relative_humidity</th>\n",
       "      <th>solar_zenith_angle</th>\n",
       "      <th>ssa</th>\n",
       "      <th>surface_albedo</th>\n",
       "      <th>surface_pressure</th>\n",
       "      <th>total_precipitable_water</th>\n",
       "      <th>wind_direction</th>\n",
       "      <th>wind_speed</th>\n",
       "      <th>Power</th>\n",
       "    </tr>\n",
       "  </thead>\n",
       "  <tbody>\n",
       "    <tr>\n",
       "      <th>1</th>\n",
       "      <td>2.1</td>\n",
       "      <td>1.29</td>\n",
       "      <td>0.086</td>\n",
       "      <td>0.61</td>\n",
       "      <td>0.0</td>\n",
       "      <td>0.0</td>\n",
       "      <td>0.0</td>\n",
       "      <td>0.0</td>\n",
       "      <td>0.0</td>\n",
       "      <td>0.0</td>\n",
       "      <td>...</td>\n",
       "      <td>0.346</td>\n",
       "      <td>89.52</td>\n",
       "      <td>113.04</td>\n",
       "      <td>0.97</td>\n",
       "      <td>0.12</td>\n",
       "      <td>984.0</td>\n",
       "      <td>1.0</td>\n",
       "      <td>271.0</td>\n",
       "      <td>1.9</td>\n",
       "      <td>0.0</td>\n",
       "    </tr>\n",
       "    <tr>\n",
       "      <th>2</th>\n",
       "      <td>2.0</td>\n",
       "      <td>1.29</td>\n",
       "      <td>0.093</td>\n",
       "      <td>0.61</td>\n",
       "      <td>0.0</td>\n",
       "      <td>0.0</td>\n",
       "      <td>0.0</td>\n",
       "      <td>0.0</td>\n",
       "      <td>0.0</td>\n",
       "      <td>0.0</td>\n",
       "      <td>...</td>\n",
       "      <td>0.345</td>\n",
       "      <td>89.76</td>\n",
       "      <td>118.87</td>\n",
       "      <td>0.97</td>\n",
       "      <td>0.12</td>\n",
       "      <td>984.0</td>\n",
       "      <td>1.0</td>\n",
       "      <td>272.0</td>\n",
       "      <td>1.9</td>\n",
       "      <td>0.0</td>\n",
       "    </tr>\n",
       "    <tr>\n",
       "      <th>3</th>\n",
       "      <td>1.8</td>\n",
       "      <td>1.29</td>\n",
       "      <td>0.093</td>\n",
       "      <td>0.61</td>\n",
       "      <td>0.0</td>\n",
       "      <td>0.0</td>\n",
       "      <td>0.0</td>\n",
       "      <td>0.0</td>\n",
       "      <td>0.0</td>\n",
       "      <td>0.0</td>\n",
       "      <td>...</td>\n",
       "      <td>0.346</td>\n",
       "      <td>91.05</td>\n",
       "      <td>124.77</td>\n",
       "      <td>0.97</td>\n",
       "      <td>0.12</td>\n",
       "      <td>984.0</td>\n",
       "      <td>1.0</td>\n",
       "      <td>272.0</td>\n",
       "      <td>1.9</td>\n",
       "      <td>0.0</td>\n",
       "    </tr>\n",
       "    <tr>\n",
       "      <th>4</th>\n",
       "      <td>1.7</td>\n",
       "      <td>1.31</td>\n",
       "      <td>0.092</td>\n",
       "      <td>0.61</td>\n",
       "      <td>0.0</td>\n",
       "      <td>0.0</td>\n",
       "      <td>0.0</td>\n",
       "      <td>0.0</td>\n",
       "      <td>0.0</td>\n",
       "      <td>0.0</td>\n",
       "      <td>...</td>\n",
       "      <td>0.346</td>\n",
       "      <td>90.85</td>\n",
       "      <td>130.69</td>\n",
       "      <td>0.97</td>\n",
       "      <td>0.12</td>\n",
       "      <td>984.0</td>\n",
       "      <td>1.0</td>\n",
       "      <td>271.0</td>\n",
       "      <td>1.9</td>\n",
       "      <td>0.0</td>\n",
       "    </tr>\n",
       "    <tr>\n",
       "      <th>5</th>\n",
       "      <td>1.5</td>\n",
       "      <td>1.31</td>\n",
       "      <td>0.092</td>\n",
       "      <td>0.61</td>\n",
       "      <td>0.0</td>\n",
       "      <td>0.0</td>\n",
       "      <td>0.0</td>\n",
       "      <td>0.0</td>\n",
       "      <td>0.0</td>\n",
       "      <td>0.0</td>\n",
       "      <td>...</td>\n",
       "      <td>0.347</td>\n",
       "      <td>92.16</td>\n",
       "      <td>136.60</td>\n",
       "      <td>0.97</td>\n",
       "      <td>0.12</td>\n",
       "      <td>984.0</td>\n",
       "      <td>1.0</td>\n",
       "      <td>269.0</td>\n",
       "      <td>1.9</td>\n",
       "      <td>0.0</td>\n",
       "    </tr>\n",
       "  </tbody>\n",
       "</table>\n",
       "<p>5 rows × 25 columns</p>\n",
       "</div>"
      ],
      "text/plain": [
       "   air_temperature  alpha    aod  asymmetry  cld_opd_dcomp  cld_reff_dcomp  \\\n",
       "1              2.1   1.29  0.086       0.61            0.0             0.0   \n",
       "2              2.0   1.29  0.093       0.61            0.0             0.0   \n",
       "3              1.8   1.29  0.093       0.61            0.0             0.0   \n",
       "4              1.7   1.31  0.092       0.61            0.0             0.0   \n",
       "5              1.5   1.31  0.092       0.61            0.0             0.0   \n",
       "\n",
       "   clearsky_dhi  clearsky_dni  clearsky_ghi  cloud_press_acha  ...  ozone  \\\n",
       "1           0.0           0.0           0.0               0.0  ...  0.346   \n",
       "2           0.0           0.0           0.0               0.0  ...  0.345   \n",
       "3           0.0           0.0           0.0               0.0  ...  0.346   \n",
       "4           0.0           0.0           0.0               0.0  ...  0.346   \n",
       "5           0.0           0.0           0.0               0.0  ...  0.347   \n",
       "\n",
       "   relative_humidity  solar_zenith_angle   ssa  surface_albedo  \\\n",
       "1              89.52              113.04  0.97            0.12   \n",
       "2              89.76              118.87  0.97            0.12   \n",
       "3              91.05              124.77  0.97            0.12   \n",
       "4              90.85              130.69  0.97            0.12   \n",
       "5              92.16              136.60  0.97            0.12   \n",
       "\n",
       "   surface_pressure  total_precipitable_water  wind_direction  wind_speed  \\\n",
       "1             984.0                       1.0           271.0         1.9   \n",
       "2             984.0                       1.0           272.0         1.9   \n",
       "3             984.0                       1.0           272.0         1.9   \n",
       "4             984.0                       1.0           271.0         1.9   \n",
       "5             984.0                       1.0           269.0         1.9   \n",
       "\n",
       "   Power  \n",
       "1    0.0  \n",
       "2    0.0  \n",
       "3    0.0  \n",
       "4    0.0  \n",
       "5    0.0  \n",
       "\n",
       "[5 rows x 25 columns]"
      ]
     },
     "execution_count": 21,
     "metadata": {},
     "output_type": "execute_result"
    }
   ],
   "source": [
    "WeatherPower.head()"
   ]
  },
  {
   "cell_type": "code",
   "execution_count": 22,
   "id": "85945899",
   "metadata": {
    "scrolled": true
   },
   "outputs": [
    {
     "data": {
      "image/png": "[encoded data removed]",
      "text/plain": [
       "<Figure size 1080x720 with 25 Axes>"
      ]
     },
     "metadata": {
      "needs_background": "light"
     },
     "output_type": "display_data"
    }
   ],
   "source": [
    "WeatherPower.hist(figsize = (15, 10))\n",
    "plt.subplots_adjust(hspace=0.8, wspace = 0.5);"
   ]
  },
  {
   "cell_type": "markdown",
   "id": "2ab359d6",
   "metadata": {},
   "source": [
    "#### 7 Test Train Split<a id='7_Test_Train_Split'></a>"
   ]
  },
  {
   "cell_type": "code",
   "execution_count": 23,
   "id": "1e4c7f68",
   "metadata": {},
   "outputs": [],
   "source": [
    "x = WeatherPower.drop(columns = 'Power')\n",
    "y = WeatherPower['Power']"
   ]
  },
  {
   "cell_type": "code",
   "execution_count": 24,
   "id": "3f2668ae",
   "metadata": {},
   "outputs": [],
   "source": [
    "x_train, x_test, y_train, y_test = train_test_split(x, y, test_size = 0.25)"
   ]
  },
  {
   "cell_type": "code",
   "execution_count": 25,
   "id": "eb5c4af5",
   "metadata": {},
   "outputs": [
    {
     "data": {
      "text/html": [
       "<div>\n",
       "<style scoped>\n",
       "    .dataframe tbody tr th:only-of-type {\n",
       "        vertical-align: middle;\n",
       "    }\n",
       "\n",
       "    .dataframe tbody tr th {\n",
       "        vertical-align: top;\n",
       "    }\n",
       "\n",
       "    .dataframe thead th {\n",
       "        text-align: right;\n",
       "    }\n",
       "</style>\n",
       "<table border=\"1\" class=\"dataframe\">\n",
       "  <thead>\n",
       "    <tr style=\"text-align: right;\">\n",
       "      <th></th>\n",
       "      <th>air_temperature</th>\n",
       "      <th>alpha</th>\n",
       "      <th>aod</th>\n",
       "      <th>asymmetry</th>\n",
       "      <th>cld_opd_dcomp</th>\n",
       "      <th>cld_reff_dcomp</th>\n",
       "      <th>clearsky_dhi</th>\n",
       "      <th>clearsky_dni</th>\n",
       "      <th>clearsky_ghi</th>\n",
       "      <th>cloud_press_acha</th>\n",
       "      <th>...</th>\n",
       "      <th>ghi</th>\n",
       "      <th>ozone</th>\n",
       "      <th>relative_humidity</th>\n",
       "      <th>solar_zenith_angle</th>\n",
       "      <th>ssa</th>\n",
       "      <th>surface_albedo</th>\n",
       "      <th>surface_pressure</th>\n",
       "      <th>total_precipitable_water</th>\n",
       "      <th>wind_direction</th>\n",
       "      <th>wind_speed</th>\n",
       "    </tr>\n",
       "  </thead>\n",
       "  <tbody>\n",
       "    <tr>\n",
       "      <th>13197</th>\n",
       "      <td>16.4</td>\n",
       "      <td>1.21</td>\n",
       "      <td>0.1142</td>\n",
       "      <td>0.60</td>\n",
       "      <td>8.03</td>\n",
       "      <td>11.2</td>\n",
       "      <td>52.0</td>\n",
       "      <td>417.0</td>\n",
       "      <td>119.0</td>\n",
       "      <td>481.0</td>\n",
       "      <td>...</td>\n",
       "      <td>47.0</td>\n",
       "      <td>0.298</td>\n",
       "      <td>49.83</td>\n",
       "      <td>80.75</td>\n",
       "      <td>0.96</td>\n",
       "      <td>0.15</td>\n",
       "      <td>987.0</td>\n",
       "      <td>1.5</td>\n",
       "      <td>305.0</td>\n",
       "      <td>1.9</td>\n",
       "    </tr>\n",
       "    <tr>\n",
       "      <th>13057</th>\n",
       "      <td>12.6</td>\n",
       "      <td>1.76</td>\n",
       "      <td>0.1543</td>\n",
       "      <td>0.59</td>\n",
       "      <td>0.00</td>\n",
       "      <td>0.0</td>\n",
       "      <td>0.0</td>\n",
       "      <td>0.0</td>\n",
       "      <td>0.0</td>\n",
       "      <td>0.0</td>\n",
       "      <td>...</td>\n",
       "      <td>0.0</td>\n",
       "      <td>0.275</td>\n",
       "      <td>90.42</td>\n",
       "      <td>103.54</td>\n",
       "      <td>0.93</td>\n",
       "      <td>0.15</td>\n",
       "      <td>983.0</td>\n",
       "      <td>2.6</td>\n",
       "      <td>263.0</td>\n",
       "      <td>1.1</td>\n",
       "    </tr>\n",
       "    <tr>\n",
       "      <th>16762</th>\n",
       "      <td>-5.8</td>\n",
       "      <td>1.38</td>\n",
       "      <td>0.0389</td>\n",
       "      <td>0.61</td>\n",
       "      <td>0.00</td>\n",
       "      <td>0.0</td>\n",
       "      <td>0.0</td>\n",
       "      <td>0.0</td>\n",
       "      <td>0.0</td>\n",
       "      <td>0.0</td>\n",
       "      <td>...</td>\n",
       "      <td>0.0</td>\n",
       "      <td>0.259</td>\n",
       "      <td>90.38</td>\n",
       "      <td>163.78</td>\n",
       "      <td>0.92</td>\n",
       "      <td>0.15</td>\n",
       "      <td>995.0</td>\n",
       "      <td>0.5</td>\n",
       "      <td>65.0</td>\n",
       "      <td>0.9</td>\n",
       "    </tr>\n",
       "    <tr>\n",
       "      <th>16374</th>\n",
       "      <td>0.2</td>\n",
       "      <td>1.37</td>\n",
       "      <td>0.1868</td>\n",
       "      <td>0.61</td>\n",
       "      <td>0.00</td>\n",
       "      <td>0.0</td>\n",
       "      <td>0.0</td>\n",
       "      <td>0.0</td>\n",
       "      <td>0.0</td>\n",
       "      <td>0.0</td>\n",
       "      <td>...</td>\n",
       "      <td>0.0</td>\n",
       "      <td>0.279</td>\n",
       "      <td>97.98</td>\n",
       "      <td>144.49</td>\n",
       "      <td>0.96</td>\n",
       "      <td>0.12</td>\n",
       "      <td>983.0</td>\n",
       "      <td>1.2</td>\n",
       "      <td>33.0</td>\n",
       "      <td>0.7</td>\n",
       "    </tr>\n",
       "    <tr>\n",
       "      <th>16275</th>\n",
       "      <td>3.7</td>\n",
       "      <td>1.19</td>\n",
       "      <td>0.2018</td>\n",
       "      <td>0.61</td>\n",
       "      <td>0.00</td>\n",
       "      <td>0.0</td>\n",
       "      <td>0.0</td>\n",
       "      <td>0.0</td>\n",
       "      <td>0.0</td>\n",
       "      <td>0.0</td>\n",
       "      <td>...</td>\n",
       "      <td>0.0</td>\n",
       "      <td>0.298</td>\n",
       "      <td>100.00</td>\n",
       "      <td>126.90</td>\n",
       "      <td>0.97</td>\n",
       "      <td>0.12</td>\n",
       "      <td>986.0</td>\n",
       "      <td>1.1</td>\n",
       "      <td>276.0</td>\n",
       "      <td>1.4</td>\n",
       "    </tr>\n",
       "  </tbody>\n",
       "</table>\n",
       "<p>5 rows × 24 columns</p>\n",
       "</div>"
      ],
      "text/plain": [
       "       air_temperature  alpha     aod  asymmetry  cld_opd_dcomp  \\\n",
       "13197             16.4   1.21  0.1142       0.60           8.03   \n",
       "13057             12.6   1.76  0.1543       0.59           0.00   \n",
       "16762             -5.8   1.38  0.0389       0.61           0.00   \n",
       "16374              0.2   1.37  0.1868       0.61           0.00   \n",
       "16275              3.7   1.19  0.2018       0.61           0.00   \n",
       "\n",
       "       cld_reff_dcomp  clearsky_dhi  clearsky_dni  clearsky_ghi  \\\n",
       "13197            11.2          52.0         417.0         119.0   \n",
       "13057             0.0           0.0           0.0           0.0   \n",
       "16762             0.0           0.0           0.0           0.0   \n",
       "16374             0.0           0.0           0.0           0.0   \n",
       "16275             0.0           0.0           0.0           0.0   \n",
       "\n",
       "       cloud_press_acha  ...   ghi  ozone  relative_humidity  \\\n",
       "13197             481.0  ...  47.0  0.298              49.83   \n",
       "13057               0.0  ...   0.0  0.275              90.42   \n",
       "16762               0.0  ...   0.0  0.259              90.38   \n",
       "16374               0.0  ...   0.0  0.279              97.98   \n",
       "16275               0.0  ...   0.0  0.298             100.00   \n",
       "\n",
       "       solar_zenith_angle   ssa  surface_albedo  surface_pressure  \\\n",
       "13197               80.75  0.96            0.15             987.0   \n",
       "13057              103.54  0.93            0.15             983.0   \n",
       "16762              163.78  0.92            0.15             995.0   \n",
       "16374              144.49  0.96            0.12             983.0   \n",
       "16275              126.90  0.97            0.12             986.0   \n",
       "\n",
       "       total_precipitable_water  wind_direction  wind_speed  \n",
       "13197                       1.5           305.0         1.9  \n",
       "13057                       2.6           263.0         1.1  \n",
       "16762                       0.5            65.0         0.9  \n",
       "16374                       1.2            33.0         0.7  \n",
       "16275                       1.1           276.0         1.4  \n",
       "\n",
       "[5 rows x 24 columns]"
      ]
     },
     "execution_count": 25,
     "metadata": {},
     "output_type": "execute_result"
    }
   ],
   "source": [
    "x_train.head()"
   ]
  },
  {
   "cell_type": "code",
   "execution_count": 26,
   "id": "4cb749bb",
   "metadata": {},
   "outputs": [
    {
     "data": {
      "text/plain": [
       "13197    0.0\n",
       "13057    0.0\n",
       "16762    0.0\n",
       "16374    0.0\n",
       "16275    0.0\n",
       "Name: Power, dtype: float64"
      ]
     },
     "execution_count": 26,
     "metadata": {},
     "output_type": "execute_result"
    }
   ],
   "source": [
    "y_train.head()"
   ]
  },
  {
   "cell_type": "markdown",
   "id": "440064cc",
   "metadata": {},
   "source": [
    "#### 8 Modeling<a id='8_Modeling'></a>"
   ]
  },
  {
   "cell_type": "markdown",
   "id": "81be6d36",
   "metadata": {},
   "source": [
    "##### 8.1 Dummy Regressor<a id='8.1_Dummy_Regressor'></a>"
   ]
  },
  {
   "cell_type": "code",
   "execution_count": 27,
   "id": "9ec73500",
   "metadata": {},
   "outputs": [],
   "source": [
    "DR_model = DummyRegressor(strategy = 'median')"
   ]
  },
  {
   "cell_type": "code",
   "execution_count": 28,
   "id": "c9d930de",
   "metadata": {},
   "outputs": [
    {
     "data": {
      "text/plain": [
       "array([[0.]])"
      ]
     },
     "execution_count": 28,
     "metadata": {},
     "output_type": "execute_result"
    }
   ],
   "source": [
    "DR_model.fit(x_train, y_train)\n",
    "DR_model.constant_"
   ]
  },
  {
   "cell_type": "code",
   "execution_count": 29,
   "id": "cc100a58",
   "metadata": {},
   "outputs": [
    {
     "data": {
      "text/plain": [
       "0.0"
      ]
     },
     "execution_count": 29,
     "metadata": {},
     "output_type": "execute_result"
    }
   ],
   "source": [
    "y_train.median()"
   ]
  },
  {
   "cell_type": "code",
   "execution_count": 30,
   "id": "c404a2dd",
   "metadata": {},
   "outputs": [],
   "source": [
    "Predictions = DR_model.predict(x_test)"
   ]
  },
  {
   "cell_type": "code",
   "execution_count": 31,
   "id": "69216660",
   "metadata": {},
   "outputs": [
    {
     "name": "stdout",
     "output_type": "stream",
     "text": [
      "-0.4125910328870015\n",
      "1892.231329690346\n"
     ]
    }
   ],
   "source": [
    "print(r2_score(y_test, Predictions))\n",
    "print(mean_absolute_error(y_test, Predictions))"
   ]
  },
  {
   "cell_type": "markdown",
   "id": "dd127a3e",
   "metadata": {},
   "source": [
    "##### 8.2 Linear Regressor<a id='8.1_Linear_Regressor'></a>"
   ]
  },
  {
   "cell_type": "code",
   "execution_count": 32,
   "id": "4b3435af",
   "metadata": {},
   "outputs": [
    {
     "data": {
      "text/plain": [
       "dict_keys(['memory', 'steps', 'verbose', 'standardscaler', 'pca', 'linearregression', 'standardscaler__copy', 'standardscaler__with_mean', 'standardscaler__with_std', 'pca__copy', 'pca__iterated_power', 'pca__n_components', 'pca__random_state', 'pca__svd_solver', 'pca__tol', 'pca__whiten', 'linearregression__copy_X', 'linearregression__fit_intercept', 'linearregression__n_jobs', 'linearregression__normalize', 'linearregression__positive'])"
      ]
     },
     "execution_count": 32,
     "metadata": {},
     "output_type": "execute_result"
    }
   ],
   "source": [
    "linRegPipe = make_pipeline(StandardScaler(), PCA(), LinearRegression())\n",
    "linRegPipe.get_params().keys()"
   ]
  },
  {
   "cell_type": "code",
   "execution_count": 33,
   "id": "0110c2f7",
   "metadata": {},
   "outputs": [
    {
     "data": {
      "text/plain": [
       "{'pca__n_components': 14, 'standardscaler': MinMaxScaler()}"
      ]
     },
     "execution_count": 33,
     "metadata": {},
     "output_type": "execute_result"
    }
   ],
   "source": [
    "n_components = range(1, 15)\n",
    "grid_params = {'standardscaler': [StandardScaler(), MinMaxScaler()],\n",
    "              'pca__n_components': n_components}\n",
    "linreg_cv = GridSearchCV(linRegPipe, param_grid = grid_params, cv = 5)\n",
    "linreg_cv.fit(x_train, y_train)\n",
    "linreg_cv.best_params_"
   ]
  },
  {
   "cell_type": "code",
   "execution_count": 34,
   "id": "53815092",
   "metadata": {},
   "outputs": [
    {
     "name": "stdout",
     "output_type": "stream",
     "text": [
      "2065.4711780698426 28.766759237604862\n"
     ]
    },
    {
     "data": {
      "text/plain": [
       "2046.2236662073763"
      ]
     },
     "execution_count": 34,
     "metadata": {},
     "output_type": "execute_result"
    }
   ],
   "source": [
    "cv_results = cross_validate(linreg_cv.best_estimator_, x_train, y_train, scoring='neg_mean_absolute_error', cv=5)\n",
    "lr_train_mae_mean = np.mean(-1 * cv_results['test_score'])\n",
    "lr_train_mae_std = np.std(-1 * cv_results['test_score'])\n",
    "print(lr_train_mae_mean, lr_train_mae_std)\n",
    "mean_absolute_error(y_test, linreg_cv.best_estimator_.predict(x_test))"
   ]
  },
  {
   "cell_type": "code",
   "execution_count": 35,
   "id": "dc6ee279",
   "metadata": {},
   "outputs": [
    {
     "name": "stdout",
     "output_type": "stream",
     "text": [
      "0.18721943505332128\n",
      "0.187736190595589\n"
     ]
    }
   ],
   "source": [
    "print(r2_score(y_train, linreg_cv.best_estimator_.predict(x_train)))\n",
    "print(r2_score(y_test, linreg_cv.best_estimator_.predict(x_test)))"
   ]
  },
  {
   "cell_type": "markdown",
   "id": "d9e91c3a",
   "metadata": {},
   "source": [
    "##### 8.3 Gradient Boosting Regressor<a id='8.3_Gradient_Boosting_Regressor'></a>"
   ]
  },
  {
   "cell_type": "code",
   "execution_count": 36,
   "id": "4d26edcc",
   "metadata": {},
   "outputs": [
    {
     "data": {
      "text/plain": [
       "dict_keys(['memory', 'steps', 'verbose', 'standardscaler', 'pca', 'gradientboostingregressor', 'standardscaler__copy', 'standardscaler__with_mean', 'standardscaler__with_std', 'pca__copy', 'pca__iterated_power', 'pca__n_components', 'pca__random_state', 'pca__svd_solver', 'pca__tol', 'pca__whiten', 'gradientboostingregressor__alpha', 'gradientboostingregressor__ccp_alpha', 'gradientboostingregressor__criterion', 'gradientboostingregressor__init', 'gradientboostingregressor__learning_rate', 'gradientboostingregressor__loss', 'gradientboostingregressor__max_depth', 'gradientboostingregressor__max_features', 'gradientboostingregressor__max_leaf_nodes', 'gradientboostingregressor__min_impurity_decrease', 'gradientboostingregressor__min_samples_leaf', 'gradientboostingregressor__min_samples_split', 'gradientboostingregressor__min_weight_fraction_leaf', 'gradientboostingregressor__n_estimators', 'gradientboostingregressor__n_iter_no_change', 'gradientboostingregressor__random_state', 'gradientboostingregressor__subsample', 'gradientboostingregressor__tol', 'gradientboostingregressor__validation_fraction', 'gradientboostingregressor__verbose', 'gradientboostingregressor__warm_start'])"
      ]
     },
     "execution_count": 36,
     "metadata": {},
     "output_type": "execute_result"
    }
   ],
   "source": [
    "GBRPipe = make_pipeline(StandardScaler(), PCA(), GradientBoostingRegressor())\n",
    "GBRPipe.get_params().keys()"
   ]
  },
  {
   "cell_type": "code",
   "execution_count": 37,
   "id": "4ef5533a",
   "metadata": {},
   "outputs": [
    {
     "data": {
      "text/plain": [
       "{'standardscaler': MinMaxScaler(),\n",
       " 'pca__n_components': 11,\n",
       " 'gradientboostingregressor__n_estimators': 290,\n",
       " 'gradientboostingregressor__max_depth': 13,\n",
       " 'gradientboostingregressor__learning_rate': 0.4}"
      ]
     },
     "execution_count": 37,
     "metadata": {},
     "output_type": "execute_result"
    }
   ],
   "source": [
    "n_components = range(1, 15)\n",
    "learning_rate = [0.1, 0.2, 0.3, 0.4, 0.5, 0.6, 0.7, 0.8, 0.9, 1.0]\n",
    "n_estimators = range(10, 500, 10)\n",
    "max_depth = range(1, 20)\n",
    "grid_params = {'standardscaler': [StandardScaler(), MinMaxScaler()],\n",
    "             'pca__n_components': n_components,\n",
    "              'gradientboostingregressor__learning_rate': learning_rate,\n",
    "              'gradientboostingregressor__n_estimators': n_estimators,\n",
    "              'gradientboostingregressor__max_depth': max_depth}\n",
    "GBR_cv = RandomizedSearchCV(GBRPipe, param_distributions = grid_params, n_iter = 20, cv = 5, n_jobs = -1, scoring = 'r2')\n",
    "GBR_cv.fit(x_train, y_train)\n",
    "GBR_cv.best_params_"
   ]
  },
  {
   "cell_type": "code",
   "execution_count": 38,
   "id": "b8f72807",
   "metadata": {},
   "outputs": [
    {
     "name": "stdout",
     "output_type": "stream",
     "text": [
      "1293.599681018834 22.426453652441644\n"
     ]
    },
    {
     "data": {
      "text/plain": [
       "1204.8140572469006"
      ]
     },
     "execution_count": 38,
     "metadata": {},
     "output_type": "execute_result"
    }
   ],
   "source": [
    "cv_results = cross_validate(GBR_cv.best_estimator_, x_train, y_train, scoring='neg_mean_absolute_error', cv=5)\n",
    "GBR_train_mae_mean = np.mean(-1 * cv_results['test_score'])\n",
    "GBR_train_mae_std = np.std(-1 * cv_results['test_score'])\n",
    "print(GBR_train_mae_mean, GBR_train_mae_std)\n",
    "mean_absolute_error(y_test, GBR_cv.best_estimator_.predict(x_test))"
   ]
  },
  {
   "cell_type": "code",
   "execution_count": 39,
   "id": "3058736e",
   "metadata": {},
   "outputs": [
    {
     "name": "stdout",
     "output_type": "stream",
     "text": [
      "0.9999577785663011\n",
      "0.5781782964138189\n"
     ]
    }
   ],
   "source": [
    "print(r2_score(y_train, GBR_cv.best_estimator_.predict(x_train)))\n",
    "print(r2_score(y_test, GBR_cv.best_estimator_.predict(x_test)))"
   ]
  },
  {
   "cell_type": "markdown",
   "id": "30d602e0",
   "metadata": {},
   "source": [
    "##### 8.4 Random Forest Regressor<a id='8.4_Random_Forest_Regressor'></a>"
   ]
  },
  {
   "cell_type": "code",
   "execution_count": 40,
   "id": "60804f96",
   "metadata": {},
   "outputs": [
    {
     "data": {
      "text/plain": [
       "dict_keys(['memory', 'steps', 'verbose', 'standardscaler', 'pca', 'randomforestregressor', 'standardscaler__copy', 'standardscaler__with_mean', 'standardscaler__with_std', 'pca__copy', 'pca__iterated_power', 'pca__n_components', 'pca__random_state', 'pca__svd_solver', 'pca__tol', 'pca__whiten', 'randomforestregressor__bootstrap', 'randomforestregressor__ccp_alpha', 'randomforestregressor__criterion', 'randomforestregressor__max_depth', 'randomforestregressor__max_features', 'randomforestregressor__max_leaf_nodes', 'randomforestregressor__max_samples', 'randomforestregressor__min_impurity_decrease', 'randomforestregressor__min_samples_leaf', 'randomforestregressor__min_samples_split', 'randomforestregressor__min_weight_fraction_leaf', 'randomforestregressor__n_estimators', 'randomforestregressor__n_jobs', 'randomforestregressor__oob_score', 'randomforestregressor__random_state', 'randomforestregressor__verbose', 'randomforestregressor__warm_start'])"
      ]
     },
     "execution_count": 40,
     "metadata": {},
     "output_type": "execute_result"
    }
   ],
   "source": [
    "RF = RandomForestRegressor(random_state=47)\n",
    "RF_pipe = make_pipeline(StandardScaler(), PCA(), RandomForestRegressor(random_state=47))\n",
    "RF_pipe.get_params().keys()"
   ]
  },
  {
   "cell_type": "code",
   "execution_count": 41,
   "id": "de1dc1dc",
   "metadata": {},
   "outputs": [
    {
     "data": {
      "text/plain": [
       "{'standardscaler': MinMaxScaler(),\n",
       " 'randomforestregressor__n_estimators': 80,\n",
       " 'randomforestregressor__max_depth': 15,\n",
       " 'pca__n_components': 13}"
      ]
     },
     "execution_count": 41,
     "metadata": {},
     "output_type": "execute_result"
    }
   ],
   "source": [
    "n_components = range(5, 15)\n",
    "learning_rate = [0.1, 0.2, 0.3, 0.4, 0.5, 0.6, 0.7, 0.8, 0.9, 1.0]\n",
    "n_estimators = range(10, 500, 10)\n",
    "max_depth = range(1, 20)\n",
    "grid_params = {'standardscaler': [StandardScaler(), MinMaxScaler()],\n",
    "             'pca__n_components': n_components,\n",
    "              'randomforestregressor__n_estimators': n_estimators,\n",
    "              'randomforestregressor__max_depth': max_depth}\n",
    "RF_cv = RandomizedSearchCV(RF_pipe, param_distributions = grid_params, n_iter = 20, cv = 5, n_jobs = -1, scoring = 'r2')\n",
    "RF_cv.fit(x_train, y_train)\n",
    "RF_cv.best_params_"
   ]
  },
  {
   "cell_type": "code",
   "execution_count": 42,
   "id": "2ccb47c0",
   "metadata": {},
   "outputs": [
    {
     "name": "stdout",
     "output_type": "stream",
     "text": [
      "1368.3427780849236 30.041676784719083\n"
     ]
    },
    {
     "data": {
      "text/plain": [
       "1289.8714916911476"
      ]
     },
     "execution_count": 42,
     "metadata": {},
     "output_type": "execute_result"
    }
   ],
   "source": [
    "cv_results = cross_validate(RF_cv.best_estimator_, x_train, y_train, scoring='neg_mean_absolute_error', cv=5)\n",
    "RF_train_mae_mean = np.mean(-1 * cv_results['test_score'])\n",
    "RF_train_mae_std = np.std(-1 * cv_results['test_score'])\n",
    "print(RF_train_mae_mean, RF_train_mae_std)\n",
    "mean_absolute_error(y_test, RF_cv.best_estimator_.predict(x_test))"
   ]
  },
  {
   "cell_type": "code",
   "execution_count": 43,
   "id": "0f5d6efe",
   "metadata": {},
   "outputs": [
    {
     "name": "stdout",
     "output_type": "stream",
     "text": [
      "0.8946234070425266\n",
      "0.5956892831739775\n"
     ]
    }
   ],
   "source": [
    "print(r2_score(y_train, RF_cv.best_estimator_.predict(x_train)))\n",
    "print(r2_score(y_test, RF_cv.best_estimator_.predict(x_test)))"
   ]
  },
  {
   "cell_type": "code",
   "execution_count": 44,
   "id": "e8d47235",
   "metadata": {},
   "outputs": [],
   "source": [
    "BestScaler = RF_cv.best_params_['standardscaler']\n",
    "BestComponent = RF_cv.best_params_['pca__n_components']\n",
    "BestEstimator = RF_cv.best_params_['randomforestregressor__n_estimators']\n",
    "BestDepth = RF_cv.best_params_['randomforestregressor__max_depth']"
   ]
  },
  {
   "cell_type": "markdown",
   "id": "893f3f2e",
   "metadata": {},
   "source": [
    "##### 8.5 Best Model<a id='8.5_Best_Model'></a>"
   ]
  },
  {
   "cell_type": "code",
   "execution_count": 45,
   "id": "b424da5e",
   "metadata": {},
   "outputs": [],
   "source": [
    "n_components = range(1, 20)\n",
    "n_estimators = range(10, 500, 10)\n",
    "max_depth = range(1, 20)"
   ]
  },
  {
   "cell_type": "code",
   "execution_count": 46,
   "id": "25421a1b",
   "metadata": {},
   "outputs": [],
   "source": [
    "score = []\n",
    "std = []\n",
    "\n",
    "for component in n_components:\n",
    "    cv_results = cross_validate(Pipeline([('scaler', BestScaler),\n",
    "                                                            ('pca', PCA(component)),\n",
    "                                                            ('rf', RandomForestRegressor(n_estimators = BestEstimator, max_depth = BestDepth))]),\n",
    "                        x_train, y_train, scoring='r2', cv=5)\n",
    "    \n",
    "    score.append(np.mean(cv_results['test_score']))\n",
    "    std.append(np.std(cv_results['test_score']))"
   ]
  },
  {
   "cell_type": "code",
   "execution_count": 47,
   "id": "5538d24e",
   "metadata": {},
   "outputs": [
    {
     "data": {
      "image/png": "[encoded data removed]",
      "text/plain": [
       "<Figure size 576x432 with 1 Axes>"
      ]
     },
     "metadata": {
      "needs_background": "light"
     },
     "output_type": "display_data"
    }
   ],
   "source": [
    "plt.subplots(figsize = (8, 6))\n",
    "plt.errorbar(n_components, score, yerr=std)\n",
    "plt.axvline(x = 16, c = 'r', ls = '--')\n",
    "plt.xlabel('Number of principal components')\n",
    "plt.ylabel('mean of r2 score from 5 cross validations');"
   ]
  },
  {
   "cell_type": "code",
   "execution_count": 48,
   "id": "0dcc077f",
   "metadata": {},
   "outputs": [],
   "source": [
    "best_component = 16"
   ]
  },
  {
   "cell_type": "code",
   "execution_count": 49,
   "id": "7fd2696d",
   "metadata": {},
   "outputs": [],
   "source": [
    "score = []\n",
    "std = []\n",
    "\n",
    "for estimator in n_estimators:\n",
    "    cv_results = cross_validate(Pipeline([('scaler', BestScaler),\n",
    "                                                            ('pca', PCA(best_component)),\n",
    "                                                            ('rf', RandomForestRegressor(n_estimators = estimator, max_depth = BestDepth))]),\n",
    "                        x_train, y_train, scoring='r2', cv=5)\n",
    "    \n",
    "    score.append(np.mean(cv_results['test_score']))\n",
    "    std.append(np.std(cv_results['test_score']))"
   ]
  },
  {
   "cell_type": "code",
   "execution_count": 50,
   "id": "edb90efe",
   "metadata": {},
   "outputs": [
    {
     "data": {
      "image/png": "[encoded data removed]",
      "text/plain": [
       "<Figure size 432x288 with 1 Axes>"
      ]
     },
     "metadata": {
      "needs_background": "light"
     },
     "output_type": "display_data"
    }
   ],
   "source": [
    "plt.errorbar(n_estimators, score, yerr=std)\n",
    "plt.axvline(x = 50, c = 'r', ls = '--')\n",
    "plt.xlabel('number of estimators')\n",
    "plt.ylabel('mean of r2 score from 5 cross validations');"
   ]
  },
  {
   "cell_type": "code",
   "execution_count": 51,
   "id": "55b7a39f",
   "metadata": {},
   "outputs": [],
   "source": [
    "best_estimator = 50"
   ]
  },
  {
   "cell_type": "code",
   "execution_count": 52,
   "id": "e029c697",
   "metadata": {},
   "outputs": [],
   "source": [
    "score = []\n",
    "std = []\n",
    "\n",
    "for depth in max_depth:\n",
    "    cv_results = cross_validate(Pipeline([('scaler', BestScaler),\n",
    "                                                            ('pca', PCA(best_component)),\n",
    "                                                            ('rf', RandomForestRegressor(n_estimators = best_estimator, max_depth = depth))]),\n",
    "                        x_train, y_train, scoring='r2', cv=5)\n",
    "\n",
    "    score.append(np.mean(cv_results['test_score']))\n",
    "    std.append(np.std(cv_results['test_score']))"
   ]
  },
  {
   "cell_type": "code",
   "execution_count": 53,
   "id": "9eaaece7",
   "metadata": {},
   "outputs": [
    {
     "data": {
      "image/png": "[encoded data removed]",
      "text/plain": [
       "<Figure size 432x288 with 1 Axes>"
      ]
     },
     "metadata": {
      "needs_background": "light"
     },
     "output_type": "display_data"
    }
   ],
   "source": [
    "plt.errorbar(max_depth, score, yerr=std)\n",
    "plt.axvline(x = 16, c = 'r', ls = '--')\n",
    "plt.xlabel('max depth')\n",
    "plt.ylabel('mean of r2 score from 5 cross validations');"
   ]
  },
  {
   "cell_type": "code",
   "execution_count": 54,
   "id": "9d964176",
   "metadata": {},
   "outputs": [],
   "source": [
    "best_depth = 16"
   ]
  },
  {
   "cell_type": "code",
   "execution_count": 55,
   "id": "4bda9d83",
   "metadata": {},
   "outputs": [],
   "source": [
    "BestModelRF = make_pipeline(BestScaler, PCA(n_components = best_component), RandomForestRegressor(n_estimators = best_estimator, max_depth = best_depth))"
   ]
  },
  {
   "cell_type": "code",
   "execution_count": 56,
   "id": "533c476a",
   "metadata": {},
   "outputs": [
    {
     "name": "stdout",
     "output_type": "stream",
     "text": [
      "1262.1460876801648 29.88387777514086\n"
     ]
    },
    {
     "data": {
      "text/plain": [
       "1174.5636883637515"
      ]
     },
     "execution_count": 56,
     "metadata": {},
     "output_type": "execute_result"
    }
   ],
   "source": [
    "cv_results = cross_validate(BestModelRF, x_train, y_train, scoring='neg_mean_absolute_error', cv=5)\n",
    "RF_train_mae_mean = np.mean(-1 * cv_results['test_score'])\n",
    "RF_train_mae_std = np.std(-1 * cv_results['test_score'])\n",
    "print(RF_train_mae_mean, RF_train_mae_std)\n",
    "BestModelRF.fit(x_train, y_train)\n",
    "mean_absolute_error(y_test, BestModelRF.predict(x_test))"
   ]
  },
  {
   "cell_type": "code",
   "execution_count": 57,
   "id": "57815286",
   "metadata": {},
   "outputs": [
    {
     "name": "stdout",
     "output_type": "stream",
     "text": [
      "0.9288276829619206\n",
      "0.6560488753400924\n"
     ]
    }
   ],
   "source": [
    "print(r2_score(y_train, BestModelRF.predict(x_train)))\n",
    "print(r2_score(y_test, BestModelRF.predict(x_test)))"
   ]
  },
  {
   "cell_type": "markdown",
   "id": "3a45a38b",
   "metadata": {},
   "source": [
    "#### 9 Validate<a id='9_Validate'></a>"
   ]
  },
  {
   "cell_type": "code",
   "execution_count": 58,
   "id": "c8860e37",
   "metadata": {
    "scrolled": true
   },
   "outputs": [],
   "source": [
    "Validatedf = Weatherdf\n",
    "Validatedf.drop(columns = ['Timestamp', 'Year', 'Month', 'Day', 'Hour', 'Minute'], inplace = True)"
   ]
  },
  {
   "cell_type": "code",
   "execution_count": 59,
   "id": "8aceb43d",
   "metadata": {},
   "outputs": [],
   "source": [
    "BestModelRF.fit(x_train, y_train)\n",
    "Validatedf['Power'] = BestModelRF.predict(Validatedf)"
   ]
  },
  {
   "cell_type": "code",
   "execution_count": 60,
   "id": "4333e673",
   "metadata": {},
   "outputs": [],
   "source": [
    "Validatedf['Date'] = pd.date_range(start = \"01/01/22 00:00:00\", periods = Validatedf.shape[0], freq = '30T')\n",
    "Validatedf['Month'] = Validatedf['Date'].agg(func = lambda x: x.month)"
   ]
  },
  {
   "cell_type": "code",
   "execution_count": 61,
   "id": "624c507d",
   "metadata": {},
   "outputs": [],
   "source": [
    "def scatterplots(columns, ncol=None, figsize=(15, 8)):\n",
    "    if ncol is None:\n",
    "        ncol = len(columns)\n",
    "    nrow = int(np.ceil(len(columns) / ncol))\n",
    "    fig, axes = plt.subplots(nrow, ncol, figsize=figsize, squeeze=False)\n",
    "    fig.subplots_adjust(wspace=0.5, hspace=0.6)\n",
    "    for i, col in enumerate(columns):\n",
    "        ax = axes.flatten()[i]\n",
    "        ax.plot(Validatedf['Month'].unique(), Validatedf.groupby('Month')[col].mean())\n",
    "        ax.set_xticks([1, 2, 3, 4, 5, 6, 7, 8, 9, 10, 11, 12])\n",
    "        ax.set(xlabel='Month', ylabel='Average '+col+' by month')\n",
    "    nsubplots = nrow * ncol    \n",
    "    for empty in range(i+1, nsubplots):\n",
    "        axes.flatten()[empty].set_visible(False)"
   ]
  },
  {
   "cell_type": "code",
   "execution_count": 62,
   "id": "b12af590",
   "metadata": {},
   "outputs": [
    {
     "data": {
      "image/png": "[encoded data removed]",
      "text/plain": [
       "<Figure size 1080x576 with 8 Axes>"
      ]
     },
     "metadata": {
      "needs_background": "light"
     },
     "output_type": "display_data"
    }
   ],
   "source": [
    "scatterplots(['Power', 'air_temperature', 'dhi', 'dew_point', 'relative_humidity', 'cloud_press_acha', 'surface_pressure'], ncol=4)"
   ]
  },
  {
   "cell_type": "markdown",
   "id": "56d988e1",
   "metadata": {},
   "source": [
    "#### 10 Save Data<a id='10_Save_Data'></a>"
   ]
  },
  {
   "cell_type": "code",
   "execution_count": 63,
   "id": "399d867e",
   "metadata": {},
   "outputs": [],
   "source": [
    "best_model = BestModelRF\n",
    "best_model.version = '1.0'\n",
    "best_model.pandas_version = pd.__version__\n",
    "best_model.numpy_version = np.__version__\n",
    "best_model.sklearn_version = sklearn_version\n",
    "best_model.X_columns = [col for col in x_train.columns]\n",
    "best_model.build_datetime = datetime.datetime.now()"
   ]
  },
  {
   "cell_type": "code",
   "execution_count": 64,
   "id": "bb03b2d9",
   "metadata": {},
   "outputs": [
    {
     "name": "stdout",
     "output_type": "stream",
     "text": [
      "A file already exists with this name.\n",
      "\n",
      "Do you want to overwrite? (Y/N)Y\n",
      "Writing file.  \"../data/Y_train_New.csv\"\n",
      "A file already exists with this name.\n",
      "\n",
      "Do you want to overwrite? (Y/N)Y\n",
      "Writing file.  \"../data/X_train_New.csv\"\n"
     ]
    }
   ],
   "source": [
    "datapath = '../data'\n",
    "save_file(y_train, 'Y_train_New.csv', datapath)\n",
    "save_file(x_train, 'X_train_New.csv', datapath)"
   ]
  },
  {
   "cell_type": "code",
   "execution_count": 65,
   "id": "3bf04ccf",
   "metadata": {},
   "outputs": [
    {
     "name": "stdout",
     "output_type": "stream",
     "text": [
      "A file already exists with this name.\n",
      "\n",
      "Do you want to overwrite? (Y/N)Y\n",
      "Writing file.  \"../data/EWBrownData.csv\"\n"
     ]
    }
   ],
   "source": [
    "datapath = '../data'\n",
    "save_file(WeatherPower, 'EWBrownData.csv', datapath)"
   ]
  },
  {
   "cell_type": "markdown",
   "id": "330d7784",
   "metadata": {},
   "source": [
    "#### 11 Conclusion<a id='11_Conclusion'></a>"
   ]
  },
  {
   "cell_type": "markdown",
   "id": "430d50f6",
   "metadata": {},
   "source": [
    "The model now, correctly, predicts the power generated to peak in the summer months. We can now use the new data and model to make a handy app for people to use."
   ]
  }
 ],
 "metadata": {
  "kernelspec": {
   "display_name": "Python 3 (ipykernel)",
   "language": "python",
   "name": "python3"
  },
  "language_info": {
   "codemirror_mode": {
    "name": "ipython",
    "version": 3
   },
   "file_extension": ".py",
   "mimetype": "text/x-python",
   "name": "python",
   "nbconvert_exporter": "python",
   "pygments_lexer": "ipython3",
   "version": "3.9.12"
  }
 },
 "nbformat": 4,
 "nbformat_minor": 5
}
