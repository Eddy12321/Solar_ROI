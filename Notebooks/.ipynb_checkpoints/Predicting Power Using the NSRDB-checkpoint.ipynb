{
 "cells": [
  {
   "cell_type": "markdown",
   "id": "ad5459a1",
   "metadata": {},
   "source": [
    "# Predicting Power Using the NSRDB<a id='Predicting_Power_Using_the_NSRDB'></a>"
   ]
  },
  {
   "cell_type": "code",
   "execution_count": 1,
   "id": "f1223820",
   "metadata": {},
   "outputs": [
    {
     "name": "stderr",
     "output_type": "stream",
     "text": [
      "/Users/edwardseymour/opt/anaconda3/envs/TestEnv/lib/python3.9/site-packages/requests/__init__.py:102: RequestsDependencyWarning: urllib3 (1.26.9) or chardet (5.0.0)/charset_normalizer (2.0.4) doesn't match a supported version!\n",
      "  warnings.warn(\"urllib3 ({}) or chardet ({})/charset_normalizer ({}) doesn't match a supported \"\n"
     ]
    }
   ],
   "source": [
    "import pandas as pd\n",
    "import numpy as np\n",
    "import os\n",
    "import pickle\n",
    "import matplotlib.pyplot as plt\n",
    "import seaborn as sns\n",
    "from sklearn import __version__ as sklearn_version\n",
    "from scipy.spatial import cKDTree\n",
    "import h5pyd\n",
    "import requests\n",
    "import json\n",
    "from requests.structures import CaseInsensitiveDict"
   ]
  },
  {
   "cell_type": "code",
   "execution_count": 2,
   "id": "53bf6ad3",
   "metadata": {},
   "outputs": [],
   "source": [
    "nsrdb = h5pyd.File(\"/nrel/nsrdb/v3/nsrdb_2020.h5\", 'r')\n",
    "x_train = pd.read_csv('../data/X_train.csv')\n",
    "y_train = pd.read_csv('../data/Y_train.csv')\n",
    "Electricity_cost = pd.read_csv('../data/StatesElectricity.csv')\n",
    "Attributes = pd.read_csv('../data/Attributes.csv')\n",
    "url = \"https://api.geoapify.com/v1/geocode/search?text=1600%20Pennsylvania%20Avenue%20NW%2C%20Washington%2C%20DC%2020500%20United%20States&apiKey=57e88c5179064b9db5ccd0973355973a\""
   ]
  },
  {
   "cell_type": "code",
   "execution_count": 3,
   "id": "cd3ad8fa",
   "metadata": {},
   "outputs": [],
   "source": [
    "y_train.drop(columns = ['Unnamed: 0'],inplace = True)\n",
    "x_train.drop(columns = ['Unnamed: 0'],inplace = True)"
   ]
  },
  {
   "cell_type": "markdown",
   "id": "1ad8a945",
   "metadata": {},
   "source": [
    "Powered by <a href=\"https://www.geoapify.com/\">Geoapify</a>"
   ]
  },
  {
   "cell_type": "code",
   "execution_count": 4,
   "id": "54f69aae",
   "metadata": {},
   "outputs": [
    {
     "name": "stdout",
     "output_type": "stream",
     "text": [
      "200\n"
     ]
    }
   ],
   "source": [
    "headers = CaseInsensitiveDict()\n",
    "headers['Accept'] = \"application/json\"\n",
    "resp = requests.get(url, headers = headers)\n",
    "\n",
    "print(resp.status_code)"
   ]
  },
  {
   "cell_type": "code",
   "execution_count": 5,
   "id": "61e1c50f",
   "metadata": {},
   "outputs": [],
   "source": [
    "features = resp.json()['features']\n",
    "\n",
    "properties = features[1]['properties']\n",
    "lat = properties['lat']\n",
    "lon = properties['lon']\n",
    "state = properties['state']"
   ]
  },
  {
   "cell_type": "code",
   "execution_count": 6,
   "id": "7817c8b0",
   "metadata": {},
   "outputs": [],
   "source": [
    "expected_model_version = '1.0'\n",
    "model_path = '../models/power_predictor.pkl'\n",
    "if os.path.exists(model_path):\n",
    "    with open(model_path, 'rb') as f:\n",
    "        model = pickle.load(f)\n",
    "    if model.version != expected_model_version:\n",
    "        print(\"Expected model version doesn't match version loaded\")\n",
    "    if model.sklearn_version != sklearn_version:\n",
    "        print(\"Warning: model created under different sklearn version\")\n",
    "else:\n",
    "    print(\"Expected model not found\")"
   ]
  },
  {
   "cell_type": "code",
   "execution_count": 7,
   "id": "c55841e0",
   "metadata": {},
   "outputs": [],
   "source": [
    "Electricity_cost.set_index('State', inplace = True)\n",
    "Electricity_cost.drop(columns = 'Unnamed: 0', inplace = True)"
   ]
  },
  {
   "cell_type": "code",
   "execution_count": 8,
   "id": "f9d99f85",
   "metadata": {
    "scrolled": true
   },
   "outputs": [
    {
     "data": {
      "text/html": [
       "<div>\n",
       "<style scoped>\n",
       "    .dataframe tbody tr th:only-of-type {\n",
       "        vertical-align: middle;\n",
       "    }\n",
       "\n",
       "    .dataframe tbody tr th {\n",
       "        vertical-align: top;\n",
       "    }\n",
       "\n",
       "    .dataframe thead th {\n",
       "        text-align: right;\n",
       "    }\n",
       "</style>\n",
       "<table border=\"1\" class=\"dataframe\">\n",
       "  <thead>\n",
       "    <tr style=\"text-align: right;\">\n",
       "      <th></th>\n",
       "      <th>Electricity Prices</th>\n",
       "    </tr>\n",
       "    <tr>\n",
       "      <th>State</th>\n",
       "      <th></th>\n",
       "    </tr>\n",
       "  </thead>\n",
       "  <tbody>\n",
       "    <tr>\n",
       "      <th>Alabama</th>\n",
       "      <td>9.84</td>\n",
       "    </tr>\n",
       "    <tr>\n",
       "      <th>Alaska</th>\n",
       "      <td>19.82</td>\n",
       "    </tr>\n",
       "    <tr>\n",
       "      <th>Arizona</th>\n",
       "      <td>10.44</td>\n",
       "    </tr>\n",
       "    <tr>\n",
       "      <th>Arkansas</th>\n",
       "      <td>8.32</td>\n",
       "    </tr>\n",
       "    <tr>\n",
       "      <th>California</th>\n",
       "      <td>18.00</td>\n",
       "    </tr>\n",
       "  </tbody>\n",
       "</table>\n",
       "</div>"
      ],
      "text/plain": [
       "            Electricity Prices\n",
       "State                         \n",
       "Alabama                   9.84\n",
       "Alaska                   19.82\n",
       "Arizona                  10.44\n",
       "Arkansas                  8.32\n",
       "California               18.00"
      ]
     },
     "execution_count": 8,
     "metadata": {},
     "output_type": "execute_result"
    }
   ],
   "source": [
    "Electricity_cost.head()"
   ]
  },
  {
   "cell_type": "code",
   "execution_count": 9,
   "id": "a96093f8",
   "metadata": {},
   "outputs": [],
   "source": [
    "Attributes.set_index('Unnamed: 0', inplace = True)"
   ]
  },
  {
   "cell_type": "code",
   "execution_count": 10,
   "id": "af23d550",
   "metadata": {},
   "outputs": [
    {
     "data": {
      "text/html": [
       "<div>\n",
       "<style scoped>\n",
       "    .dataframe tbody tr th:only-of-type {\n",
       "        vertical-align: middle;\n",
       "    }\n",
       "\n",
       "    .dataframe tbody tr th {\n",
       "        vertical-align: top;\n",
       "    }\n",
       "\n",
       "    .dataframe thead th {\n",
       "        text-align: right;\n",
       "    }\n",
       "</style>\n",
       "<table border=\"1\" class=\"dataframe\">\n",
       "  <thead>\n",
       "    <tr style=\"text-align: right;\">\n",
       "      <th></th>\n",
       "      <th>air_temperature</th>\n",
       "      <th>alpha</th>\n",
       "      <th>aod</th>\n",
       "      <th>asymmetry</th>\n",
       "      <th>cld_opd_dcomp</th>\n",
       "      <th>cld_reff_dcomp</th>\n",
       "      <th>clearsky_dhi</th>\n",
       "      <th>clearsky_dni</th>\n",
       "      <th>clearsky_ghi</th>\n",
       "      <th>cloud_press_acha</th>\n",
       "      <th>...</th>\n",
       "      <th>ozone</th>\n",
       "      <th>relative_humidity</th>\n",
       "      <th>solar_zenith_angle</th>\n",
       "      <th>ssa</th>\n",
       "      <th>surface_albedo</th>\n",
       "      <th>surface_pressure</th>\n",
       "      <th>time_index</th>\n",
       "      <th>total_precipitable_water</th>\n",
       "      <th>wind_direction</th>\n",
       "      <th>wind_speed</th>\n",
       "    </tr>\n",
       "    <tr>\n",
       "      <th>Unnamed: 0</th>\n",
       "      <th></th>\n",
       "      <th></th>\n",
       "      <th></th>\n",
       "      <th></th>\n",
       "      <th></th>\n",
       "      <th></th>\n",
       "      <th></th>\n",
       "      <th></th>\n",
       "      <th></th>\n",
       "      <th></th>\n",
       "      <th></th>\n",
       "      <th></th>\n",
       "      <th></th>\n",
       "      <th></th>\n",
       "      <th></th>\n",
       "      <th></th>\n",
       "      <th></th>\n",
       "      <th></th>\n",
       "      <th></th>\n",
       "      <th></th>\n",
       "      <th></th>\n",
       "    </tr>\n",
       "  </thead>\n",
       "  <tbody>\n",
       "    <tr>\n",
       "      <th>data_source</th>\n",
       "      <td>MERRA2</td>\n",
       "      <td>MERRA2</td>\n",
       "      <td>MERRA2</td>\n",
       "      <td>climatology</td>\n",
       "      <td>UW-GOES</td>\n",
       "      <td>UW-GOES</td>\n",
       "      <td>output</td>\n",
       "      <td>output</td>\n",
       "      <td>output</td>\n",
       "      <td>UW-GOES</td>\n",
       "      <td>...</td>\n",
       "      <td>MERRA2</td>\n",
       "      <td>derived</td>\n",
       "      <td>calculated</td>\n",
       "      <td>MERRA2</td>\n",
       "      <td>MODIS-IMS</td>\n",
       "      <td>MERRA2</td>\n",
       "      <td>NaN</td>\n",
       "      <td>MERRA2</td>\n",
       "      <td>MERRA2</td>\n",
       "      <td>MERRA2</td>\n",
       "    </tr>\n",
       "    <tr>\n",
       "      <th>elevation_correction</th>\n",
       "      <td>True</td>\n",
       "      <td>False</td>\n",
       "      <td>True</td>\n",
       "      <td>False</td>\n",
       "      <td>False</td>\n",
       "      <td>False</td>\n",
       "      <td>False</td>\n",
       "      <td>False</td>\n",
       "      <td>False</td>\n",
       "      <td>False</td>\n",
       "      <td>...</td>\n",
       "      <td>False</td>\n",
       "      <td>False</td>\n",
       "      <td>False</td>\n",
       "      <td>False</td>\n",
       "      <td>False</td>\n",
       "      <td>True</td>\n",
       "      <td>NaN</td>\n",
       "      <td>True</td>\n",
       "      <td>False</td>\n",
       "      <td>False</td>\n",
       "    </tr>\n",
       "    <tr>\n",
       "      <th>physical_max</th>\n",
       "      <td>70.0</td>\n",
       "      <td>2.5</td>\n",
       "      <td>1.5</td>\n",
       "      <td>1.0</td>\n",
       "      <td>80.0</td>\n",
       "      <td>80.0</td>\n",
       "      <td>800.0</td>\n",
       "      <td>1350.0</td>\n",
       "      <td>1350.0</td>\n",
       "      <td>1100.0</td>\n",
       "      <td>...</td>\n",
       "      <td>0.5</td>\n",
       "      <td>100.0</td>\n",
       "      <td>180.0</td>\n",
       "      <td>1.0</td>\n",
       "      <td>1.0</td>\n",
       "      <td>1100.0</td>\n",
       "      <td>NaN</td>\n",
       "      <td>15.0</td>\n",
       "      <td>360.0</td>\n",
       "      <td>40.0</td>\n",
       "    </tr>\n",
       "    <tr>\n",
       "      <th>physical_min</th>\n",
       "      <td>-100.0</td>\n",
       "      <td>0.0</td>\n",
       "      <td>0.01</td>\n",
       "      <td>-1.0</td>\n",
       "      <td>0.0</td>\n",
       "      <td>0.0</td>\n",
       "      <td>0.0</td>\n",
       "      <td>0.0</td>\n",
       "      <td>0.0</td>\n",
       "      <td>0.0</td>\n",
       "      <td>...</td>\n",
       "      <td>0.2</td>\n",
       "      <td>0.0</td>\n",
       "      <td>0.0</td>\n",
       "      <td>0.0</td>\n",
       "      <td>0.0</td>\n",
       "      <td>300.0</td>\n",
       "      <td>NaN</td>\n",
       "      <td>0.0</td>\n",
       "      <td>0.0</td>\n",
       "      <td>0.0</td>\n",
       "    </tr>\n",
       "    <tr>\n",
       "      <th>psm_scale_factor</th>\n",
       "      <td>10.0</td>\n",
       "      <td>100.0</td>\n",
       "      <td>10000.0</td>\n",
       "      <td>100.0</td>\n",
       "      <td>100.0</td>\n",
       "      <td>100.0</td>\n",
       "      <td>1.0</td>\n",
       "      <td>1.0</td>\n",
       "      <td>1.0</td>\n",
       "      <td>1.0</td>\n",
       "      <td>...</td>\n",
       "      <td>1000.0</td>\n",
       "      <td>100.0</td>\n",
       "      <td>100.0</td>\n",
       "      <td>100.0</td>\n",
       "      <td>100.0</td>\n",
       "      <td>1.0</td>\n",
       "      <td>NaN</td>\n",
       "      <td>10.0</td>\n",
       "      <td>1.0</td>\n",
       "      <td>10.0</td>\n",
       "    </tr>\n",
       "  </tbody>\n",
       "</table>\n",
       "<p>5 rows × 28 columns</p>\n",
       "</div>"
      ],
      "text/plain": [
       "                     air_temperature   alpha      aod    asymmetry  \\\n",
       "Unnamed: 0                                                           \n",
       "data_source                   MERRA2  MERRA2   MERRA2  climatology   \n",
       "elevation_correction            True   False     True        False   \n",
       "physical_max                    70.0     2.5      1.5          1.0   \n",
       "physical_min                  -100.0     0.0     0.01         -1.0   \n",
       "psm_scale_factor                10.0   100.0  10000.0        100.0   \n",
       "\n",
       "                     cld_opd_dcomp cld_reff_dcomp clearsky_dhi clearsky_dni  \\\n",
       "Unnamed: 0                                                                    \n",
       "data_source                UW-GOES        UW-GOES       output       output   \n",
       "elevation_correction         False          False        False        False   \n",
       "physical_max                  80.0           80.0        800.0       1350.0   \n",
       "physical_min                   0.0            0.0          0.0          0.0   \n",
       "psm_scale_factor             100.0          100.0          1.0          1.0   \n",
       "\n",
       "                     clearsky_ghi cloud_press_acha  ...   ozone  \\\n",
       "Unnamed: 0                                          ...           \n",
       "data_source                output          UW-GOES  ...  MERRA2   \n",
       "elevation_correction        False            False  ...   False   \n",
       "physical_max               1350.0           1100.0  ...     0.5   \n",
       "physical_min                  0.0              0.0  ...     0.2   \n",
       "psm_scale_factor              1.0              1.0  ...  1000.0   \n",
       "\n",
       "                     relative_humidity solar_zenith_angle     ssa  \\\n",
       "Unnamed: 0                                                          \n",
       "data_source                    derived         calculated  MERRA2   \n",
       "elevation_correction             False              False   False   \n",
       "physical_max                     100.0              180.0     1.0   \n",
       "physical_min                       0.0                0.0     0.0   \n",
       "psm_scale_factor                 100.0              100.0   100.0   \n",
       "\n",
       "                     surface_albedo surface_pressure time_index  \\\n",
       "Unnamed: 0                                                        \n",
       "data_source               MODIS-IMS           MERRA2        NaN   \n",
       "elevation_correction          False             True        NaN   \n",
       "physical_max                    1.0           1100.0        NaN   \n",
       "physical_min                    0.0            300.0        NaN   \n",
       "psm_scale_factor              100.0              1.0        NaN   \n",
       "\n",
       "                      total_precipitable_water wind_direction wind_speed  \n",
       "Unnamed: 0                                                                \n",
       "data_source                             MERRA2         MERRA2     MERRA2  \n",
       "elevation_correction                      True          False      False  \n",
       "physical_max                              15.0          360.0       40.0  \n",
       "physical_min                               0.0            0.0        0.0  \n",
       "psm_scale_factor                          10.0            1.0       10.0  \n",
       "\n",
       "[5 rows x 28 columns]"
      ]
     },
     "execution_count": 10,
     "metadata": {},
     "output_type": "execute_result"
    }
   ],
   "source": [
    "Attributes.head()"
   ]
  },
  {
   "cell_type": "code",
   "execution_count": 11,
   "id": "c6a8f09c",
   "metadata": {},
   "outputs": [],
   "source": [
    "def getLocationData(lat, lon, cols = ['meta']):\n",
    "    \n",
    "    tree = cKDTree(nsrdb['coordinates'])\n",
    "    dist, pos = tree.query(np.array([lat, lon]))\n",
    "    \n",
    "    df = pd.DataFrame(columns = cols)\n",
    "    \n",
    "    for col in cols:\n",
    "        df[col] = nsrdb[col][:, pos]\n",
    "    \n",
    "    return df"
   ]
  },
  {
   "cell_type": "code",
   "execution_count": 12,
   "id": "64f604ef",
   "metadata": {},
   "outputs": [],
   "source": [
    "columns = ['air_temperature', 'relative_humidity', 'dew_point', 'wind_speed', 'surface_pressure', 'total_precipitable_water', 'dni']\n",
    "Locationdf = getLocationData(lat, lon, cols = columns)\n",
    "for col in columns:\n",
    "    scale = float(Attributes.loc['scale_factor', col])\n",
    "    Locationdf[col] = Locationdf[col] / scale"
   ]
  },
  {
   "cell_type": "code",
   "execution_count": 13,
   "id": "2cabc627",
   "metadata": {},
   "outputs": [],
   "source": [
    "column_mapper = {'air_temperature': 'TempOut',\n",
    "                'surface_pressure': 'Bar',\n",
    "                'relative_humidity': 'OutHum',\n",
    "                'wind_speed': 'WindSpeed',\n",
    "                'dew_point': 'DewPt',\n",
    "                'dni': 'SolarRad',\n",
    "                'total_precipitable_water': 'Rain'}\n",
    "Locationdf.rename(columns = column_mapper, inplace=True)\n",
    "Locationdf['Bar'] = Locationdf['Bar'] / 1000\n",
    "Locationdf['Rain'] = Locationdf['Rain'] / 0.25\n",
    "Locationdf['SolarEnergy'] = Locationdf['SolarRad'] * 0.5 / 11.622\n",
    "Locationdf['Temp_Pressure_ratio'] = Locationdf['TempOut'] / Locationdf['Bar']"
   ]
  },
  {
   "cell_type": "code",
   "execution_count": 14,
   "id": "9252c1f4",
   "metadata": {},
   "outputs": [
    {
     "name": "stderr",
     "output_type": "stream",
     "text": [
      "/Users/edwardseymour/opt/anaconda3/envs/TestEnv/lib/python3.9/site-packages/sklearn/ensemble/_gb.py:494: DataConversionWarning: A column-vector y was passed when a 1d array was expected. Please change the shape of y to (n_samples, ), for example using ravel().\n",
      "  y = column_or_1d(y, warn=True)\n"
     ]
    },
    {
     "data": {
      "text/plain": [
       "Pipeline(steps=[('standardscaler', MinMaxScaler()),\n",
       "                ('pca', PCA(n_components=9)),\n",
       "                ('gradientboostingregressor',\n",
       "                 GradientBoostingRegressor(max_depth=6, n_estimators=77))])"
      ]
     },
     "execution_count": 14,
     "metadata": {},
     "output_type": "execute_result"
    }
   ],
   "source": [
    "model.fit(x_train, y_train)"
   ]
  },
  {
   "cell_type": "code",
   "execution_count": 15,
   "id": "c3e917f3",
   "metadata": {},
   "outputs": [],
   "source": [
    "Locationdf['Power'] = model.predict(Locationdf)"
   ]
  },
  {
   "cell_type": "code",
   "execution_count": 16,
   "id": "67205cf0",
   "metadata": {},
   "outputs": [
    {
     "data": {
      "text/plain": [
       "0    0.193755\n",
       "1    0.193755\n",
       "2    0.193755\n",
       "3    0.193755\n",
       "4    0.119884\n",
       "Name: Power, dtype: float64"
      ]
     },
     "execution_count": 16,
     "metadata": {},
     "output_type": "execute_result"
    }
   ],
   "source": [
    "Locationdf['Power'].head()"
   ]
  },
  {
   "cell_type": "code",
   "execution_count": 18,
   "id": "30d62c78",
   "metadata": {},
   "outputs": [
    {
     "data": {
      "image/png": "[encoded data removed]",
      "text/plain": [
       "<Figure size 432x288 with 1 Axes>"
      ]
     },
     "metadata": {
      "needs_background": "light"
     },
     "output_type": "display_data"
    }
   ],
   "source": [
    "plt.hist(Locationdf['Power'], bins = 10)\n",
    "plt.title('Distribution of Power Generated')\n",
    "plt.xlabel('Power')\n",
    "plt.ylabel('Count');"
   ]
  },
  {
   "cell_type": "code",
   "execution_count": 19,
   "id": "e8d0da80",
   "metadata": {},
   "outputs": [],
   "source": [
    "mean = Locationdf['Power'].mean()\n",
    "std = Locationdf['Power'].std()\n",
    "median = Locationdf['Power'].median()"
   ]
  },
  {
   "cell_type": "code",
   "execution_count": 20,
   "id": "64f61738",
   "metadata": {},
   "outputs": [
    {
     "name": "stdout",
     "output_type": "stream",
     "text": [
      "0.1850422731778422\n",
      "0.022618477335776127\n",
      "0.19375508101203623\n"
     ]
    }
   ],
   "source": [
    "print(mean)\n",
    "print(std)\n",
    "print(median)"
   ]
  },
  {
   "cell_type": "code",
   "execution_count": 21,
   "id": "9bfd6d4c",
   "metadata": {},
   "outputs": [
    {
     "data": {
      "text/plain": [
       "11.9"
      ]
     },
     "execution_count": 21,
     "metadata": {},
     "output_type": "execute_result"
    }
   ],
   "source": [
    "StateElectricityCost = Electricity_cost.loc[state]['Electricity Prices']\n",
    "StateElectricityCost"
   ]
  },
  {
   "cell_type": "code",
   "execution_count": 22,
   "id": "e854b3bd",
   "metadata": {},
   "outputs": [],
   "source": [
    "Locationdf['Money_saved'] = Locationdf['Power'] * (StateElectricityCost / 2)"
   ]
  },
  {
   "cell_type": "code",
   "execution_count": 23,
   "id": "4a0b928b",
   "metadata": {},
   "outputs": [],
   "source": [
    "dollars_saved = Locationdf['Money_saved'].sum() / 100"
   ]
  },
  {
   "cell_type": "code",
   "execution_count": 24,
   "id": "191754f6",
   "metadata": {},
   "outputs": [
    {
     "name": "stdout",
     "output_type": "stream",
     "text": [
      "The amount that you would save per year is $193.4239479836673\n"
     ]
    }
   ],
   "source": [
    "print('The amount that you would save per year is $' + str(dollars_saved))"
   ]
  },
  {
   "cell_type": "markdown",
   "id": "f4d49639",
   "metadata": {},
   "source": [
    "A 600 W installation, which this model assumes, would cost around 1800 to 3000 dollars to install. This would mean that it would take twelve to fifteen years to pay back the cost of the installation. Research suggests that the average time to pay of a solar installation is six to ten years. So, we are clearly underestimating the amount of power that we could be generating"
   ]
  }
 ],
 "metadata": {
  "kernelspec": {
   "display_name": "Python 3 (ipykernel)",
   "language": "python",
   "name": "python3"
  },
  "language_info": {
   "codemirror_mode": {
    "name": "ipython",
    "version": 3
   },
   "file_extension": ".py",
   "mimetype": "text/x-python",
   "name": "python",
   "nbconvert_exporter": "python",
   "pygments_lexer": "ipython3",
   "version": "3.9.12"
  }
 },
 "nbformat": 4,
 "nbformat_minor": 5
}
