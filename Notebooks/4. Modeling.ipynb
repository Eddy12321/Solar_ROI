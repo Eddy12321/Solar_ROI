{
 "cells": [
  {
   "cell_type": "markdown",
   "id": "a5f46a37",
   "metadata": {},
   "source": [
    "# Modeling<a id='Modeling'></a>"
   ]
  },
  {
   "cell_type": "markdown",
   "id": "9b2523bb",
   "metadata": {},
   "source": [
    "### 1 Table of Contents<a id='1_Table_of_Contents'></a>\n",
    "* [Modeling](#Modeling)\n",
    "  * [1 Table of Contents](#1_Table_of_Contents)\n",
    "  * [2 Introduction](#2_Introduction)\n",
    "  * [3 Imports](#3_Imports)\n",
    "  * [4 Load Data](#4_Load_Data)\n",
    "  * [5 Baseline Model](#5_Baseline_Model)\n",
    "    * [5.1 Fit and Predict](#5.1_Fit_and_Predict)\n",
    "    * [5.2 Score](#5.2_Score)\n",
    "  * [6 Linear Regression](#6_Linear_Regression)\n",
    "    * [6.1 Initialize Model](#6.1_Initialize_Model)\n",
    "    * [6.2 Grid Search](#6.2_Grid_Search)\n",
    "    * [6.3 Results](#6.3_Results)\n",
    "  * [7 Support Vector Regression](#7_Support_Vector_Regression)\n",
    "    * [7.1 Initialize Model](#7.1_Initialize_Model)\n",
    "    * [7.2 Grid Search](#7.2_Grid_Search)\n",
    "    * [7.3 Results](#7.3_Results)\n",
    "  * [8 Gradient Boosting Regression](#8_Gradient_Boosting_Regression)\n",
    "    * [8.1 Initialize Model](#8.1_Initialize_Model)\n",
    "    * [8.2 Grid Search](#8.2_Grid_Search)\n",
    "    * [8.3 Results](#8.3_Results)\n",
    "  * [9 Random Forest Regression](#9_Random_Forest_Regression)\n",
    "    * [9.1 Initialize Model](#9.1_Initialize_Model)\n",
    "    * [9.2 Grid Search](#9.2_Grid_Search)\n",
    "    * [9.3 Results](#9.3_Results)\n",
    "  * [10 Winning Model](#10_Winning_Model)\n",
    "    * [10.1 Parameter Search](#10.1_Parameter_Search)\n",
    "    * [10.2 Visualize](#10.2_Visualize)\n",
    "    * [10.3 Removing Outliers Remodel](#10.3_Removing_Outliers_Remodel)\n",
    "  * [11 Saving the Model](#11_Saving_the_Model)\n",
    "  * [12 Conclusion](#12_Conclusion)"
   ]
  },
  {
   "cell_type": "markdown",
   "id": "1087f9a0",
   "metadata": {},
   "source": [
    "### 2 Introduction<a id='2_Introduction'></a>"
   ]
  },
  {
   "cell_type": "markdown",
   "id": "69fd1d14",
   "metadata": {},
   "source": [
    "In the last notebook, I split the data into dependent and independent variables. I then split those variables into training and testing sets. I dropped the 'Site' column from our data, as well, since we do not want our model to consider that feature in it's predictions\n",
    "\n",
    "We can now start creating models to predict power generation. The data used to train and validate the model comes from the UK Power Networks; a study on the effect of attaching solar installations to the local grid. To reiterate, the goal of this project is to create a model to predict possible solar power generation at specific locations in the U.S. by feeding our model weather data from the NSRDB. I'll be using the Google Maps API to turn an address into latitude and longitude, which can then be used to find the NSRDB index of the closest location. That index will be used to retrieve NSRDB data to supply the model. The model will then output a yearly summary of the power that can be generated at that location.\n",
    "\n",
    "The model choices that I have decided to go with our linear regression, support vector regression, and gradient boosting regression. Regression is the obvious choice because our target variable is a continuous value, making classification unsuitable. I'll use GridSearchCV to find the best parameters of each method, as well as score the methods. I'll then use the best method/parameters to fit and predict on the UK train and test data. After exploring the results, I will use our model on the NSRDB weather features and explore the results for a location in the U.S. "
   ]
  },
  {
   "cell_type": "markdown",
   "id": "124057a1",
   "metadata": {},
   "source": [
    "### 3 Imports<a id='3_Imports'></a>"
   ]
  },
  {
   "cell_type": "code",
   "execution_count": 1,
   "id": "0ebef5c7",
   "metadata": {},
   "outputs": [
    {
     "name": "stderr",
     "output_type": "stream",
     "text": [
      "/Users/edwardseymour/opt/anaconda3/envs/TestEnv/lib/python3.9/site-packages/requests/__init__.py:102: RequestsDependencyWarning: urllib3 (1.26.9) or chardet (5.0.0)/charset_normalizer (2.0.4) doesn't match a supported version!\n",
      "  warnings.warn(\"urllib3 ({}) or chardet ({})/charset_normalizer ({}) doesn't match a supported \"\n"
     ]
    }
   ],
   "source": [
    "import pandas as pd\n",
    "import numpy as np\n",
    "import os\n",
    "import pickle\n",
    "import matplotlib.pyplot as plt\n",
    "import seaborn as sns\n",
    "from sklearn import __version__ as sklearn_version\n",
    "from sklearn.decomposition import PCA\n",
    "from sklearn.model_selection import cross_validate, GridSearchCV, RandomizedSearchCV, train_test_split\n",
    "from sklearn.preprocessing import StandardScaler, MinMaxScaler, scale\n",
    "from sklearn.dummy import DummyRegressor\n",
    "from sklearn.linear_model import LinearRegression\n",
    "from sklearn.ensemble import GradientBoostingRegressor\n",
    "from sklearn.svm import SVR\n",
    "from sklearn.metrics import r2_score, mean_squared_error, mean_absolute_error\n",
    "from sklearn.pipeline import make_pipeline, Pipeline\n",
    "from sklearn.impute import SimpleImputer\n",
    "from sklearn.ensemble import RandomForestRegressor\n",
    "from sklearn.feature_selection import SelectKBest, f_regression\n",
    "import datetime\n",
    "from scipy.spatial import cKDTree\n",
    "import h5pyd\n",
    "\n",
    "from library.sb_utils import save_file"
   ]
  },
  {
   "cell_type": "markdown",
   "id": "0dfda840",
   "metadata": {},
   "source": [
    "### 4 Load Data<a id='4_Load_Data'></a>"
   ]
  },
  {
   "cell_type": "code",
   "execution_count": 2,
   "id": "0204e41c",
   "metadata": {},
   "outputs": [],
   "source": [
    "UK_data = pd.read_csv('../data/UK_data.csv')\n",
    "x_train = pd.read_csv('../data/X_train.csv')\n",
    "x_test = pd.read_csv('../data/X_test.csv')\n",
    "y_train = pd.read_csv('../data/Y_train.csv')\n",
    "y_test = pd.read_csv('../data/Y_test.csv')"
   ]
  },
  {
   "cell_type": "code",
   "execution_count": 3,
   "id": "35f65d4d",
   "metadata": {},
   "outputs": [],
   "source": [
    "x_train.set_index('Unnamed: 0', inplace = True)\n",
    "x_test.set_index('Unnamed: 0', inplace = True)\n",
    "y_train = y_train.P_GEN\n",
    "y_test = y_test.P_GEN\n",
    "x_train.reset_index(inplace = True, drop = True)\n",
    "x_test.reset_index(inplace = True, drop = True)"
   ]
  },
  {
   "cell_type": "code",
   "execution_count": 4,
   "id": "3b73159c",
   "metadata": {},
   "outputs": [
    {
     "data": {
      "text/html": [
       "<div>\n",
       "<style scoped>\n",
       "    .dataframe tbody tr th:only-of-type {\n",
       "        vertical-align: middle;\n",
       "    }\n",
       "\n",
       "    .dataframe tbody tr th {\n",
       "        vertical-align: top;\n",
       "    }\n",
       "\n",
       "    .dataframe thead th {\n",
       "        text-align: right;\n",
       "    }\n",
       "</style>\n",
       "<table border=\"1\" class=\"dataframe\">\n",
       "  <thead>\n",
       "    <tr style=\"text-align: right;\">\n",
       "      <th></th>\n",
       "      <th>TempOut</th>\n",
       "      <th>OutHum</th>\n",
       "      <th>DewPt</th>\n",
       "      <th>WindSpeed</th>\n",
       "      <th>WindRun</th>\n",
       "      <th>WindChill</th>\n",
       "      <th>HeatIndex</th>\n",
       "      <th>THWIndex</th>\n",
       "      <th>Bar</th>\n",
       "      <th>Rain</th>\n",
       "      <th>RainRate</th>\n",
       "      <th>SolarRad</th>\n",
       "      <th>SolarEnergy</th>\n",
       "      <th>Temp_Pressure_ratio</th>\n",
       "      <th>Humidity_Radiation_ratio</th>\n",
       "    </tr>\n",
       "  </thead>\n",
       "  <tbody>\n",
       "    <tr>\n",
       "      <th>0</th>\n",
       "      <td>15.1</td>\n",
       "      <td>81.0</td>\n",
       "      <td>11.9</td>\n",
       "      <td>0</td>\n",
       "      <td>0.0</td>\n",
       "      <td>15.1</td>\n",
       "      <td>15.1</td>\n",
       "      <td>15.1</td>\n",
       "      <td>767.6</td>\n",
       "      <td>0.0</td>\n",
       "      <td>0.0</td>\n",
       "      <td>41.0</td>\n",
       "      <td>1.76</td>\n",
       "      <td>0.019672</td>\n",
       "      <td>1.975610</td>\n",
       "    </tr>\n",
       "    <tr>\n",
       "      <th>1</th>\n",
       "      <td>11.8</td>\n",
       "      <td>89.0</td>\n",
       "      <td>10.0</td>\n",
       "      <td>3</td>\n",
       "      <td>1.5</td>\n",
       "      <td>11.8</td>\n",
       "      <td>11.8</td>\n",
       "      <td>11.8</td>\n",
       "      <td>746.0</td>\n",
       "      <td>0.0</td>\n",
       "      <td>0.0</td>\n",
       "      <td>89.0</td>\n",
       "      <td>3.83</td>\n",
       "      <td>0.015818</td>\n",
       "      <td>1.000000</td>\n",
       "    </tr>\n",
       "    <tr>\n",
       "      <th>2</th>\n",
       "      <td>28.1</td>\n",
       "      <td>37.0</td>\n",
       "      <td>12.0</td>\n",
       "      <td>6</td>\n",
       "      <td>3.0</td>\n",
       "      <td>28.1</td>\n",
       "      <td>27.6</td>\n",
       "      <td>27.6</td>\n",
       "      <td>750.5</td>\n",
       "      <td>0.0</td>\n",
       "      <td>0.0</td>\n",
       "      <td>693.0</td>\n",
       "      <td>29.80</td>\n",
       "      <td>0.037442</td>\n",
       "      <td>0.053391</td>\n",
       "    </tr>\n",
       "    <tr>\n",
       "      <th>3</th>\n",
       "      <td>9.7</td>\n",
       "      <td>89.0</td>\n",
       "      <td>7.9</td>\n",
       "      <td>0</td>\n",
       "      <td>0.0</td>\n",
       "      <td>9.7</td>\n",
       "      <td>9.8</td>\n",
       "      <td>9.8</td>\n",
       "      <td>751.3</td>\n",
       "      <td>0.0</td>\n",
       "      <td>0.0</td>\n",
       "      <td>59.0</td>\n",
       "      <td>2.54</td>\n",
       "      <td>0.012911</td>\n",
       "      <td>1.508475</td>\n",
       "    </tr>\n",
       "    <tr>\n",
       "      <th>4</th>\n",
       "      <td>18.9</td>\n",
       "      <td>63.0</td>\n",
       "      <td>11.7</td>\n",
       "      <td>1</td>\n",
       "      <td>0.5</td>\n",
       "      <td>18.9</td>\n",
       "      <td>18.7</td>\n",
       "      <td>18.7</td>\n",
       "      <td>747.8</td>\n",
       "      <td>0.0</td>\n",
       "      <td>0.0</td>\n",
       "      <td>458.0</td>\n",
       "      <td>19.70</td>\n",
       "      <td>0.025274</td>\n",
       "      <td>0.137555</td>\n",
       "    </tr>\n",
       "  </tbody>\n",
       "</table>\n",
       "</div>"
      ],
      "text/plain": [
       "   TempOut  OutHum  DewPt  WindSpeed  WindRun  WindChill  HeatIndex  THWIndex  \\\n",
       "0     15.1    81.0   11.9          0      0.0       15.1       15.1      15.1   \n",
       "1     11.8    89.0   10.0          3      1.5       11.8       11.8      11.8   \n",
       "2     28.1    37.0   12.0          6      3.0       28.1       27.6      27.6   \n",
       "3      9.7    89.0    7.9          0      0.0        9.7        9.8       9.8   \n",
       "4     18.9    63.0   11.7          1      0.5       18.9       18.7      18.7   \n",
       "\n",
       "     Bar  Rain  RainRate  SolarRad  SolarEnergy  Temp_Pressure_ratio  \\\n",
       "0  767.6   0.0       0.0      41.0         1.76             0.019672   \n",
       "1  746.0   0.0       0.0      89.0         3.83             0.015818   \n",
       "2  750.5   0.0       0.0     693.0        29.80             0.037442   \n",
       "3  751.3   0.0       0.0      59.0         2.54             0.012911   \n",
       "4  747.8   0.0       0.0     458.0        19.70             0.025274   \n",
       "\n",
       "   Humidity_Radiation_ratio  \n",
       "0                  1.975610  \n",
       "1                  1.000000  \n",
       "2                  0.053391  \n",
       "3                  1.508475  \n",
       "4                  0.137555  "
      ]
     },
     "execution_count": 4,
     "metadata": {},
     "output_type": "execute_result"
    }
   ],
   "source": [
    "x_train.head()"
   ]
  },
  {
   "cell_type": "markdown",
   "id": "7fb2e98f",
   "metadata": {},
   "source": [
    "The Humidity_Radiation_ratio column has infinity values. Let's see how many before we go any further"
   ]
  },
  {
   "cell_type": "code",
   "execution_count": 5,
   "id": "bfee2356",
   "metadata": {},
   "outputs": [
    {
     "data": {
      "text/plain": [
       "(1688, 15)"
      ]
     },
     "execution_count": 5,
     "metadata": {},
     "output_type": "execute_result"
    }
   ],
   "source": [
    "x_train[x_train['Humidity_Radiation_ratio'] == np.Inf].shape"
   ]
  },
  {
   "cell_type": "markdown",
   "id": "794a8d71",
   "metadata": {},
   "source": [
    "What about the other ratio column and the test set"
   ]
  },
  {
   "cell_type": "code",
   "execution_count": 6,
   "id": "f6efa8c2",
   "metadata": {},
   "outputs": [
    {
     "name": "stdout",
     "output_type": "stream",
     "text": [
      "(0, 15)\n",
      "(597, 15)\n",
      "(0, 15)\n"
     ]
    }
   ],
   "source": [
    "print(x_train[x_train['Temp_Pressure_ratio'] == np.Inf].shape)\n",
    "print(x_test[x_test['Humidity_Radiation_ratio'] == np.Inf].shape)\n",
    "print(x_test[x_test['Temp_Pressure_ratio'] == np.Inf].shape)"
   ]
  },
  {
   "cell_type": "markdown",
   "id": "08746158",
   "metadata": {},
   "source": [
    "The Humidity to Radiation ratio results in a lot of inifinity values. I am going to drop this column from the train and test data so that it does not cause any problems down the line"
   ]
  },
  {
   "cell_type": "code",
   "execution_count": 7,
   "id": "7c8bf885",
   "metadata": {},
   "outputs": [],
   "source": [
    "x_train.drop(columns = ['Humidity_Radiation_ratio'], inplace = True)\n",
    "x_test.drop(columns = ['Humidity_Radiation_ratio'], inplace = True)"
   ]
  },
  {
   "cell_type": "markdown",
   "id": "97c35650",
   "metadata": {},
   "source": [
    "Finally, let's make sure our y variable looks as it should"
   ]
  },
  {
   "cell_type": "code",
   "execution_count": 8,
   "id": "82529594",
   "metadata": {
    "scrolled": true
   },
   "outputs": [
    {
     "data": {
      "text/plain": [
       "0    0.065326\n",
       "1    0.073943\n",
       "2    0.244377\n",
       "3    0.047937\n",
       "4    0.108000\n",
       "Name: P_GEN, dtype: float64"
      ]
     },
     "execution_count": 8,
     "metadata": {},
     "output_type": "execute_result"
    }
   ],
   "source": [
    "y_train.head()"
   ]
  },
  {
   "cell_type": "markdown",
   "id": "02111559",
   "metadata": {},
   "source": [
    "### 5 Baseline Model <a id='5_Baseline_Model'></a>"
   ]
  },
  {
   "cell_type": "markdown",
   "id": "e78e01be",
   "metadata": {},
   "source": [
    "#### 5.1 Fit and Predict <a id='5.1_Fit_and_Predict'></a>"
   ]
  },
  {
   "cell_type": "markdown",
   "id": "7a019752",
   "metadata": {},
   "source": [
    "To generate a baseline model, I'll be using sklearn's dummy regressor with the median strategy. We have quite a few outliers in our data, so the mean strategy wouldn't make for a truly accurate baseline. This will give us a good starting point "
   ]
  },
  {
   "cell_type": "code",
   "execution_count": 9,
   "id": "a3130465",
   "metadata": {},
   "outputs": [],
   "source": [
    "DR_model = DummyRegressor(strategy = 'median')"
   ]
  },
  {
   "cell_type": "code",
   "execution_count": 10,
   "id": "700b739e",
   "metadata": {},
   "outputs": [
    {
     "data": {
      "text/plain": [
       "array([[0.055]])"
      ]
     },
     "execution_count": 10,
     "metadata": {},
     "output_type": "execute_result"
    }
   ],
   "source": [
    "DR_model.fit(x_train, y_train)\n",
    "DR_model.constant_"
   ]
  },
  {
   "cell_type": "code",
   "execution_count": 11,
   "id": "2eeb6d7b",
   "metadata": {},
   "outputs": [
    {
     "data": {
      "text/plain": [
       "0.055"
      ]
     },
     "execution_count": 11,
     "metadata": {},
     "output_type": "execute_result"
    }
   ],
   "source": [
    "y_train.median()"
   ]
  },
  {
   "cell_type": "markdown",
   "id": "4ae0219c",
   "metadata": {},
   "source": [
    "Great, so our dummy regressor will always output taht median value. Let's see how that holds up. I'm going to use sklearn metrics functions to calculate the R squared value and mean absolute error. This can give us an idea of how we are starting off."
   ]
  },
  {
   "cell_type": "markdown",
   "id": "8b4ea597",
   "metadata": {},
   "source": [
    "#### 5.2 Score <a id='5.2_Score'></a>"
   ]
  },
  {
   "cell_type": "code",
   "execution_count": 12,
   "id": "e23c9c99",
   "metadata": {},
   "outputs": [],
   "source": [
    "Predictions = DR_model.predict(x_test)"
   ]
  },
  {
   "cell_type": "code",
   "execution_count": 13,
   "id": "ff186ca8",
   "metadata": {},
   "outputs": [
    {
     "name": "stdout",
     "output_type": "stream",
     "text": [
      "-0.15492772174342773\n",
      "0.09129620160540369\n"
     ]
    }
   ],
   "source": [
    "print(r2_score(y_test, Predictions))\n",
    "print(mean_absolute_error(y_test, Predictions))"
   ]
  },
  {
   "cell_type": "markdown",
   "id": "6a302d84",
   "metadata": {},
   "source": [
    "The mean absolute error is almost twice our median value. The r squared value is higher than what it would have been had we used the mean strategy. However, I suspect that median strategy will have produced a smaller mean absolute error due to the number of outliers that we have. Let's verify."
   ]
  },
  {
   "cell_type": "code",
   "execution_count": 14,
   "id": "3ab72a57",
   "metadata": {},
   "outputs": [],
   "source": [
    "DR_model_mean = DummyRegressor(strategy = 'mean')"
   ]
  },
  {
   "cell_type": "code",
   "execution_count": 15,
   "id": "3a979648",
   "metadata": {},
   "outputs": [
    {
     "name": "stdout",
     "output_type": "stream",
     "text": [
      "-0.0016000207279431855\n",
      "0.1009875385760564\n"
     ]
    }
   ],
   "source": [
    "DR_model_mean.fit(x_train, y_train)\n",
    "meanPredictions = DR_model_mean.predict(x_test)\n",
    "print(r2_score(y_test, meanPredictions))\n",
    "print(mean_absolute_error(y_test, meanPredictions))"
   ]
  },
  {
   "cell_type": "markdown",
   "id": "211757b1",
   "metadata": {},
   "source": [
    "Confirmed. The R_squared value is almost zero but the mean absolute error is slightly higher than it was for the median strategy."
   ]
  },
  {
   "cell_type": "markdown",
   "id": "c755edfe",
   "metadata": {},
   "source": [
    "Let's move on to trying our models that will give us better outcomes"
   ]
  },
  {
   "cell_type": "markdown",
   "id": "286b5d65",
   "metadata": {},
   "source": [
    "### 6 Linear Regression <a id='6_Linear_Regression'></a>"
   ]
  },
  {
   "cell_type": "markdown",
   "id": "49ab971a",
   "metadata": {},
   "source": [
    "We'll going to start with linear regression. Linear regression requires scaled data with low multicollinearity. A good way to ensure that our data falls within these requirements is to perform PCA. First, we will need to scale our data to satisfy the requirements of PCA. After PCA, we'll apply our linear regression model. We'll also start a pipeline for repeatability"
   ]
  },
  {
   "cell_type": "markdown",
   "id": "89777141",
   "metadata": {},
   "source": [
    "#### 6.1 Initialize model <a id='6.1_Initialize_model'></a>"
   ]
  },
  {
   "cell_type": "code",
   "execution_count": 16,
   "id": "e3cdfd7f",
   "metadata": {},
   "outputs": [
    {
     "data": {
      "text/plain": [
       "dict_keys(['memory', 'steps', 'verbose', 'standardscaler', 'pca', 'linearregression', 'standardscaler__copy', 'standardscaler__with_mean', 'standardscaler__with_std', 'pca__copy', 'pca__iterated_power', 'pca__n_components', 'pca__random_state', 'pca__svd_solver', 'pca__tol', 'pca__whiten', 'linearregression__copy_X', 'linearregression__fit_intercept', 'linearregression__n_jobs', 'linearregression__normalize', 'linearregression__positive'])"
      ]
     },
     "execution_count": 16,
     "metadata": {},
     "output_type": "execute_result"
    }
   ],
   "source": [
    "linRegPipe = make_pipeline(StandardScaler(), PCA(), LinearRegression())\n",
    "linRegPipe.get_params().keys()"
   ]
  },
  {
   "cell_type": "markdown",
   "id": "71a4c605",
   "metadata": {},
   "source": [
    "#### 6.2 Grid Search  <a id='6.2_Grid_Search'></a>"
   ]
  },
  {
   "cell_type": "markdown",
   "id": "232d7bf0",
   "metadata": {},
   "source": [
    "The parameters we are going to be evaluating in this grid search are the number of principal components to keep and which scaler to use. "
   ]
  },
  {
   "cell_type": "code",
   "execution_count": 17,
   "id": "c376ca45",
   "metadata": {},
   "outputs": [],
   "source": [
    "n_components = range(1, 15)\n",
    "grid_params = {'standardscaler': [StandardScaler(), MinMaxScaler()],\n",
    "              'pca__n_components': n_components}\n",
    "linreg_cv = GridSearchCV(linRegPipe, param_grid = grid_params, cv = 5)"
   ]
  },
  {
   "cell_type": "code",
   "execution_count": 18,
   "id": "e0e114a2",
   "metadata": {},
   "outputs": [
    {
     "data": {
      "text/plain": [
       "GridSearchCV(cv=5,\n",
       "             estimator=Pipeline(steps=[('standardscaler', StandardScaler()),\n",
       "                                       ('pca', PCA()),\n",
       "                                       ('linearregression',\n",
       "                                        LinearRegression())]),\n",
       "             param_grid={'pca__n_components': range(1, 15),\n",
       "                         'standardscaler': [StandardScaler(), MinMaxScaler()]})"
      ]
     },
     "execution_count": 18,
     "metadata": {},
     "output_type": "execute_result"
    }
   ],
   "source": [
    "linreg_cv.fit(x_train, y_train)"
   ]
  },
  {
   "cell_type": "code",
   "execution_count": 19,
   "id": "47070f49",
   "metadata": {},
   "outputs": [
    {
     "data": {
      "text/plain": [
       "{'pca__n_components': 11, 'standardscaler': MinMaxScaler()}"
      ]
     },
     "execution_count": 19,
     "metadata": {},
     "output_type": "execute_result"
    }
   ],
   "source": [
    "linreg_cv.best_params_"
   ]
  },
  {
   "cell_type": "markdown",
   "id": "a696eb0f",
   "metadata": {},
   "source": [
    "The grid search tells us that the optimal parameters are a MinMaxScaler and 11 principal components. Let's look closer at the scores."
   ]
  },
  {
   "cell_type": "markdown",
   "id": "db5d65e5",
   "metadata": {},
   "source": [
    "#### 6.3 Results  <a id='6.3_Results'></a>"
   ]
  },
  {
   "cell_type": "code",
   "execution_count": 20,
   "id": "22d15aab",
   "metadata": {},
   "outputs": [],
   "source": [
    "cv_results = cross_validate(linreg_cv.best_estimator_, x_train, y_train, scoring='neg_mean_absolute_error', cv=5)"
   ]
  },
  {
   "cell_type": "code",
   "execution_count": 21,
   "id": "8367018a",
   "metadata": {},
   "outputs": [
    {
     "name": "stdout",
     "output_type": "stream",
     "text": [
      "0.0776430102546308 0.0008080286370513218\n"
     ]
    },
    {
     "data": {
      "text/plain": [
       "0.07538313794494236"
      ]
     },
     "execution_count": 21,
     "metadata": {},
     "output_type": "execute_result"
    }
   ],
   "source": [
    "lr_train_mae_mean = np.mean(-1 * cv_results['test_score'])\n",
    "lr_train_mae_std = np.std(-1 * cv_results['test_score'])\n",
    "print(lr_train_mae_mean, lr_train_mae_std)\n",
    "mean_absolute_error(y_test, linreg_cv.best_estimator_.predict(x_test))"
   ]
  },
  {
   "cell_type": "markdown",
   "id": "1bba2c8f",
   "metadata": {},
   "source": [
    "The median of our training data is 0.054, so the mean absolute error is larger than that by close to fifty percent. This means that the mean absolute error is larger than more than half of our actual measurements. Not great. Let's look at the R squared value for the test predictions"
   ]
  },
  {
   "cell_type": "code",
   "execution_count": 22,
   "id": "6023e082",
   "metadata": {},
   "outputs": [
    {
     "name": "stdout",
     "output_type": "stream",
     "text": [
      "0.3165629585690901\n",
      "0.33315034384063336\n"
     ]
    }
   ],
   "source": [
    "print(r2_score(y_train, linreg_cv.best_estimator_.predict(x_train)))\n",
    "print(r2_score(y_test, linreg_cv.best_estimator_.predict(x_test)))"
   ]
  },
  {
   "cell_type": "markdown",
   "id": "9ad37fb8",
   "metadata": {},
   "source": [
    "Not very high at all. It looks like we are only explaining about one third of our dependent variable's variance with this model. This model did perform much better thatn the dummy regressor that we started with, thankfully. So we are moving in the right direciton. The R squared values is low, yes, but much higher than it was initially. Let's move on to trying some different models."
   ]
  },
  {
   "cell_type": "markdown",
   "id": "dca20611",
   "metadata": {},
   "source": [
    "### 7 Support Vector Regression <a id='7_Support_Vector_Regression'></a>"
   ]
  },
  {
   "cell_type": "markdown",
   "id": "ebf9428e",
   "metadata": {},
   "source": [
    "The next model that we'll try is SVR. The values we will be checking in our grid search are C, epsilon, kernel, and degree. C determines the regularization of the data. Epsilon determines the distance with which no penalty is given for that point. Kernel will decide our functions dimensonality. Degree is used if the poly kernel is used"
   ]
  },
  {
   "cell_type": "markdown",
   "id": "fd2ff5ae",
   "metadata": {},
   "source": [
    "#### 7.1 Initialize model <a id='6.7_Initialize_model'></a>"
   ]
  },
  {
   "cell_type": "code",
   "execution_count": 23,
   "id": "f9f805cf",
   "metadata": {},
   "outputs": [
    {
     "data": {
      "text/plain": [
       "dict_keys(['memory', 'steps', 'verbose', 'standardscaler', 'pca', 'svr', 'standardscaler__copy', 'standardscaler__with_mean', 'standardscaler__with_std', 'pca__copy', 'pca__iterated_power', 'pca__n_components', 'pca__random_state', 'pca__svd_solver', 'pca__tol', 'pca__whiten', 'svr__C', 'svr__cache_size', 'svr__coef0', 'svr__degree', 'svr__epsilon', 'svr__gamma', 'svr__kernel', 'svr__max_iter', 'svr__shrinking', 'svr__tol', 'svr__verbose'])"
      ]
     },
     "execution_count": 23,
     "metadata": {},
     "output_type": "execute_result"
    }
   ],
   "source": [
    "svrPipe = make_pipeline(StandardScaler(), PCA(), SVR())\n",
    "svrPipe.get_params().keys()"
   ]
  },
  {
   "cell_type": "markdown",
   "id": "e8da5a65",
   "metadata": {},
   "source": [
    "#### 7.2 Grid Search  <a id='6.7_Grid_Search'></a>"
   ]
  },
  {
   "cell_type": "code",
   "execution_count": 24,
   "id": "a77fbca9",
   "metadata": {},
   "outputs": [],
   "source": [
    "n_components = range(5, 15)\n",
    "C = [0.1, 0.2, 0.3, 0.4, 0.5, 0.6, 0.7, 0.8, 0.9, 1.0]\n",
    "epsilon = [0.1, 0.2, 0.3, 0.4, 0.5, 0.6, 0.7, 0.8, 0.9, 1.0]\n",
    "kernel = ['linear', 'poly', 'rbf']\n",
    "degree = range(1, 8)\n",
    "grid_params = {'standardscaler': [StandardScaler(), MinMaxScaler()],\n",
    "               'pca__n_components': n_components,\n",
    "              'svr__C': C,\n",
    "              'svr__epsilon': epsilon,\n",
    "              'svr__kernel': kernel,\n",
    "              'svr__degree': degree}\n",
    "svr_cv = RandomizedSearchCV(svrPipe, param_distributions = grid_params, n_iter = 20,  cv = 5, n_jobs = -1, scoring = 'r2')\n"
   ]
  },
  {
   "cell_type": "code",
   "execution_count": 25,
   "id": "017e1389",
   "metadata": {},
   "outputs": [
    {
     "data": {
      "text/plain": [
       "{'svr__kernel': 'rbf',\n",
       " 'svr__epsilon': 0.1,\n",
       " 'svr__degree': 5,\n",
       " 'svr__C': 0.7,\n",
       " 'standardscaler': MinMaxScaler(),\n",
       " 'pca__n_components': 5}"
      ]
     },
     "execution_count": 25,
     "metadata": {},
     "output_type": "execute_result"
    }
   ],
   "source": [
    "svr_cv.fit(x_train, y_train)\n",
    "svr_cv.best_params_"
   ]
  },
  {
   "cell_type": "markdown",
   "id": "55f85e37",
   "metadata": {},
   "source": [
    "The SVM worked better with fewer principal components and a different scaler than the linear regression model. We used a random search for this model (and following models) to save time. We are evaluating a large number of parameters which adds up to a really slow execution time. Though, random search can be nearly as good as grid search at a lot faster speed. We are only using 20 iterations of the random search, so it will only be used to identify the best model out of the options and not the actual parameters for the final model. The parameters for the final model will be investigated more thoroughly."
   ]
  },
  {
   "cell_type": "markdown",
   "id": "ef2deb0b",
   "metadata": {},
   "source": [
    "#### 7.3 Results  <a id='7.3_Results'></a>"
   ]
  },
  {
   "cell_type": "code",
   "execution_count": 26,
   "id": "e3c83567",
   "metadata": {},
   "outputs": [
    {
     "name": "stdout",
     "output_type": "stream",
     "text": [
      "0.08978390926115495 0.0007499421051578346\n"
     ]
    },
    {
     "data": {
      "text/plain": [
       "0.08869403897191319"
      ]
     },
     "execution_count": 26,
     "metadata": {},
     "output_type": "execute_result"
    }
   ],
   "source": [
    "cv_results = cross_validate(svr_cv.best_estimator_, x_train, y_train, scoring='neg_mean_absolute_error', cv=5)\n",
    "svr_train_mae_mean = np.mean(-1 * cv_results['test_score'])\n",
    "svr_train_mae_std = np.std(-1 * cv_results['test_score'])\n",
    "print(svr_train_mae_mean, svr_train_mae_std)\n",
    "mean_absolute_error(y_test, svr_cv.best_estimator_.predict(x_test))"
   ]
  },
  {
   "cell_type": "code",
   "execution_count": 27,
   "id": "64375e0b",
   "metadata": {},
   "outputs": [
    {
     "name": "stdout",
     "output_type": "stream",
     "text": [
      "0.31595058851191626\n",
      "0.29278660325773453\n"
     ]
    }
   ],
   "source": [
    "print(r2_score(y_train, svr_cv.best_estimator_.predict(x_train)))\n",
    "print(r2_score(y_test, svr_cv.best_estimator_.predict(x_test)))"
   ]
  },
  {
   "cell_type": "markdown",
   "id": "7f040a59",
   "metadata": {},
   "source": [
    "Woah! A step down from our liner regression model. It's worse on all scores. I think we will be ruling this model out. We could do a larger grid search; perhaps, random search didn't pick parameters very well on our limited number of iterations. However, after running it a few times, the score never performs in the top two"
   ]
  },
  {
   "cell_type": "markdown",
   "id": "0eb6cd2d",
   "metadata": {},
   "source": [
    "### 8 Gradient Boosting Regression  <a id='8_Gradient_Boosting_Regression'></a>"
   ]
  },
  {
   "cell_type": "markdown",
   "id": "ada14562",
   "metadata": {},
   "source": [
    "Our next model is gradient boosting regression. This is an iterative model that works to reduce the loss function over the many iterations. The loss funciton is a measure of how incorrect our model is."
   ]
  },
  {
   "cell_type": "markdown",
   "id": "8fbf479d",
   "metadata": {},
   "source": [
    "#### 8.1 Initialize model <a id='8.1_Initialize_model'></a>"
   ]
  },
  {
   "cell_type": "code",
   "execution_count": 28,
   "id": "2f516e51",
   "metadata": {},
   "outputs": [
    {
     "data": {
      "text/plain": [
       "dict_keys(['memory', 'steps', 'verbose', 'standardscaler', 'pca', 'gradientboostingregressor', 'standardscaler__copy', 'standardscaler__with_mean', 'standardscaler__with_std', 'pca__copy', 'pca__iterated_power', 'pca__n_components', 'pca__random_state', 'pca__svd_solver', 'pca__tol', 'pca__whiten', 'gradientboostingregressor__alpha', 'gradientboostingregressor__ccp_alpha', 'gradientboostingregressor__criterion', 'gradientboostingregressor__init', 'gradientboostingregressor__learning_rate', 'gradientboostingregressor__loss', 'gradientboostingregressor__max_depth', 'gradientboostingregressor__max_features', 'gradientboostingregressor__max_leaf_nodes', 'gradientboostingregressor__min_impurity_decrease', 'gradientboostingregressor__min_samples_leaf', 'gradientboostingregressor__min_samples_split', 'gradientboostingregressor__min_weight_fraction_leaf', 'gradientboostingregressor__n_estimators', 'gradientboostingregressor__n_iter_no_change', 'gradientboostingregressor__random_state', 'gradientboostingregressor__subsample', 'gradientboostingregressor__tol', 'gradientboostingregressor__validation_fraction', 'gradientboostingregressor__verbose', 'gradientboostingregressor__warm_start'])"
      ]
     },
     "execution_count": 28,
     "metadata": {},
     "output_type": "execute_result"
    }
   ],
   "source": [
    "GBRPipe = make_pipeline(StandardScaler(), PCA(), GradientBoostingRegressor())\n",
    "GBRPipe.get_params().keys()"
   ]
  },
  {
   "cell_type": "markdown",
   "id": "d9e6074d",
   "metadata": {},
   "source": [
    "#### 8.2 Grid Search  <a id='8.2_Grid_Search'></a>"
   ]
  },
  {
   "cell_type": "code",
   "execution_count": 29,
   "id": "3665aad9",
   "metadata": {},
   "outputs": [],
   "source": [
    "n_components = range(1, 15)\n",
    "learning_rate = [0.1, 0.2, 0.3, 0.4, 0.5, 0.6, 0.7, 0.8, 0.9, 1.0]\n",
    "n_estimators = range(10, 500, 10)\n",
    "max_depth = range(1, 10)\n",
    "grid_params = {'standardscaler': [StandardScaler(), MinMaxScaler()],\n",
    "             'pca__n_components': n_components,\n",
    "              'gradientboostingregressor__learning_rate': learning_rate,\n",
    "              'gradientboostingregressor__n_estimators': n_estimators,\n",
    "              'gradientboostingregressor__max_depth': max_depth}\n",
    "GBR_cv = RandomizedSearchCV(GBRPipe, param_distributions = grid_params, n_iter = 20, cv = 5, n_jobs = -1, scoring = 'r2')\n"
   ]
  },
  {
   "cell_type": "code",
   "execution_count": 30,
   "id": "204711f0",
   "metadata": {},
   "outputs": [
    {
     "data": {
      "text/plain": [
       "{'standardscaler': MinMaxScaler(),\n",
       " 'pca__n_components': 10,\n",
       " 'gradientboostingregressor__n_estimators': 420,\n",
       " 'gradientboostingregressor__max_depth': 3,\n",
       " 'gradientboostingregressor__learning_rate': 0.1}"
      ]
     },
     "execution_count": 30,
     "metadata": {},
     "output_type": "execute_result"
    }
   ],
   "source": [
    "GBR_cv.fit(x_train, y_train)\n",
    "GBR_cv.best_params_"
   ]
  },
  {
   "cell_type": "markdown",
   "id": "cb5ec884",
   "metadata": {},
   "source": [
    "Once again the MinMaxScaler is found to be the winner. The number of principal components has been high for all models. We can use that information to shrink our future grid searches"
   ]
  },
  {
   "cell_type": "markdown",
   "id": "d653928b",
   "metadata": {},
   "source": [
    "#### 8.3 Results  <a id='8.3_Results'></a>"
   ]
  },
  {
   "cell_type": "code",
   "execution_count": 31,
   "id": "21769404",
   "metadata": {},
   "outputs": [
    {
     "name": "stdout",
     "output_type": "stream",
     "text": [
      "0.0730173440599734 0.0008015204119337291\n"
     ]
    },
    {
     "data": {
      "text/plain": [
       "0.07004194489839911"
      ]
     },
     "execution_count": 31,
     "metadata": {},
     "output_type": "execute_result"
    }
   ],
   "source": [
    "cv_results = cross_validate(GBR_cv.best_estimator_, x_train, y_train, scoring='neg_mean_absolute_error', cv=5)\n",
    "GBR_train_mae_mean = np.mean(-1 * cv_results['test_score'])\n",
    "GBR_train_mae_std = np.std(-1 * cv_results['test_score'])\n",
    "print(GBR_train_mae_mean, GBR_train_mae_std)\n",
    "mean_absolute_error(y_test, GBR_cv.best_estimator_.predict(x_test))"
   ]
  },
  {
   "cell_type": "code",
   "execution_count": 32,
   "id": "193ce57b",
   "metadata": {},
   "outputs": [
    {
     "name": "stdout",
     "output_type": "stream",
     "text": [
      "0.5373714041436488\n",
      "0.3824085153609419\n"
     ]
    }
   ],
   "source": [
    "print(r2_score(y_train, GBR_cv.best_estimator_.predict(x_train)))\n",
    "print(r2_score(y_test, GBR_cv.best_estimator_.predict(x_test)))"
   ]
  },
  {
   "cell_type": "markdown",
   "id": "5a5f05c5",
   "metadata": {},
   "source": [
    "This is our best model, yet! It performs quite well on the training set but does not generalize very well to the test set. This means that we are overfitting. If this turns out be our winning model, we should consider dimensionality reducton to counteract that."
   ]
  },
  {
   "cell_type": "markdown",
   "id": "6387a0a7",
   "metadata": {},
   "source": [
    "### 9 Random Forrest  <a id='9_Random_Forest'></a>"
   ]
  },
  {
   "cell_type": "markdown",
   "id": "aa1b365b",
   "metadata": {},
   "source": [
    "The final model that I want to try is random forest regression. Random forest works by generating a number of decision trees and using majority voting to make it's decision. As a result, it is much more powerful and robust than a single decision tree. The model parameters that I will be testing are max depth of the generated decision trees and the number of trees to generate for each instance"
   ]
  },
  {
   "cell_type": "markdown",
   "id": "420bc7f6",
   "metadata": {},
   "source": [
    "#### 9.1 Initialize  <a id='9.1_Initialize'></a>"
   ]
  },
  {
   "cell_type": "code",
   "execution_count": 33,
   "id": "7327be0a",
   "metadata": {},
   "outputs": [
    {
     "data": {
      "text/plain": [
       "dict_keys(['memory', 'steps', 'verbose', 'standardscaler', 'pca', 'randomforestregressor', 'standardscaler__copy', 'standardscaler__with_mean', 'standardscaler__with_std', 'pca__copy', 'pca__iterated_power', 'pca__n_components', 'pca__random_state', 'pca__svd_solver', 'pca__tol', 'pca__whiten', 'randomforestregressor__bootstrap', 'randomforestregressor__ccp_alpha', 'randomforestregressor__criterion', 'randomforestregressor__max_depth', 'randomforestregressor__max_features', 'randomforestregressor__max_leaf_nodes', 'randomforestregressor__max_samples', 'randomforestregressor__min_impurity_decrease', 'randomforestregressor__min_samples_leaf', 'randomforestregressor__min_samples_split', 'randomforestregressor__min_weight_fraction_leaf', 'randomforestregressor__n_estimators', 'randomforestregressor__n_jobs', 'randomforestregressor__oob_score', 'randomforestregressor__random_state', 'randomforestregressor__verbose', 'randomforestregressor__warm_start'])"
      ]
     },
     "execution_count": 33,
     "metadata": {},
     "output_type": "execute_result"
    }
   ],
   "source": [
    "RF = RandomForestRegressor(random_state=47)\n",
    "RF_pipe = make_pipeline(StandardScaler(), PCA(), RandomForestRegressor(random_state=47))\n",
    "RF_pipe.get_params().keys()"
   ]
  },
  {
   "cell_type": "markdown",
   "id": "25031870",
   "metadata": {},
   "source": [
    "#### 9.2 Grid Search  <a id='9.2_Grid_Search'></a>"
   ]
  },
  {
   "cell_type": "code",
   "execution_count": 34,
   "id": "df668355",
   "metadata": {},
   "outputs": [],
   "source": [
    "n_components = range(5, 15)\n",
    "learning_rate = [0.1, 0.2, 0.3, 0.4, 0.5, 0.6, 0.7, 0.8, 0.9, 1.0]\n",
    "n_estimators = range(10, 500, 10)\n",
    "max_depth = range(1, 10)\n",
    "grid_params = {'standardscaler': [StandardScaler(), MinMaxScaler()],\n",
    "             'pca__n_components': n_components,\n",
    "              'randomforestregressor__n_estimators': n_estimators,\n",
    "              'randomforestregressor__max_depth': max_depth}\n",
    "RF_cv = RandomizedSearchCV(RF_pipe, param_distributions = grid_params, n_iter = 20, cv = 5, n_jobs = -1, scoring = 'r2')"
   ]
  },
  {
   "cell_type": "code",
   "execution_count": 35,
   "id": "4b888f58",
   "metadata": {},
   "outputs": [
    {
     "data": {
      "text/plain": [
       "{'standardscaler': MinMaxScaler(),\n",
       " 'randomforestregressor__n_estimators': 40,\n",
       " 'randomforestregressor__max_depth': 9,\n",
       " 'pca__n_components': 14}"
      ]
     },
     "execution_count": 35,
     "metadata": {},
     "output_type": "execute_result"
    }
   ],
   "source": [
    "RF_cv.fit(x_train, y_train)\n",
    "RF_cv.best_params_"
   ]
  },
  {
   "cell_type": "markdown",
   "id": "cb82b339",
   "metadata": {},
   "source": [
    "#### 9.3 Results  <a id='9.3_Results'></a>"
   ]
  },
  {
   "cell_type": "code",
   "execution_count": 36,
   "id": "87777159",
   "metadata": {},
   "outputs": [
    {
     "name": "stdout",
     "output_type": "stream",
     "text": [
      "0.07078116485237956 0.0011337246551207005\n"
     ]
    },
    {
     "data": {
      "text/plain": [
       "0.06802112608572065"
      ]
     },
     "execution_count": 36,
     "metadata": {},
     "output_type": "execute_result"
    }
   ],
   "source": [
    "cv_results = cross_validate(RF_cv.best_estimator_, x_train, y_train, scoring='neg_mean_absolute_error', cv=5)\n",
    "RF_train_mae_mean = np.mean(-1 * cv_results['test_score'])\n",
    "RF_train_mae_std = np.std(-1 * cv_results['test_score'])\n",
    "print(RF_train_mae_mean, RF_train_mae_std)\n",
    "mean_absolute_error(y_test, RF_cv.best_estimator_.predict(x_test))"
   ]
  },
  {
   "cell_type": "code",
   "execution_count": 37,
   "id": "d26b797d",
   "metadata": {},
   "outputs": [
    {
     "name": "stdout",
     "output_type": "stream",
     "text": [
      "0.6039746654115488\n",
      "0.39311923996167863\n"
     ]
    }
   ],
   "source": [
    "print(r2_score(y_train, RF_cv.best_estimator_.predict(x_train)))\n",
    "print(r2_score(y_test, RF_cv.best_estimator_.predict(x_test)))"
   ]
  },
  {
   "cell_type": "markdown",
   "id": "0688cfd8",
   "metadata": {},
   "source": [
    "### 10 Winning Model  <a id='10_Winning_Model'></a>"
   ]
  },
  {
   "cell_type": "markdown",
   "id": "07a34e44",
   "metadata": {},
   "source": [
    "The gradient boosting regressor and the random forest models seem to perform the best out of all four, however not by much. Gradient boosting returned a lower mean abolute error. Random forest performs better on the test set than gradient boosting, meaning it generalizes more effectively. I think we will go with gradient boosting as our winning model, since it returns a better r2 score for the test set by a large margin, returns a lower mean absolute error for both sets, only has a slightly lower r2 score for the test set than random forest."
   ]
  },
  {
   "cell_type": "markdown",
   "id": "3767247c",
   "metadata": {},
   "source": [
    "Before I initialize the model, I am going to reduce the dimensionality of our train and test set to see if we can decrease the variance that we saw earlier."
   ]
  },
  {
   "cell_type": "code",
   "execution_count": 38,
   "id": "bb5932c5",
   "metadata": {},
   "outputs": [],
   "source": [
    "x_train.drop(columns = ['WindChill', 'WindRun', 'HeatIndex', 'THWIndex', 'RainRate'], inplace = True)\n",
    "x_test.drop(columns = ['WindChill', 'WindRun', 'HeatIndex', 'THWIndex', 'RainRate'], inplace = True)"
   ]
  },
  {
   "cell_type": "markdown",
   "id": "61a68025",
   "metadata": {},
   "source": [
    "#### 10.1 Parameter Search  <a id='10.1_Parameter_Search'></a>"
   ]
  },
  {
   "cell_type": "markdown",
   "id": "246998a5",
   "metadata": {},
   "source": [
    "Instead of doin grid search or random search, I am going to investigate each paramter individually. We'll look at the cv scores for each parameter and determine our best options. I am going to try a different set of learning rates for this investigation, to see if we obtain better results than last time"
   ]
  },
  {
   "cell_type": "code",
   "execution_count": 39,
   "id": "86df772f",
   "metadata": {},
   "outputs": [],
   "source": [
    "n_components = range(1, 10)\n",
    "learning_rate = [0.01, 0.02, 0.03, 0.04, 0.05, 0.06, 0.07, 0.08, 0.09, 0.1]\n",
    "n_estimators = range(10, 400, 10)\n",
    "max_depth = range(1, 10)"
   ]
  },
  {
   "cell_type": "code",
   "execution_count": 40,
   "id": "58ccf236",
   "metadata": {},
   "outputs": [],
   "source": [
    "score = []\n",
    "std = []\n",
    "\n",
    "for component in n_components:\n",
    "    cv_results = cross_validate(Pipeline([('scaler', MinMaxScaler()),\n",
    "                                                            ('pca', PCA(component)),\n",
    "                                                            ('gbr', GradientBoostingRegressor(learning_rate = 0.1, n_estimators = 300, max_depth = 5))]),\n",
    "                        x_train, y_train, scoring='r2', cv=5)\n",
    "    \n",
    "    score.append(np.mean(cv_results['test_score']))\n",
    "    std.append(np.std(cv_results['test_score']))"
   ]
  },
  {
   "cell_type": "code",
   "execution_count": 41,
   "id": "398d7090",
   "metadata": {},
   "outputs": [
    {
     "data": {
      "image/png": "[encoded data removed]",
      "text/plain": [
       "<Figure size 576x432 with 1 Axes>"
      ]
     },
     "metadata": {
      "needs_background": "light"
     },
     "output_type": "display_data"
    }
   ],
   "source": [
    "plt.subplots(figsize = (8, 6))\n",
    "plt.errorbar(n_components, score, yerr=std)\n",
    "plt.axvline(x = 5, c = 'r', ls = '--')\n",
    "plt.xlabel('Number of principal components')\n",
    "plt.ylabel('mean of mean absolute error from 5 cross validations');"
   ]
  },
  {
   "cell_type": "markdown",
   "id": "ff1286fb",
   "metadata": {},
   "source": [
    "It looks like we have a steep increase after 3 components and level off around 5 components. This confirms what we found earlier"
   ]
  },
  {
   "cell_type": "code",
   "execution_count": 42,
   "id": "d3739fd4",
   "metadata": {},
   "outputs": [],
   "source": [
    "best_component = 5"
   ]
  },
  {
   "cell_type": "code",
   "execution_count": 43,
   "id": "9cf763c9",
   "metadata": {},
   "outputs": [],
   "source": [
    "score = []\n",
    "std = []\n",
    "\n",
    "for rate in learning_rate:\n",
    "    cv_results = cross_validate(Pipeline([('scaler', MinMaxScaler()),\n",
    "                                                            ('pca', PCA(best_component)),\n",
    "                                                            ('gbr', GradientBoostingRegressor(learning_rate = rate, n_estimators = 300, max_depth = 5))]),\n",
    "                        x_train, y_train, scoring='r2', cv=5)\n",
    "    \n",
    "    score.append(np.mean(cv_results['test_score']))\n",
    "    std.append(np.std(cv_results['test_score']))"
   ]
  },
  {
   "cell_type": "code",
   "execution_count": 44,
   "id": "ebcf2f1a",
   "metadata": {},
   "outputs": [
    {
     "data": {
      "image/png": "[encoded data removed]",
      "text/plain": [
       "<Figure size 432x288 with 1 Axes>"
      ]
     },
     "metadata": {
      "needs_background": "light"
     },
     "output_type": "display_data"
    }
   ],
   "source": [
    "plt.errorbar(learning_rate, score, yerr=std)\n",
    "plt.axvline(x = 0.04, c = 'r', ls = '--')\n",
    "plt.xlabel('Learning rate')\n",
    "plt.ylabel('mean of mean absolute error from 5 cross validations');"
   ]
  },
  {
   "cell_type": "markdown",
   "id": "5b02fe42",
   "metadata": {},
   "source": [
    "The learning rates do not change the score much when they are below 0.1. However, 0.04 produces the highest score so we will choose that value."
   ]
  },
  {
   "cell_type": "code",
   "execution_count": 45,
   "id": "4698aa67",
   "metadata": {},
   "outputs": [],
   "source": [
    "best_rate = 0.04"
   ]
  },
  {
   "cell_type": "code",
   "execution_count": 46,
   "id": "452a4337",
   "metadata": {},
   "outputs": [],
   "source": [
    "score = []\n",
    "std = []\n",
    "\n",
    "for estimator in n_estimators:\n",
    "    cv_results = cross_validate(Pipeline([('scaler', MinMaxScaler()),\n",
    "                                                            ('pca', PCA(best_component)),\n",
    "                                                            ('gbr', GradientBoostingRegressor(learning_rate = best_rate, n_estimators = estimator, max_depth = 5))]),\n",
    "                        x_train, y_train, scoring='r2', cv=5)\n",
    "    \n",
    "    score.append(np.mean(cv_results['test_score']))\n",
    "    std.append(np.std(cv_results['test_score']))"
   ]
  },
  {
   "cell_type": "code",
   "execution_count": 47,
   "id": "01c90916",
   "metadata": {},
   "outputs": [
    {
     "data": {
      "image/png": "[encoded data removed]",
      "text/plain": [
       "<Figure size 432x288 with 1 Axes>"
      ]
     },
     "metadata": {
      "needs_background": "light"
     },
     "output_type": "display_data"
    }
   ],
   "source": [
    "plt.errorbar(n_estimators, score, yerr=std)\n",
    "plt.axvline(x = 140, c = 'r', ls = '--')\n",
    "plt.xlabel('number of estimators')\n",
    "plt.ylabel('mean of mean absolute error from 5 cross validations');"
   ]
  },
  {
   "cell_type": "markdown",
   "id": "9404430a",
   "metadata": {},
   "source": [
    "Looks to be leveling off around 140"
   ]
  },
  {
   "cell_type": "code",
   "execution_count": 48,
   "id": "c503cf55",
   "metadata": {},
   "outputs": [],
   "source": [
    "best_estimator = 140"
   ]
  },
  {
   "cell_type": "code",
   "execution_count": 49,
   "id": "7530af93",
   "metadata": {},
   "outputs": [],
   "source": [
    "score = []\n",
    "std = []\n",
    "\n",
    "for depth in max_depth:\n",
    "    cv_results = cross_validate(Pipeline([('scaler', MinMaxScaler()),\n",
    "                                                            ('pca', PCA(best_component)),\n",
    "                                                            ('gbr', GradientBoostingRegressor(learning_rate = best_rate, n_estimators = best_estimator, max_depth = depth))]),\n",
    "                        x_train, y_train, scoring='r2', cv=5)\n",
    "\n",
    "    score.append(np.mean(cv_results['test_score']))\n",
    "    std.append(np.std(cv_results['test_score']))"
   ]
  },
  {
   "cell_type": "code",
   "execution_count": 50,
   "id": "657c9c3a",
   "metadata": {},
   "outputs": [
    {
     "data": {
      "image/png": "[encoded data removed]",
      "text/plain": [
       "<Figure size 432x288 with 1 Axes>"
      ]
     },
     "metadata": {
      "needs_background": "light"
     },
     "output_type": "display_data"
    }
   ],
   "source": [
    "plt.errorbar(max_depth, score, yerr=std)\n",
    "plt.axvline(x = 7, c = 'r', ls = '--')\n",
    "plt.xlabel('max depth')\n",
    "plt.ylabel('mean of mean absolute error from 5 cross validations');"
   ]
  },
  {
   "cell_type": "markdown",
   "id": "d359ba6a",
   "metadata": {},
   "source": [
    "The depth were the score only increases negligibly is 7. We'll use that as our depth parameter. We now have all of the parameters and are ready to do a final cross validation."
   ]
  },
  {
   "cell_type": "code",
   "execution_count": 51,
   "id": "80e3823a",
   "metadata": {},
   "outputs": [],
   "source": [
    "best_depth = 7\n",
    "best_params = {'standardscaler': MinMaxScaler(), 'pca__n_components': best_component,\n",
    "                                              'gradientboostingregressor__learning_rate': best_rate,\n",
    "                                             'gradientboostingregressor__n_estimators': best_estimator,\n",
    "                                             'gradientboostingregressor__max_depth': best_depth}"
   ]
  },
  {
   "cell_type": "code",
   "execution_count": 52,
   "id": "0059a8a6",
   "metadata": {},
   "outputs": [],
   "source": [
    "BestModelGBR = make_pipeline(MinMaxScaler(), PCA(n_components = best_component), GradientBoostingRegressor(learning_rate = best_rate, n_estimators = best_estimator, max_depth = best_depth))"
   ]
  },
  {
   "cell_type": "code",
   "execution_count": 53,
   "id": "a5a82159",
   "metadata": {},
   "outputs": [
    {
     "name": "stdout",
     "output_type": "stream",
     "text": [
      "0.06941993500259662 0.0010550538316703134\n"
     ]
    },
    {
     "data": {
      "text/plain": [
       "0.06766334851377438"
      ]
     },
     "execution_count": 53,
     "metadata": {},
     "output_type": "execute_result"
    }
   ],
   "source": [
    "cv_results = cross_validate(BestModelGBR, x_train, y_train, scoring='neg_mean_absolute_error', cv=5)\n",
    "GBR_train_mae_mean = np.mean(-1 * cv_results['test_score'])\n",
    "GBR_train_mae_std = np.std(-1 * cv_results['test_score'])\n",
    "print(GBR_train_mae_mean, GBR_train_mae_std)\n",
    "BestModelGBR.fit(x_train, y_train)\n",
    "mean_absolute_error(y_test, BestModelGBR.predict(x_test))"
   ]
  },
  {
   "cell_type": "code",
   "execution_count": 54,
   "id": "26c2a84b",
   "metadata": {},
   "outputs": [
    {
     "name": "stdout",
     "output_type": "stream",
     "text": [
      "0.6464715210945777\n",
      "0.40877862932826503\n"
     ]
    }
   ],
   "source": [
    "print(r2_score(y_train, BestModelGBR.predict(x_train)))\n",
    "print(r2_score(y_test, BestModelGBR.predict(x_test)))"
   ]
  },
  {
   "cell_type": "markdown",
   "id": "bc09dc02",
   "metadata": {},
   "source": [
    "Well we lowered our r2 value for the training set but increased it for the test set. The variance explained by our model is still quite low. Let's visualize our predictions."
   ]
  },
  {
   "cell_type": "markdown",
   "id": "fec9a177",
   "metadata": {},
   "source": [
    "#### 10.2 Visualize  <a id='10.2_Visualize'></a>"
   ]
  },
  {
   "cell_type": "code",
   "execution_count": 55,
   "id": "173a963e",
   "metadata": {},
   "outputs": [
    {
     "name": "stdout",
     "output_type": "stream",
     "text": [
      "   train_pred  train_act\n",
      "0    0.046158        0.0\n",
      "1    0.045730        0.0\n",
      "2    0.029809        0.0\n",
      "3    0.092470        0.0\n",
      "4    0.072581        0.0\n",
      "   test_pred  test_act\n",
      "0   0.135286       0.0\n",
      "1   0.067458       0.0\n",
      "2   0.012331       0.0\n",
      "3   0.183330       0.0\n",
      "4   0.169323       0.0\n"
     ]
    }
   ],
   "source": [
    "train_predictions = BestModelGBR.predict(x_train)\n",
    "test_predictions = BestModelGBR.predict(x_test)\n",
    "train_df = pd.DataFrame(data = {'train_pred': train_predictions,\n",
    "                                    'train_act': y_train})\n",
    "test_df = pd.DataFrame(data = {'test_pred': test_predictions,\n",
    "                                    'test_act': y_test})\n",
    "train_df.sort_values(by = 'train_act', ignore_index = True, inplace = True)\n",
    "test_df.sort_values(by = 'test_act', ignore_index = True, inplace = True)\n",
    "print(train_df.head())\n",
    "print(test_df.head())"
   ]
  },
  {
   "cell_type": "code",
   "execution_count": 56,
   "id": "575ecd69",
   "metadata": {},
   "outputs": [
    {
     "data": {
      "image/png": "[encoded data removed]",
      "text/plain": [
       "<Figure size 720x432 with 2 Axes>"
      ]
     },
     "metadata": {
      "needs_background": "light"
     },
     "output_type": "display_data"
    }
   ],
   "source": [
    "fig, ax = plt.subplots(1, 2, figsize = (10, 6))\n",
    "plt.subplots_adjust(wspace=0.8, hspace=0.4)\n",
    "\n",
    "fig.suptitle('Predictions vs Actual')\n",
    "ax[0].plot(test_df.index, test_df['test_pred'], c = 'r', marker = '.', label = 'prediction')\n",
    "ax[0].plot(test_df.index, test_df['test_act'], c = 'g', marker = 'x', label = 'actual')\n",
    "ax[0].set_title('Test Predictions vs Actual Test Set')\n",
    "ax[0].legend()\n",
    "ax[1].plot(train_df.index, train_df['train_pred'], c = 'r', marker = '.', label = 'prediction')\n",
    "ax[1].plot(train_df.index, train_df['train_act'], c = 'g', marker = 'x', label = 'actual')\n",
    "ax[1].set_title('Train Predictions vs Actual Train Set')\n",
    "ax[1].legend();"
   ]
  },
  {
   "cell_type": "markdown",
   "id": "6cb9281d",
   "metadata": {},
   "source": [
    "When sorted, our actual values increase exponentialialy. Our predicted values appear to make a more linear progression. Our model seems to overshoot the values for low power generated and undershoot the values for high power generated"
   ]
  },
  {
   "cell_type": "code",
   "execution_count": 57,
   "id": "e27d1bfb",
   "metadata": {},
   "outputs": [
    {
     "data": {
      "image/png": "[encoded data removed]",
      "text/plain": [
       "<Figure size 720x720 with 2 Axes>"
      ]
     },
     "metadata": {
      "needs_background": "light"
     },
     "output_type": "display_data"
    }
   ],
   "source": [
    "fig, ax = plt.subplots(1, 2, figsize = (10, 10))\n",
    "plt.subplots_adjust(wspace=0.8, hspace=0.4)\n",
    "\n",
    "fig.suptitle('Predictions vs Actual')\n",
    "ax[0].boxplot([test_df['test_act'],test_df['test_pred']])\n",
    "ax[0].set_title('Test Predictions vs Actual Test Set')\n",
    "ax[1].boxplot([train_df['train_act'], train_df['train_pred']])\n",
    "ax[1].set_title('Train Predictions vs Actual Train Set');"
   ]
  },
  {
   "cell_type": "markdown",
   "id": "dd046533",
   "metadata": {},
   "source": [
    "#### 10.3 Removing Outliers Remodel  <a id='10.3_Removing_Outliers_Remodel'></a>"
   ]
  },
  {
   "cell_type": "markdown",
   "id": "54189366",
   "metadata": {},
   "source": [
    "Outliers seem to be the bane of our model. the quartiles are fairly close to eachgother. However, with so many outliers on the upper end, our model suffers. How about we see what happens when we remove those outliers from the P_GEN column. Let's make a cut off at the 95 quantile. Let's start over from the original UK_data, remove the outliers, and then make a new train test split."
   ]
  },
  {
   "cell_type": "code",
   "execution_count": 58,
   "id": "ebb42bfc",
   "metadata": {},
   "outputs": [],
   "source": [
    "q = UK_data['P_GEN'].quantile(0.95)\n",
    "\n",
    "UK_data = UK_data[UK_data['P_GEN'] < q]\n",
    "\n",
    "UK_data.drop(columns = ['Unnamed: 0', 'Site', 'Humidity_Radiation_ratio', 'WindChill', 'WindRun', 'HeatIndex', 'THWIndex', 'RainRate'], inplace = True)\n",
    "\n",
    "x = UK_data.drop(columns = ['P_GEN'])\n",
    "y = UK_data['P_GEN']\n",
    "\n",
    "x_train2, x_test2, y_train2, y_test2 = train_test_split(x, y, test_size = 0.25)"
   ]
  },
  {
   "cell_type": "code",
   "execution_count": 59,
   "id": "26042ee5",
   "metadata": {},
   "outputs": [
    {
     "data": {
      "text/plain": [
       "Pipeline(steps=[('minmaxscaler', MinMaxScaler()), ('pca', PCA(n_components=5)),\n",
       "                ('gradientboostingregressor',\n",
       "                 GradientBoostingRegressor(learning_rate=0.04, max_depth=7,\n",
       "                                           n_estimators=140))])"
      ]
     },
     "execution_count": 59,
     "metadata": {},
     "output_type": "execute_result"
    }
   ],
   "source": [
    "GBR = make_pipeline(MinMaxScaler(), PCA(n_components = best_component), GradientBoostingRegressor(learning_rate = best_rate, n_estimators = best_estimator, max_depth = best_depth))\n",
    "GBR.fit(x_train2, y_train2)"
   ]
  },
  {
   "cell_type": "code",
   "execution_count": 60,
   "id": "abdcc23c",
   "metadata": {},
   "outputs": [
    {
     "data": {
      "text/plain": [
       "0.05555782968608311"
      ]
     },
     "execution_count": 60,
     "metadata": {},
     "output_type": "execute_result"
    }
   ],
   "source": [
    "mean_absolute_error(y_train2, GBR.predict(x_train2))\n",
    "mean_absolute_error(y_test2, GBR.predict(x_test2))"
   ]
  },
  {
   "cell_type": "code",
   "execution_count": 61,
   "id": "117c2946",
   "metadata": {},
   "outputs": [
    {
     "name": "stdout",
     "output_type": "stream",
     "text": [
      "0.6701579185590218\n",
      "0.4452737562167831\n"
     ]
    }
   ],
   "source": [
    "print(r2_score(y_train2, GBR.predict(x_train2)))\n",
    "print(r2_score(y_test2, GBR.predict(x_test2)))"
   ]
  },
  {
   "cell_type": "markdown",
   "id": "64ee5694",
   "metadata": {},
   "source": [
    "A slight increase! Let's look at a graph again"
   ]
  },
  {
   "cell_type": "code",
   "execution_count": 62,
   "id": "5c0d99c2",
   "metadata": {},
   "outputs": [
    {
     "name": "stdout",
     "output_type": "stream",
     "text": [
      "   train_pred  train_act\n",
      "0    0.119280        0.0\n",
      "1    0.045651        0.0\n",
      "2    0.031885        0.0\n",
      "3    0.033796        0.0\n",
      "4    0.053654        0.0\n",
      "   test_pred  test_act\n",
      "0   0.085708       0.0\n",
      "1   0.011405       0.0\n",
      "2   0.032013       0.0\n",
      "3   0.090781       0.0\n",
      "4   0.032207       0.0\n"
     ]
    }
   ],
   "source": [
    "train_predictions = GBR.predict(x_train)\n",
    "test_predictions = GBR.predict(x_test)\n",
    "train_df = pd.DataFrame(data = {'train_pred': train_predictions,\n",
    "                                    'train_act': y_train})\n",
    "test_df = pd.DataFrame(data = {'test_pred': test_predictions,\n",
    "                                    'test_act': y_test})\n",
    "train_df.sort_values(by = 'train_act', ignore_index = True, inplace = True)\n",
    "test_df.sort_values(by = 'test_act', ignore_index = True, inplace = True)\n",
    "print(train_df.head())\n",
    "print(test_df.head())"
   ]
  },
  {
   "cell_type": "code",
   "execution_count": 63,
   "id": "048f7703",
   "metadata": {},
   "outputs": [
    {
     "data": {
      "image/png": "[encoded data removed]",
      "text/plain": [
       "<Figure size 720x432 with 2 Axes>"
      ]
     },
     "metadata": {
      "needs_background": "light"
     },
     "output_type": "display_data"
    }
   ],
   "source": [
    "fig, ax = plt.subplots(1, 2, figsize = (10, 6))\n",
    "plt.subplots_adjust(wspace=0.8, hspace=0.4)\n",
    "\n",
    "fig.suptitle('Predictions vs Actual')\n",
    "ax[0].plot(test_df.index, test_df['test_pred'], c = 'r', marker = '.', label = 'prediction')\n",
    "ax[0].plot(test_df.index, test_df['test_act'], c = 'g', marker = 'x', label = 'actual')\n",
    "ax[0].set_title('Test Predictions vs Actual Test Set')\n",
    "ax[0].legend()\n",
    "ax[1].plot(train_df.index, train_df['train_pred'], c = 'r', marker = '.', label = 'prediction')\n",
    "ax[1].plot(train_df.index, train_df['train_act'], c = 'g', marker = 'x', label = 'actual')\n",
    "ax[1].set_title('Train Predictions vs Actual Train Set')\n",
    "ax[1].legend();"
   ]
  },
  {
   "cell_type": "markdown",
   "id": "5d3f961e",
   "metadata": {},
   "source": [
    "I think it would be a good idea to proceed with the outliers removed. Our model improved by about 10% in the r2 score after removing them."
   ]
  },
  {
   "cell_type": "markdown",
   "id": "39fc07b1",
   "metadata": {},
   "source": [
    "### 11 Saving the Model  <a id='10_Saving_the_Model'></a>"
   ]
  },
  {
   "cell_type": "code",
   "execution_count": 64,
   "id": "f111c9c7",
   "metadata": {},
   "outputs": [],
   "source": [
    "best_model = BestModelGBR\n",
    "best_model.version = '1.0'\n",
    "best_model.pandas_version = pd.__version__\n",
    "best_model.numpy_version = np.__version__\n",
    "best_model.sklearn_version = sklearn_version\n",
    "best_model.X_columns = [col for col in x_train.columns]\n",
    "best_model.build_datetime = datetime.datetime.now()"
   ]
  },
  {
   "cell_type": "code",
   "execution_count": 65,
   "id": "0f9ac2a3",
   "metadata": {},
   "outputs": [
    {
     "name": "stdout",
     "output_type": "stream",
     "text": [
      "A file already exists with this name.\n",
      "\n",
      "Do you want to overwrite? (Y/N)y\n",
      "Writing file.  \"../models/power_predictor.pkl\"\n"
     ]
    }
   ],
   "source": [
    "modelpath = '../models'\n",
    "save_file(best_model, 'power_predictor.pkl', modelpath)"
   ]
  },
  {
   "cell_type": "code",
   "execution_count": 66,
   "id": "1d03cc8c",
   "metadata": {},
   "outputs": [
    {
     "name": "stdout",
     "output_type": "stream",
     "text": [
      "A file already exists with this name.\n",
      "\n",
      "Do you want to overwrite? (Y/N)y\n",
      "Writing file.  \"../data/Y_train2.csv\"\n",
      "A file already exists with this name.\n",
      "\n",
      "Do you want to overwrite? (Y/N)y\n",
      "Writing file.  \"../data/X_train2.csv\"\n"
     ]
    }
   ],
   "source": [
    "datapath = '../data'\n",
    "save_file(y_train2, 'Y_train2.csv', datapath)\n",
    "save_file(x_train2, 'X_train2.csv', datapath)"
   ]
  },
  {
   "cell_type": "markdown",
   "id": "e0793ead",
   "metadata": {},
   "source": [
    "### 12 Conclusion<a id='11_Conclusion'></a>"
   ]
  },
  {
   "cell_type": "markdown",
   "id": "ffe6707b",
   "metadata": {},
   "source": [
    "The model that performed the best out of the four that we tried was gradient boosting regression. The best parameters were; max depth of six, 77 estimators, MinMaxScaler, nine principal components, and learning rate of 0.1. Our models did not perform ideally, producing fairly low r2 values. The data was collected for a different purpose than it is being used for here. As a result, data integrity and accuracy are hard to determine for our features. Although we got a low r2 score for our model, we can clearly see that it performs better than the mean and shows a relationship between our explanatory features and our response variable. \n",
    "\n",
    "To improve the model, I believe some more explanatory features are needed. For instance, a measure of cloud cover is certainly very important to knowing how much solar radiation will be available to the solar panels. Also, we do not know if our different sites had solar panels that we installed the same way. With movement or stationary? If stationary, which direction is it facing?\n",
    "\n",
    "Our model does not perform at the level of a commercial product, by any means. However, the relationship between variables and outcome is clearly observed. We can revisit when we have more data"
   ]
  }
 ],
 "metadata": {
  "kernelspec": {
   "display_name": "Python 3 (ipykernel)",
   "language": "python",
   "name": "python3"
  },
  "language_info": {
   "codemirror_mode": {
    "name": "ipython",
    "version": 3
   },
   "file_extension": ".py",
   "mimetype": "text/x-python",
   "name": "python",
   "nbconvert_exporter": "python",
   "pygments_lexer": "ipython3",
   "version": "3.9.12"
  }
 },
 "nbformat": 4,
 "nbformat_minor": 5
}
