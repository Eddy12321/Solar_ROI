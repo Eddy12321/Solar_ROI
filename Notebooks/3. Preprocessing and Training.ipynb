{
 "cells": [
  {
   "cell_type": "markdown",
   "id": "6a4fd1cd",
   "metadata": {},
   "source": [
    "# Preprocessing and Training <a id='Preprocessing_and_Training'></a>"
   ]
  },
  {
   "cell_type": "markdown",
   "id": "cbacf3af",
   "metadata": {},
   "source": [
    "### 1 Table of Contents<a id='Contents'></a>\n",
    "* [Preprocessing and Training](#Preprocessing_and_Training)\n",
    "  * [1 Contents](#Contents)\n",
    "  * [2 Introduction](#2_Introduction)\n",
    "      * [2.1 Recap](#2.1_Recap)\n",
    "      * [2.2 Next Steps](#2.2_Next_Steps)\n",
    "  * [3 Imports](#3_Imports)\n",
    "  * [4 Load Data](#4_Load_Data)\n",
    "  * [5 State of Data](#4_State_of_Data)\n",
    "      * [5.1 Outliers](#5.1_Outliers)\n",
    "      * [5.2 Dummy Variable or Drop Column](#5.2_Dummy_Variable_or_Drop_Column)\n",
    "      * [5.3 Scaling](#5.3_Scaling)\n",
    "  * [6 Split Data](#6_Split_Data)\n",
    "  * [7 Save Data](#7_Save_Data)\n",
    "  * [8 Conclusion](#8_Conclusion)  "
   ]
  },
  {
   "cell_type": "markdown",
   "id": "ec5f4699",
   "metadata": {},
   "source": [
    "### 2 Introduction<a id='2_Introduction'></a>"
   ]
  },
  {
   "cell_type": "markdown",
   "id": "c24768fa",
   "metadata": {},
   "source": [
    "#### 2.1 Recap<a id='2.1_Recap'></a>"
   ]
  },
  {
   "cell_type": "markdown",
   "id": "3636a105",
   "metadata": {},
   "source": [
    "In the last step, we did some deep dives on our features. We started by scaling down the power data from ForestRoad and Maple Drive East because their installations where much bigger than YMCA's and would result in confusing our model. We then looked at the correlations between our variables. Most of our features are correlated with eachother, which can be expected when discussing weather. We also looked at the relationship between our features and our targer variable. Clear relationships were not able to be gained from these plots. However, when we created plots of combinations of variables, the relationships started to show themselves. Lastly, we looked at our target variable. Forest Road had a lot of outliers but their existence is supported by the large number of outliers in the other feature columns for that site."
   ]
  },
  {
   "cell_type": "markdown",
   "id": "71a2ae68",
   "metadata": {},
   "source": [
    "#### 2.2 Next Steps<a id='2.2_Next_Steps'></a>"
   ]
  },
  {
   "cell_type": "markdown",
   "id": "45987df3",
   "metadata": {},
   "source": [
    "In this notebook, we will prepare our dataset for modeling. Our features are very correlated so we will perform PCA to make them independent of one another, and possibly reduce the dimensions. We will then split the data into a training and testing set. We will also set up a baseline model, the mean, to test our future model's against. Let's go!"
   ]
  },
  {
   "cell_type": "markdown",
   "id": "7ab60b7d",
   "metadata": {},
   "source": [
    "### 3 Imports<a id='3_Imports'></a>"
   ]
  },
  {
   "cell_type": "code",
   "execution_count": 1,
   "id": "32122dcf",
   "metadata": {},
   "outputs": [],
   "source": [
    "import pandas as pd\n",
    "import numpy as np\n",
    "import matplotlib.pyplot as plt\n",
    "import seaborn as sns\n",
    "from sklearn.model_selection import train_test_split\n",
    "from library.sb_utils import save_file"
   ]
  },
  {
   "cell_type": "markdown",
   "id": "2981bd33",
   "metadata": {},
   "source": [
    "### 4 Load Data<a id='4_Load_Data'></a>"
   ]
  },
  {
   "cell_type": "code",
   "execution_count": 2,
   "id": "b680cd4c",
   "metadata": {},
   "outputs": [],
   "source": [
    "UK_data = pd.read_csv('../data/UK_data.csv')"
   ]
  },
  {
   "cell_type": "code",
   "execution_count": 3,
   "id": "d453cf3a",
   "metadata": {},
   "outputs": [
    {
     "data": {
      "text/html": [
       "<div>\n",
       "<style scoped>\n",
       "    .dataframe tbody tr th:only-of-type {\n",
       "        vertical-align: middle;\n",
       "    }\n",
       "\n",
       "    .dataframe tbody tr th {\n",
       "        vertical-align: top;\n",
       "    }\n",
       "\n",
       "    .dataframe thead th {\n",
       "        text-align: right;\n",
       "    }\n",
       "</style>\n",
       "<table border=\"1\" class=\"dataframe\">\n",
       "  <thead>\n",
       "    <tr style=\"text-align: right;\">\n",
       "      <th></th>\n",
       "      <th>Unnamed: 0</th>\n",
       "      <th>Site</th>\n",
       "      <th>TempOut</th>\n",
       "      <th>OutHum</th>\n",
       "      <th>DewPt</th>\n",
       "      <th>WindSpeed</th>\n",
       "      <th>WindRun</th>\n",
       "      <th>WindChill</th>\n",
       "      <th>HeatIndex</th>\n",
       "      <th>THWIndex</th>\n",
       "      <th>Bar</th>\n",
       "      <th>Rain</th>\n",
       "      <th>RainRate</th>\n",
       "      <th>SolarRad</th>\n",
       "      <th>SolarEnergy</th>\n",
       "      <th>P_GEN</th>\n",
       "      <th>Temp_Pressure_ratio</th>\n",
       "      <th>Humidity_Radiation_ratio</th>\n",
       "    </tr>\n",
       "  </thead>\n",
       "  <tbody>\n",
       "    <tr>\n",
       "      <th>0</th>\n",
       "      <td>0</td>\n",
       "      <td>YMCA</td>\n",
       "      <td>14.1</td>\n",
       "      <td>91.0</td>\n",
       "      <td>12.6</td>\n",
       "      <td>0</td>\n",
       "      <td>0.0</td>\n",
       "      <td>14.1</td>\n",
       "      <td>14.1</td>\n",
       "      <td>14.1</td>\n",
       "      <td>755.5</td>\n",
       "      <td>0.0</td>\n",
       "      <td>0.0</td>\n",
       "      <td>11.0</td>\n",
       "      <td>0.47</td>\n",
       "      <td>0.014</td>\n",
       "      <td>0.018663</td>\n",
       "      <td>8.272727</td>\n",
       "    </tr>\n",
       "    <tr>\n",
       "      <th>1</th>\n",
       "      <td>1</td>\n",
       "      <td>YMCA</td>\n",
       "      <td>14.1</td>\n",
       "      <td>91.0</td>\n",
       "      <td>12.7</td>\n",
       "      <td>0</td>\n",
       "      <td>0.0</td>\n",
       "      <td>14.1</td>\n",
       "      <td>14.2</td>\n",
       "      <td>14.2</td>\n",
       "      <td>755.5</td>\n",
       "      <td>0.0</td>\n",
       "      <td>0.0</td>\n",
       "      <td>23.0</td>\n",
       "      <td>0.99</td>\n",
       "      <td>0.067</td>\n",
       "      <td>0.018663</td>\n",
       "      <td>3.956522</td>\n",
       "    </tr>\n",
       "    <tr>\n",
       "      <th>2</th>\n",
       "      <td>2</td>\n",
       "      <td>YMCA</td>\n",
       "      <td>14.4</td>\n",
       "      <td>91.0</td>\n",
       "      <td>12.9</td>\n",
       "      <td>0</td>\n",
       "      <td>0.0</td>\n",
       "      <td>14.4</td>\n",
       "      <td>14.4</td>\n",
       "      <td>14.4</td>\n",
       "      <td>755.7</td>\n",
       "      <td>0.0</td>\n",
       "      <td>0.0</td>\n",
       "      <td>34.0</td>\n",
       "      <td>1.46</td>\n",
       "      <td>0.216</td>\n",
       "      <td>0.019055</td>\n",
       "      <td>2.676471</td>\n",
       "    </tr>\n",
       "    <tr>\n",
       "      <th>3</th>\n",
       "      <td>3</td>\n",
       "      <td>YMCA</td>\n",
       "      <td>15.1</td>\n",
       "      <td>86.0</td>\n",
       "      <td>12.7</td>\n",
       "      <td>0</td>\n",
       "      <td>0.0</td>\n",
       "      <td>15.1</td>\n",
       "      <td>15.1</td>\n",
       "      <td>15.1</td>\n",
       "      <td>755.8</td>\n",
       "      <td>0.0</td>\n",
       "      <td>0.0</td>\n",
       "      <td>57.0</td>\n",
       "      <td>2.45</td>\n",
       "      <td>0.256</td>\n",
       "      <td>0.019979</td>\n",
       "      <td>1.508772</td>\n",
       "    </tr>\n",
       "    <tr>\n",
       "      <th>4</th>\n",
       "      <td>4</td>\n",
       "      <td>YMCA</td>\n",
       "      <td>16.0</td>\n",
       "      <td>77.0</td>\n",
       "      <td>12.0</td>\n",
       "      <td>0</td>\n",
       "      <td>0.0</td>\n",
       "      <td>16.0</td>\n",
       "      <td>15.9</td>\n",
       "      <td>15.9</td>\n",
       "      <td>756.2</td>\n",
       "      <td>0.0</td>\n",
       "      <td>0.0</td>\n",
       "      <td>56.0</td>\n",
       "      <td>2.41</td>\n",
       "      <td>0.284</td>\n",
       "      <td>0.021158</td>\n",
       "      <td>1.375000</td>\n",
       "    </tr>\n",
       "  </tbody>\n",
       "</table>\n",
       "</div>"
      ],
      "text/plain": [
       "   Unnamed: 0  Site  TempOut  OutHum  DewPt  WindSpeed  WindRun  WindChill  \\\n",
       "0           0  YMCA     14.1    91.0   12.6          0      0.0       14.1   \n",
       "1           1  YMCA     14.1    91.0   12.7          0      0.0       14.1   \n",
       "2           2  YMCA     14.4    91.0   12.9          0      0.0       14.4   \n",
       "3           3  YMCA     15.1    86.0   12.7          0      0.0       15.1   \n",
       "4           4  YMCA     16.0    77.0   12.0          0      0.0       16.0   \n",
       "\n",
       "   HeatIndex  THWIndex    Bar  Rain  RainRate  SolarRad  SolarEnergy  P_GEN  \\\n",
       "0       14.1      14.1  755.5   0.0       0.0      11.0         0.47  0.014   \n",
       "1       14.2      14.2  755.5   0.0       0.0      23.0         0.99  0.067   \n",
       "2       14.4      14.4  755.7   0.0       0.0      34.0         1.46  0.216   \n",
       "3       15.1      15.1  755.8   0.0       0.0      57.0         2.45  0.256   \n",
       "4       15.9      15.9  756.2   0.0       0.0      56.0         2.41  0.284   \n",
       "\n",
       "   Temp_Pressure_ratio  Humidity_Radiation_ratio  \n",
       "0             0.018663                  8.272727  \n",
       "1             0.018663                  3.956522  \n",
       "2             0.019055                  2.676471  \n",
       "3             0.019979                  1.508772  \n",
       "4             0.021158                  1.375000  "
      ]
     },
     "execution_count": 3,
     "metadata": {},
     "output_type": "execute_result"
    }
   ],
   "source": [
    "UK_data.head()"
   ]
  },
  {
   "cell_type": "code",
   "execution_count": 4,
   "id": "1b69eae7",
   "metadata": {},
   "outputs": [],
   "source": [
    "UK_data.set_index('Unnamed: 0', inplace = True)"
   ]
  },
  {
   "cell_type": "code",
   "execution_count": 5,
   "id": "9374999e",
   "metadata": {},
   "outputs": [
    {
     "name": "stdout",
     "output_type": "stream",
     "text": [
      "<class 'pandas.core.frame.DataFrame'>\n",
      "Int64Index: 11846 entries, 0 to 11845\n",
      "Data columns (total 17 columns):\n",
      " #   Column                    Non-Null Count  Dtype  \n",
      "---  ------                    --------------  -----  \n",
      " 0   Site                      11846 non-null  object \n",
      " 1   TempOut                   11846 non-null  float64\n",
      " 2   OutHum                    11846 non-null  float64\n",
      " 3   DewPt                     11846 non-null  float64\n",
      " 4   WindSpeed                 11846 non-null  int64  \n",
      " 5   WindRun                   11846 non-null  float64\n",
      " 6   WindChill                 11846 non-null  float64\n",
      " 7   HeatIndex                 11846 non-null  float64\n",
      " 8   THWIndex                  11846 non-null  float64\n",
      " 9   Bar                       11846 non-null  float64\n",
      " 10  Rain                      11846 non-null  float64\n",
      " 11  RainRate                  11846 non-null  float64\n",
      " 12  SolarRad                  11846 non-null  float64\n",
      " 13  SolarEnergy               11846 non-null  float64\n",
      " 14  P_GEN                     11846 non-null  float64\n",
      " 15  Temp_Pressure_ratio       11846 non-null  float64\n",
      " 16  Humidity_Radiation_ratio  11846 non-null  float64\n",
      "dtypes: float64(15), int64(1), object(1)\n",
      "memory usage: 1.6+ MB\n"
     ]
    }
   ],
   "source": [
    "UK_data.info()"
   ]
  },
  {
   "cell_type": "markdown",
   "id": "4cfd9022",
   "metadata": {},
   "source": [
    "### 5 State of the Data<a id='5_State_of_the_Data'></a>"
   ]
  },
  {
   "cell_type": "markdown",
   "id": "4aa7ec7d",
   "metadata": {},
   "source": [
    "#### 5.1 Outliers<a id='5.1_Outliers'></a>"
   ]
  },
  {
   "cell_type": "markdown",
   "id": "16db1583",
   "metadata": {},
   "source": [
    "In the last notebook, I looked at the outliers in the P_GEN column for the different sites. I am going to look at those outliers more closely now. I need to find out weather they are legitimate measurements or some sort of error. Let's start with a boxplot."
   ]
  },
  {
   "cell_type": "code",
   "execution_count": 6,
   "id": "fc0cbb54",
   "metadata": {},
   "outputs": [
    {
     "data": {
      "image/png": "[encoded data removed]",
      "text/plain": [
       "<Figure size 432x288 with 1 Axes>"
      ]
     },
     "metadata": {
      "needs_background": "light"
     },
     "output_type": "display_data"
    }
   ],
   "source": [
    "fig, ax = plt.subplots(figsize = (6, 4))\n",
    "sns.boxplot(data=UK_data['P_GEN'], orient = 'h', color = 'c')\n",
    "ax.set_xlabel('P_GEN')\n",
    "ax.set_title('Boxplot of P_GEN column: outlier investigation');"
   ]
  },
  {
   "cell_type": "markdown",
   "id": "52ed8da1",
   "metadata": {},
   "source": [
    "Let's look at some summary statistics for that column"
   ]
  },
  {
   "cell_type": "code",
   "execution_count": 7,
   "id": "040450d1",
   "metadata": {},
   "outputs": [
    {
     "data": {
      "text/plain": [
       "count    11846.000000\n",
       "mean         0.107457\n",
       "std          0.127561\n",
       "min          0.000000\n",
       "25%          0.006000\n",
       "50%          0.054000\n",
       "75%          0.168251\n",
       "max          0.608460\n",
       "Name: P_GEN, dtype: float64"
      ]
     },
     "execution_count": 7,
     "metadata": {},
     "output_type": "execute_result"
    }
   ],
   "source": [
    "UK_data['P_GEN'].describe()"
   ]
  },
  {
   "cell_type": "markdown",
   "id": "f0d7b7b2",
   "metadata": {},
   "source": [
    "I want to know how many values are more than three standard deviations above the mean, since all of our outliers are on the high end."
   ]
  },
  {
   "cell_type": "code",
   "execution_count": 8,
   "id": "482a6691",
   "metadata": {},
   "outputs": [
    {
     "name": "stdout",
     "output_type": "stream",
     "text": [
      "<class 'pandas.core.series.Series'>\n",
      "Int64Index: 125 entries, 3752 to 9887\n",
      "Series name: P_GEN\n",
      "Non-Null Count  Dtype  \n",
      "--------------  -----  \n",
      "125 non-null    float64\n",
      "dtypes: float64(1)\n",
      "memory usage: 2.0 KB\n"
     ]
    }
   ],
   "source": [
    "mean = UK_data['P_GEN'].mean()\n",
    "std = UK_data['P_GEN'].std()\n",
    "\n",
    "Outliers = UK_data[UK_data['P_GEN'] > (mean + 3 * std)]\n",
    "Outliers['P_GEN'].info()"
   ]
  },
  {
   "cell_type": "markdown",
   "id": "790fbd41",
   "metadata": {},
   "source": [
    "There are 125 values that are more than three standard deviations away from the mean. Let's look at the boxplots for the other variables, as well"
   ]
  },
  {
   "cell_type": "code",
   "execution_count": 9,
   "id": "18a97c39",
   "metadata": {},
   "outputs": [
    {
     "data": {
      "image/png": "[encoded data removed]",
      "text/plain": [
       "<Figure size 720x432 with 4 Axes>"
      ]
     },
     "metadata": {
      "needs_background": "light"
     },
     "output_type": "display_data"
    }
   ],
   "source": [
    "fig, ax = plt.subplots(2, 2, figsize = (10, 6))\n",
    "fig.subplots_adjust(wspace = 0.8, hspace = 0.4)\n",
    "ax[0, 0].boxplot(UK_data['TempOut'], vert = False)\n",
    "ax[0, 0].set_xlabel('TempOut')\n",
    "ax[0, 0].set_title('Boxplot of TempOut column: outlier investigation')\n",
    "ax[0, 1].boxplot(UK_data['OutHum'], vert = False)\n",
    "ax[0, 1].set_xlabel('OutHum')\n",
    "ax[0, 1].set_title('Boxplot of OutHum column: outlier investigation');\n",
    "ax[1, 0].boxplot(UK_data['SolarRad'], vert = False)\n",
    "ax[1, 0].set_xlabel('SolarRad')\n",
    "ax[1, 0].set_title('Boxplot of SolarRad column: outlier investigation')\n",
    "ax[1, 1].boxplot(UK_data['SolarEnergy'], vert = False)\n",
    "ax[1, 1].set_xlabel('SolarEnergy')\n",
    "ax[1, 1].set_title('Boxplot of SolarEnergy column: outlier investigation');"
   ]
  },
  {
   "cell_type": "markdown",
   "id": "4b51cd5e",
   "metadata": {},
   "source": [
    "Most notably, solar radiation and solar energy have really high amounts of outliers; Temperature does too. The consistency in outliers across the different features and target variable leads me to believe that these are valid measurements that come from days that were particularly good for generating solar power. We will leave these outliers as part of our data"
   ]
  },
  {
   "cell_type": "markdown",
   "id": "a364cba4",
   "metadata": {},
   "source": [
    "#### 5.2 Dummy Variable or Drop Column<a id='5.2_Dummy_Variable_or_Drop_Column'></a>"
   ]
  },
  {
   "cell_type": "markdown",
   "id": "92385a96",
   "metadata": {},
   "source": [
    "As can be see from the info() call after loading the data, most of our features are floats or ints. However, one feature, Site, is categorical. We could create a dummy variable for this feature. Our model does not need the site information, though. So, instead we will drop this column now and take the dataset as a whole. No other features make since for dummy variables"
   ]
  },
  {
   "cell_type": "code",
   "execution_count": 10,
   "id": "d1441aed",
   "metadata": {},
   "outputs": [],
   "source": [
    "UK_data.drop(columns = 'Site', inplace = True)"
   ]
  },
  {
   "cell_type": "markdown",
   "id": "c6a88338",
   "metadata": {},
   "source": [
    "#### 5.3 Scaling <a id='5.3_Scaling'></a>"
   ]
  },
  {
   "cell_type": "markdown",
   "id": "8337e559",
   "metadata": {},
   "source": [
    "Let's talk about scaling our data. Scaling is a requirement of many different models. Our variables are heavily dependent on each other. Therfore, PCA would be a good choice for our data and that would require scaled data. However, I am not sure that it well be the best option to rush and do that now. I prefer to wait on tackling scaling until we start modeling so that I can use gridsearchcv to figure out if it's presence is helpful or not. This will be seen in the following notebook."
   ]
  },
  {
   "cell_type": "markdown",
   "id": "3fae9a86",
   "metadata": {},
   "source": [
    "### 6 Split the Data<a id='6_Split_the_Data'></a>"
   ]
  },
  {
   "cell_type": "markdown",
   "id": "fa7c9ffd",
   "metadata": {},
   "source": [
    "Our data is now ready to split into test and train data. We will be doing a 75/25 train/test split. First, we need to make x and y variables"
   ]
  },
  {
   "cell_type": "code",
   "execution_count": 11,
   "id": "dcc1f90b",
   "metadata": {},
   "outputs": [],
   "source": [
    "x = UK_data.drop(columns = 'P_GEN')\n",
    "y = UK_data['P_GEN']"
   ]
  },
  {
   "cell_type": "markdown",
   "id": "6f682b11",
   "metadata": {},
   "source": [
    "Now, I'll use sklearn's train_test_split to create our new train and test variables."
   ]
  },
  {
   "cell_type": "code",
   "execution_count": 12,
   "id": "2a20b955",
   "metadata": {},
   "outputs": [],
   "source": [
    "x_train, x_test, y_train, y_test = train_test_split(x, y, test_size = 0.25)"
   ]
  },
  {
   "cell_type": "code",
   "execution_count": 13,
   "id": "4dcd19ff",
   "metadata": {},
   "outputs": [
    {
     "data": {
      "text/html": [
       "<div>\n",
       "<style scoped>\n",
       "    .dataframe tbody tr th:only-of-type {\n",
       "        vertical-align: middle;\n",
       "    }\n",
       "\n",
       "    .dataframe tbody tr th {\n",
       "        vertical-align: top;\n",
       "    }\n",
       "\n",
       "    .dataframe thead th {\n",
       "        text-align: right;\n",
       "    }\n",
       "</style>\n",
       "<table border=\"1\" class=\"dataframe\">\n",
       "  <thead>\n",
       "    <tr style=\"text-align: right;\">\n",
       "      <th></th>\n",
       "      <th>TempOut</th>\n",
       "      <th>OutHum</th>\n",
       "      <th>DewPt</th>\n",
       "      <th>WindSpeed</th>\n",
       "      <th>WindRun</th>\n",
       "      <th>WindChill</th>\n",
       "      <th>HeatIndex</th>\n",
       "      <th>THWIndex</th>\n",
       "      <th>Bar</th>\n",
       "      <th>Rain</th>\n",
       "      <th>RainRate</th>\n",
       "      <th>SolarRad</th>\n",
       "      <th>SolarEnergy</th>\n",
       "      <th>Temp_Pressure_ratio</th>\n",
       "      <th>Humidity_Radiation_ratio</th>\n",
       "    </tr>\n",
       "    <tr>\n",
       "      <th>Unnamed: 0</th>\n",
       "      <th></th>\n",
       "      <th></th>\n",
       "      <th></th>\n",
       "      <th></th>\n",
       "      <th></th>\n",
       "      <th></th>\n",
       "      <th></th>\n",
       "      <th></th>\n",
       "      <th></th>\n",
       "      <th></th>\n",
       "      <th></th>\n",
       "      <th></th>\n",
       "      <th></th>\n",
       "      <th></th>\n",
       "      <th></th>\n",
       "    </tr>\n",
       "  </thead>\n",
       "  <tbody>\n",
       "    <tr>\n",
       "      <th>10495</th>\n",
       "      <td>15.6</td>\n",
       "      <td>91.0</td>\n",
       "      <td>14.1</td>\n",
       "      <td>1</td>\n",
       "      <td>0.5</td>\n",
       "      <td>15.6</td>\n",
       "      <td>15.7</td>\n",
       "      <td>15.7</td>\n",
       "      <td>759.2</td>\n",
       "      <td>0.0</td>\n",
       "      <td>0.0</td>\n",
       "      <td>0.0</td>\n",
       "      <td>0.00</td>\n",
       "      <td>0.020548</td>\n",
       "      <td>inf</td>\n",
       "    </tr>\n",
       "    <tr>\n",
       "      <th>10194</th>\n",
       "      <td>16.9</td>\n",
       "      <td>82.0</td>\n",
       "      <td>13.8</td>\n",
       "      <td>3</td>\n",
       "      <td>1.5</td>\n",
       "      <td>16.9</td>\n",
       "      <td>17.1</td>\n",
       "      <td>17.1</td>\n",
       "      <td>756.9</td>\n",
       "      <td>0.0</td>\n",
       "      <td>0.0</td>\n",
       "      <td>0.0</td>\n",
       "      <td>0.00</td>\n",
       "      <td>0.022328</td>\n",
       "      <td>inf</td>\n",
       "    </tr>\n",
       "    <tr>\n",
       "      <th>7603</th>\n",
       "      <td>15.6</td>\n",
       "      <td>69.0</td>\n",
       "      <td>9.9</td>\n",
       "      <td>1</td>\n",
       "      <td>0.5</td>\n",
       "      <td>15.6</td>\n",
       "      <td>15.2</td>\n",
       "      <td>15.2</td>\n",
       "      <td>755.2</td>\n",
       "      <td>0.0</td>\n",
       "      <td>0.0</td>\n",
       "      <td>0.0</td>\n",
       "      <td>0.00</td>\n",
       "      <td>0.020657</td>\n",
       "      <td>inf</td>\n",
       "    </tr>\n",
       "    <tr>\n",
       "      <th>6655</th>\n",
       "      <td>13.1</td>\n",
       "      <td>77.0</td>\n",
       "      <td>9.2</td>\n",
       "      <td>2</td>\n",
       "      <td>1.0</td>\n",
       "      <td>13.1</td>\n",
       "      <td>12.8</td>\n",
       "      <td>12.8</td>\n",
       "      <td>767.5</td>\n",
       "      <td>0.0</td>\n",
       "      <td>0.0</td>\n",
       "      <td>0.0</td>\n",
       "      <td>0.00</td>\n",
       "      <td>0.017068</td>\n",
       "      <td>inf</td>\n",
       "    </tr>\n",
       "    <tr>\n",
       "      <th>2089</th>\n",
       "      <td>17.3</td>\n",
       "      <td>52.0</td>\n",
       "      <td>7.4</td>\n",
       "      <td>1</td>\n",
       "      <td>0.5</td>\n",
       "      <td>17.3</td>\n",
       "      <td>16.4</td>\n",
       "      <td>16.4</td>\n",
       "      <td>758.0</td>\n",
       "      <td>0.0</td>\n",
       "      <td>0.0</td>\n",
       "      <td>556.0</td>\n",
       "      <td>23.91</td>\n",
       "      <td>0.022823</td>\n",
       "      <td>0.093525</td>\n",
       "    </tr>\n",
       "  </tbody>\n",
       "</table>\n",
       "</div>"
      ],
      "text/plain": [
       "            TempOut  OutHum  DewPt  WindSpeed  WindRun  WindChill  HeatIndex  \\\n",
       "Unnamed: 0                                                                     \n",
       "10495          15.6    91.0   14.1          1      0.5       15.6       15.7   \n",
       "10194          16.9    82.0   13.8          3      1.5       16.9       17.1   \n",
       "7603           15.6    69.0    9.9          1      0.5       15.6       15.2   \n",
       "6655           13.1    77.0    9.2          2      1.0       13.1       12.8   \n",
       "2089           17.3    52.0    7.4          1      0.5       17.3       16.4   \n",
       "\n",
       "            THWIndex    Bar  Rain  RainRate  SolarRad  SolarEnergy  \\\n",
       "Unnamed: 0                                                           \n",
       "10495           15.7  759.2   0.0       0.0       0.0         0.00   \n",
       "10194           17.1  756.9   0.0       0.0       0.0         0.00   \n",
       "7603            15.2  755.2   0.0       0.0       0.0         0.00   \n",
       "6655            12.8  767.5   0.0       0.0       0.0         0.00   \n",
       "2089            16.4  758.0   0.0       0.0     556.0        23.91   \n",
       "\n",
       "            Temp_Pressure_ratio  Humidity_Radiation_ratio  \n",
       "Unnamed: 0                                                 \n",
       "10495                  0.020548                       inf  \n",
       "10194                  0.022328                       inf  \n",
       "7603                   0.020657                       inf  \n",
       "6655                   0.017068                       inf  \n",
       "2089                   0.022823                  0.093525  "
      ]
     },
     "execution_count": 13,
     "metadata": {},
     "output_type": "execute_result"
    }
   ],
   "source": [
    "x_train.head()"
   ]
  },
  {
   "cell_type": "markdown",
   "id": "6af397ae",
   "metadata": {},
   "source": [
    "Great! Let's move onto creating our pipeline for future modeling."
   ]
  },
  {
   "cell_type": "code",
   "execution_count": 14,
   "id": "91f10817",
   "metadata": {},
   "outputs": [
    {
     "data": {
      "text/html": [
       "<div>\n",
       "<style scoped>\n",
       "    .dataframe tbody tr th:only-of-type {\n",
       "        vertical-align: middle;\n",
       "    }\n",
       "\n",
       "    .dataframe tbody tr th {\n",
       "        vertical-align: top;\n",
       "    }\n",
       "\n",
       "    .dataframe thead th {\n",
       "        text-align: right;\n",
       "    }\n",
       "</style>\n",
       "<table border=\"1\" class=\"dataframe\">\n",
       "  <thead>\n",
       "    <tr style=\"text-align: right;\">\n",
       "      <th></th>\n",
       "      <th>TempOut</th>\n",
       "      <th>OutHum</th>\n",
       "      <th>DewPt</th>\n",
       "      <th>WindSpeed</th>\n",
       "      <th>WindRun</th>\n",
       "      <th>WindChill</th>\n",
       "      <th>HeatIndex</th>\n",
       "      <th>THWIndex</th>\n",
       "      <th>Bar</th>\n",
       "      <th>Rain</th>\n",
       "      <th>RainRate</th>\n",
       "      <th>SolarRad</th>\n",
       "      <th>SolarEnergy</th>\n",
       "      <th>Temp_Pressure_ratio</th>\n",
       "      <th>Humidity_Radiation_ratio</th>\n",
       "    </tr>\n",
       "    <tr>\n",
       "      <th>Unnamed: 0</th>\n",
       "      <th></th>\n",
       "      <th></th>\n",
       "      <th></th>\n",
       "      <th></th>\n",
       "      <th></th>\n",
       "      <th></th>\n",
       "      <th></th>\n",
       "      <th></th>\n",
       "      <th></th>\n",
       "      <th></th>\n",
       "      <th></th>\n",
       "      <th></th>\n",
       "      <th></th>\n",
       "      <th></th>\n",
       "      <th></th>\n",
       "    </tr>\n",
       "  </thead>\n",
       "  <tbody>\n",
       "    <tr>\n",
       "      <th>9449</th>\n",
       "      <td>17.8</td>\n",
       "      <td>71.0</td>\n",
       "      <td>12.4</td>\n",
       "      <td>2</td>\n",
       "      <td>1.0</td>\n",
       "      <td>17.8</td>\n",
       "      <td>17.7</td>\n",
       "      <td>17.7</td>\n",
       "      <td>754.4</td>\n",
       "      <td>0.0</td>\n",
       "      <td>0.0</td>\n",
       "      <td>548.0</td>\n",
       "      <td>23.57</td>\n",
       "      <td>0.023595</td>\n",
       "      <td>0.129562</td>\n",
       "    </tr>\n",
       "    <tr>\n",
       "      <th>3719</th>\n",
       "      <td>12.4</td>\n",
       "      <td>82.0</td>\n",
       "      <td>9.5</td>\n",
       "      <td>0</td>\n",
       "      <td>0.0</td>\n",
       "      <td>12.4</td>\n",
       "      <td>12.3</td>\n",
       "      <td>12.3</td>\n",
       "      <td>751.0</td>\n",
       "      <td>0.0</td>\n",
       "      <td>0.0</td>\n",
       "      <td>170.0</td>\n",
       "      <td>7.31</td>\n",
       "      <td>0.016511</td>\n",
       "      <td>0.482353</td>\n",
       "    </tr>\n",
       "    <tr>\n",
       "      <th>11609</th>\n",
       "      <td>20.9</td>\n",
       "      <td>73.0</td>\n",
       "      <td>15.9</td>\n",
       "      <td>0</td>\n",
       "      <td>0.0</td>\n",
       "      <td>20.9</td>\n",
       "      <td>21.2</td>\n",
       "      <td>21.2</td>\n",
       "      <td>763.5</td>\n",
       "      <td>0.0</td>\n",
       "      <td>0.0</td>\n",
       "      <td>176.0</td>\n",
       "      <td>7.57</td>\n",
       "      <td>0.027374</td>\n",
       "      <td>0.414773</td>\n",
       "    </tr>\n",
       "    <tr>\n",
       "      <th>8416</th>\n",
       "      <td>21.3</td>\n",
       "      <td>63.0</td>\n",
       "      <td>14.0</td>\n",
       "      <td>1</td>\n",
       "      <td>0.5</td>\n",
       "      <td>21.3</td>\n",
       "      <td>21.1</td>\n",
       "      <td>21.1</td>\n",
       "      <td>761.3</td>\n",
       "      <td>0.0</td>\n",
       "      <td>0.0</td>\n",
       "      <td>0.0</td>\n",
       "      <td>0.00</td>\n",
       "      <td>0.027978</td>\n",
       "      <td>inf</td>\n",
       "    </tr>\n",
       "    <tr>\n",
       "      <th>1693</th>\n",
       "      <td>18.9</td>\n",
       "      <td>66.0</td>\n",
       "      <td>12.4</td>\n",
       "      <td>3</td>\n",
       "      <td>1.5</td>\n",
       "      <td>18.9</td>\n",
       "      <td>18.8</td>\n",
       "      <td>18.8</td>\n",
       "      <td>750.5</td>\n",
       "      <td>0.0</td>\n",
       "      <td>0.0</td>\n",
       "      <td>717.0</td>\n",
       "      <td>30.84</td>\n",
       "      <td>0.025183</td>\n",
       "      <td>0.092050</td>\n",
       "    </tr>\n",
       "  </tbody>\n",
       "</table>\n",
       "</div>"
      ],
      "text/plain": [
       "            TempOut  OutHum  DewPt  WindSpeed  WindRun  WindChill  HeatIndex  \\\n",
       "Unnamed: 0                                                                     \n",
       "9449           17.8    71.0   12.4          2      1.0       17.8       17.7   \n",
       "3719           12.4    82.0    9.5          0      0.0       12.4       12.3   \n",
       "11609          20.9    73.0   15.9          0      0.0       20.9       21.2   \n",
       "8416           21.3    63.0   14.0          1      0.5       21.3       21.1   \n",
       "1693           18.9    66.0   12.4          3      1.5       18.9       18.8   \n",
       "\n",
       "            THWIndex    Bar  Rain  RainRate  SolarRad  SolarEnergy  \\\n",
       "Unnamed: 0                                                           \n",
       "9449            17.7  754.4   0.0       0.0     548.0        23.57   \n",
       "3719            12.3  751.0   0.0       0.0     170.0         7.31   \n",
       "11609           21.2  763.5   0.0       0.0     176.0         7.57   \n",
       "8416            21.1  761.3   0.0       0.0       0.0         0.00   \n",
       "1693            18.8  750.5   0.0       0.0     717.0        30.84   \n",
       "\n",
       "            Temp_Pressure_ratio  Humidity_Radiation_ratio  \n",
       "Unnamed: 0                                                 \n",
       "9449                   0.023595                  0.129562  \n",
       "3719                   0.016511                  0.482353  \n",
       "11609                  0.027374                  0.414773  \n",
       "8416                   0.027978                       inf  \n",
       "1693                   0.025183                  0.092050  "
      ]
     },
     "execution_count": 14,
     "metadata": {},
     "output_type": "execute_result"
    }
   ],
   "source": [
    "x_test.head()"
   ]
  },
  {
   "cell_type": "markdown",
   "id": "71aac229",
   "metadata": {},
   "source": [
    "### 8 Save Data<a id='8_Save_Data'></a>"
   ]
  },
  {
   "cell_type": "code",
   "execution_count": 15,
   "id": "3a06938b",
   "metadata": {},
   "outputs": [
    {
     "name": "stdout",
     "output_type": "stream",
     "text": [
      "A file already exists with this name.\n",
      "\n",
      "Do you want to overwrite? (Y/N)Y\n",
      "Writing file.  \"../data/X_train.csv\"\n",
      "A file already exists with this name.\n",
      "\n",
      "Do you want to overwrite? (Y/N)Y\n",
      "Writing file.  \"../data/X_test.csv\"\n",
      "A file already exists with this name.\n",
      "\n",
      "Do you want to overwrite? (Y/N)Y\n",
      "Writing file.  \"../data/Y_train.csv\"\n",
      "A file already exists with this name.\n",
      "\n",
      "Do you want to overwrite? (Y/N)Y\n",
      "Writing file.  \"../data/Y_test.csv\"\n"
     ]
    }
   ],
   "source": [
    "datapath = '../data'\n",
    "save_file(x_train, 'X_train.csv', datapath)\n",
    "save_file(x_test, 'X_test.csv', datapath)\n",
    "save_file(y_train, 'Y_train.csv', datapath)\n",
    "save_file(y_test, 'Y_test.csv', datapath)"
   ]
  },
  {
   "cell_type": "markdown",
   "id": "9f44b786",
   "metadata": {},
   "source": [
    "### 9 Conclusion<a id='9_Conclusion'></a>"
   ]
  },
  {
   "cell_type": "markdown",
   "id": "6dc9d2ec",
   "metadata": {},
   "source": [
    "In this notebook, I looked at the outliers present in our data. We do see a lot of outliers. However, they are consistent so I believe that they are valid measurements. We dropped our the 'Site' column from our data and determined whether any other variables needed dummy variables. I also considered scaling the data. I decided to hold off until the modeling stage to determine its effectiveness using cross validation.\n",
    "\n",
    "Finally, we split our data in dependent and independent variables. We then split those variables into train and test sets to be used for fit and evaluating our model. We are now ready to start trying out different models. "
   ]
  }
 ],
 "metadata": {
  "kernelspec": {
   "display_name": "Python 3 (ipykernel)",
   "language": "python",
   "name": "python3"
  },
  "language_info": {
   "codemirror_mode": {
    "name": "ipython",
    "version": 3
   },
   "file_extension": ".py",
   "mimetype": "text/x-python",
   "name": "python",
   "nbconvert_exporter": "python",
   "pygments_lexer": "ipython3",
   "version": "3.9.12"
  }
 },
 "nbformat": 4,
 "nbformat_minor": 5
}
