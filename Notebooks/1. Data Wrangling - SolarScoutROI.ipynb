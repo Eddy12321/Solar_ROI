{
 "cells": [
  {
   "cell_type": "markdown",
   "id": "4eb84c63",
   "metadata": {},
   "source": [
    "# Data Wrangling<a id='Data_Wrangling'></a>"
   ]
  },
  {
   "cell_type": "markdown",
   "id": "d5eb4808",
   "metadata": {},
   "source": [
    "### 1 Table of Contents<a id='Contents'></a>\n",
    "* [Data Wrangling](#Data_Wrangling)\n",
    "  * [1 Contents](#Contents)\n",
    "  * [2 Introduction](#2_Introduction)\n",
    "      * [2.1 Problem](#2.1_Problem)\n",
    "      * [2.2 Data Sources](#2.2_Data_Sources)\n",
    "  * [3 Imports](#3_Imports)\n",
    "  * [4 Load Data](#4_Load_Data)\n",
    "  * [5 Clean](#5_Clean)\n",
    "      * [5.1 First Look](#5.1_First_Look)\n",
    "      * [5.2 Drop Useless Columns](#5.2_Drop_Useless_Columns)\n",
    "      * [5.3 Drop Null Values](#5.3_Drop_Null_Values)\n",
    "      * [5.4 Preparation for Joining](#5.4_Preparation_for_Joining)\n",
    "      * [5.5 Join](#5.5_Join)\n",
    "      * [5.6 Changing dtypes](#5.6_Changing_dtypes)\n",
    "      * [5.7 Finalizing Datasets](#5.7_Finalizing_Datasets)\n",
    "  * [6 Explore](#6_Explore)\n",
    "      * [6.1 Plotting Variables](#6.1_Plotting_Variables)\n",
    "      * [6.2 Removing Erroneous Values](#6.2_Removing_Erroneous_Values)\n",
    "      * [6.3 Distributions](#6.3_Distributions)\n",
    "      * [6.4 Target Variable](#6.4_Target_Variable)\n",
    "  * [7 Save Data](#7_Save_Data)\n",
    "  * [8 Conclusion](#8_Conclusion)"
   ]
  },
  {
   "cell_type": "markdown",
   "id": "81e0dd7d",
   "metadata": {},
   "source": [
    "### 2 Introduction<a id='2_Introduction'></a>"
   ]
  },
  {
   "cell_type": "markdown",
   "id": "05a1e3d0",
   "metadata": {},
   "source": [
    "#### 2.1 Problem<a id='2.1_Problem'></a>"
   ]
  },
  {
   "cell_type": "markdown",
   "id": "640e630c",
   "metadata": {},
   "source": [
    "As climate change continues to effect our lives more and more, energy companies are seeking cleaner energy sources to power the lives of their customers. The fastest growing market for clean energy is solar, as it has fewer startup costs than wind and does not garner the negative publicity of nuclear. Property owners, not just energy companies, are also keen to get into the solar market. A solar installation on the top of a home can reduce energy bills and, in places where energy can be sold back to the grid, can even pay for themselves after some amount of time. The problem comes from the unpredictability of the suns availability at any particular location. Not only that, but any number of factors can effect a solar cell's ability to generate electricity; humidity, wind speed, temperature, just to name a few. The variability of solar energy generation can be a huge problem for energy companies looking to invest in solar farms, since, without the proper tools, they will be unable to accurately assess how much of their demand they will be able to supply, and, as a result, whether it is a smart financial decision or not. Property owners face the same dilemma. They are unable to judge whether a large investment in solar will ever payoff at their current location. \n",
    "\n",
    "I will use data from the UK on weather and solar power generation, as well as weather data from the U.S., to create a model capable of calculating the return on investment for residential and business customers' solar projects within an error of 10% per year."
   ]
  },
  {
   "cell_type": "markdown",
   "id": "ca735572",
   "metadata": {},
   "source": [
    "#### 2.2 Data Sources<a id='2.2_Data_Sources'></a>"
   ]
  },
  {
   "cell_type": "markdown",
   "id": "5c55a58f",
   "metadata": {},
   "source": [
    "For this project, I will be using solar power generation data from 30 sites across the UK. The power generation data comes with corresponding weather data for that particular location. I will use these two data sets to build a model to accurately predict solar power generation under different weather conditions. The data is available through UK Power Networks on London Datastore. <br>\n",
    "    https://data.london.gov.uk/dataset/photovoltaic--pv--solar-panel-energy-generation-data\n",
    "    \n",
    "Finally, I will be using National Solar Radiation Database; collected by the National Renewable Energy Laboratory. This database contains information on wind speed, temperature, irradiance, and more for locations in the US. I will use this database to create a tool to calculate ROI for users in the U.S. based off of the users location. Users will enter their location (address/city/zip/etc) and be returned with information regarding how much energy they can expect to generate and how much that is expected to save them on their energy bill. The data is available through the HDF Group's Highly Scalable Data Service (HSDS).\n",
    "    https://data.openei.org/s3_viewer?bucket=nrel-pds-nsrdb&prefix=v3%2F\n",
    "    \n",
    "For the end product, I will also be using data from the U.S. Energy Information Administration's website on average price of electricity by state.\n",
    "    https://www.eia.gov/electricity/state/\n",
    "    \n",
    "As the model only relies on the UK power generation and weather data, this notebook will focus on that data. The other datasets will be used in later notebooks."
   ]
  },
  {
   "cell_type": "markdown",
   "id": "11a763cb",
   "metadata": {},
   "source": [
    "##### Weather Data Variables"
   ]
  },
  {
   "cell_type": "markdown",
   "id": "1b3edae3",
   "metadata": {},
   "source": [
    "TempOut\t- Outdoor Temp <br>\n",
    "HiTemp - Outdoor Hi Temp <br>\n",
    "LowTemp - Outdoor Low Temp <br>\n",
    "OutHum - Outdoor Humidity <br>\n",
    "DewPt - Dew Point <br>\n",
    "WindSpeed - Wind Speed <br>\n",
    "WindDir - Wind Direction <br>\n",
    "WindRun - Wind Run <br>\n",
    "HiSpeed - Hi Wind Speed <br>\n",
    "HiDir - Hi Wind Direction <br>\n",
    "WindChill - Wind Chill <br>\n",
    "HeatIndex - Heat Index <br>\n",
    "THWIndex - Temperature Humidity Wind (THW) Index <br>\n",
    "THSWIndex - Temperature Humidity Sun Wind (THSW) Index <br>\n",
    "Bar - Barometric Pressure <br>\n",
    "Rain - Rainfall <br>\n",
    "RainRate - High Rain Rate <br>\n",
    "SolarRad - Solar Radiation <br>\n",
    "SolarEnergy - Solar Energy <br>\n",
    "HiSolarRad - Hi Solar Radiation <br>\n",
    "HeatD-D - Heating Degree-Days <br>\n",
    "CoolD-D - Cooling Degree-Days <br>\n",
    "InTemp - Indoor Temperature <br>\n",
    "InHum - Indoor Humidity <br>\n",
    "InDew - Indoor Dew Point <br>\n",
    "InHeat - Indoor Heat Index <br>\n",
    "InEMC - Equilibrium moisture content <br>\n",
    "InAirDensity - Air Density <br>\n",
    "ET\t- *Description not available* <br>\n",
    "WindSamp\t- *Description not available* <br>\n",
    "WindTx\t- *Description not available* <br>\n",
    "ISSRecept\tISS Reception Rate <br>\n",
    "ArcInt\t- *Description not available* <br>"
   ]
  },
  {
   "cell_type": "markdown",
   "id": "90e64ac3",
   "metadata": {},
   "source": [
    "### 3 Imports<a id='3_Imports'></a>"
   ]
  },
  {
   "cell_type": "code",
   "execution_count": 1,
   "id": "d570bd25",
   "metadata": {
    "scrolled": true
   },
   "outputs": [],
   "source": [
    "import warnings\n",
    "warnings.simplefilter('ignore')\n",
    "import matplotlib.pyplot as plt\n",
    "import pandas as pd\n",
    "import seaborn as sns\n",
    "import numpy as np\n",
    "from library.sb_utils import save_file\n",
    "import os\n",
    "import csv"
   ]
  },
  {
   "cell_type": "markdown",
   "id": "44fb9b40",
   "metadata": {},
   "source": [
    "### 4 Load Data<a id='4_Load_Data'></a>"
   ]
  },
  {
   "cell_type": "markdown",
   "id": "86f30c23",
   "metadata": {},
   "source": [
    "From the UK power generation data, we will be using the readings from the customer endpoints at ten minute intervals. The customer endpoints contain the generator power measurements that we will use in our model. We also be using the UK Weather Data."
   ]
  },
  {
   "cell_type": "code",
   "execution_count": 2,
   "id": "3acf5bea",
   "metadata": {},
   "outputs": [],
   "source": [
    "raw_UK_Power = pd.read_csv('../raw_data/UK_data/PV Data/2014-11-28 Cleansed and Processed/EXPORT TenMinData/EXPORT TenMinData - Customer Endpoints.csv')\n",
    "raw_UK_Weather = pd.read_excel('../raw_data/UK_data/Weather Data 2014-11-30.xlsx')"
   ]
  },
  {
   "cell_type": "markdown",
   "id": "78b795be",
   "metadata": {},
   "source": [
    "### 5 Clean<a id='5_Clean'></a>"
   ]
  },
  {
   "cell_type": "markdown",
   "id": "59f0e700",
   "metadata": {},
   "source": [
    "#### 5.1 First Look<a id='5.1_First_Look'></a>"
   ]
  },
  {
   "cell_type": "code",
   "execution_count": 3,
   "id": "d7bef888",
   "metadata": {},
   "outputs": [
    {
     "name": "stdout",
     "output_type": "stream",
     "text": [
      "<class 'pandas.core.frame.DataFrame'>\n",
      "RangeIndex: 131681 entries, 0 to 131680\n",
      "Data columns (total 36 columns):\n",
      " #   Column                     Non-Null Count   Dtype  \n",
      "---  ------                     --------------   -----  \n",
      " 0   Substation                 131681 non-null  object \n",
      " 1   datetime                   131681 non-null  object \n",
      " 2   t_date                     131681 non-null  object \n",
      " 3   t_time                     131681 non-null  object \n",
      " 4   d_y                        131681 non-null  int64  \n",
      " 5   d_m                        131681 non-null  int64  \n",
      " 6   d_d                        131681 non-null  int64  \n",
      " 7   d_w                        131681 non-null  int64  \n",
      " 8   t_h                        131681 non-null  int64  \n",
      " 9   t_m                        131681 non-null  int64  \n",
      " 10  V                          131681 non-null  float64\n",
      " 11  V_Filtered                 131681 non-null  float64\n",
      " 12  I_GEN                      131681 non-null  float64\n",
      " 13  I_GEN_Filtered             131681 non-null  float64\n",
      " 14  I_IMPORT                   131681 non-null  float64\n",
      " 15  I_IMPORT_Filtered          131681 non-null  float64\n",
      " 16  P_GEN                      131680 non-null  float64\n",
      " 17  P_IMPORT                   131681 non-null  float64\n",
      " 18  Q_GEN                      131681 non-null  float64\n",
      " 19  Q_IMPORT                   131679 non-null  float64\n",
      " 20  S_GEN                      131681 non-null  float64\n",
      " 21  S_IMPORT                   131680 non-null  float64\n",
      " 22  thdV                       131681 non-null  float64\n",
      " 23  thdV_Filtered              131681 non-null  float64\n",
      " 24  thdI_GEN                   131673 non-null  float64\n",
      " 25  thdI_IMPORT                131681 non-null  float64\n",
      " 26  f                          131677 non-null  float64\n",
      " 27  Substation_VA_Filtered     131660 non-null  float64\n",
      " 28  Substation_VB_Filtered     131660 non-null  float64\n",
      " 29  Substation_VC_Filtered     131660 non-null  float64\n",
      " 30  Substation_thdVA_Filtered  129280 non-null  float64\n",
      " 31  Substation_thdVB_Filtered  129280 non-null  float64\n",
      " 32  Substation_thdVC_Filtered  129277 non-null  float64\n",
      " 33  VA_Rise                    131660 non-null  float64\n",
      " 34  VB_Rise                    131660 non-null  float64\n",
      " 35  VC_Rise                    131660 non-null  float64\n",
      "dtypes: float64(26), int64(6), object(4)\n",
      "memory usage: 36.2+ MB\n"
     ]
    }
   ],
   "source": [
    "raw_UK_Power.info()"
   ]
  },
  {
   "cell_type": "code",
   "execution_count": 4,
   "id": "6dc0531a",
   "metadata": {
    "scrolled": false
   },
   "outputs": [
    {
     "name": "stdout",
     "output_type": "stream",
     "text": [
      "<class 'pandas.core.frame.DataFrame'>\n",
      "RangeIndex: 69480 entries, 0 to 69479\n",
      "Data columns (total 38 columns):\n",
      " #   Column        Non-Null Count  Dtype         \n",
      "---  ------        --------------  -----         \n",
      " 0   Site          69480 non-null  object        \n",
      " 1   Date          69480 non-null  datetime64[ns]\n",
      " 2   Month         69480 non-null  int64         \n",
      " 3   Time          69480 non-null  object        \n",
      " 4   Hour          69480 non-null  int64         \n",
      " 5   TempOut       69480 non-null  object        \n",
      " 6   HiTemp        69480 non-null  object        \n",
      " 7   LowTemp       69480 non-null  object        \n",
      " 8   OutHum        69480 non-null  object        \n",
      " 9   DewPt         69480 non-null  object        \n",
      " 10  WindSpeed     69480 non-null  int64         \n",
      " 11  WindDir       69480 non-null  object        \n",
      " 12  WindRun       69480 non-null  float64       \n",
      " 13  HiSpeed       69480 non-null  int64         \n",
      " 14  HiDir         69480 non-null  object        \n",
      " 15  WindChill     69480 non-null  object        \n",
      " 16  HeatIndex     69480 non-null  object        \n",
      " 17  THWIndex      69480 non-null  object        \n",
      " 18  THSWIndex     69480 non-null  object        \n",
      " 19  Bar           69480 non-null  float64       \n",
      " 20  Rain          69480 non-null  float64       \n",
      " 21  RainRate      69480 non-null  float64       \n",
      " 22  SolarRad      69480 non-null  object        \n",
      " 23  SolarEnergy   69480 non-null  object        \n",
      " 24  HiSolarRad    69480 non-null  object        \n",
      " 25  HeatD-D       69480 non-null  object        \n",
      " 26  CoolD-D       69480 non-null  object        \n",
      " 27  InTemp        69480 non-null  float64       \n",
      " 28  InHum         69480 non-null  int64         \n",
      " 29  InDew         69480 non-null  float64       \n",
      " 30  InHeat        69480 non-null  float64       \n",
      " 31  InEMC         69480 non-null  float64       \n",
      " 32  InAirDensity  69480 non-null  float64       \n",
      " 33  ET            69480 non-null  float64       \n",
      " 34  WindSamp      69480 non-null  int64         \n",
      " 35  WindTx        69480 non-null  int64         \n",
      " 36  ISSRecept     69480 non-null  float64       \n",
      " 37  ArcInt        69480 non-null  int64         \n",
      "dtypes: datetime64[ns](1), float64(11), int64(8), object(18)\n",
      "memory usage: 20.1+ MB\n"
     ]
    }
   ],
   "source": [
    "raw_UK_Weather.info()"
   ]
  },
  {
   "cell_type": "code",
   "execution_count": 5,
   "id": "1c54e598",
   "metadata": {},
   "outputs": [
    {
     "data": {
      "text/html": [
       "<div>\n",
       "<style scoped>\n",
       "    .dataframe tbody tr th:only-of-type {\n",
       "        vertical-align: middle;\n",
       "    }\n",
       "\n",
       "    .dataframe tbody tr th {\n",
       "        vertical-align: top;\n",
       "    }\n",
       "\n",
       "    .dataframe thead th {\n",
       "        text-align: right;\n",
       "    }\n",
       "</style>\n",
       "<table border=\"1\" class=\"dataframe\">\n",
       "  <thead>\n",
       "    <tr style=\"text-align: right;\">\n",
       "      <th></th>\n",
       "      <th>Substation</th>\n",
       "      <th>datetime</th>\n",
       "      <th>t_date</th>\n",
       "      <th>t_time</th>\n",
       "      <th>d_y</th>\n",
       "      <th>d_m</th>\n",
       "      <th>d_d</th>\n",
       "      <th>d_w</th>\n",
       "      <th>t_h</th>\n",
       "      <th>t_m</th>\n",
       "      <th>...</th>\n",
       "      <th>f</th>\n",
       "      <th>Substation_VA_Filtered</th>\n",
       "      <th>Substation_VB_Filtered</th>\n",
       "      <th>Substation_VC_Filtered</th>\n",
       "      <th>Substation_thdVA_Filtered</th>\n",
       "      <th>Substation_thdVB_Filtered</th>\n",
       "      <th>Substation_thdVC_Filtered</th>\n",
       "      <th>VA_Rise</th>\n",
       "      <th>VB_Rise</th>\n",
       "      <th>VC_Rise</th>\n",
       "    </tr>\n",
       "  </thead>\n",
       "  <tbody>\n",
       "    <tr>\n",
       "      <th>0</th>\n",
       "      <td>Forest Road</td>\n",
       "      <td>2014-06-10 02:10:00</td>\n",
       "      <td>2014-06-10</td>\n",
       "      <td>02:10:00</td>\n",
       "      <td>2014</td>\n",
       "      <td>6</td>\n",
       "      <td>10</td>\n",
       "      <td>2</td>\n",
       "      <td>2</td>\n",
       "      <td>10</td>\n",
       "      <td>...</td>\n",
       "      <td>50.03</td>\n",
       "      <td>243.758</td>\n",
       "      <td>243.176</td>\n",
       "      <td>242.619</td>\n",
       "      <td>NaN</td>\n",
       "      <td>NaN</td>\n",
       "      <td>NaN</td>\n",
       "      <td>0.110</td>\n",
       "      <td>0.692</td>\n",
       "      <td>1.249</td>\n",
       "    </tr>\n",
       "    <tr>\n",
       "      <th>1</th>\n",
       "      <td>Forest Road</td>\n",
       "      <td>2014-06-10 02:20:00</td>\n",
       "      <td>2014-06-10</td>\n",
       "      <td>02:20:00</td>\n",
       "      <td>2014</td>\n",
       "      <td>6</td>\n",
       "      <td>10</td>\n",
       "      <td>2</td>\n",
       "      <td>2</td>\n",
       "      <td>20</td>\n",
       "      <td>...</td>\n",
       "      <td>50.01</td>\n",
       "      <td>243.617</td>\n",
       "      <td>243.198</td>\n",
       "      <td>242.658</td>\n",
       "      <td>NaN</td>\n",
       "      <td>NaN</td>\n",
       "      <td>NaN</td>\n",
       "      <td>0.055</td>\n",
       "      <td>0.474</td>\n",
       "      <td>1.014</td>\n",
       "    </tr>\n",
       "    <tr>\n",
       "      <th>2</th>\n",
       "      <td>Forest Road</td>\n",
       "      <td>2014-06-10 02:30:00</td>\n",
       "      <td>2014-06-10</td>\n",
       "      <td>02:30:00</td>\n",
       "      <td>2014</td>\n",
       "      <td>6</td>\n",
       "      <td>10</td>\n",
       "      <td>2</td>\n",
       "      <td>2</td>\n",
       "      <td>30</td>\n",
       "      <td>...</td>\n",
       "      <td>49.98</td>\n",
       "      <td>243.924</td>\n",
       "      <td>243.405</td>\n",
       "      <td>242.984</td>\n",
       "      <td>NaN</td>\n",
       "      <td>NaN</td>\n",
       "      <td>NaN</td>\n",
       "      <td>-0.092</td>\n",
       "      <td>0.427</td>\n",
       "      <td>0.848</td>\n",
       "    </tr>\n",
       "    <tr>\n",
       "      <th>3</th>\n",
       "      <td>Forest Road</td>\n",
       "      <td>2014-06-10 02:40:00</td>\n",
       "      <td>2014-06-10</td>\n",
       "      <td>02:40:00</td>\n",
       "      <td>2014</td>\n",
       "      <td>6</td>\n",
       "      <td>10</td>\n",
       "      <td>2</td>\n",
       "      <td>2</td>\n",
       "      <td>40</td>\n",
       "      <td>...</td>\n",
       "      <td>49.97</td>\n",
       "      <td>243.841</td>\n",
       "      <td>243.365</td>\n",
       "      <td>243.050</td>\n",
       "      <td>NaN</td>\n",
       "      <td>NaN</td>\n",
       "      <td>NaN</td>\n",
       "      <td>-0.022</td>\n",
       "      <td>0.454</td>\n",
       "      <td>0.769</td>\n",
       "    </tr>\n",
       "    <tr>\n",
       "      <th>4</th>\n",
       "      <td>Forest Road</td>\n",
       "      <td>2014-06-10 02:50:00</td>\n",
       "      <td>2014-06-10</td>\n",
       "      <td>02:50:00</td>\n",
       "      <td>2014</td>\n",
       "      <td>6</td>\n",
       "      <td>10</td>\n",
       "      <td>2</td>\n",
       "      <td>2</td>\n",
       "      <td>50</td>\n",
       "      <td>...</td>\n",
       "      <td>49.95</td>\n",
       "      <td>243.855</td>\n",
       "      <td>243.333</td>\n",
       "      <td>243.107</td>\n",
       "      <td>NaN</td>\n",
       "      <td>NaN</td>\n",
       "      <td>NaN</td>\n",
       "      <td>-0.024</td>\n",
       "      <td>0.498</td>\n",
       "      <td>0.724</td>\n",
       "    </tr>\n",
       "  </tbody>\n",
       "</table>\n",
       "<p>5 rows × 36 columns</p>\n",
       "</div>"
      ],
      "text/plain": [
       "    Substation             datetime      t_date    t_time   d_y  d_m  d_d  \\\n",
       "0  Forest Road  2014-06-10 02:10:00  2014-06-10  02:10:00  2014    6   10   \n",
       "1  Forest Road  2014-06-10 02:20:00  2014-06-10  02:20:00  2014    6   10   \n",
       "2  Forest Road  2014-06-10 02:30:00  2014-06-10  02:30:00  2014    6   10   \n",
       "3  Forest Road  2014-06-10 02:40:00  2014-06-10  02:40:00  2014    6   10   \n",
       "4  Forest Road  2014-06-10 02:50:00  2014-06-10  02:50:00  2014    6   10   \n",
       "\n",
       "   d_w  t_h  t_m  ...      f  Substation_VA_Filtered  Substation_VB_Filtered  \\\n",
       "0    2    2   10  ...  50.03                 243.758                 243.176   \n",
       "1    2    2   20  ...  50.01                 243.617                 243.198   \n",
       "2    2    2   30  ...  49.98                 243.924                 243.405   \n",
       "3    2    2   40  ...  49.97                 243.841                 243.365   \n",
       "4    2    2   50  ...  49.95                 243.855                 243.333   \n",
       "\n",
       "   Substation_VC_Filtered  Substation_thdVA_Filtered  \\\n",
       "0                 242.619                        NaN   \n",
       "1                 242.658                        NaN   \n",
       "2                 242.984                        NaN   \n",
       "3                 243.050                        NaN   \n",
       "4                 243.107                        NaN   \n",
       "\n",
       "   Substation_thdVB_Filtered  Substation_thdVC_Filtered  VA_Rise  VB_Rise  \\\n",
       "0                        NaN                        NaN    0.110    0.692   \n",
       "1                        NaN                        NaN    0.055    0.474   \n",
       "2                        NaN                        NaN   -0.092    0.427   \n",
       "3                        NaN                        NaN   -0.022    0.454   \n",
       "4                        NaN                        NaN   -0.024    0.498   \n",
       "\n",
       "   VC_Rise  \n",
       "0    1.249  \n",
       "1    1.014  \n",
       "2    0.848  \n",
       "3    0.769  \n",
       "4    0.724  \n",
       "\n",
       "[5 rows x 36 columns]"
      ]
     },
     "execution_count": 5,
     "metadata": {},
     "output_type": "execute_result"
    }
   ],
   "source": [
    "raw_UK_Power.head()"
   ]
  },
  {
   "cell_type": "code",
   "execution_count": 6,
   "id": "dea33ba6",
   "metadata": {
    "scrolled": true
   },
   "outputs": [
    {
     "data": {
      "text/html": [
       "<div>\n",
       "<style scoped>\n",
       "    .dataframe tbody tr th:only-of-type {\n",
       "        vertical-align: middle;\n",
       "    }\n",
       "\n",
       "    .dataframe tbody tr th {\n",
       "        vertical-align: top;\n",
       "    }\n",
       "\n",
       "    .dataframe thead th {\n",
       "        text-align: right;\n",
       "    }\n",
       "</style>\n",
       "<table border=\"1\" class=\"dataframe\">\n",
       "  <thead>\n",
       "    <tr style=\"text-align: right;\">\n",
       "      <th></th>\n",
       "      <th>Site</th>\n",
       "      <th>Date</th>\n",
       "      <th>Month</th>\n",
       "      <th>Time</th>\n",
       "      <th>Hour</th>\n",
       "      <th>TempOut</th>\n",
       "      <th>HiTemp</th>\n",
       "      <th>LowTemp</th>\n",
       "      <th>OutHum</th>\n",
       "      <th>DewPt</th>\n",
       "      <th>...</th>\n",
       "      <th>InHum</th>\n",
       "      <th>InDew</th>\n",
       "      <th>InHeat</th>\n",
       "      <th>InEMC</th>\n",
       "      <th>InAirDensity</th>\n",
       "      <th>ET</th>\n",
       "      <th>WindSamp</th>\n",
       "      <th>WindTx</th>\n",
       "      <th>ISSRecept</th>\n",
       "      <th>ArcInt</th>\n",
       "    </tr>\n",
       "  </thead>\n",
       "  <tbody>\n",
       "    <tr>\n",
       "      <th>0</th>\n",
       "      <td>YMCA</td>\n",
       "      <td>2014-01-07</td>\n",
       "      <td>1</td>\n",
       "      <td>14:30:00</td>\n",
       "      <td>14</td>\n",
       "      <td>10.6</td>\n",
       "      <td>10.6</td>\n",
       "      <td>10.4</td>\n",
       "      <td>84</td>\n",
       "      <td>8</td>\n",
       "      <td>...</td>\n",
       "      <td>50</td>\n",
       "      <td>6.8</td>\n",
       "      <td>16.3</td>\n",
       "      <td>9.39</td>\n",
       "      <td>0.0739</td>\n",
       "      <td>0.00</td>\n",
       "      <td>385</td>\n",
       "      <td>1</td>\n",
       "      <td>56.3</td>\n",
       "      <td>30</td>\n",
       "    </tr>\n",
       "    <tr>\n",
       "      <th>1</th>\n",
       "      <td>YMCA</td>\n",
       "      <td>2014-01-07</td>\n",
       "      <td>1</td>\n",
       "      <td>15:00:00</td>\n",
       "      <td>15</td>\n",
       "      <td>10.7</td>\n",
       "      <td>10.8</td>\n",
       "      <td>10.6</td>\n",
       "      <td>83</td>\n",
       "      <td>7.9</td>\n",
       "      <td>...</td>\n",
       "      <td>50</td>\n",
       "      <td>6.8</td>\n",
       "      <td>16.2</td>\n",
       "      <td>9.39</td>\n",
       "      <td>0.0740</td>\n",
       "      <td>0.03</td>\n",
       "      <td>702</td>\n",
       "      <td>1</td>\n",
       "      <td>100.0</td>\n",
       "      <td>30</td>\n",
       "    </tr>\n",
       "    <tr>\n",
       "      <th>2</th>\n",
       "      <td>YMCA</td>\n",
       "      <td>2014-01-07</td>\n",
       "      <td>1</td>\n",
       "      <td>15:30:00</td>\n",
       "      <td>15</td>\n",
       "      <td>10.7</td>\n",
       "      <td>10.8</td>\n",
       "      <td>10.7</td>\n",
       "      <td>81</td>\n",
       "      <td>7.6</td>\n",
       "      <td>...</td>\n",
       "      <td>50</td>\n",
       "      <td>6.6</td>\n",
       "      <td>16.1</td>\n",
       "      <td>9.39</td>\n",
       "      <td>0.0740</td>\n",
       "      <td>0.00</td>\n",
       "      <td>703</td>\n",
       "      <td>1</td>\n",
       "      <td>100.0</td>\n",
       "      <td>30</td>\n",
       "    </tr>\n",
       "    <tr>\n",
       "      <th>3</th>\n",
       "      <td>YMCA</td>\n",
       "      <td>2014-01-07</td>\n",
       "      <td>1</td>\n",
       "      <td>16:00:00</td>\n",
       "      <td>16</td>\n",
       "      <td>10.4</td>\n",
       "      <td>10.7</td>\n",
       "      <td>10.3</td>\n",
       "      <td>82</td>\n",
       "      <td>7.4</td>\n",
       "      <td>...</td>\n",
       "      <td>50</td>\n",
       "      <td>6.6</td>\n",
       "      <td>16.1</td>\n",
       "      <td>9.39</td>\n",
       "      <td>0.0741</td>\n",
       "      <td>0.03</td>\n",
       "      <td>702</td>\n",
       "      <td>1</td>\n",
       "      <td>100.0</td>\n",
       "      <td>30</td>\n",
       "    </tr>\n",
       "    <tr>\n",
       "      <th>4</th>\n",
       "      <td>YMCA</td>\n",
       "      <td>2014-01-07</td>\n",
       "      <td>1</td>\n",
       "      <td>16:30:00</td>\n",
       "      <td>16</td>\n",
       "      <td>10.3</td>\n",
       "      <td>10.4</td>\n",
       "      <td>10.3</td>\n",
       "      <td>84</td>\n",
       "      <td>7.7</td>\n",
       "      <td>...</td>\n",
       "      <td>50</td>\n",
       "      <td>6.3</td>\n",
       "      <td>15.8</td>\n",
       "      <td>9.40</td>\n",
       "      <td>0.0742</td>\n",
       "      <td>0.00</td>\n",
       "      <td>703</td>\n",
       "      <td>1</td>\n",
       "      <td>100.0</td>\n",
       "      <td>30</td>\n",
       "    </tr>\n",
       "  </tbody>\n",
       "</table>\n",
       "<p>5 rows × 38 columns</p>\n",
       "</div>"
      ],
      "text/plain": [
       "   Site       Date  Month      Time  Hour TempOut HiTemp LowTemp OutHum DewPt  \\\n",
       "0  YMCA 2014-01-07      1  14:30:00    14    10.6   10.6    10.4     84     8   \n",
       "1  YMCA 2014-01-07      1  15:00:00    15    10.7   10.8    10.6     83   7.9   \n",
       "2  YMCA 2014-01-07      1  15:30:00    15    10.7   10.8    10.7     81   7.6   \n",
       "3  YMCA 2014-01-07      1  16:00:00    16    10.4   10.7    10.3     82   7.4   \n",
       "4  YMCA 2014-01-07      1  16:30:00    16    10.3   10.4    10.3     84   7.7   \n",
       "\n",
       "   ...  InHum InDew  InHeat  InEMC InAirDensity    ET WindSamp WindTx  \\\n",
       "0  ...     50   6.8    16.3   9.39       0.0739  0.00      385      1   \n",
       "1  ...     50   6.8    16.2   9.39       0.0740  0.03      702      1   \n",
       "2  ...     50   6.6    16.1   9.39       0.0740  0.00      703      1   \n",
       "3  ...     50   6.6    16.1   9.39       0.0741  0.03      702      1   \n",
       "4  ...     50   6.3    15.8   9.40       0.0742  0.00      703      1   \n",
       "\n",
       "  ISSRecept  ArcInt  \n",
       "0      56.3      30  \n",
       "1     100.0      30  \n",
       "2     100.0      30  \n",
       "3     100.0      30  \n",
       "4     100.0      30  \n",
       "\n",
       "[5 rows x 38 columns]"
      ]
     },
     "execution_count": 6,
     "metadata": {},
     "output_type": "execute_result"
    }
   ],
   "source": [
    "raw_UK_Weather.head()"
   ]
  },
  {
   "cell_type": "markdown",
   "id": "7872cafb",
   "metadata": {},
   "source": [
    "#### 5.2 Drop Useless Columns<a id='5.2_Drop_Useless_Columns'></a>"
   ]
  },
  {
   "cell_type": "markdown",
   "id": "acbd0fc7",
   "metadata": {},
   "source": [
    "The first thing I would like to do is drop the unimportant columns from the power data. The data was collected with the purpose of studying the impact on line voltage from the connection of solar panels to the grid. This purpose is quite different form ours, which means that a lot of the data isn't going to be needed; columns dealing with current, voltage, and frequency, for instance. The data we are looking for is in the P_GEN colum. This column records the amount of power being generated at each ten minute interval. We will also be keeping the time data and site data, as well, to use when joining with the weather dataset."
   ]
  },
  {
   "cell_type": "code",
   "execution_count": 7,
   "id": "3242b1cd",
   "metadata": {},
   "outputs": [],
   "source": [
    "cols = [\"Substation\", \"datetime\", \"P_GEN\"]\n",
    "\n",
    "UK_Power = raw_UK_Power[cols]"
   ]
  },
  {
   "cell_type": "markdown",
   "id": "0f9bb38d",
   "metadata": {},
   "source": [
    "#### 5.3 Drop Null Values<a id='5.3_Drop_Null_Values'></a>"
   ]
  },
  {
   "cell_type": "code",
   "execution_count": 8,
   "id": "333426a5",
   "metadata": {},
   "outputs": [
    {
     "data": {
      "text/plain": [
       "Substation  datetime  P_GEN\n",
       "False       False     False    131680\n",
       "                      True          1\n",
       "dtype: int64"
      ]
     },
     "execution_count": 8,
     "metadata": {},
     "output_type": "execute_result"
    }
   ],
   "source": [
    "UK_Power.isnull().value_counts()"
   ]
  },
  {
   "cell_type": "markdown",
   "id": "9c2dc7ee",
   "metadata": {},
   "source": [
    "I think it would be best to drop the missing value row, as we are not short on data."
   ]
  },
  {
   "cell_type": "code",
   "execution_count": 9,
   "id": "40415118",
   "metadata": {},
   "outputs": [],
   "source": [
    "UK_Power.dropna(inplace = True)"
   ]
  },
  {
   "cell_type": "markdown",
   "id": "84cf9ea2",
   "metadata": {},
   "source": [
    "Let's look at the P_GEN column a little closer."
   ]
  },
  {
   "cell_type": "code",
   "execution_count": 10,
   "id": "79b1acfa",
   "metadata": {},
   "outputs": [
    {
     "data": {
      "text/plain": [
       "count    131680.000000\n",
       "mean          0.361563\n",
       "std           0.697643\n",
       "min          -1.680000\n",
       "25%          -0.005000\n",
       "50%           0.008000\n",
       "75%           0.349000\n",
       "max           3.965000\n",
       "Name: P_GEN, dtype: float64"
      ]
     },
     "execution_count": 10,
     "metadata": {},
     "output_type": "execute_result"
    }
   ],
   "source": [
    "UK_Power['P_GEN'].describe()"
   ]
  },
  {
   "cell_type": "code",
   "execution_count": 11,
   "id": "d2aa9711",
   "metadata": {},
   "outputs": [
    {
     "data": {
      "text/plain": [
       "-0.005    20787\n",
       " 0.003    11333\n",
       "-0.004    10229\n",
       "-0.026     8187\n",
       " 0.002     7387\n",
       "          ...  \n",
       " 3.328        1\n",
       " 3.417        1\n",
       " 3.297        1\n",
       " 3.260        1\n",
       " 2.881        1\n",
       "Name: P_GEN, Length: 3529, dtype: int64"
      ]
     },
     "execution_count": 11,
     "metadata": {},
     "output_type": "execute_result"
    }
   ],
   "source": [
    "UK_Power['P_GEN'].value_counts()"
   ]
  },
  {
   "cell_type": "markdown",
   "id": "1dd9f0a0",
   "metadata": {},
   "source": [
    "It appears that a lot of the values are one of a few small or negative values. It can be assumed that this would mean that either no power was bein generated or there was something wrong with the measurement devices. The mean is being pulled down a lot by these values."
   ]
  },
  {
   "cell_type": "markdown",
   "id": "8395316b",
   "metadata": {},
   "source": [
    "Now we should consider those other erroneous values [-0005, -0.004, -0.026, etc]. Let's look at the distribution of the the value counts."
   ]
  },
  {
   "cell_type": "code",
   "execution_count": 12,
   "id": "5321ef5e",
   "metadata": {
    "scrolled": true
   },
   "outputs": [
    {
     "data": {
      "image/png": "[encoded data removed]",
      "text/plain": [
       "<Figure size 432x288 with 1 Axes>"
      ]
     },
     "metadata": {
      "needs_background": "light"
     },
     "output_type": "display_data"
    }
   ],
   "source": [
    "plt.hist(x = UK_Power['P_GEN'], bins = 20, cumulative = True, histtype = 'step', range = (-0.5, 4))\n",
    "plt.xlabel('Power generated in kW')\n",
    "plt.ylabel('Value counts')\n",
    "plt.show()"
   ]
  },
  {
   "cell_type": "markdown",
   "id": "e7876a8a",
   "metadata": {},
   "source": [
    "More than 80,000 of the data points are around zero. And many of those are below zero, as we've seen. The best option is to leave these values for now and revisit them later."
   ]
  },
  {
   "cell_type": "markdown",
   "id": "76f753ad",
   "metadata": {},
   "source": [
    "#### 5.4 Preparation for Joining<a id='5.4_Preparation_for_Joining'></a>"
   ]
  },
  {
   "cell_type": "markdown",
   "id": "35265157",
   "metadata": {},
   "source": [
    "The goal is to join these two datasets together, but first we need to make sure we have a column to join on. The 'datetime' column from UK_Power and the 'Date' column from raw_UK_Weather seem to be the best candidates. Let's look at those columns"
   ]
  },
  {
   "cell_type": "code",
   "execution_count": 13,
   "id": "d8c9a924",
   "metadata": {},
   "outputs": [
    {
     "name": "stdout",
     "output_type": "stream",
     "text": [
      "object\n",
      "datetime64[ns]\n"
     ]
    }
   ],
   "source": [
    "print(UK_Power['datetime'].dtype)\n",
    "print(raw_UK_Weather['Date'].dtype)"
   ]
  },
  {
   "cell_type": "markdown",
   "id": "eddd9016",
   "metadata": {},
   "source": [
    "I'm going to make the 'datetime' column from UK_Power into a pandas datetime object to match the 'Date' column from raw_UK_Weather. I'll also name the new column 'Date', to match."
   ]
  },
  {
   "cell_type": "code",
   "execution_count": 14,
   "id": "363c432d",
   "metadata": {},
   "outputs": [
    {
     "data": {
      "text/html": [
       "<div>\n",
       "<style scoped>\n",
       "    .dataframe tbody tr th:only-of-type {\n",
       "        vertical-align: middle;\n",
       "    }\n",
       "\n",
       "    .dataframe tbody tr th {\n",
       "        vertical-align: top;\n",
       "    }\n",
       "\n",
       "    .dataframe thead th {\n",
       "        text-align: right;\n",
       "    }\n",
       "</style>\n",
       "<table border=\"1\" class=\"dataframe\">\n",
       "  <thead>\n",
       "    <tr style=\"text-align: right;\">\n",
       "      <th></th>\n",
       "      <th>Substation</th>\n",
       "      <th>P_GEN</th>\n",
       "      <th>Date</th>\n",
       "    </tr>\n",
       "  </thead>\n",
       "  <tbody>\n",
       "    <tr>\n",
       "      <th>0</th>\n",
       "      <td>Forest Road</td>\n",
       "      <td>0.002</td>\n",
       "      <td>2014-06-10 02:10:00</td>\n",
       "    </tr>\n",
       "    <tr>\n",
       "      <th>1</th>\n",
       "      <td>Forest Road</td>\n",
       "      <td>0.002</td>\n",
       "      <td>2014-06-10 02:20:00</td>\n",
       "    </tr>\n",
       "    <tr>\n",
       "      <th>2</th>\n",
       "      <td>Forest Road</td>\n",
       "      <td>0.002</td>\n",
       "      <td>2014-06-10 02:30:00</td>\n",
       "    </tr>\n",
       "    <tr>\n",
       "      <th>3</th>\n",
       "      <td>Forest Road</td>\n",
       "      <td>0.002</td>\n",
       "      <td>2014-06-10 02:40:00</td>\n",
       "    </tr>\n",
       "    <tr>\n",
       "      <th>4</th>\n",
       "      <td>Forest Road</td>\n",
       "      <td>0.002</td>\n",
       "      <td>2014-06-10 02:50:00</td>\n",
       "    </tr>\n",
       "  </tbody>\n",
       "</table>\n",
       "</div>"
      ],
      "text/plain": [
       "    Substation  P_GEN                Date\n",
       "0  Forest Road  0.002 2014-06-10 02:10:00\n",
       "1  Forest Road  0.002 2014-06-10 02:20:00\n",
       "2  Forest Road  0.002 2014-06-10 02:30:00\n",
       "3  Forest Road  0.002 2014-06-10 02:40:00\n",
       "4  Forest Road  0.002 2014-06-10 02:50:00"
      ]
     },
     "execution_count": 14,
     "metadata": {},
     "output_type": "execute_result"
    }
   ],
   "source": [
    "UK_Power['Date'] = pd.to_datetime(UK_Power['datetime'], yearfirst = True)\n",
    "UK_Power.drop('datetime', inplace = True, axis = 1)\n",
    "UK_Power.head()"
   ]
  },
  {
   "cell_type": "code",
   "execution_count": 15,
   "id": "7bb24dab",
   "metadata": {},
   "outputs": [
    {
     "name": "stdout",
     "output_type": "stream",
     "text": [
      "datetime64[ns]\n"
     ]
    }
   ],
   "source": [
    "print(UK_Power['Date'].dtype)"
   ]
  },
  {
   "cell_type": "markdown",
   "id": "69b3f8d5",
   "metadata": {},
   "source": [
    "Great! Now we have a column to join on with the same name and type. Let's look at the other 'Date' column and make sure it has all of the info that we need."
   ]
  },
  {
   "cell_type": "code",
   "execution_count": 16,
   "id": "26e6a7ad",
   "metadata": {},
   "outputs": [
    {
     "data": {
      "text/plain": [
       "0   2014-01-07\n",
       "1   2014-01-07\n",
       "2   2014-01-07\n",
       "3   2014-01-07\n",
       "4   2014-01-07\n",
       "Name: Date, dtype: datetime64[ns]"
      ]
     },
     "execution_count": 16,
     "metadata": {},
     "output_type": "execute_result"
    }
   ],
   "source": [
    "raw_UK_Weather['Date'].head()"
   ]
  },
  {
   "cell_type": "markdown",
   "id": "5f91bd8a",
   "metadata": {},
   "source": [
    "It doesn't seem to have the time, just the date. We can get the time from the 'Time' column. Let's combine the two."
   ]
  },
  {
   "cell_type": "code",
   "execution_count": 17,
   "id": "218994a6",
   "metadata": {},
   "outputs": [
    {
     "name": "stdout",
     "output_type": "stream",
     "text": [
      "object\n"
     ]
    }
   ],
   "source": [
    "print(raw_UK_Weather['Time'].dtype)"
   ]
  },
  {
   "cell_type": "code",
   "execution_count": 18,
   "id": "89c54f1a",
   "metadata": {},
   "outputs": [],
   "source": [
    "raw_UK_Weather['Date'] = raw_UK_Weather['Date'].dt.strftime('%Y%m%d')\n",
    "raw_UK_Weather['Time'] = raw_UK_Weather['Time'].agg(lambda time: time.strftime('%H%M%S'))"
   ]
  },
  {
   "cell_type": "code",
   "execution_count": 19,
   "id": "0f319cee",
   "metadata": {},
   "outputs": [],
   "source": [
    "raw_UK_Weather['Date']+=raw_UK_Weather['Time']"
   ]
  },
  {
   "cell_type": "code",
   "execution_count": 20,
   "id": "27c7ea9a",
   "metadata": {},
   "outputs": [],
   "source": [
    "raw_UK_Weather['Date'] = pd.to_datetime(raw_UK_Weather['Date'], format = '%Y%m%d%H%M%S')"
   ]
  },
  {
   "cell_type": "code",
   "execution_count": 21,
   "id": "d42d67cc",
   "metadata": {},
   "outputs": [
    {
     "data": {
      "text/html": [
       "<div>\n",
       "<style scoped>\n",
       "    .dataframe tbody tr th:only-of-type {\n",
       "        vertical-align: middle;\n",
       "    }\n",
       "\n",
       "    .dataframe tbody tr th {\n",
       "        vertical-align: top;\n",
       "    }\n",
       "\n",
       "    .dataframe thead th {\n",
       "        text-align: right;\n",
       "    }\n",
       "</style>\n",
       "<table border=\"1\" class=\"dataframe\">\n",
       "  <thead>\n",
       "    <tr style=\"text-align: right;\">\n",
       "      <th></th>\n",
       "      <th>Site</th>\n",
       "      <th>Date</th>\n",
       "      <th>Month</th>\n",
       "      <th>Time</th>\n",
       "      <th>Hour</th>\n",
       "      <th>TempOut</th>\n",
       "      <th>HiTemp</th>\n",
       "      <th>LowTemp</th>\n",
       "      <th>OutHum</th>\n",
       "      <th>DewPt</th>\n",
       "      <th>...</th>\n",
       "      <th>InHum</th>\n",
       "      <th>InDew</th>\n",
       "      <th>InHeat</th>\n",
       "      <th>InEMC</th>\n",
       "      <th>InAirDensity</th>\n",
       "      <th>ET</th>\n",
       "      <th>WindSamp</th>\n",
       "      <th>WindTx</th>\n",
       "      <th>ISSRecept</th>\n",
       "      <th>ArcInt</th>\n",
       "    </tr>\n",
       "  </thead>\n",
       "  <tbody>\n",
       "    <tr>\n",
       "      <th>0</th>\n",
       "      <td>YMCA</td>\n",
       "      <td>2014-01-07 14:30:00</td>\n",
       "      <td>1</td>\n",
       "      <td>143000</td>\n",
       "      <td>14</td>\n",
       "      <td>10.6</td>\n",
       "      <td>10.6</td>\n",
       "      <td>10.4</td>\n",
       "      <td>84</td>\n",
       "      <td>8</td>\n",
       "      <td>...</td>\n",
       "      <td>50</td>\n",
       "      <td>6.8</td>\n",
       "      <td>16.3</td>\n",
       "      <td>9.39</td>\n",
       "      <td>0.0739</td>\n",
       "      <td>0.00</td>\n",
       "      <td>385</td>\n",
       "      <td>1</td>\n",
       "      <td>56.3</td>\n",
       "      <td>30</td>\n",
       "    </tr>\n",
       "    <tr>\n",
       "      <th>1</th>\n",
       "      <td>YMCA</td>\n",
       "      <td>2014-01-07 15:00:00</td>\n",
       "      <td>1</td>\n",
       "      <td>150000</td>\n",
       "      <td>15</td>\n",
       "      <td>10.7</td>\n",
       "      <td>10.8</td>\n",
       "      <td>10.6</td>\n",
       "      <td>83</td>\n",
       "      <td>7.9</td>\n",
       "      <td>...</td>\n",
       "      <td>50</td>\n",
       "      <td>6.8</td>\n",
       "      <td>16.2</td>\n",
       "      <td>9.39</td>\n",
       "      <td>0.0740</td>\n",
       "      <td>0.03</td>\n",
       "      <td>702</td>\n",
       "      <td>1</td>\n",
       "      <td>100.0</td>\n",
       "      <td>30</td>\n",
       "    </tr>\n",
       "    <tr>\n",
       "      <th>2</th>\n",
       "      <td>YMCA</td>\n",
       "      <td>2014-01-07 15:30:00</td>\n",
       "      <td>1</td>\n",
       "      <td>153000</td>\n",
       "      <td>15</td>\n",
       "      <td>10.7</td>\n",
       "      <td>10.8</td>\n",
       "      <td>10.7</td>\n",
       "      <td>81</td>\n",
       "      <td>7.6</td>\n",
       "      <td>...</td>\n",
       "      <td>50</td>\n",
       "      <td>6.6</td>\n",
       "      <td>16.1</td>\n",
       "      <td>9.39</td>\n",
       "      <td>0.0740</td>\n",
       "      <td>0.00</td>\n",
       "      <td>703</td>\n",
       "      <td>1</td>\n",
       "      <td>100.0</td>\n",
       "      <td>30</td>\n",
       "    </tr>\n",
       "    <tr>\n",
       "      <th>3</th>\n",
       "      <td>YMCA</td>\n",
       "      <td>2014-01-07 16:00:00</td>\n",
       "      <td>1</td>\n",
       "      <td>160000</td>\n",
       "      <td>16</td>\n",
       "      <td>10.4</td>\n",
       "      <td>10.7</td>\n",
       "      <td>10.3</td>\n",
       "      <td>82</td>\n",
       "      <td>7.4</td>\n",
       "      <td>...</td>\n",
       "      <td>50</td>\n",
       "      <td>6.6</td>\n",
       "      <td>16.1</td>\n",
       "      <td>9.39</td>\n",
       "      <td>0.0741</td>\n",
       "      <td>0.03</td>\n",
       "      <td>702</td>\n",
       "      <td>1</td>\n",
       "      <td>100.0</td>\n",
       "      <td>30</td>\n",
       "    </tr>\n",
       "    <tr>\n",
       "      <th>4</th>\n",
       "      <td>YMCA</td>\n",
       "      <td>2014-01-07 16:30:00</td>\n",
       "      <td>1</td>\n",
       "      <td>163000</td>\n",
       "      <td>16</td>\n",
       "      <td>10.3</td>\n",
       "      <td>10.4</td>\n",
       "      <td>10.3</td>\n",
       "      <td>84</td>\n",
       "      <td>7.7</td>\n",
       "      <td>...</td>\n",
       "      <td>50</td>\n",
       "      <td>6.3</td>\n",
       "      <td>15.8</td>\n",
       "      <td>9.40</td>\n",
       "      <td>0.0742</td>\n",
       "      <td>0.00</td>\n",
       "      <td>703</td>\n",
       "      <td>1</td>\n",
       "      <td>100.0</td>\n",
       "      <td>30</td>\n",
       "    </tr>\n",
       "  </tbody>\n",
       "</table>\n",
       "<p>5 rows × 38 columns</p>\n",
       "</div>"
      ],
      "text/plain": [
       "   Site                Date  Month    Time  Hour TempOut HiTemp LowTemp  \\\n",
       "0  YMCA 2014-01-07 14:30:00      1  143000    14    10.6   10.6    10.4   \n",
       "1  YMCA 2014-01-07 15:00:00      1  150000    15    10.7   10.8    10.6   \n",
       "2  YMCA 2014-01-07 15:30:00      1  153000    15    10.7   10.8    10.7   \n",
       "3  YMCA 2014-01-07 16:00:00      1  160000    16    10.4   10.7    10.3   \n",
       "4  YMCA 2014-01-07 16:30:00      1  163000    16    10.3   10.4    10.3   \n",
       "\n",
       "  OutHum DewPt  ...  InHum InDew  InHeat  InEMC InAirDensity    ET WindSamp  \\\n",
       "0     84     8  ...     50   6.8    16.3   9.39       0.0739  0.00      385   \n",
       "1     83   7.9  ...     50   6.8    16.2   9.39       0.0740  0.03      702   \n",
       "2     81   7.6  ...     50   6.6    16.1   9.39       0.0740  0.00      703   \n",
       "3     82   7.4  ...     50   6.6    16.1   9.39       0.0741  0.03      702   \n",
       "4     84   7.7  ...     50   6.3    15.8   9.40       0.0742  0.00      703   \n",
       "\n",
       "  WindTx ISSRecept  ArcInt  \n",
       "0      1      56.3      30  \n",
       "1      1     100.0      30  \n",
       "2      1     100.0      30  \n",
       "3      1     100.0      30  \n",
       "4      1     100.0      30  \n",
       "\n",
       "[5 rows x 38 columns]"
      ]
     },
     "execution_count": 21,
     "metadata": {},
     "output_type": "execute_result"
    }
   ],
   "source": [
    "raw_UK_Weather.head()"
   ]
  },
  {
   "cell_type": "markdown",
   "id": "fe0c19dd",
   "metadata": {},
   "source": [
    "Let's drop the rest of the time columns (Month, Time, Hour). Also, we do not need a number of other variables. For instance, the variables relating to inside factors [inHeat, inDew, etc] and the variables without descriptions [ET, ArcInt, etc]. Let's drop those too."
   ]
  },
  {
   "cell_type": "code",
   "execution_count": 22,
   "id": "d2e07ec1",
   "metadata": {},
   "outputs": [],
   "source": [
    "toDrop = ['Month', 'Time', 'Hour', 'HeatD-D', 'CoolD-D', 'InTemp', 'InHum', 'InDew', 'InHeat', 'InEMC',\n",
    "           'InAirDensity', 'ET', 'WindSamp', 'WindTx', 'ISSRecept', 'ArcInt']\n",
    "raw_UK_Weather.drop(toDrop, axis = 1, inplace = True)"
   ]
  },
  {
   "cell_type": "markdown",
   "id": "4fcaeb39",
   "metadata": {},
   "source": [
    "#### 5.5 Join<a id='5.5_Join'></a>"
   ]
  },
  {
   "cell_type": "markdown",
   "id": "0a9bb877",
   "metadata": {},
   "source": [
    "Perfect. I'm now ready to join the two datasets. I'll join them on the 'Date' column in the places where the 'Substation' is the same as the 'Site'"
   ]
  },
  {
   "cell_type": "code",
   "execution_count": 23,
   "id": "6883e73b",
   "metadata": {},
   "outputs": [],
   "source": [
    "UK_Power.rename(columns = {'Substation':'Site'}, inplace = True)"
   ]
  },
  {
   "cell_type": "code",
   "execution_count": 24,
   "id": "2db1e4cc",
   "metadata": {},
   "outputs": [],
   "source": [
    "UK_data = raw_UK_Weather.merge(UK_Power, on=['Date','Site'], how = 'inner')"
   ]
  },
  {
   "cell_type": "code",
   "execution_count": 25,
   "id": "c0859a77",
   "metadata": {},
   "outputs": [
    {
     "data": {
      "text/html": [
       "<div>\n",
       "<style scoped>\n",
       "    .dataframe tbody tr th:only-of-type {\n",
       "        vertical-align: middle;\n",
       "    }\n",
       "\n",
       "    .dataframe tbody tr th {\n",
       "        vertical-align: top;\n",
       "    }\n",
       "\n",
       "    .dataframe thead th {\n",
       "        text-align: right;\n",
       "    }\n",
       "</style>\n",
       "<table border=\"1\" class=\"dataframe\">\n",
       "  <thead>\n",
       "    <tr style=\"text-align: right;\">\n",
       "      <th></th>\n",
       "      <th>Site</th>\n",
       "      <th>Date</th>\n",
       "      <th>TempOut</th>\n",
       "      <th>HiTemp</th>\n",
       "      <th>LowTemp</th>\n",
       "      <th>OutHum</th>\n",
       "      <th>DewPt</th>\n",
       "      <th>WindSpeed</th>\n",
       "      <th>WindDir</th>\n",
       "      <th>WindRun</th>\n",
       "      <th>...</th>\n",
       "      <th>HeatIndex</th>\n",
       "      <th>THWIndex</th>\n",
       "      <th>THSWIndex</th>\n",
       "      <th>Bar</th>\n",
       "      <th>Rain</th>\n",
       "      <th>RainRate</th>\n",
       "      <th>SolarRad</th>\n",
       "      <th>SolarEnergy</th>\n",
       "      <th>HiSolarRad</th>\n",
       "      <th>P_GEN</th>\n",
       "    </tr>\n",
       "  </thead>\n",
       "  <tbody>\n",
       "    <tr>\n",
       "      <th>0</th>\n",
       "      <td>YMCA</td>\n",
       "      <td>2014-06-10 02:30:00</td>\n",
       "      <td>15.7</td>\n",
       "      <td>16.2</td>\n",
       "      <td>15.7</td>\n",
       "      <td>89</td>\n",
       "      <td>13.9</td>\n",
       "      <td>0</td>\n",
       "      <td>NNW</td>\n",
       "      <td>0.0</td>\n",
       "      <td>...</td>\n",
       "      <td>15.8</td>\n",
       "      <td>15.8</td>\n",
       "      <td>---</td>\n",
       "      <td>754.6</td>\n",
       "      <td>0.0</td>\n",
       "      <td>0.0</td>\n",
       "      <td>0</td>\n",
       "      <td>0</td>\n",
       "      <td>0</td>\n",
       "      <td>-0.005</td>\n",
       "    </tr>\n",
       "    <tr>\n",
       "      <th>1</th>\n",
       "      <td>YMCA</td>\n",
       "      <td>2014-06-10 03:00:00</td>\n",
       "      <td>15.2</td>\n",
       "      <td>15.7</td>\n",
       "      <td>15.2</td>\n",
       "      <td>90</td>\n",
       "      <td>13.6</td>\n",
       "      <td>0</td>\n",
       "      <td>---</td>\n",
       "      <td>0.0</td>\n",
       "      <td>...</td>\n",
       "      <td>15.3</td>\n",
       "      <td>15.3</td>\n",
       "      <td>---</td>\n",
       "      <td>754.8</td>\n",
       "      <td>0.0</td>\n",
       "      <td>0.0</td>\n",
       "      <td>0</td>\n",
       "      <td>0</td>\n",
       "      <td>0</td>\n",
       "      <td>-0.005</td>\n",
       "    </tr>\n",
       "    <tr>\n",
       "      <th>2</th>\n",
       "      <td>YMCA</td>\n",
       "      <td>2014-06-10 03:30:00</td>\n",
       "      <td>14.9</td>\n",
       "      <td>15.2</td>\n",
       "      <td>14.9</td>\n",
       "      <td>90</td>\n",
       "      <td>13.3</td>\n",
       "      <td>0</td>\n",
       "      <td>---</td>\n",
       "      <td>0.0</td>\n",
       "      <td>...</td>\n",
       "      <td>15</td>\n",
       "      <td>15</td>\n",
       "      <td>---</td>\n",
       "      <td>754.6</td>\n",
       "      <td>0.0</td>\n",
       "      <td>0.0</td>\n",
       "      <td>0</td>\n",
       "      <td>0</td>\n",
       "      <td>0</td>\n",
       "      <td>-0.005</td>\n",
       "    </tr>\n",
       "    <tr>\n",
       "      <th>3</th>\n",
       "      <td>YMCA</td>\n",
       "      <td>2014-06-10 04:00:00</td>\n",
       "      <td>14.4</td>\n",
       "      <td>14.9</td>\n",
       "      <td>14.4</td>\n",
       "      <td>89</td>\n",
       "      <td>12.7</td>\n",
       "      <td>0</td>\n",
       "      <td>---</td>\n",
       "      <td>0.0</td>\n",
       "      <td>...</td>\n",
       "      <td>14.5</td>\n",
       "      <td>14.5</td>\n",
       "      <td>---</td>\n",
       "      <td>755.0</td>\n",
       "      <td>0.0</td>\n",
       "      <td>0.0</td>\n",
       "      <td>0</td>\n",
       "      <td>0</td>\n",
       "      <td>0</td>\n",
       "      <td>-0.005</td>\n",
       "    </tr>\n",
       "    <tr>\n",
       "      <th>4</th>\n",
       "      <td>YMCA</td>\n",
       "      <td>2014-06-10 04:30:00</td>\n",
       "      <td>14.2</td>\n",
       "      <td>14.4</td>\n",
       "      <td>14.1</td>\n",
       "      <td>90</td>\n",
       "      <td>12.5</td>\n",
       "      <td>0</td>\n",
       "      <td>NNW</td>\n",
       "      <td>0.0</td>\n",
       "      <td>...</td>\n",
       "      <td>14.2</td>\n",
       "      <td>14.2</td>\n",
       "      <td>---</td>\n",
       "      <td>755.4</td>\n",
       "      <td>0.0</td>\n",
       "      <td>0.0</td>\n",
       "      <td>0</td>\n",
       "      <td>0</td>\n",
       "      <td>0</td>\n",
       "      <td>-0.003</td>\n",
       "    </tr>\n",
       "  </tbody>\n",
       "</table>\n",
       "<p>5 rows × 23 columns</p>\n",
       "</div>"
      ],
      "text/plain": [
       "   Site                Date TempOut HiTemp LowTemp OutHum DewPt  WindSpeed  \\\n",
       "0  YMCA 2014-06-10 02:30:00    15.7   16.2    15.7     89  13.9          0   \n",
       "1  YMCA 2014-06-10 03:00:00    15.2   15.7    15.2     90  13.6          0   \n",
       "2  YMCA 2014-06-10 03:30:00    14.9   15.2    14.9     90  13.3          0   \n",
       "3  YMCA 2014-06-10 04:00:00    14.4   14.9    14.4     89  12.7          0   \n",
       "4  YMCA 2014-06-10 04:30:00    14.2   14.4    14.1     90  12.5          0   \n",
       "\n",
       "  WindDir  WindRun  ...  HeatIndex THWIndex THSWIndex    Bar Rain RainRate  \\\n",
       "0     NNW      0.0  ...       15.8     15.8       ---  754.6  0.0      0.0   \n",
       "1     ---      0.0  ...       15.3     15.3       ---  754.8  0.0      0.0   \n",
       "2     ---      0.0  ...         15       15       ---  754.6  0.0      0.0   \n",
       "3     ---      0.0  ...       14.5     14.5       ---  755.0  0.0      0.0   \n",
       "4     NNW      0.0  ...       14.2     14.2       ---  755.4  0.0      0.0   \n",
       "\n",
       "   SolarRad  SolarEnergy  HiSolarRad  P_GEN  \n",
       "0         0            0           0 -0.005  \n",
       "1         0            0           0 -0.005  \n",
       "2         0            0           0 -0.005  \n",
       "3         0            0           0 -0.005  \n",
       "4         0            0           0 -0.003  \n",
       "\n",
       "[5 rows x 23 columns]"
      ]
     },
     "execution_count": 25,
     "metadata": {},
     "output_type": "execute_result"
    }
   ],
   "source": [
    "UK_data.head()"
   ]
  },
  {
   "cell_type": "markdown",
   "id": "22bd6bd3",
   "metadata": {},
   "source": [
    "#### 5.6 Changing dtypes<a id='5.6_Changing_dtypes'></a>"
   ]
  },
  {
   "cell_type": "markdown",
   "id": "5067901e",
   "metadata": {},
   "source": [
    "Awesome! We now have the weather data and the power generation data in the same dataframe. We can now use this dataframe for visualising the relationships between the different weather variables and solar power energy generation. However, some columns that might be useful in our model are not listed as numerical values, but objects instead. These values include temperature, dewpoint, solar radiation, etc. We should take a closer look at those values before proceeding"
   ]
  },
  {
   "cell_type": "markdown",
   "id": "c5e22172",
   "metadata": {},
   "source": [
    "TempOut appears to be a float when looking at the dataframe, however it's listed as an object. I suspect it was entered as a string. Let's find out."
   ]
  },
  {
   "cell_type": "code",
   "execution_count": 26,
   "id": "b97acb39",
   "metadata": {},
   "outputs": [
    {
     "data": {
      "text/plain": [
       "float"
      ]
     },
     "execution_count": 26,
     "metadata": {},
     "output_type": "execute_result"
    }
   ],
   "source": [
    "type(UK_data['TempOut'][0])"
   ]
  },
  {
   "cell_type": "markdown",
   "id": "ee728858",
   "metadata": {},
   "source": [
    "Not a string, but a float object. Lets look at a transposed dataframe to investigate all of the variables"
   ]
  },
  {
   "cell_type": "code",
   "execution_count": 27,
   "id": "a935c52b",
   "metadata": {},
   "outputs": [
    {
     "data": {
      "text/html": [
       "<div>\n",
       "<style scoped>\n",
       "    .dataframe tbody tr th:only-of-type {\n",
       "        vertical-align: middle;\n",
       "    }\n",
       "\n",
       "    .dataframe tbody tr th {\n",
       "        vertical-align: top;\n",
       "    }\n",
       "\n",
       "    .dataframe thead th {\n",
       "        text-align: right;\n",
       "    }\n",
       "</style>\n",
       "<table border=\"1\" class=\"dataframe\">\n",
       "  <thead>\n",
       "    <tr style=\"text-align: right;\">\n",
       "      <th></th>\n",
       "      <th>0</th>\n",
       "      <th>1</th>\n",
       "      <th>2</th>\n",
       "      <th>3</th>\n",
       "      <th>4</th>\n",
       "    </tr>\n",
       "  </thead>\n",
       "  <tbody>\n",
       "    <tr>\n",
       "      <th>Site</th>\n",
       "      <td>YMCA</td>\n",
       "      <td>YMCA</td>\n",
       "      <td>YMCA</td>\n",
       "      <td>YMCA</td>\n",
       "      <td>YMCA</td>\n",
       "    </tr>\n",
       "    <tr>\n",
       "      <th>Date</th>\n",
       "      <td>2014-06-10 02:30:00</td>\n",
       "      <td>2014-06-10 03:00:00</td>\n",
       "      <td>2014-06-10 03:30:00</td>\n",
       "      <td>2014-06-10 04:00:00</td>\n",
       "      <td>2014-06-10 04:30:00</td>\n",
       "    </tr>\n",
       "    <tr>\n",
       "      <th>TempOut</th>\n",
       "      <td>15.7</td>\n",
       "      <td>15.2</td>\n",
       "      <td>14.9</td>\n",
       "      <td>14.4</td>\n",
       "      <td>14.2</td>\n",
       "    </tr>\n",
       "    <tr>\n",
       "      <th>HiTemp</th>\n",
       "      <td>16.2</td>\n",
       "      <td>15.7</td>\n",
       "      <td>15.2</td>\n",
       "      <td>14.9</td>\n",
       "      <td>14.4</td>\n",
       "    </tr>\n",
       "    <tr>\n",
       "      <th>LowTemp</th>\n",
       "      <td>15.7</td>\n",
       "      <td>15.2</td>\n",
       "      <td>14.9</td>\n",
       "      <td>14.4</td>\n",
       "      <td>14.1</td>\n",
       "    </tr>\n",
       "    <tr>\n",
       "      <th>OutHum</th>\n",
       "      <td>89</td>\n",
       "      <td>90</td>\n",
       "      <td>90</td>\n",
       "      <td>89</td>\n",
       "      <td>90</td>\n",
       "    </tr>\n",
       "    <tr>\n",
       "      <th>DewPt</th>\n",
       "      <td>13.9</td>\n",
       "      <td>13.6</td>\n",
       "      <td>13.3</td>\n",
       "      <td>12.7</td>\n",
       "      <td>12.5</td>\n",
       "    </tr>\n",
       "    <tr>\n",
       "      <th>WindSpeed</th>\n",
       "      <td>0</td>\n",
       "      <td>0</td>\n",
       "      <td>0</td>\n",
       "      <td>0</td>\n",
       "      <td>0</td>\n",
       "    </tr>\n",
       "    <tr>\n",
       "      <th>WindDir</th>\n",
       "      <td>NNW</td>\n",
       "      <td>---</td>\n",
       "      <td>---</td>\n",
       "      <td>---</td>\n",
       "      <td>NNW</td>\n",
       "    </tr>\n",
       "    <tr>\n",
       "      <th>WindRun</th>\n",
       "      <td>0.0</td>\n",
       "      <td>0.0</td>\n",
       "      <td>0.0</td>\n",
       "      <td>0.0</td>\n",
       "      <td>0.0</td>\n",
       "    </tr>\n",
       "    <tr>\n",
       "      <th>HiSpeed</th>\n",
       "      <td>1</td>\n",
       "      <td>0</td>\n",
       "      <td>0</td>\n",
       "      <td>0</td>\n",
       "      <td>1</td>\n",
       "    </tr>\n",
       "    <tr>\n",
       "      <th>HiDir</th>\n",
       "      <td>NNW</td>\n",
       "      <td>---</td>\n",
       "      <td>---</td>\n",
       "      <td>---</td>\n",
       "      <td>NNW</td>\n",
       "    </tr>\n",
       "    <tr>\n",
       "      <th>WindChill</th>\n",
       "      <td>15.7</td>\n",
       "      <td>15.2</td>\n",
       "      <td>14.9</td>\n",
       "      <td>14.4</td>\n",
       "      <td>14.2</td>\n",
       "    </tr>\n",
       "    <tr>\n",
       "      <th>HeatIndex</th>\n",
       "      <td>15.8</td>\n",
       "      <td>15.3</td>\n",
       "      <td>15</td>\n",
       "      <td>14.5</td>\n",
       "      <td>14.2</td>\n",
       "    </tr>\n",
       "    <tr>\n",
       "      <th>THWIndex</th>\n",
       "      <td>15.8</td>\n",
       "      <td>15.3</td>\n",
       "      <td>15</td>\n",
       "      <td>14.5</td>\n",
       "      <td>14.2</td>\n",
       "    </tr>\n",
       "    <tr>\n",
       "      <th>THSWIndex</th>\n",
       "      <td>---</td>\n",
       "      <td>---</td>\n",
       "      <td>---</td>\n",
       "      <td>---</td>\n",
       "      <td>---</td>\n",
       "    </tr>\n",
       "    <tr>\n",
       "      <th>Bar</th>\n",
       "      <td>754.6</td>\n",
       "      <td>754.8</td>\n",
       "      <td>754.6</td>\n",
       "      <td>755.0</td>\n",
       "      <td>755.4</td>\n",
       "    </tr>\n",
       "    <tr>\n",
       "      <th>Rain</th>\n",
       "      <td>0.0</td>\n",
       "      <td>0.0</td>\n",
       "      <td>0.0</td>\n",
       "      <td>0.0</td>\n",
       "      <td>0.0</td>\n",
       "    </tr>\n",
       "    <tr>\n",
       "      <th>RainRate</th>\n",
       "      <td>0.0</td>\n",
       "      <td>0.0</td>\n",
       "      <td>0.0</td>\n",
       "      <td>0.0</td>\n",
       "      <td>0.0</td>\n",
       "    </tr>\n",
       "    <tr>\n",
       "      <th>SolarRad</th>\n",
       "      <td>0</td>\n",
       "      <td>0</td>\n",
       "      <td>0</td>\n",
       "      <td>0</td>\n",
       "      <td>0</td>\n",
       "    </tr>\n",
       "    <tr>\n",
       "      <th>SolarEnergy</th>\n",
       "      <td>0</td>\n",
       "      <td>0</td>\n",
       "      <td>0</td>\n",
       "      <td>0</td>\n",
       "      <td>0</td>\n",
       "    </tr>\n",
       "    <tr>\n",
       "      <th>HiSolarRad</th>\n",
       "      <td>0</td>\n",
       "      <td>0</td>\n",
       "      <td>0</td>\n",
       "      <td>0</td>\n",
       "      <td>0</td>\n",
       "    </tr>\n",
       "    <tr>\n",
       "      <th>P_GEN</th>\n",
       "      <td>-0.005</td>\n",
       "      <td>-0.005</td>\n",
       "      <td>-0.005</td>\n",
       "      <td>-0.005</td>\n",
       "      <td>-0.003</td>\n",
       "    </tr>\n",
       "  </tbody>\n",
       "</table>\n",
       "</div>"
      ],
      "text/plain": [
       "                               0                    1                    2  \\\n",
       "Site                        YMCA                 YMCA                 YMCA   \n",
       "Date         2014-06-10 02:30:00  2014-06-10 03:00:00  2014-06-10 03:30:00   \n",
       "TempOut                     15.7                 15.2                 14.9   \n",
       "HiTemp                      16.2                 15.7                 15.2   \n",
       "LowTemp                     15.7                 15.2                 14.9   \n",
       "OutHum                        89                   90                   90   \n",
       "DewPt                       13.9                 13.6                 13.3   \n",
       "WindSpeed                      0                    0                    0   \n",
       "WindDir                      NNW                  ---                  ---   \n",
       "WindRun                      0.0                  0.0                  0.0   \n",
       "HiSpeed                        1                    0                    0   \n",
       "HiDir                        NNW                  ---                  ---   \n",
       "WindChill                   15.7                 15.2                 14.9   \n",
       "HeatIndex                   15.8                 15.3                   15   \n",
       "THWIndex                    15.8                 15.3                   15   \n",
       "THSWIndex                    ---                  ---                  ---   \n",
       "Bar                        754.6                754.8                754.6   \n",
       "Rain                         0.0                  0.0                  0.0   \n",
       "RainRate                     0.0                  0.0                  0.0   \n",
       "SolarRad                       0                    0                    0   \n",
       "SolarEnergy                    0                    0                    0   \n",
       "HiSolarRad                     0                    0                    0   \n",
       "P_GEN                     -0.005               -0.005               -0.005   \n",
       "\n",
       "                               3                    4  \n",
       "Site                        YMCA                 YMCA  \n",
       "Date         2014-06-10 04:00:00  2014-06-10 04:30:00  \n",
       "TempOut                     14.4                 14.2  \n",
       "HiTemp                      14.9                 14.4  \n",
       "LowTemp                     14.4                 14.1  \n",
       "OutHum                        89                   90  \n",
       "DewPt                       12.7                 12.5  \n",
       "WindSpeed                      0                    0  \n",
       "WindDir                      ---                  NNW  \n",
       "WindRun                      0.0                  0.0  \n",
       "HiSpeed                        0                    1  \n",
       "HiDir                        ---                  NNW  \n",
       "WindChill                   14.4                 14.2  \n",
       "HeatIndex                   14.5                 14.2  \n",
       "THWIndex                    14.5                 14.2  \n",
       "THSWIndex                    ---                  ---  \n",
       "Bar                        755.0                755.4  \n",
       "Rain                         0.0                  0.0  \n",
       "RainRate                     0.0                  0.0  \n",
       "SolarRad                       0                    0  \n",
       "SolarEnergy                    0                    0  \n",
       "HiSolarRad                     0                    0  \n",
       "P_GEN                     -0.005               -0.003  "
      ]
     },
     "execution_count": 27,
     "metadata": {},
     "output_type": "execute_result"
    }
   ],
   "source": [
    "UK_data.head().T"
   ]
  },
  {
   "cell_type": "markdown",
   "id": "fb6fdbd4",
   "metadata": {},
   "source": [
    "It seems that WindDir and HiDir are the only two non numerical variables. Site, as well, but that won't be needed for the modeling. As well, WindDir and HiDir have a lot of '---' values. It will be hard to infer what those wind directions would be so the best option would be to drop those rows. We will then need to use the get_dummies method to get those variables into usable values for modeling. Let's look at the value counts, first. "
   ]
  },
  {
   "cell_type": "code",
   "execution_count": 28,
   "id": "52a474a5",
   "metadata": {},
   "outputs": [
    {
     "data": {
      "text/plain": [
       "---    3552\n",
       "WSW    2687\n",
       "W      1817\n",
       "ENE    1340\n",
       "WNW    1263\n",
       "NW     1211\n",
       "E      1150\n",
       "N      1061\n",
       "S       892\n",
       "NNE     735\n",
       "NNW     573\n",
       "SW      560\n",
       "SSE     388\n",
       "NE      370\n",
       "SSW     310\n",
       "SE      258\n",
       "ESE     233\n",
       "Name: WindDir, dtype: int64"
      ]
     },
     "execution_count": 28,
     "metadata": {},
     "output_type": "execute_result"
    }
   ],
   "source": [
    "UK_data['WindDir'].value_counts()"
   ]
  },
  {
   "cell_type": "code",
   "execution_count": 29,
   "id": "aaac7cc4",
   "metadata": {},
   "outputs": [
    {
     "data": {
      "text/plain": [
       "---    3551\n",
       "WSW    2602\n",
       "W      1487\n",
       "WNW    1239\n",
       "SW     1145\n",
       "E      1018\n",
       "ENE     982\n",
       "NNW     942\n",
       "N       920\n",
       "NW      916\n",
       "S       848\n",
       "SSW     573\n",
       "NNE     569\n",
       "NE      536\n",
       "SSE     412\n",
       "SE      337\n",
       "ESE     323\n",
       "Name: HiDir, dtype: int64"
      ]
     },
     "execution_count": 29,
     "metadata": {},
     "output_type": "execute_result"
    }
   ],
   "source": [
    "UK_data['HiDir'].value_counts()"
   ]
  },
  {
   "cell_type": "markdown",
   "id": "77c976ef",
   "metadata": {},
   "source": [
    "Assuming the values are '---' at the same observation times, dropping those rows would decrease our data by about a sixth. Let's look at the correlation between wind and power generated"
   ]
  },
  {
   "cell_type": "code",
   "execution_count": 30,
   "id": "15694fc6",
   "metadata": {},
   "outputs": [
    {
     "data": {
      "image/png": "[encoded data removed]",
      "text/plain": [
       "<Figure size 720x720 with 16 Axes>"
      ]
     },
     "metadata": {
      "needs_background": "light"
     },
     "output_type": "display_data"
    }
   ],
   "source": [
    "Wind = UK_data[UK_data['WindDir'] != '---']\n",
    "Wind.hist('P_GEN', by = 'WindDir', figsize = (10,10))\n",
    "plt.title('Power generated at different wind directions')\n",
    "plt.show()"
   ]
  },
  {
   "cell_type": "markdown",
   "id": "33466ff9",
   "metadata": {},
   "source": [
    "There is not much clear difference between the wind direction and the resulting power generated. As well, the wind direction can be thought of as a result of other weather conditions present in the dataset. Let's drop those columns as they are missing many values."
   ]
  },
  {
   "cell_type": "code",
   "execution_count": 31,
   "id": "31063f85",
   "metadata": {},
   "outputs": [],
   "source": [
    "UK_data.drop(['WindDir', 'HiDir'], axis = 1, inplace = True)"
   ]
  },
  {
   "cell_type": "markdown",
   "id": "7241c963",
   "metadata": {},
   "source": [
    "Let's look at THSWIndex, as it appears it as all '---' values."
   ]
  },
  {
   "cell_type": "code",
   "execution_count": 32,
   "id": "7a529b61",
   "metadata": {},
   "outputs": [
    {
     "data": {
      "text/plain": [
       "---    18400\n",
       "Name: THSWIndex, dtype: int64"
      ]
     },
     "execution_count": 32,
     "metadata": {},
     "output_type": "execute_result"
    }
   ],
   "source": [
    "UK_data['THSWIndex'].value_counts()"
   ]
  },
  {
   "cell_type": "markdown",
   "id": "131ed0f5",
   "metadata": {},
   "source": [
    "Yep, let's drop that one too"
   ]
  },
  {
   "cell_type": "code",
   "execution_count": 33,
   "id": "5179cd41",
   "metadata": {},
   "outputs": [],
   "source": [
    "UK_data.drop(['THSWIndex'], axis = 1, inplace = True)"
   ]
  },
  {
   "cell_type": "markdown",
   "id": "7d502dd3",
   "metadata": {},
   "source": [
    "All of the other columns appear to be numerical, yet a lot of them are listed as objects instead of ints or floats. Let's change all of the object columns to be of the type np.float64. First, though we will need to make sure there are not any more of those '---' strings in any other columns"
   ]
  },
  {
   "cell_type": "code",
   "execution_count": 34,
   "id": "020b14c6",
   "metadata": {},
   "outputs": [
    {
     "data": {
      "text/plain": [
       "(18400,)"
      ]
     },
     "execution_count": 34,
     "metadata": {},
     "output_type": "execute_result"
    }
   ],
   "source": [
    "UK_data['Site'].shape"
   ]
  },
  {
   "cell_type": "code",
   "execution_count": 35,
   "id": "17948e13",
   "metadata": {},
   "outputs": [],
   "source": [
    "for col in UK_data.columns:\n",
    "    UK_data = UK_data[UK_data[col] != '---']"
   ]
  },
  {
   "cell_type": "code",
   "execution_count": 36,
   "id": "63113a4a",
   "metadata": {},
   "outputs": [
    {
     "data": {
      "text/plain": [
       "(18399,)"
      ]
     },
     "execution_count": 36,
     "metadata": {},
     "output_type": "execute_result"
    }
   ],
   "source": [
    "UK_data['Site'].shape"
   ]
  },
  {
   "cell_type": "markdown",
   "id": "ae2178f3",
   "metadata": {},
   "source": [
    "Looks like we only had one more instance of '---' after dropping those three columns."
   ]
  },
  {
   "cell_type": "code",
   "execution_count": 37,
   "id": "afbf934c",
   "metadata": {},
   "outputs": [],
   "source": [
    "cols = []\n",
    "for col in UK_data.columns:\n",
    "    if UK_data[col].dtype == 'object' and col != 'Site':\n",
    "        UK_data[col] = UK_data[col].astype(np.float64)"
   ]
  },
  {
   "cell_type": "code",
   "execution_count": 38,
   "id": "9155035d",
   "metadata": {},
   "outputs": [
    {
     "data": {
      "text/plain": [
       "Site                   object\n",
       "Date           datetime64[ns]\n",
       "TempOut               float64\n",
       "HiTemp                float64\n",
       "LowTemp               float64\n",
       "OutHum                float64\n",
       "DewPt                 float64\n",
       "WindSpeed               int64\n",
       "WindRun               float64\n",
       "HiSpeed                 int64\n",
       "WindChill             float64\n",
       "HeatIndex             float64\n",
       "THWIndex              float64\n",
       "Bar                   float64\n",
       "Rain                  float64\n",
       "RainRate              float64\n",
       "SolarRad              float64\n",
       "SolarEnergy           float64\n",
       "HiSolarRad            float64\n",
       "P_GEN                 float64\n",
       "dtype: object"
      ]
     },
     "execution_count": 38,
     "metadata": {},
     "output_type": "execute_result"
    }
   ],
   "source": [
    "UK_data.dtypes"
   ]
  },
  {
   "cell_type": "markdown",
   "id": "3fcb671a",
   "metadata": {},
   "source": [
    "#### 5.7 Finalizing Datasets<a id='5.7_Finalizing_Datasets'></a>"
   ]
  },
  {
   "cell_type": "markdown",
   "id": "4123099a",
   "metadata": {},
   "source": [
    "Awesome, that's done. Let's move on to some visualizations. Before we do that that though, let's make the Date column the index of the dataframe and make some seperate dataframes for the different sites."
   ]
  },
  {
   "cell_type": "code",
   "execution_count": 39,
   "id": "5ee3e869",
   "metadata": {},
   "outputs": [],
   "source": [
    "UK_data.set_index('Date', inplace = True)"
   ]
  },
  {
   "cell_type": "code",
   "execution_count": 41,
   "id": "cd622315",
   "metadata": {},
   "outputs": [
    {
     "data": {
      "text/plain": [
       "YMCA                7805\n",
       "Forest Road         5526\n",
       "Maple Drive East    5068\n",
       "Name: Site, dtype: int64"
      ]
     },
     "execution_count": 41,
     "metadata": {},
     "output_type": "execute_result"
    }
   ],
   "source": [
    "UK_data['Site'].value_counts()"
   ]
  },
  {
   "cell_type": "code",
   "execution_count": 53,
   "id": "a8fcbc0f",
   "metadata": {},
   "outputs": [
    {
     "data": {
      "text/html": [
       "<div>\n",
       "<style scoped>\n",
       "    .dataframe tbody tr th:only-of-type {\n",
       "        vertical-align: middle;\n",
       "    }\n",
       "\n",
       "    .dataframe tbody tr th {\n",
       "        vertical-align: top;\n",
       "    }\n",
       "\n",
       "    .dataframe thead th {\n",
       "        text-align: right;\n",
       "    }\n",
       "</style>\n",
       "<table border=\"1\" class=\"dataframe\">\n",
       "  <thead>\n",
       "    <tr style=\"text-align: right;\">\n",
       "      <th></th>\n",
       "      <th>Site</th>\n",
       "      <th>TempOut</th>\n",
       "      <th>HiTemp</th>\n",
       "      <th>LowTemp</th>\n",
       "      <th>OutHum</th>\n",
       "      <th>DewPt</th>\n",
       "      <th>WindSpeed</th>\n",
       "      <th>WindRun</th>\n",
       "      <th>HiSpeed</th>\n",
       "      <th>WindChill</th>\n",
       "      <th>HeatIndex</th>\n",
       "      <th>THWIndex</th>\n",
       "      <th>Bar</th>\n",
       "      <th>Rain</th>\n",
       "      <th>RainRate</th>\n",
       "      <th>SolarRad</th>\n",
       "      <th>SolarEnergy</th>\n",
       "      <th>HiSolarRad</th>\n",
       "      <th>P_GEN</th>\n",
       "    </tr>\n",
       "    <tr>\n",
       "      <th>Date</th>\n",
       "      <th></th>\n",
       "      <th></th>\n",
       "      <th></th>\n",
       "      <th></th>\n",
       "      <th></th>\n",
       "      <th></th>\n",
       "      <th></th>\n",
       "      <th></th>\n",
       "      <th></th>\n",
       "      <th></th>\n",
       "      <th></th>\n",
       "      <th></th>\n",
       "      <th></th>\n",
       "      <th></th>\n",
       "      <th></th>\n",
       "      <th></th>\n",
       "      <th></th>\n",
       "      <th></th>\n",
       "      <th></th>\n",
       "    </tr>\n",
       "  </thead>\n",
       "  <tbody>\n",
       "    <tr>\n",
       "      <th>2014-06-10 05:00:00</th>\n",
       "      <td>YMCA</td>\n",
       "      <td>14.1</td>\n",
       "      <td>14.2</td>\n",
       "      <td>14.1</td>\n",
       "      <td>91.0</td>\n",
       "      <td>12.6</td>\n",
       "      <td>0</td>\n",
       "      <td>0.0</td>\n",
       "      <td>0</td>\n",
       "      <td>14.1</td>\n",
       "      <td>14.1</td>\n",
       "      <td>14.1</td>\n",
       "      <td>755.5</td>\n",
       "      <td>0.0</td>\n",
       "      <td>0.0</td>\n",
       "      <td>11.0</td>\n",
       "      <td>0.47</td>\n",
       "      <td>18.0</td>\n",
       "      <td>0.014</td>\n",
       "    </tr>\n",
       "    <tr>\n",
       "      <th>2014-06-10 05:30:00</th>\n",
       "      <td>YMCA</td>\n",
       "      <td>14.1</td>\n",
       "      <td>14.1</td>\n",
       "      <td>14.1</td>\n",
       "      <td>91.0</td>\n",
       "      <td>12.7</td>\n",
       "      <td>0</td>\n",
       "      <td>0.0</td>\n",
       "      <td>2</td>\n",
       "      <td>14.1</td>\n",
       "      <td>14.2</td>\n",
       "      <td>14.2</td>\n",
       "      <td>755.5</td>\n",
       "      <td>0.0</td>\n",
       "      <td>0.0</td>\n",
       "      <td>23.0</td>\n",
       "      <td>0.99</td>\n",
       "      <td>26.0</td>\n",
       "      <td>0.067</td>\n",
       "    </tr>\n",
       "    <tr>\n",
       "      <th>2014-06-10 06:00:00</th>\n",
       "      <td>YMCA</td>\n",
       "      <td>14.4</td>\n",
       "      <td>14.4</td>\n",
       "      <td>14.1</td>\n",
       "      <td>91.0</td>\n",
       "      <td>12.9</td>\n",
       "      <td>0</td>\n",
       "      <td>0.0</td>\n",
       "      <td>2</td>\n",
       "      <td>14.4</td>\n",
       "      <td>14.4</td>\n",
       "      <td>14.4</td>\n",
       "      <td>755.7</td>\n",
       "      <td>0.0</td>\n",
       "      <td>0.0</td>\n",
       "      <td>34.0</td>\n",
       "      <td>1.46</td>\n",
       "      <td>81.0</td>\n",
       "      <td>0.216</td>\n",
       "    </tr>\n",
       "    <tr>\n",
       "      <th>2014-06-10 06:30:00</th>\n",
       "      <td>YMCA</td>\n",
       "      <td>15.1</td>\n",
       "      <td>15.1</td>\n",
       "      <td>14.4</td>\n",
       "      <td>86.0</td>\n",
       "      <td>12.7</td>\n",
       "      <td>0</td>\n",
       "      <td>0.0</td>\n",
       "      <td>2</td>\n",
       "      <td>15.1</td>\n",
       "      <td>15.1</td>\n",
       "      <td>15.1</td>\n",
       "      <td>755.8</td>\n",
       "      <td>0.0</td>\n",
       "      <td>0.0</td>\n",
       "      <td>57.0</td>\n",
       "      <td>2.45</td>\n",
       "      <td>137.0</td>\n",
       "      <td>0.256</td>\n",
       "    </tr>\n",
       "    <tr>\n",
       "      <th>2014-06-10 07:00:00</th>\n",
       "      <td>YMCA</td>\n",
       "      <td>16.0</td>\n",
       "      <td>16.0</td>\n",
       "      <td>15.1</td>\n",
       "      <td>77.0</td>\n",
       "      <td>12.0</td>\n",
       "      <td>0</td>\n",
       "      <td>0.0</td>\n",
       "      <td>1</td>\n",
       "      <td>16.0</td>\n",
       "      <td>15.9</td>\n",
       "      <td>15.9</td>\n",
       "      <td>756.2</td>\n",
       "      <td>0.0</td>\n",
       "      <td>0.0</td>\n",
       "      <td>56.0</td>\n",
       "      <td>2.41</td>\n",
       "      <td>192.0</td>\n",
       "      <td>0.284</td>\n",
       "    </tr>\n",
       "  </tbody>\n",
       "</table>\n",
       "</div>"
      ],
      "text/plain": [
       "                     Site  TempOut  HiTemp  LowTemp  OutHum  DewPt  WindSpeed  \\\n",
       "Date                                                                            \n",
       "2014-06-10 05:00:00  YMCA     14.1    14.2     14.1    91.0   12.6          0   \n",
       "2014-06-10 05:30:00  YMCA     14.1    14.1     14.1    91.0   12.7          0   \n",
       "2014-06-10 06:00:00  YMCA     14.4    14.4     14.1    91.0   12.9          0   \n",
       "2014-06-10 06:30:00  YMCA     15.1    15.1     14.4    86.0   12.7          0   \n",
       "2014-06-10 07:00:00  YMCA     16.0    16.0     15.1    77.0   12.0          0   \n",
       "\n",
       "                     WindRun  HiSpeed  WindChill  HeatIndex  THWIndex    Bar  \\\n",
       "Date                                                                           \n",
       "2014-06-10 05:00:00      0.0        0       14.1       14.1      14.1  755.5   \n",
       "2014-06-10 05:30:00      0.0        2       14.1       14.2      14.2  755.5   \n",
       "2014-06-10 06:00:00      0.0        2       14.4       14.4      14.4  755.7   \n",
       "2014-06-10 06:30:00      0.0        2       15.1       15.1      15.1  755.8   \n",
       "2014-06-10 07:00:00      0.0        1       16.0       15.9      15.9  756.2   \n",
       "\n",
       "                     Rain  RainRate  SolarRad  SolarEnergy  HiSolarRad  P_GEN  \n",
       "Date                                                                           \n",
       "2014-06-10 05:00:00   0.0       0.0      11.0         0.47        18.0  0.014  \n",
       "2014-06-10 05:30:00   0.0       0.0      23.0         0.99        26.0  0.067  \n",
       "2014-06-10 06:00:00   0.0       0.0      34.0         1.46        81.0  0.216  \n",
       "2014-06-10 06:30:00   0.0       0.0      57.0         2.45       137.0  0.256  \n",
       "2014-06-10 07:00:00   0.0       0.0      56.0         2.41       192.0  0.284  "
      ]
     },
     "execution_count": 53,
     "metadata": {},
     "output_type": "execute_result"
    }
   ],
   "source": [
    "YMCA = UK_data[UK_data['Site'] == 'YMCA']\n",
    "ForestRoad = UK_data[UK_data['Site'] == 'Forest Road']\n",
    "MapDriveEast = UK_data[UK_data['Site'] == 'Maple Drive East']"
   ]
  },
  {
   "cell_type": "markdown",
   "id": "925a957e",
   "metadata": {},
   "source": [
    "### 6 Explore<a id='6_Explore'></a>"
   ]
  },
  {
   "cell_type": "markdown",
   "id": "a84f9f0d",
   "metadata": {},
   "source": [
    "#### 6.1 Plotting Variables<a id='6.1_Plotting_Variables'></a>"
   ]
  },
  {
   "cell_type": "markdown",
   "id": "1937e1fe",
   "metadata": {},
   "source": [
    "Lets start plotting the different variables and see what we can learn."
   ]
  },
  {
   "cell_type": "code",
   "execution_count": 43,
   "id": "51bcf118",
   "metadata": {},
   "outputs": [
    {
     "data": {
      "image/png": "[encoded data removed]",
      "text/plain": [
       "<Figure size 1440x432 with 3 Axes>"
      ]
     },
     "metadata": {
      "needs_background": "light"
     },
     "output_type": "display_data"
    }
   ],
   "source": [
    "fig, ax = plt.subplots(1, 3, figsize = (20, 6));\n",
    "ax[0].scatter(YMCA.index.month, YMCA['P_GEN'], color = 'b')\n",
    "ax[0].set_xlabel('Month')\n",
    "ax[0].set_ylabel('Power Generated')\n",
    "ax[0].title.set_text('YMCA')\n",
    "ax[1].scatter(ForestRoad.index.month, ForestRoad['P_GEN'], color = 'g')\n",
    "ax[1].set_xlabel('Month')\n",
    "ax[1].title.set_text('Forest Road')\n",
    "ax[2].scatter(MapDriveEast.index.month, MapDriveEast['P_GEN'], color = 'r')\n",
    "ax[2].set_xlabel('Month')\n",
    "ax[2].title.set_text('Maple Drive East')\n",
    "\n",
    "fig.suptitle('Power Generated at Different Sites')\n",
    "\n",
    "plt.show()"
   ]
  },
  {
   "cell_type": "markdown",
   "id": "4470f3da",
   "metadata": {},
   "source": [
    "As expected, the power generation drops off towards the winter months as access to sunshine decreases. It looks like the YMCA site never generated more than about a half of a kilowatt, even in peak summer months. It should be noted that the sizes of the installations at these three different sites are not the same. These readings will need to be normalized effectively before we do any modeling; that will be done in a later notebook. Before we can think about  normalizing though, we need to revisit those erroneous values that we found earlier"
   ]
  },
  {
   "cell_type": "markdown",
   "id": "b587941b",
   "metadata": {},
   "source": [
    "#### 6.2 Removing Erroneous Values<a id='6.2_Removing_Erroneous_Values'></a>"
   ]
  },
  {
   "cell_type": "code",
   "execution_count": 44,
   "id": "ab42ba39",
   "metadata": {},
   "outputs": [
    {
     "data": {
      "text/plain": [
       "-0.005    3721\n",
       "-0.004     101\n",
       " 0.000      80\n",
       "-0.003      78\n",
       "-0.002      75\n",
       "          ... \n",
       " 0.276       1\n",
       " 0.292       1\n",
       " 0.387       1\n",
       " 0.369       1\n",
       " 0.243       1\n",
       "Name: P_GEN, Length: 386, dtype: int64"
      ]
     },
     "execution_count": 44,
     "metadata": {},
     "output_type": "execute_result"
    }
   ],
   "source": [
    "YMCA['P_GEN'].value_counts()"
   ]
  },
  {
   "cell_type": "code",
   "execution_count": 45,
   "id": "84ae75cd",
   "metadata": {},
   "outputs": [
    {
     "data": {
      "text/plain": [
       "0.002    2171\n",
       "0.003     231\n",
       "0.058      13\n",
       "0.049      10\n",
       "0.043       9\n",
       "         ... \n",
       "2.347       1\n",
       "2.035       1\n",
       "0.442       1\n",
       "0.799       1\n",
       "0.714       1\n",
       "Name: P_GEN, Length: 1618, dtype: int64"
      ]
     },
     "execution_count": 45,
     "metadata": {},
     "output_type": "execute_result"
    }
   ],
   "source": [
    "ForestRoad['P_GEN'].value_counts()"
   ]
  },
  {
   "cell_type": "code",
   "execution_count": 46,
   "id": "098e1045",
   "metadata": {},
   "outputs": [
    {
     "data": {
      "text/plain": [
       "-0.004    2326\n",
       "-0.005      93\n",
       "-0.003      60\n",
       " 0.093       9\n",
       " 0.000       9\n",
       "          ... \n",
       " 2.747       1\n",
       " 1.495       1\n",
       " 1.610       1\n",
       " 1.015       1\n",
       " 1.809       1\n",
       "Name: P_GEN, Length: 1570, dtype: int64"
      ]
     },
     "execution_count": 46,
     "metadata": {},
     "output_type": "execute_result"
    }
   ],
   "source": [
    "MapDriveEast['P_GEN'].value_counts()"
   ]
  },
  {
   "cell_type": "markdown",
   "id": "6635609d",
   "metadata": {},
   "source": [
    "I think the reasonable thing to do in this situation is to get rid of the P_GEN values less than zero. There are too many of them to look at all of the individual circumstances when they occured. Making them all zero could be detrimental to our model if they where caused by any means other than regular fluctuations of the reader."
   ]
  },
  {
   "cell_type": "code",
   "execution_count": 47,
   "id": "396e3797",
   "metadata": {},
   "outputs": [
    {
     "data": {
      "text/plain": [
       "0.002    2225\n",
       "0.003     279\n",
       "0.000      89\n",
       "0.001      72\n",
       "0.007      60\n",
       "         ... \n",
       "1.904       1\n",
       "1.413       1\n",
       "1.817       1\n",
       "1.357       1\n",
       "0.714       1\n",
       "Name: P_GEN, Length: 2288, dtype: int64"
      ]
     },
     "execution_count": 47,
     "metadata": {},
     "output_type": "execute_result"
    }
   ],
   "source": [
    "YMCA = YMCA[YMCA['P_GEN'] >= 0]\n",
    "ForestRoad = ForestRoad[ForestRoad['P_GEN'] >= 0]\n",
    "MapDriveEast = MapDriveEast[MapDriveEast['P_GEN'] >= 0]\n",
    "UK_data = UK_data[UK_data['P_GEN'] >= 0]\n",
    "UK_data['P_GEN'].value_counts()"
   ]
  },
  {
   "cell_type": "markdown",
   "id": "fc06409a",
   "metadata": {},
   "source": [
    "Great! Now let's look at some more figures."
   ]
  },
  {
   "cell_type": "markdown",
   "id": "0bb7f864",
   "metadata": {},
   "source": [
    "#### 6.3 Distributions<a id='6.3_Distributions'></a>"
   ]
  },
  {
   "cell_type": "code",
   "execution_count": 48,
   "id": "dd6eef4e",
   "metadata": {
    "scrolled": true
   },
   "outputs": [
    {
     "data": {
      "image/png": "[encoded data removed]",
      "text/plain": [
       "<Figure size 1080x720 with 20 Axes>"
      ]
     },
     "metadata": {
      "needs_background": "light"
     },
     "output_type": "display_data"
    }
   ],
   "source": [
    "UK_data.hist(figsize = (15, 10))\n",
    "plt.subplots_adjust(hspace=0.8, wspace = 0.5);"
   ]
  },
  {
   "cell_type": "markdown",
   "id": "23c6ffb7",
   "metadata": {},
   "source": [
    "#### 6.4 Target Variable<a id='6.4_Target_Variable'></a>"
   ]
  },
  {
   "cell_type": "markdown",
   "id": "fef4a40c",
   "metadata": {},
   "source": [
    "Wow! This is great. We have some great distributions among a lot of the variables. This will be useful in providing our model with a great variability of scenarios. Let's look at the relationship between a few these variables and ourr target variable, P_GEN."
   ]
  },
  {
   "cell_type": "code",
   "execution_count": 49,
   "id": "c40574a8",
   "metadata": {},
   "outputs": [
    {
     "data": {
      "image/png": "[encoded data removed]",
      "text/plain": [
       "<Figure size 1440x432 with 3 Axes>"
      ]
     },
     "metadata": {
      "needs_background": "light"
     },
     "output_type": "display_data"
    }
   ],
   "source": [
    "fig, ax = plt.subplots(1, 3, figsize = (20, 6));\n",
    "ax[0].scatter(YMCA['HiTemp'], YMCA['P_GEN'], color = 'b')\n",
    "ax[0].set_xlabel('High Temperature')\n",
    "ax[0].set_ylabel('Power Generated')\n",
    "ax[0].title.set_text('YMCA')\n",
    "ax[1].scatter(ForestRoad['HiTemp'], ForestRoad['P_GEN'], color = 'g')\n",
    "ax[1].set_xlabel('High Temperature')\n",
    "ax[1].title.set_text('Forest Road')\n",
    "ax[2].scatter(MapDriveEast['HiTemp'], MapDriveEast['P_GEN'], color = 'r')\n",
    "ax[2].set_xlabel('High Temperature')\n",
    "ax[2].title.set_text('Maple East Drive')\n",
    "\n",
    "fig.suptitle('Power Generated vs Temp at Different Sites')\n",
    "\n",
    "plt.show()"
   ]
  },
  {
   "cell_type": "markdown",
   "id": "fe47fad9",
   "metadata": {},
   "source": [
    "It seems that the sweet spot is around eighteen to twenty degrees celsius. Above that, the power generation begins to drop off. What about pressure?"
   ]
  },
  {
   "cell_type": "code",
   "execution_count": 50,
   "id": "0774e238",
   "metadata": {},
   "outputs": [
    {
     "data": {
      "image/png": "[encoded data removed]",
      "text/plain": [
       "<Figure size 1440x432 with 3 Axes>"
      ]
     },
     "metadata": {
      "needs_background": "light"
     },
     "output_type": "display_data"
    }
   ],
   "source": [
    "fig, ax = plt.subplots(1, 3, figsize = (20, 6));\n",
    "ax[0].scatter(YMCA['Bar'], YMCA['P_GEN'], color = 'b')\n",
    "ax[0].set_xlabel('Pressure (Bar)')\n",
    "ax[0].set_ylabel('Power Generated')\n",
    "ax[0].title.set_text('YMCA')\n",
    "ax[1].scatter(ForestRoad['Bar'], ForestRoad['P_GEN'], color = 'g')\n",
    "ax[1].set_xlabel('Pressure (Bar)')\n",
    "ax[1].title.set_text('Forest Road')\n",
    "ax[2].scatter(MapDriveEast['Bar'], MapDriveEast['P_GEN'], color = 'r')\n",
    "ax[2].set_xlabel('Pressure (Bar)')\n",
    "ax[2].title.set_text('Maple East Drive')\n",
    "\n",
    "fig.suptitle('Power Generated vs Pressure(Bar) at Different Sites')\n",
    "\n",
    "plt.show()"
   ]
  },
  {
   "cell_type": "markdown",
   "id": "7f685613",
   "metadata": {},
   "source": [
    "Much less conclusive. Let's look at solar radiation and then we'll be done with that. I'll be looking more at the correlations between these variables in the next notebook."
   ]
  },
  {
   "cell_type": "code",
   "execution_count": 51,
   "id": "525c634b",
   "metadata": {
    "scrolled": true
   },
   "outputs": [
    {
     "data": {
      "image/png": "[encoded data removed]",
      "text/plain": [
       "<Figure size 1440x432 with 3 Axes>"
      ]
     },
     "metadata": {
      "needs_background": "light"
     },
     "output_type": "display_data"
    }
   ],
   "source": [
    "fig, ax = plt.subplots(1, 3, figsize = (20, 6));\n",
    "ax[0].scatter(YMCA['SolarRad'], YMCA['P_GEN'], color = 'b')\n",
    "ax[0].set_xlabel('Solar Radiation')\n",
    "ax[0].set_ylabel('Power Generated')\n",
    "ax[0].title.set_text('YMCA')\n",
    "ax[1].scatter(ForestRoad['SolarRad'], ForestRoad['P_GEN'], color = 'g')\n",
    "ax[1].set_xlabel('Solar Radiation')\n",
    "ax[1].title.set_text('Forest Road')\n",
    "ax[2].scatter(MapDriveEast['SolarRad'], MapDriveEast['P_GEN'], color = 'r')\n",
    "ax[2].set_xlabel('Solar Radiation')\n",
    "ax[2].title.set_text('Maple East Drive')\n",
    "\n",
    "fig.suptitle('Power Generated vs Solar Radiation at Different Sites')\n",
    "\n",
    "plt.show()"
   ]
  },
  {
   "cell_type": "markdown",
   "id": "ea3a7399",
   "metadata": {},
   "source": [
    "### 7 Save Data<a id='7_Save_Data'></a>"
   ]
  },
  {
   "cell_type": "code",
   "execution_count": 52,
   "id": "94d4018d",
   "metadata": {},
   "outputs": [
    {
     "name": "stdout",
     "output_type": "stream",
     "text": [
      "A file already exists with this name.\n",
      "\n",
      "Do you want to overwrite? (Y/N)N\n",
      "\n",
      "Please re-run this cell with a new filename.\n",
      "A file already exists with this name.\n",
      "\n",
      "Do you want to overwrite? (Y/N)N\n",
      "\n",
      "Please re-run this cell with a new filename.\n",
      "A file already exists with this name.\n",
      "\n",
      "Do you want to overwrite? (Y/N)N\n",
      "\n",
      "Please re-run this cell with a new filename.\n",
      "A file already exists with this name.\n",
      "\n",
      "Do you want to overwrite? (Y/N)N\n",
      "\n",
      "Please re-run this cell with a new filename.\n"
     ]
    }
   ],
   "source": [
    "datapath = '../data'\n",
    "save_file(YMCA, 'YMCA.csv', datapath)\n",
    "save_file(ForestRoad, 'ForestRoad.csv', datapath)\n",
    "save_file(MapDriveEast, 'MapleDriveEast.csv', datapath)\n",
    "save_file(UK_data, 'UK_data.csv', datapath)"
   ]
  },
  {
   "cell_type": "markdown",
   "id": "183de770",
   "metadata": {},
   "source": [
    "### 8 Conclusion<a id='8_Conclusion'></a>"
   ]
  },
  {
   "cell_type": "markdown",
   "id": "fbe85347",
   "metadata": {},
   "source": [
    "The data is now in a clean state, with the observations on the right and the variables at the top. We've removed null, missing, and erroneous values to prevent our model from stumbling over faults. We've also changed the data types of all of our variables from objects to floats or ints. \n",
    "\n",
    "We have many variables with normal distributions and a few with exponential distributions. There is a linear relationship between Solar radiation and power generated, so I am expected that to be a very important variable for the model. For temperature, there seems to be a sweet spot where power generated is maximized. We should keep in mind that other variables will also exhibit this behavior. I'm now ready to move on to a deep dive into the relationships between our variables."
   ]
  }
 ],
 "metadata": {
  "kernelspec": {
   "display_name": "Python 3 (ipykernel)",
   "language": "python",
   "name": "python3"
  },
  "language_info": {
   "codemirror_mode": {
    "name": "ipython",
    "version": 3
   },
   "file_extension": ".py",
   "mimetype": "text/x-python",
   "name": "python",
   "nbconvert_exporter": "python",
   "pygments_lexer": "ipython3",
   "version": "3.9.12"
  }
 },
 "nbformat": 4,
 "nbformat_minor": 5
}
