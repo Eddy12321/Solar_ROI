{
 "cells": [
  {
   "cell_type": "markdown",
   "id": "00951e4c",
   "metadata": {},
   "source": [
    "# Re-Modeling with New Data<a id='Re-Modeling_with_New_Data'></a>"
   ]
  },
  {
   "cell_type": "markdown",
   "id": "8c041a3d",
   "metadata": {},
   "source": [
    "### 1 Table of Contents<a id='Contents'></a>\n",
    "* [Re-Modeling with New Data](#Re-Modeling_with_New_Data)\n",
    "  * [1 Contents](#Contents)\n",
    "  * [2 Introduction](#2_Introduction)\n",
    "      * [2.1 Problem](#2.1_Problem)\n",
    "      * [2.2 Data Sources](#2.2_Data_Sources)\n",
    "  * [3 Imports](#3_Imports)\n",
    "  * [4 Load Data](#4_Load_Data)\n",
    "  * [5 Collecting and Merging](#5_Collecting_and_Merging)\n",
    "      * [5.1 Attributes](#5.1_Attributes)\n",
    "      * [5.2 Get NSRDB Data](#5.2_Get_NSRDB_Data)\n",
    "          * [5.2.1 Scaling NSRDB Data](#5.2.1_Scaling_NSRDB_Data)\n",
    "      * [5.3 Merging NSRDB Columns](#5.3_Merging_NSRDB_Columns)\n",
    "      * [5.4 E.W. Brown Solar Data](#5.4_E.W._Brown_Solar_Data)\n",
    "      * [5.5 Merge](#5.5_Merge)\n",
    "  * [6 Clean and Explore](#6_Clean_and_Explore)\n",
    "  * [7 Save Data](#7_Save_Data)\n",
    "  * [8 Conclusion](#8_Conclusion)"
   ]
  },
  {
   "cell_type": "markdown",
   "id": "81e0dd7d",
   "metadata": {},
   "source": [
    "### 2 Introduction<a id='2_Introduction'></a>"
   ]
  },
  {
   "cell_type": "markdown",
   "id": "05a1e3d0",
   "metadata": {},
   "source": [
    "#### 2.1 Problem<a id='2.1_Problem'></a>"
   ]
  },
  {
   "cell_type": "markdown",
   "id": "c7f94cff",
   "metadata": {},
   "source": []
  },
  {
   "cell_type": "markdown",
   "id": "ca735572",
   "metadata": {},
   "source": [
    "#### 2.2 Data Sources<a id='2.2_Data_Sources'></a>"
   ]
  },
  {
   "cell_type": "markdown",
   "id": "e74599e2",
   "metadata": {},
   "source": []
  },
  {
   "cell_type": "markdown",
   "id": "90e64ac3",
   "metadata": {},
   "source": [
    "### 3 Imports<a id='3_Imports'></a>"
   ]
  },
  {
   "cell_type": "code",
   "execution_count": 1,
   "id": "63724cb0",
   "metadata": {},
   "outputs": [],
   "source": [
    "import warnings\n",
    "warnings.simplefilter('ignore')\n",
    "import pandas as pd\n",
    "import numpy as np\n",
    "import os\n",
    "import pickle\n",
    "import matplotlib.pyplot as plt\n",
    "import seaborn as sns\n",
    "import datetime\n",
    "from scipy.spatial import cKDTree\n",
    "import h5pyd\n",
    "import requests\n",
    "import json\n",
    "from requests.structures import CaseInsensitiveDict\n",
    "from library.sb_utils import save_file"
   ]
  },
  {
   "cell_type": "markdown",
   "id": "44fb9b40",
   "metadata": {},
   "source": [
    "### 4 Load Data<a id='4_Load_Data'></a>"
   ]
  },
  {
   "cell_type": "code",
   "execution_count": 2,
   "id": "d87680a9",
   "metadata": {},
   "outputs": [],
   "source": [
    "nsrdb = h5pyd.File(\"/nrel/nsrdb/v3/nsrdb_2020.h5\", 'r')\n",
    "Attributes = pd.read_csv('../data/Attributes.csv', index_col = 'Unnamed: 0')\n",
    "lat1 = 37.78820\n",
    "lon1 = -84.71233\n",
    "data = pd.read_csv('../raw_data/BS_2020.csv')"
   ]
  },
  {
   "cell_type": "markdown",
   "id": "78b795be",
   "metadata": {},
   "source": [
    "### 5 Collecting and Merging<a id='5_Collecting_and_Merging'></a>"
   ]
  },
  {
   "cell_type": "markdown",
   "id": "59f0e700",
   "metadata": {},
   "source": [
    "#### 5.1 Attributes<a id='5.1_Attributes'></a>"
   ]
  },
  {
   "cell_type": "markdown",
   "id": "b74bab79",
   "metadata": {},
   "source": []
  },
  {
   "cell_type": "code",
   "execution_count": 3,
   "id": "f9a1826d",
   "metadata": {
    "scrolled": false
   },
   "outputs": [
    {
     "data": {
      "text/html": [
       "<div>\n",
       "<style scoped>\n",
       "    .dataframe tbody tr th:only-of-type {\n",
       "        vertical-align: middle;\n",
       "    }\n",
       "\n",
       "    .dataframe tbody tr th {\n",
       "        vertical-align: top;\n",
       "    }\n",
       "\n",
       "    .dataframe thead th {\n",
       "        text-align: right;\n",
       "    }\n",
       "</style>\n",
       "<table border=\"1\" class=\"dataframe\">\n",
       "  <thead>\n",
       "    <tr style=\"text-align: right;\">\n",
       "      <th></th>\n",
       "      <th>air_temperature</th>\n",
       "      <th>alpha</th>\n",
       "      <th>aod</th>\n",
       "      <th>asymmetry</th>\n",
       "      <th>cld_opd_dcomp</th>\n",
       "      <th>cld_reff_dcomp</th>\n",
       "      <th>clearsky_dhi</th>\n",
       "      <th>clearsky_dni</th>\n",
       "      <th>clearsky_ghi</th>\n",
       "      <th>cloud_press_acha</th>\n",
       "      <th>...</th>\n",
       "      <th>ozone</th>\n",
       "      <th>relative_humidity</th>\n",
       "      <th>solar_zenith_angle</th>\n",
       "      <th>ssa</th>\n",
       "      <th>surface_albedo</th>\n",
       "      <th>surface_pressure</th>\n",
       "      <th>time_index</th>\n",
       "      <th>total_precipitable_water</th>\n",
       "      <th>wind_direction</th>\n",
       "      <th>wind_speed</th>\n",
       "    </tr>\n",
       "  </thead>\n",
       "  <tbody>\n",
       "    <tr>\n",
       "      <th>data_source</th>\n",
       "      <td>MERRA2</td>\n",
       "      <td>MERRA2</td>\n",
       "      <td>MERRA2</td>\n",
       "      <td>climatology</td>\n",
       "      <td>UW-GOES</td>\n",
       "      <td>UW-GOES</td>\n",
       "      <td>output</td>\n",
       "      <td>output</td>\n",
       "      <td>output</td>\n",
       "      <td>UW-GOES</td>\n",
       "      <td>...</td>\n",
       "      <td>MERRA2</td>\n",
       "      <td>derived</td>\n",
       "      <td>calculated</td>\n",
       "      <td>MERRA2</td>\n",
       "      <td>MODIS-IMS</td>\n",
       "      <td>MERRA2</td>\n",
       "      <td>NaN</td>\n",
       "      <td>MERRA2</td>\n",
       "      <td>MERRA2</td>\n",
       "      <td>MERRA2</td>\n",
       "    </tr>\n",
       "    <tr>\n",
       "      <th>elevation_correction</th>\n",
       "      <td>True</td>\n",
       "      <td>False</td>\n",
       "      <td>True</td>\n",
       "      <td>False</td>\n",
       "      <td>False</td>\n",
       "      <td>False</td>\n",
       "      <td>False</td>\n",
       "      <td>False</td>\n",
       "      <td>False</td>\n",
       "      <td>False</td>\n",
       "      <td>...</td>\n",
       "      <td>False</td>\n",
       "      <td>False</td>\n",
       "      <td>False</td>\n",
       "      <td>False</td>\n",
       "      <td>False</td>\n",
       "      <td>True</td>\n",
       "      <td>NaN</td>\n",
       "      <td>True</td>\n",
       "      <td>False</td>\n",
       "      <td>False</td>\n",
       "    </tr>\n",
       "    <tr>\n",
       "      <th>physical_max</th>\n",
       "      <td>70.0</td>\n",
       "      <td>2.5</td>\n",
       "      <td>1.5</td>\n",
       "      <td>1.0</td>\n",
       "      <td>80.0</td>\n",
       "      <td>80.0</td>\n",
       "      <td>800.0</td>\n",
       "      <td>1350.0</td>\n",
       "      <td>1350.0</td>\n",
       "      <td>1100.0</td>\n",
       "      <td>...</td>\n",
       "      <td>0.5</td>\n",
       "      <td>100.0</td>\n",
       "      <td>180.0</td>\n",
       "      <td>1.0</td>\n",
       "      <td>1.0</td>\n",
       "      <td>1100.0</td>\n",
       "      <td>NaN</td>\n",
       "      <td>15.0</td>\n",
       "      <td>360.0</td>\n",
       "      <td>40.0</td>\n",
       "    </tr>\n",
       "    <tr>\n",
       "      <th>physical_min</th>\n",
       "      <td>-100.0</td>\n",
       "      <td>0.0</td>\n",
       "      <td>0.01</td>\n",
       "      <td>-1.0</td>\n",
       "      <td>0.0</td>\n",
       "      <td>0.0</td>\n",
       "      <td>0.0</td>\n",
       "      <td>0.0</td>\n",
       "      <td>0.0</td>\n",
       "      <td>0.0</td>\n",
       "      <td>...</td>\n",
       "      <td>0.2</td>\n",
       "      <td>0.0</td>\n",
       "      <td>0.0</td>\n",
       "      <td>0.0</td>\n",
       "      <td>0.0</td>\n",
       "      <td>300.0</td>\n",
       "      <td>NaN</td>\n",
       "      <td>0.0</td>\n",
       "      <td>0.0</td>\n",
       "      <td>0.0</td>\n",
       "    </tr>\n",
       "    <tr>\n",
       "      <th>psm_scale_factor</th>\n",
       "      <td>10.0</td>\n",
       "      <td>100.0</td>\n",
       "      <td>10000.0</td>\n",
       "      <td>100.0</td>\n",
       "      <td>100.0</td>\n",
       "      <td>100.0</td>\n",
       "      <td>1.0</td>\n",
       "      <td>1.0</td>\n",
       "      <td>1.0</td>\n",
       "      <td>1.0</td>\n",
       "      <td>...</td>\n",
       "      <td>1000.0</td>\n",
       "      <td>100.0</td>\n",
       "      <td>100.0</td>\n",
       "      <td>100.0</td>\n",
       "      <td>100.0</td>\n",
       "      <td>1.0</td>\n",
       "      <td>NaN</td>\n",
       "      <td>10.0</td>\n",
       "      <td>1.0</td>\n",
       "      <td>10.0</td>\n",
       "    </tr>\n",
       "  </tbody>\n",
       "</table>\n",
       "<p>5 rows × 28 columns</p>\n",
       "</div>"
      ],
      "text/plain": [
       "                     air_temperature   alpha      aod    asymmetry  \\\n",
       "data_source                   MERRA2  MERRA2   MERRA2  climatology   \n",
       "elevation_correction            True   False     True        False   \n",
       "physical_max                    70.0     2.5      1.5          1.0   \n",
       "physical_min                  -100.0     0.0     0.01         -1.0   \n",
       "psm_scale_factor                10.0   100.0  10000.0        100.0   \n",
       "\n",
       "                     cld_opd_dcomp cld_reff_dcomp clearsky_dhi clearsky_dni  \\\n",
       "data_source                UW-GOES        UW-GOES       output       output   \n",
       "elevation_correction         False          False        False        False   \n",
       "physical_max                  80.0           80.0        800.0       1350.0   \n",
       "physical_min                   0.0            0.0          0.0          0.0   \n",
       "psm_scale_factor             100.0          100.0          1.0          1.0   \n",
       "\n",
       "                     clearsky_ghi cloud_press_acha  ...   ozone  \\\n",
       "data_source                output          UW-GOES  ...  MERRA2   \n",
       "elevation_correction        False            False  ...   False   \n",
       "physical_max               1350.0           1100.0  ...     0.5   \n",
       "physical_min                  0.0              0.0  ...     0.2   \n",
       "psm_scale_factor              1.0              1.0  ...  1000.0   \n",
       "\n",
       "                     relative_humidity solar_zenith_angle     ssa  \\\n",
       "data_source                    derived         calculated  MERRA2   \n",
       "elevation_correction             False              False   False   \n",
       "physical_max                     100.0              180.0     1.0   \n",
       "physical_min                       0.0                0.0     0.0   \n",
       "psm_scale_factor                 100.0              100.0   100.0   \n",
       "\n",
       "                     surface_albedo surface_pressure time_index  \\\n",
       "data_source               MODIS-IMS           MERRA2        NaN   \n",
       "elevation_correction          False             True        NaN   \n",
       "physical_max                    1.0           1100.0        NaN   \n",
       "physical_min                    0.0            300.0        NaN   \n",
       "psm_scale_factor              100.0              1.0        NaN   \n",
       "\n",
       "                      total_precipitable_water wind_direction wind_speed  \n",
       "data_source                             MERRA2         MERRA2     MERRA2  \n",
       "elevation_correction                      True          False      False  \n",
       "physical_max                              15.0          360.0       40.0  \n",
       "physical_min                               0.0            0.0        0.0  \n",
       "psm_scale_factor                          10.0            1.0       10.0  \n",
       "\n",
       "[5 rows x 28 columns]"
      ]
     },
     "execution_count": 3,
     "metadata": {},
     "output_type": "execute_result"
    }
   ],
   "source": [
    "Attributes.head()"
   ]
  },
  {
   "cell_type": "markdown",
   "id": "aca5db9b",
   "metadata": {},
   "source": [
    "#### 5.2 Get NSRDB Data<a id='5.2_Get_NSRDB_Data'></a>"
   ]
  },
  {
   "cell_type": "markdown",
   "id": "4da88ccd",
   "metadata": {},
   "source": []
  },
  {
   "cell_type": "code",
   "execution_count": 4,
   "id": "5908d489",
   "metadata": {},
   "outputs": [],
   "source": [
    "def getLocationData(lat, lon, cols = ['meta']):\n",
    "    \n",
    "    tree = cKDTree(nsrdb['coordinates'][...])\n",
    "    dist, pos = tree.query(np.array([lat, lon]))\n",
    "    \n",
    "    df = pd.DataFrame(columns = cols)\n",
    "    \n",
    "    for col in cols:\n",
    "        df[col] = nsrdb[col][:, pos]\n",
    "    \n",
    "    return df"
   ]
  },
  {
   "cell_type": "markdown",
   "id": "035ebd21",
   "metadata": {},
   "source": []
  },
  {
   "cell_type": "code",
   "execution_count": 5,
   "id": "112e806b",
   "metadata": {
    "scrolled": true
   },
   "outputs": [],
   "source": [
    "columns1 = ['air_temperature', 'alpha', 'aod', 'asymmetry', 'cld_opd_dcomp', 'cld_reff_dcomp']\n",
    "columns2 = ['clearsky_dhi', 'clearsky_dni', 'clearsky_ghi', 'cloud_press_acha', 'cloud_type', 'dew_point']\n",
    "columns3 = ['dhi', 'dni', 'ghi', 'ozone', 'relative_humidity', 'solar_zenith_angle', 'ssa', 'surface_albedo']\n",
    "columns4 = ['surface_pressure', 'total_precipitable_water', 'wind_direction', 'wind_speed']"
   ]
  },
  {
   "cell_type": "code",
   "execution_count": 6,
   "id": "bd906070",
   "metadata": {},
   "outputs": [],
   "source": [
    "df1 = getLocationData(lat1, lon1, cols = columns1)"
   ]
  },
  {
   "cell_type": "code",
   "execution_count": 7,
   "id": "f267b85a",
   "metadata": {},
   "outputs": [],
   "source": [
    "df2 = getLocationData(lat1, lon1, cols = columns2)"
   ]
  },
  {
   "cell_type": "code",
   "execution_count": 8,
   "id": "efea3cab",
   "metadata": {},
   "outputs": [],
   "source": [
    "df3 = getLocationData(lat1, lon1, cols = columns3)"
   ]
  },
  {
   "cell_type": "code",
   "execution_count": 9,
   "id": "55b6a804",
   "metadata": {},
   "outputs": [],
   "source": [
    "df4 = getLocationData(lat1, lon1, cols = columns4)"
   ]
  },
  {
   "cell_type": "markdown",
   "id": "acbf842d",
   "metadata": {},
   "source": [
    "#### 5.2.1 Scaling NSRDB Data<a id='5.2.1_Scaling_NSRDB_Data'></a>"
   ]
  },
  {
   "cell_type": "markdown",
   "id": "cb01322f",
   "metadata": {},
   "source": []
  },
  {
   "cell_type": "code",
   "execution_count": null,
   "id": "86636729",
   "metadata": {},
   "outputs": [],
   "source": [
    "for col in columns1:\n",
    "    if (Attributes.loc['scale_factor', col]):\n",
    "        scale = float(Attributes.loc['scale_factor', col])\n",
    "        Weatherdf[col] = Weatherdf[col] / scale\n",
    "for col in columns2:\n",
    "    if (Attributes.loc['scale_factor', col]):\n",
    "        scale = float(Attributes.loc['scale_factor', col])\n",
    "        Weatherdf[col] = Weatherdf[col] / scale\n",
    "for col in columns3:\n",
    "    if (Attributes.loc['scale_factor', col]):\n",
    "        scale = float(Attributes.loc['scale_factor', col])\n",
    "        Weatherdf[col] = Weatherdf[col] / scale\n",
    "for col in columns4:\n",
    "    if (Attributes.loc['scale_factor', col]):\n",
    "        scale = float(Attributes.loc['scale_factor', col])\n",
    "        Weatherdf[col] = Weatherdf[col] / scale"
   ]
  },
  {
   "cell_type": "markdown",
   "id": "36a9e4b9",
   "metadata": {},
   "source": [
    "#### 5.3 Merging NSRDB Columns<a id='5.3_Merging_NSRDB_Columns'></a>"
   ]
  },
  {
   "cell_type": "markdown",
   "id": "e954e5e1",
   "metadata": {},
   "source": []
  },
  {
   "cell_type": "code",
   "execution_count": 10,
   "id": "ac57b6f3",
   "metadata": {},
   "outputs": [],
   "source": [
    "Weatherdf = df1.merge(df2, left_index = True, right_index = True).merge(df3, left_index = True, right_index = True).merge(df4, left_index = True, right_index = True)"
   ]
  },
  {
   "cell_type": "code",
   "execution_count": 11,
   "id": "b524adac",
   "metadata": {
    "scrolled": true
   },
   "outputs": [
    {
     "data": {
      "text/html": [
       "<div>\n",
       "<style scoped>\n",
       "    .dataframe tbody tr th:only-of-type {\n",
       "        vertical-align: middle;\n",
       "    }\n",
       "\n",
       "    .dataframe tbody tr th {\n",
       "        vertical-align: top;\n",
       "    }\n",
       "\n",
       "    .dataframe thead th {\n",
       "        text-align: right;\n",
       "    }\n",
       "</style>\n",
       "<table border=\"1\" class=\"dataframe\">\n",
       "  <thead>\n",
       "    <tr style=\"text-align: right;\">\n",
       "      <th></th>\n",
       "      <th>air_temperature</th>\n",
       "      <th>alpha</th>\n",
       "      <th>aod</th>\n",
       "      <th>asymmetry</th>\n",
       "      <th>cld_opd_dcomp</th>\n",
       "      <th>cld_reff_dcomp</th>\n",
       "      <th>clearsky_dhi</th>\n",
       "      <th>clearsky_dni</th>\n",
       "      <th>clearsky_ghi</th>\n",
       "      <th>cloud_press_acha</th>\n",
       "      <th>...</th>\n",
       "      <th>ghi</th>\n",
       "      <th>ozone</th>\n",
       "      <th>relative_humidity</th>\n",
       "      <th>solar_zenith_angle</th>\n",
       "      <th>ssa</th>\n",
       "      <th>surface_albedo</th>\n",
       "      <th>surface_pressure</th>\n",
       "      <th>total_precipitable_water</th>\n",
       "      <th>wind_direction</th>\n",
       "      <th>wind_speed</th>\n",
       "    </tr>\n",
       "  </thead>\n",
       "  <tbody>\n",
       "    <tr>\n",
       "      <th>0</th>\n",
       "      <td>22</td>\n",
       "      <td>129</td>\n",
       "      <td>860</td>\n",
       "      <td>61</td>\n",
       "      <td>0</td>\n",
       "      <td>0</td>\n",
       "      <td>0</td>\n",
       "      <td>0</td>\n",
       "      <td>0</td>\n",
       "      <td>0</td>\n",
       "      <td>...</td>\n",
       "      <td>0</td>\n",
       "      <td>346</td>\n",
       "      <td>8889</td>\n",
       "      <td>10729</td>\n",
       "      <td>97</td>\n",
       "      <td>12</td>\n",
       "      <td>984</td>\n",
       "      <td>9</td>\n",
       "      <td>270</td>\n",
       "      <td>19</td>\n",
       "    </tr>\n",
       "    <tr>\n",
       "      <th>1</th>\n",
       "      <td>21</td>\n",
       "      <td>129</td>\n",
       "      <td>860</td>\n",
       "      <td>61</td>\n",
       "      <td>0</td>\n",
       "      <td>0</td>\n",
       "      <td>0</td>\n",
       "      <td>0</td>\n",
       "      <td>0</td>\n",
       "      <td>0</td>\n",
       "      <td>...</td>\n",
       "      <td>0</td>\n",
       "      <td>346</td>\n",
       "      <td>8952</td>\n",
       "      <td>11304</td>\n",
       "      <td>97</td>\n",
       "      <td>12</td>\n",
       "      <td>984</td>\n",
       "      <td>10</td>\n",
       "      <td>271</td>\n",
       "      <td>19</td>\n",
       "    </tr>\n",
       "    <tr>\n",
       "      <th>2</th>\n",
       "      <td>20</td>\n",
       "      <td>129</td>\n",
       "      <td>930</td>\n",
       "      <td>61</td>\n",
       "      <td>0</td>\n",
       "      <td>0</td>\n",
       "      <td>0</td>\n",
       "      <td>0</td>\n",
       "      <td>0</td>\n",
       "      <td>0</td>\n",
       "      <td>...</td>\n",
       "      <td>0</td>\n",
       "      <td>345</td>\n",
       "      <td>8976</td>\n",
       "      <td>11887</td>\n",
       "      <td>97</td>\n",
       "      <td>12</td>\n",
       "      <td>984</td>\n",
       "      <td>10</td>\n",
       "      <td>272</td>\n",
       "      <td>19</td>\n",
       "    </tr>\n",
       "    <tr>\n",
       "      <th>3</th>\n",
       "      <td>18</td>\n",
       "      <td>129</td>\n",
       "      <td>930</td>\n",
       "      <td>61</td>\n",
       "      <td>0</td>\n",
       "      <td>0</td>\n",
       "      <td>0</td>\n",
       "      <td>0</td>\n",
       "      <td>0</td>\n",
       "      <td>0</td>\n",
       "      <td>...</td>\n",
       "      <td>0</td>\n",
       "      <td>346</td>\n",
       "      <td>9105</td>\n",
       "      <td>12477</td>\n",
       "      <td>97</td>\n",
       "      <td>12</td>\n",
       "      <td>984</td>\n",
       "      <td>10</td>\n",
       "      <td>272</td>\n",
       "      <td>19</td>\n",
       "    </tr>\n",
       "    <tr>\n",
       "      <th>4</th>\n",
       "      <td>17</td>\n",
       "      <td>131</td>\n",
       "      <td>920</td>\n",
       "      <td>61</td>\n",
       "      <td>0</td>\n",
       "      <td>0</td>\n",
       "      <td>0</td>\n",
       "      <td>0</td>\n",
       "      <td>0</td>\n",
       "      <td>0</td>\n",
       "      <td>...</td>\n",
       "      <td>0</td>\n",
       "      <td>346</td>\n",
       "      <td>9085</td>\n",
       "      <td>13069</td>\n",
       "      <td>97</td>\n",
       "      <td>12</td>\n",
       "      <td>984</td>\n",
       "      <td>10</td>\n",
       "      <td>271</td>\n",
       "      <td>19</td>\n",
       "    </tr>\n",
       "  </tbody>\n",
       "</table>\n",
       "<p>5 rows × 24 columns</p>\n",
       "</div>"
      ],
      "text/plain": [
       "   air_temperature  alpha  aod  asymmetry  cld_opd_dcomp  cld_reff_dcomp  \\\n",
       "0               22    129  860         61              0               0   \n",
       "1               21    129  860         61              0               0   \n",
       "2               20    129  930         61              0               0   \n",
       "3               18    129  930         61              0               0   \n",
       "4               17    131  920         61              0               0   \n",
       "\n",
       "   clearsky_dhi  clearsky_dni  clearsky_ghi  cloud_press_acha  ...  ghi  \\\n",
       "0             0             0             0                 0  ...    0   \n",
       "1             0             0             0                 0  ...    0   \n",
       "2             0             0             0                 0  ...    0   \n",
       "3             0             0             0                 0  ...    0   \n",
       "4             0             0             0                 0  ...    0   \n",
       "\n",
       "   ozone  relative_humidity  solar_zenith_angle  ssa  surface_albedo  \\\n",
       "0    346               8889               10729   97              12   \n",
       "1    346               8952               11304   97              12   \n",
       "2    345               8976               11887   97              12   \n",
       "3    346               9105               12477   97              12   \n",
       "4    346               9085               13069   97              12   \n",
       "\n",
       "   surface_pressure  total_precipitable_water  wind_direction  wind_speed  \n",
       "0               984                         9             270          19  \n",
       "1               984                        10             271          19  \n",
       "2               984                        10             272          19  \n",
       "3               984                        10             272          19  \n",
       "4               984                        10             271          19  \n",
       "\n",
       "[5 rows x 24 columns]"
      ]
     },
     "execution_count": 11,
     "metadata": {},
     "output_type": "execute_result"
    }
   ],
   "source": [
    "Weatherdf.head()"
   ]
  },
  {
   "cell_type": "markdown",
   "id": "7dc79ca9",
   "metadata": {},
   "source": [
    "#### 5.4 E.W. Brown Solar Data<a id='5.4_E.W._Brown_Solar_Data'></a>"
   ]
  },
  {
   "cell_type": "markdown",
   "id": "a4f75495",
   "metadata": {},
   "source": []
  },
  {
   "cell_type": "code",
   "execution_count": 12,
   "id": "1088fc5a",
   "metadata": {
    "scrolled": true
   },
   "outputs": [
    {
     "data": {
      "text/html": [
       "<div>\n",
       "<style scoped>\n",
       "    .dataframe tbody tr th:only-of-type {\n",
       "        vertical-align: middle;\n",
       "    }\n",
       "\n",
       "    .dataframe tbody tr th {\n",
       "        vertical-align: top;\n",
       "    }\n",
       "\n",
       "    .dataframe thead th {\n",
       "        text-align: right;\n",
       "    }\n",
       "</style>\n",
       "<table border=\"1\" class=\"dataframe\">\n",
       "  <thead>\n",
       "    <tr style=\"text-align: right;\">\n",
       "      <th></th>\n",
       "      <th>Timestamp</th>\n",
       "      <th>Year</th>\n",
       "      <th>Month</th>\n",
       "      <th>Day</th>\n",
       "      <th>Hour</th>\n",
       "      <th>Minute</th>\n",
       "      <th>kW</th>\n",
       "      <th>kWh</th>\n",
       "      <th>POAI</th>\n",
       "      <th>GHI</th>\n",
       "      <th>TmpF</th>\n",
       "      <th>TmpC</th>\n",
       "    </tr>\n",
       "  </thead>\n",
       "  <tbody>\n",
       "    <tr>\n",
       "      <th>0</th>\n",
       "      <td>2020-01-01 00:00:00</td>\n",
       "      <td>2020</td>\n",
       "      <td>1</td>\n",
       "      <td>1</td>\n",
       "      <td>0</td>\n",
       "      <td>0</td>\n",
       "      <td>-20.017269</td>\n",
       "      <td>65290968.0</td>\n",
       "      <td>-0.108067</td>\n",
       "      <td>-0.148322</td>\n",
       "      <td>37.411595</td>\n",
       "      <td>3.006442</td>\n",
       "    </tr>\n",
       "    <tr>\n",
       "      <th>1</th>\n",
       "      <td>2020-01-01 00:01:00</td>\n",
       "      <td>2020</td>\n",
       "      <td>1</td>\n",
       "      <td>1</td>\n",
       "      <td>0</td>\n",
       "      <td>1</td>\n",
       "      <td>-19.700493</td>\n",
       "      <td>65290968.0</td>\n",
       "      <td>-0.221178</td>\n",
       "      <td>-0.147710</td>\n",
       "      <td>37.410739</td>\n",
       "      <td>3.005966</td>\n",
       "    </tr>\n",
       "    <tr>\n",
       "      <th>2</th>\n",
       "      <td>2020-01-01 00:02:00</td>\n",
       "      <td>2020</td>\n",
       "      <td>1</td>\n",
       "      <td>1</td>\n",
       "      <td>0</td>\n",
       "      <td>2</td>\n",
       "      <td>-19.717964</td>\n",
       "      <td>65290968.0</td>\n",
       "      <td>-0.220839</td>\n",
       "      <td>-0.147098</td>\n",
       "      <td>37.409883</td>\n",
       "      <td>3.005491</td>\n",
       "    </tr>\n",
       "    <tr>\n",
       "      <th>3</th>\n",
       "      <td>2020-01-01 00:03:00</td>\n",
       "      <td>2020</td>\n",
       "      <td>1</td>\n",
       "      <td>1</td>\n",
       "      <td>0</td>\n",
       "      <td>3</td>\n",
       "      <td>-19.735436</td>\n",
       "      <td>65290968.0</td>\n",
       "      <td>-0.108067</td>\n",
       "      <td>-0.146486</td>\n",
       "      <td>37.409028</td>\n",
       "      <td>3.005015</td>\n",
       "    </tr>\n",
       "    <tr>\n",
       "      <th>4</th>\n",
       "      <td>2020-01-01 00:04:00</td>\n",
       "      <td>2020</td>\n",
       "      <td>1</td>\n",
       "      <td>1</td>\n",
       "      <td>0</td>\n",
       "      <td>4</td>\n",
       "      <td>-19.752909</td>\n",
       "      <td>65290968.0</td>\n",
       "      <td>-0.216135</td>\n",
       "      <td>-0.145874</td>\n",
       "      <td>37.408172</td>\n",
       "      <td>3.004540</td>\n",
       "    </tr>\n",
       "  </tbody>\n",
       "</table>\n",
       "</div>"
      ],
      "text/plain": [
       "             Timestamp  Year  Month  Day  Hour  Minute         kW         kWh  \\\n",
       "0  2020-01-01 00:00:00  2020      1    1     0       0 -20.017269  65290968.0   \n",
       "1  2020-01-01 00:01:00  2020      1    1     0       1 -19.700493  65290968.0   \n",
       "2  2020-01-01 00:02:00  2020      1    1     0       2 -19.717964  65290968.0   \n",
       "3  2020-01-01 00:03:00  2020      1    1     0       3 -19.735436  65290968.0   \n",
       "4  2020-01-01 00:04:00  2020      1    1     0       4 -19.752909  65290968.0   \n",
       "\n",
       "       POAI       GHI       TmpF      TmpC  \n",
       "0 -0.108067 -0.148322  37.411595  3.006442  \n",
       "1 -0.221178 -0.147710  37.410739  3.005966  \n",
       "2 -0.220839 -0.147098  37.409883  3.005491  \n",
       "3 -0.108067 -0.146486  37.409028  3.005015  \n",
       "4 -0.216135 -0.145874  37.408172  3.004540  "
      ]
     },
     "execution_count": 12,
     "metadata": {},
     "output_type": "execute_result"
    }
   ],
   "source": [
    "data.head()"
   ]
  },
  {
   "cell_type": "markdown",
   "id": "c07dd80b",
   "metadata": {},
   "source": [
    "#### 5.5 Merge<a id='5.5_Merge'></a>"
   ]
  },
  {
   "cell_type": "markdown",
   "id": "c266b910",
   "metadata": {},
   "source": []
  },
  {
   "cell_type": "code",
   "execution_count": 14,
   "id": "65f90c8f",
   "metadata": {},
   "outputs": [],
   "source": [
    "Weatherdf['Timestamp'] = pd.date_range(start = \"01/01/20 00:00:00\", periods = Weatherdf.shape[0], freq = '30T')\n",
    "Weatherdf['Year'] = Weatherdf['Timestamp'].agg(func = lambda x: x.year)\n",
    "Weatherdf['Month'] = Weatherdf['Timestamp'].agg(func = lambda x: x.month)\n",
    "Weatherdf['Day'] = Weatherdf['Timestamp'].agg(func = lambda x: x.day)\n",
    "Weatherdf['Hour'] = Weatherdf['Timestamp'].agg(func = lambda x: x.hour)\n",
    "Weatherdf['Minute'] = Weatherdf['Timestamp'].agg(func = lambda x: x.minute)"
   ]
  },
  {
   "cell_type": "code",
   "execution_count": 15,
   "id": "51a8e83a",
   "metadata": {
    "scrolled": true
   },
   "outputs": [],
   "source": [
    "WeatherPower = Weatherdf.merge(data, how = 'inner', on = ['Year', 'Month', 'Day', 'Hour', 'Minute'])"
   ]
  },
  {
   "cell_type": "markdown",
   "id": "c717bf28",
   "metadata": {},
   "source": []
  },
  {
   "cell_type": "code",
   "execution_count": 16,
   "id": "b7582f35",
   "metadata": {},
   "outputs": [],
   "source": [
    "WeatherPower.drop(columns = ['Timestamp_x', 'Timestamp_y', 'Year', 'Month', 'Day', 'Hour', 'Minute'], inplace = True)"
   ]
  },
  {
   "cell_type": "markdown",
   "id": "8daf9fd9",
   "metadata": {},
   "source": []
  },
  {
   "cell_type": "code",
   "execution_count": 17,
   "id": "8f646021",
   "metadata": {},
   "outputs": [],
   "source": [
    "WeatherPower['Power'] = WeatherPower['kWh'].diff()\n",
    "WeatherPower['Power'] = WeatherPower['Power'] / 0.5"
   ]
  },
  {
   "cell_type": "markdown",
   "id": "b1f725a0",
   "metadata": {},
   "source": []
  },
  {
   "cell_type": "code",
   "execution_count": 18,
   "id": "ee886385",
   "metadata": {},
   "outputs": [],
   "source": [
    "WeatherPower.drop(columns = ['kW', 'kWh', 'POAI', 'GHI', 'TmpF', 'TmpC'], inplace = True)"
   ]
  },
  {
   "cell_type": "markdown",
   "id": "8d820c7c",
   "metadata": {},
   "source": [
    "#### 6 Clean and Explore<a id='6_Clean_and_Explore'></a>"
   ]
  },
  {
   "cell_type": "markdown",
   "id": "f2dd52c0",
   "metadata": {},
   "source": []
  },
  {
   "cell_type": "code",
   "execution_count": null,
   "id": "dbe9c626",
   "metadata": {},
   "outputs": [],
   "source": [
    "WeatherPower.dropna(inplace = True)"
   ]
  },
  {
   "cell_type": "markdown",
   "id": "253433ac",
   "metadata": {},
   "source": []
  },
  {
   "cell_type": "code",
   "execution_count": 22,
   "id": "67b12be7",
   "metadata": {
    "scrolled": true
   },
   "outputs": [
    {
     "data": {
      "text/plain": [
       "air_temperature             float64\n",
       "alpha                       float64\n",
       "aod                         float64\n",
       "asymmetry                   float64\n",
       "cld_opd_dcomp               float64\n",
       "cld_reff_dcomp              float64\n",
       "clearsky_dhi                float64\n",
       "clearsky_dni                float64\n",
       "clearsky_ghi                float64\n",
       "cloud_press_acha            float64\n",
       "cloud_type                  float64\n",
       "dew_point                   float64\n",
       "dhi                         float64\n",
       "dni                         float64\n",
       "ghi                         float64\n",
       "ozone                       float64\n",
       "relative_humidity           float64\n",
       "solar_zenith_angle          float64\n",
       "ssa                         float64\n",
       "surface_albedo              float64\n",
       "surface_pressure            float64\n",
       "total_precipitable_water    float64\n",
       "wind_direction              float64\n",
       "wind_speed                  float64\n",
       "Power                       float64\n",
       "dtype: object"
      ]
     },
     "execution_count": 22,
     "metadata": {},
     "output_type": "execute_result"
    }
   ],
   "source": [
    "WeatherPower.dtypes"
   ]
  },
  {
   "cell_type": "markdown",
   "id": "06694c0e",
   "metadata": {},
   "source": []
  },
  {
   "cell_type": "code",
   "execution_count": 24,
   "id": "d1aefaaa",
   "metadata": {
    "scrolled": true
   },
   "outputs": [
    {
     "data": {
      "text/html": [
       "<div>\n",
       "<style scoped>\n",
       "    .dataframe tbody tr th:only-of-type {\n",
       "        vertical-align: middle;\n",
       "    }\n",
       "\n",
       "    .dataframe tbody tr th {\n",
       "        vertical-align: top;\n",
       "    }\n",
       "\n",
       "    .dataframe thead th {\n",
       "        text-align: right;\n",
       "    }\n",
       "</style>\n",
       "<table border=\"1\" class=\"dataframe\">\n",
       "  <thead>\n",
       "    <tr style=\"text-align: right;\">\n",
       "      <th></th>\n",
       "      <th>air_temperature</th>\n",
       "      <th>alpha</th>\n",
       "      <th>aod</th>\n",
       "      <th>asymmetry</th>\n",
       "      <th>cld_opd_dcomp</th>\n",
       "      <th>cld_reff_dcomp</th>\n",
       "      <th>clearsky_dhi</th>\n",
       "      <th>clearsky_dni</th>\n",
       "      <th>clearsky_ghi</th>\n",
       "      <th>cloud_press_acha</th>\n",
       "      <th>...</th>\n",
       "      <th>ozone</th>\n",
       "      <th>relative_humidity</th>\n",
       "      <th>solar_zenith_angle</th>\n",
       "      <th>ssa</th>\n",
       "      <th>surface_albedo</th>\n",
       "      <th>surface_pressure</th>\n",
       "      <th>total_precipitable_water</th>\n",
       "      <th>wind_direction</th>\n",
       "      <th>wind_speed</th>\n",
       "      <th>Power</th>\n",
       "    </tr>\n",
       "  </thead>\n",
       "  <tbody>\n",
       "    <tr>\n",
       "      <th>1</th>\n",
       "      <td>2.1</td>\n",
       "      <td>1.29</td>\n",
       "      <td>0.086</td>\n",
       "      <td>0.61</td>\n",
       "      <td>0.0</td>\n",
       "      <td>0.0</td>\n",
       "      <td>0.0</td>\n",
       "      <td>0.0</td>\n",
       "      <td>0.0</td>\n",
       "      <td>0.0</td>\n",
       "      <td>...</td>\n",
       "      <td>0.346</td>\n",
       "      <td>89.52</td>\n",
       "      <td>113.04</td>\n",
       "      <td>0.97</td>\n",
       "      <td>0.12</td>\n",
       "      <td>984.0</td>\n",
       "      <td>1.0</td>\n",
       "      <td>271.0</td>\n",
       "      <td>1.9</td>\n",
       "      <td>0.0</td>\n",
       "    </tr>\n",
       "    <tr>\n",
       "      <th>2</th>\n",
       "      <td>2.0</td>\n",
       "      <td>1.29</td>\n",
       "      <td>0.093</td>\n",
       "      <td>0.61</td>\n",
       "      <td>0.0</td>\n",
       "      <td>0.0</td>\n",
       "      <td>0.0</td>\n",
       "      <td>0.0</td>\n",
       "      <td>0.0</td>\n",
       "      <td>0.0</td>\n",
       "      <td>...</td>\n",
       "      <td>0.345</td>\n",
       "      <td>89.76</td>\n",
       "      <td>118.87</td>\n",
       "      <td>0.97</td>\n",
       "      <td>0.12</td>\n",
       "      <td>984.0</td>\n",
       "      <td>1.0</td>\n",
       "      <td>272.0</td>\n",
       "      <td>1.9</td>\n",
       "      <td>0.0</td>\n",
       "    </tr>\n",
       "    <tr>\n",
       "      <th>3</th>\n",
       "      <td>1.8</td>\n",
       "      <td>1.29</td>\n",
       "      <td>0.093</td>\n",
       "      <td>0.61</td>\n",
       "      <td>0.0</td>\n",
       "      <td>0.0</td>\n",
       "      <td>0.0</td>\n",
       "      <td>0.0</td>\n",
       "      <td>0.0</td>\n",
       "      <td>0.0</td>\n",
       "      <td>...</td>\n",
       "      <td>0.346</td>\n",
       "      <td>91.05</td>\n",
       "      <td>124.77</td>\n",
       "      <td>0.97</td>\n",
       "      <td>0.12</td>\n",
       "      <td>984.0</td>\n",
       "      <td>1.0</td>\n",
       "      <td>272.0</td>\n",
       "      <td>1.9</td>\n",
       "      <td>0.0</td>\n",
       "    </tr>\n",
       "    <tr>\n",
       "      <th>4</th>\n",
       "      <td>1.7</td>\n",
       "      <td>1.31</td>\n",
       "      <td>0.092</td>\n",
       "      <td>0.61</td>\n",
       "      <td>0.0</td>\n",
       "      <td>0.0</td>\n",
       "      <td>0.0</td>\n",
       "      <td>0.0</td>\n",
       "      <td>0.0</td>\n",
       "      <td>0.0</td>\n",
       "      <td>...</td>\n",
       "      <td>0.346</td>\n",
       "      <td>90.85</td>\n",
       "      <td>130.69</td>\n",
       "      <td>0.97</td>\n",
       "      <td>0.12</td>\n",
       "      <td>984.0</td>\n",
       "      <td>1.0</td>\n",
       "      <td>271.0</td>\n",
       "      <td>1.9</td>\n",
       "      <td>0.0</td>\n",
       "    </tr>\n",
       "    <tr>\n",
       "      <th>5</th>\n",
       "      <td>1.5</td>\n",
       "      <td>1.31</td>\n",
       "      <td>0.092</td>\n",
       "      <td>0.61</td>\n",
       "      <td>0.0</td>\n",
       "      <td>0.0</td>\n",
       "      <td>0.0</td>\n",
       "      <td>0.0</td>\n",
       "      <td>0.0</td>\n",
       "      <td>0.0</td>\n",
       "      <td>...</td>\n",
       "      <td>0.347</td>\n",
       "      <td>92.16</td>\n",
       "      <td>136.60</td>\n",
       "      <td>0.97</td>\n",
       "      <td>0.12</td>\n",
       "      <td>984.0</td>\n",
       "      <td>1.0</td>\n",
       "      <td>269.0</td>\n",
       "      <td>1.9</td>\n",
       "      <td>0.0</td>\n",
       "    </tr>\n",
       "  </tbody>\n",
       "</table>\n",
       "<p>5 rows × 25 columns</p>\n",
       "</div>"
      ],
      "text/plain": [
       "   air_temperature  alpha    aod  asymmetry  cld_opd_dcomp  cld_reff_dcomp  \\\n",
       "1              2.1   1.29  0.086       0.61            0.0             0.0   \n",
       "2              2.0   1.29  0.093       0.61            0.0             0.0   \n",
       "3              1.8   1.29  0.093       0.61            0.0             0.0   \n",
       "4              1.7   1.31  0.092       0.61            0.0             0.0   \n",
       "5              1.5   1.31  0.092       0.61            0.0             0.0   \n",
       "\n",
       "   clearsky_dhi  clearsky_dni  clearsky_ghi  cloud_press_acha  ...  ozone  \\\n",
       "1           0.0           0.0           0.0               0.0  ...  0.346   \n",
       "2           0.0           0.0           0.0               0.0  ...  0.345   \n",
       "3           0.0           0.0           0.0               0.0  ...  0.346   \n",
       "4           0.0           0.0           0.0               0.0  ...  0.346   \n",
       "5           0.0           0.0           0.0               0.0  ...  0.347   \n",
       "\n",
       "   relative_humidity  solar_zenith_angle   ssa  surface_albedo  \\\n",
       "1              89.52              113.04  0.97            0.12   \n",
       "2              89.76              118.87  0.97            0.12   \n",
       "3              91.05              124.77  0.97            0.12   \n",
       "4              90.85              130.69  0.97            0.12   \n",
       "5              92.16              136.60  0.97            0.12   \n",
       "\n",
       "   surface_pressure  total_precipitable_water  wind_direction  wind_speed  \\\n",
       "1             984.0                       1.0           271.0         1.9   \n",
       "2             984.0                       1.0           272.0         1.9   \n",
       "3             984.0                       1.0           272.0         1.9   \n",
       "4             984.0                       1.0           271.0         1.9   \n",
       "5             984.0                       1.0           269.0         1.9   \n",
       "\n",
       "   Power  \n",
       "1    0.0  \n",
       "2    0.0  \n",
       "3    0.0  \n",
       "4    0.0  \n",
       "5    0.0  \n",
       "\n",
       "[5 rows x 25 columns]"
      ]
     },
     "execution_count": 24,
     "metadata": {},
     "output_type": "execute_result"
    }
   ],
   "source": [
    "WeatherPower.head()"
   ]
  },
  {
   "cell_type": "markdown",
   "id": "a220b2c2",
   "metadata": {},
   "source": []
  },
  {
   "cell_type": "code",
   "execution_count": 43,
   "id": "85945899",
   "metadata": {
    "scrolled": true
   },
   "outputs": [
    {
     "data": {
      "image/png": "[encoded data removed]",
      "text/plain": [
       "<Figure size 1080x720 with 25 Axes>"
      ]
     },
     "metadata": {
      "needs_background": "light"
     },
     "output_type": "display_data"
    }
   ],
   "source": [
    "WeatherPower.hist(figsize = (15, 10))\n",
    "plt.subplots_adjust(hspace=0.8, wspace = 0.5);"
   ]
  },
  {
   "cell_type": "markdown",
   "id": "56d988e1",
   "metadata": {},
   "source": [
    "#### 7 Save Data<a id='7_Save_Data'></a>"
   ]
  },
  {
   "cell_type": "code",
   "execution_count": null,
   "id": "3bf04ccf",
   "metadata": {},
   "outputs": [],
   "source": [
    "datapath = '../data'\n",
    "save_file(WeatherPower, 'NewData.csv', datapath)"
   ]
  },
  {
   "cell_type": "markdown",
   "id": "330d7784",
   "metadata": {},
   "source": [
    "#### 8 Conclusion<a id='8_Conclusion'></a>"
   ]
  },
  {
   "cell_type": "markdown",
   "id": "430d50f6",
   "metadata": {},
   "source": []
  }
 ],
 "metadata": {
  "kernelspec": {
   "display_name": "Python 3 (ipykernel)",
   "language": "python",
   "name": "python3"
  },
  "language_info": {
   "codemirror_mode": {
    "name": "ipython",
    "version": 3
   },
   "file_extension": ".py",
   "mimetype": "text/x-python",
   "name": "python",
   "nbconvert_exporter": "python",
   "pygments_lexer": "ipython3",
   "version": "3.9.12"
  }
 },
 "nbformat": 4,
 "nbformat_minor": 5
}
