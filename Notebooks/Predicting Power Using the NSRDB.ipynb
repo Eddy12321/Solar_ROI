{
 "cells": [
  {
   "cell_type": "markdown",
   "id": "ad5459a1",
   "metadata": {},
   "source": [
    "# Predicting Power Using the NSRDB<a id='Predicting_Power_Using_the_NSRDB'></a>"
   ]
  },
  {
   "cell_type": "code",
   "execution_count": 1,
   "id": "f1223820",
   "metadata": {},
   "outputs": [
    {
     "name": "stderr",
     "output_type": "stream",
     "text": [
      "/Users/edwardseymour/opt/anaconda3/envs/TestEnv/lib/python3.9/site-packages/requests/__init__.py:102: RequestsDependencyWarning: urllib3 (1.26.9) or chardet (5.0.0)/charset_normalizer (2.0.4) doesn't match a supported version!\n",
      "  warnings.warn(\"urllib3 ({}) or chardet ({})/charset_normalizer ({}) doesn't match a supported \"\n"
     ]
    }
   ],
   "source": [
    "import pandas as pd\n",
    "import numpy as np\n",
    "import os\n",
    "import pickle\n",
    "import matplotlib.pyplot as plt\n",
    "import seaborn as sns\n",
    "from sklearn import __version__ as sklearn_version\n",
    "from scipy.spatial import cKDTree\n",
    "import h5pyd\n",
    "import requests\n",
    "import json\n",
    "from requests.structures import CaseInsensitiveDict"
   ]
  },
  {
   "cell_type": "code",
   "execution_count": 2,
   "id": "53bf6ad3",
   "metadata": {},
   "outputs": [],
   "source": [
    "nsrdb = h5pyd.File(\"/nrel/nsrdb/v3/nsrdb_2020.h5\", 'r')\n",
    "x_train = pd.read_csv('../data/X_train2.csv')\n",
    "y_train = pd.read_csv('../data/Y_train2.csv')\n",
    "Electricity_cost = pd.read_csv('../data/StatesElectricity.csv')\n",
    "Attributes = pd.read_csv('../data/Attributes.csv')\n",
    "url1 = \"https://api.geoapify.com/v1/geocode/search?text=1600%20Pennsylvania%20Avenue%20NW%2C%20Washington%2C%20DC%2020500%20United%20States&apiKey=57e88c5179064b9db5ccd0973355973a\"\n",
    "url2 = \"https://api.geoapify.com/v1/geocode/search?text=400%20Broad%20Street%2C%20Seattle&2C%20Washington%2098109%20United%20States&apiKey=57e88c5179064b9db5ccd0973355973a\"\n",
    "url3 = \"https://api.geoapify.com/v1/geocode/search?text=4803%20Rio%20Grand%20Boulevard%20NW%2C%20Los%20Ranchos%20De%20Albuquerque%2C%20New%20Mexico%2087107%20United%20States&apiKey=57e88c5179064b9db5ccd0973355973a\"\n",
    "url4 = \"https://api.geoapify.com/v1/geocode/search?text=350%20First%20Avenue%20NE%2C%20Ceder%20Rapids%2C%20Iowa%2052401%20United%20States&apiKey=57e88c5179064b9db5ccd0973355973a\""
   ]
  },
  {
   "cell_type": "code",
   "execution_count": 3,
   "id": "cd3ad8fa",
   "metadata": {},
   "outputs": [],
   "source": [
    "y_train.drop(columns = ['Unnamed: 0'],inplace = True)\n",
    "x_train.drop(columns = ['Unnamed: 0'],inplace = True)"
   ]
  },
  {
   "cell_type": "markdown",
   "id": "1ad8a945",
   "metadata": {},
   "source": [
    "Powered by <a href=\"https://www.geoapify.com/\">Geoapify</a>"
   ]
  },
  {
   "cell_type": "code",
   "execution_count": 4,
   "id": "54f69aae",
   "metadata": {},
   "outputs": [
    {
     "name": "stdout",
     "output_type": "stream",
     "text": [
      "200\n",
      "200\n",
      "200\n",
      "200\n"
     ]
    }
   ],
   "source": [
    "headers = CaseInsensitiveDict()\n",
    "headers['Accept'] = \"application/json\"\n",
    "resp1 = requests.get(url1, headers = headers)\n",
    "resp2 = requests.get(url2, headers = headers)\n",
    "resp3 = requests.get(url3, headers = headers)\n",
    "resp4 = requests.get(url4, headers = headers)\n",
    "\n",
    "print(resp1.status_code)\n",
    "print(resp2.status_code)\n",
    "print(resp3.status_code)\n",
    "print(resp4.status_code)"
   ]
  },
  {
   "cell_type": "code",
   "execution_count": 5,
   "id": "7208ca52",
   "metadata": {},
   "outputs": [],
   "source": [
    "features1 = resp1.json()['features']\n",
    "\n",
    "properties1 = features1[1]['properties']\n",
    "lat1 = properties1['lat']\n",
    "lon1 = properties1['lon']\n",
    "state1 = properties1['state']"
   ]
  },
  {
   "cell_type": "code",
   "execution_count": 6,
   "id": "5fd0df8f",
   "metadata": {},
   "outputs": [],
   "source": [
    "features2 = resp2.json()['features']\n",
    "\n",
    "properties2 = features2[1]['properties']\n",
    "lat2 = properties2['lat']\n",
    "lon2 = properties2['lon']\n",
    "state2 = properties2['state']"
   ]
  },
  {
   "cell_type": "code",
   "execution_count": 7,
   "id": "57c245c7",
   "metadata": {},
   "outputs": [],
   "source": [
    "features3 = resp3.json()['features']\n",
    "features3\n",
    "properties3 = features3[0]['properties']\n",
    "lat3 = properties3['lat']\n",
    "lon3 = properties3['lon']\n",
    "state3 = properties3['state']"
   ]
  },
  {
   "cell_type": "code",
   "execution_count": 8,
   "id": "61e1c50f",
   "metadata": {},
   "outputs": [],
   "source": [
    "features4 = resp4.json()['features']\n",
    "\n",
    "properties4 = features4[0]['properties']\n",
    "lat4 = properties4['lat']\n",
    "lon4 = properties4['lon']\n",
    "state4 = properties4['state']"
   ]
  },
  {
   "cell_type": "code",
   "execution_count": 9,
   "id": "7817c8b0",
   "metadata": {},
   "outputs": [],
   "source": [
    "expected_model_version = '1.0'\n",
    "model_path = '../models/power_predictor.pkl'\n",
    "if os.path.exists(model_path):\n",
    "    with open(model_path, 'rb') as f:\n",
    "        model = pickle.load(f)\n",
    "    if model.version != expected_model_version:\n",
    "        print(\"Expected model version doesn't match version loaded\")\n",
    "    if model.sklearn_version != sklearn_version:\n",
    "        print(\"Warning: model created under different sklearn version\")\n",
    "else:\n",
    "    print(\"Expected model not found\")"
   ]
  },
  {
   "cell_type": "code",
   "execution_count": 10,
   "id": "c55841e0",
   "metadata": {},
   "outputs": [],
   "source": [
    "Electricity_cost.set_index('State', inplace = True)\n",
    "Electricity_cost.drop(columns = 'Unnamed: 0', inplace = True)"
   ]
  },
  {
   "cell_type": "code",
   "execution_count": 11,
   "id": "f9d99f85",
   "metadata": {
    "scrolled": true
   },
   "outputs": [
    {
     "data": {
      "text/html": [
       "<div>\n",
       "<style scoped>\n",
       "    .dataframe tbody tr th:only-of-type {\n",
       "        vertical-align: middle;\n",
       "    }\n",
       "\n",
       "    .dataframe tbody tr th {\n",
       "        vertical-align: top;\n",
       "    }\n",
       "\n",
       "    .dataframe thead th {\n",
       "        text-align: right;\n",
       "    }\n",
       "</style>\n",
       "<table border=\"1\" class=\"dataframe\">\n",
       "  <thead>\n",
       "    <tr style=\"text-align: right;\">\n",
       "      <th></th>\n",
       "      <th>Electricity Prices</th>\n",
       "    </tr>\n",
       "    <tr>\n",
       "      <th>State</th>\n",
       "      <th></th>\n",
       "    </tr>\n",
       "  </thead>\n",
       "  <tbody>\n",
       "    <tr>\n",
       "      <th>Alabama</th>\n",
       "      <td>9.84</td>\n",
       "    </tr>\n",
       "    <tr>\n",
       "      <th>Alaska</th>\n",
       "      <td>19.82</td>\n",
       "    </tr>\n",
       "    <tr>\n",
       "      <th>Arizona</th>\n",
       "      <td>10.44</td>\n",
       "    </tr>\n",
       "    <tr>\n",
       "      <th>Arkansas</th>\n",
       "      <td>8.32</td>\n",
       "    </tr>\n",
       "    <tr>\n",
       "      <th>California</th>\n",
       "      <td>18.00</td>\n",
       "    </tr>\n",
       "  </tbody>\n",
       "</table>\n",
       "</div>"
      ],
      "text/plain": [
       "            Electricity Prices\n",
       "State                         \n",
       "Alabama                   9.84\n",
       "Alaska                   19.82\n",
       "Arizona                  10.44\n",
       "Arkansas                  8.32\n",
       "California               18.00"
      ]
     },
     "execution_count": 11,
     "metadata": {},
     "output_type": "execute_result"
    }
   ],
   "source": [
    "Electricity_cost.head()"
   ]
  },
  {
   "cell_type": "code",
   "execution_count": 12,
   "id": "a96093f8",
   "metadata": {},
   "outputs": [],
   "source": [
    "Attributes.set_index('Unnamed: 0', inplace = True)"
   ]
  },
  {
   "cell_type": "code",
   "execution_count": 13,
   "id": "af23d550",
   "metadata": {},
   "outputs": [
    {
     "data": {
      "text/html": [
       "<div>\n",
       "<style scoped>\n",
       "    .dataframe tbody tr th:only-of-type {\n",
       "        vertical-align: middle;\n",
       "    }\n",
       "\n",
       "    .dataframe tbody tr th {\n",
       "        vertical-align: top;\n",
       "    }\n",
       "\n",
       "    .dataframe thead th {\n",
       "        text-align: right;\n",
       "    }\n",
       "</style>\n",
       "<table border=\"1\" class=\"dataframe\">\n",
       "  <thead>\n",
       "    <tr style=\"text-align: right;\">\n",
       "      <th></th>\n",
       "      <th>air_temperature</th>\n",
       "      <th>alpha</th>\n",
       "      <th>aod</th>\n",
       "      <th>asymmetry</th>\n",
       "      <th>cld_opd_dcomp</th>\n",
       "      <th>cld_reff_dcomp</th>\n",
       "      <th>clearsky_dhi</th>\n",
       "      <th>clearsky_dni</th>\n",
       "      <th>clearsky_ghi</th>\n",
       "      <th>cloud_press_acha</th>\n",
       "      <th>...</th>\n",
       "      <th>ozone</th>\n",
       "      <th>relative_humidity</th>\n",
       "      <th>solar_zenith_angle</th>\n",
       "      <th>ssa</th>\n",
       "      <th>surface_albedo</th>\n",
       "      <th>surface_pressure</th>\n",
       "      <th>time_index</th>\n",
       "      <th>total_precipitable_water</th>\n",
       "      <th>wind_direction</th>\n",
       "      <th>wind_speed</th>\n",
       "    </tr>\n",
       "    <tr>\n",
       "      <th>Unnamed: 0</th>\n",
       "      <th></th>\n",
       "      <th></th>\n",
       "      <th></th>\n",
       "      <th></th>\n",
       "      <th></th>\n",
       "      <th></th>\n",
       "      <th></th>\n",
       "      <th></th>\n",
       "      <th></th>\n",
       "      <th></th>\n",
       "      <th></th>\n",
       "      <th></th>\n",
       "      <th></th>\n",
       "      <th></th>\n",
       "      <th></th>\n",
       "      <th></th>\n",
       "      <th></th>\n",
       "      <th></th>\n",
       "      <th></th>\n",
       "      <th></th>\n",
       "      <th></th>\n",
       "    </tr>\n",
       "  </thead>\n",
       "  <tbody>\n",
       "    <tr>\n",
       "      <th>data_source</th>\n",
       "      <td>MERRA2</td>\n",
       "      <td>MERRA2</td>\n",
       "      <td>MERRA2</td>\n",
       "      <td>climatology</td>\n",
       "      <td>UW-GOES</td>\n",
       "      <td>UW-GOES</td>\n",
       "      <td>output</td>\n",
       "      <td>output</td>\n",
       "      <td>output</td>\n",
       "      <td>UW-GOES</td>\n",
       "      <td>...</td>\n",
       "      <td>MERRA2</td>\n",
       "      <td>derived</td>\n",
       "      <td>calculated</td>\n",
       "      <td>MERRA2</td>\n",
       "      <td>MODIS-IMS</td>\n",
       "      <td>MERRA2</td>\n",
       "      <td>NaN</td>\n",
       "      <td>MERRA2</td>\n",
       "      <td>MERRA2</td>\n",
       "      <td>MERRA2</td>\n",
       "    </tr>\n",
       "    <tr>\n",
       "      <th>elevation_correction</th>\n",
       "      <td>True</td>\n",
       "      <td>False</td>\n",
       "      <td>True</td>\n",
       "      <td>False</td>\n",
       "      <td>False</td>\n",
       "      <td>False</td>\n",
       "      <td>False</td>\n",
       "      <td>False</td>\n",
       "      <td>False</td>\n",
       "      <td>False</td>\n",
       "      <td>...</td>\n",
       "      <td>False</td>\n",
       "      <td>False</td>\n",
       "      <td>False</td>\n",
       "      <td>False</td>\n",
       "      <td>False</td>\n",
       "      <td>True</td>\n",
       "      <td>NaN</td>\n",
       "      <td>True</td>\n",
       "      <td>False</td>\n",
       "      <td>False</td>\n",
       "    </tr>\n",
       "    <tr>\n",
       "      <th>physical_max</th>\n",
       "      <td>70.0</td>\n",
       "      <td>2.5</td>\n",
       "      <td>1.5</td>\n",
       "      <td>1.0</td>\n",
       "      <td>80.0</td>\n",
       "      <td>80.0</td>\n",
       "      <td>800.0</td>\n",
       "      <td>1350.0</td>\n",
       "      <td>1350.0</td>\n",
       "      <td>1100.0</td>\n",
       "      <td>...</td>\n",
       "      <td>0.5</td>\n",
       "      <td>100.0</td>\n",
       "      <td>180.0</td>\n",
       "      <td>1.0</td>\n",
       "      <td>1.0</td>\n",
       "      <td>1100.0</td>\n",
       "      <td>NaN</td>\n",
       "      <td>15.0</td>\n",
       "      <td>360.0</td>\n",
       "      <td>40.0</td>\n",
       "    </tr>\n",
       "    <tr>\n",
       "      <th>physical_min</th>\n",
       "      <td>-100.0</td>\n",
       "      <td>0.0</td>\n",
       "      <td>0.01</td>\n",
       "      <td>-1.0</td>\n",
       "      <td>0.0</td>\n",
       "      <td>0.0</td>\n",
       "      <td>0.0</td>\n",
       "      <td>0.0</td>\n",
       "      <td>0.0</td>\n",
       "      <td>0.0</td>\n",
       "      <td>...</td>\n",
       "      <td>0.2</td>\n",
       "      <td>0.0</td>\n",
       "      <td>0.0</td>\n",
       "      <td>0.0</td>\n",
       "      <td>0.0</td>\n",
       "      <td>300.0</td>\n",
       "      <td>NaN</td>\n",
       "      <td>0.0</td>\n",
       "      <td>0.0</td>\n",
       "      <td>0.0</td>\n",
       "    </tr>\n",
       "    <tr>\n",
       "      <th>psm_scale_factor</th>\n",
       "      <td>10.0</td>\n",
       "      <td>100.0</td>\n",
       "      <td>10000.0</td>\n",
       "      <td>100.0</td>\n",
       "      <td>100.0</td>\n",
       "      <td>100.0</td>\n",
       "      <td>1.0</td>\n",
       "      <td>1.0</td>\n",
       "      <td>1.0</td>\n",
       "      <td>1.0</td>\n",
       "      <td>...</td>\n",
       "      <td>1000.0</td>\n",
       "      <td>100.0</td>\n",
       "      <td>100.0</td>\n",
       "      <td>100.0</td>\n",
       "      <td>100.0</td>\n",
       "      <td>1.0</td>\n",
       "      <td>NaN</td>\n",
       "      <td>10.0</td>\n",
       "      <td>1.0</td>\n",
       "      <td>10.0</td>\n",
       "    </tr>\n",
       "  </tbody>\n",
       "</table>\n",
       "<p>5 rows × 28 columns</p>\n",
       "</div>"
      ],
      "text/plain": [
       "                     air_temperature   alpha      aod    asymmetry  \\\n",
       "Unnamed: 0                                                           \n",
       "data_source                   MERRA2  MERRA2   MERRA2  climatology   \n",
       "elevation_correction            True   False     True        False   \n",
       "physical_max                    70.0     2.5      1.5          1.0   \n",
       "physical_min                  -100.0     0.0     0.01         -1.0   \n",
       "psm_scale_factor                10.0   100.0  10000.0        100.0   \n",
       "\n",
       "                     cld_opd_dcomp cld_reff_dcomp clearsky_dhi clearsky_dni  \\\n",
       "Unnamed: 0                                                                    \n",
       "data_source                UW-GOES        UW-GOES       output       output   \n",
       "elevation_correction         False          False        False        False   \n",
       "physical_max                  80.0           80.0        800.0       1350.0   \n",
       "physical_min                   0.0            0.0          0.0          0.0   \n",
       "psm_scale_factor             100.0          100.0          1.0          1.0   \n",
       "\n",
       "                     clearsky_ghi cloud_press_acha  ...   ozone  \\\n",
       "Unnamed: 0                                          ...           \n",
       "data_source                output          UW-GOES  ...  MERRA2   \n",
       "elevation_correction        False            False  ...   False   \n",
       "physical_max               1350.0           1100.0  ...     0.5   \n",
       "physical_min                  0.0              0.0  ...     0.2   \n",
       "psm_scale_factor              1.0              1.0  ...  1000.0   \n",
       "\n",
       "                     relative_humidity solar_zenith_angle     ssa  \\\n",
       "Unnamed: 0                                                          \n",
       "data_source                    derived         calculated  MERRA2   \n",
       "elevation_correction             False              False   False   \n",
       "physical_max                     100.0              180.0     1.0   \n",
       "physical_min                       0.0                0.0     0.0   \n",
       "psm_scale_factor                 100.0              100.0   100.0   \n",
       "\n",
       "                     surface_albedo surface_pressure time_index  \\\n",
       "Unnamed: 0                                                        \n",
       "data_source               MODIS-IMS           MERRA2        NaN   \n",
       "elevation_correction          False             True        NaN   \n",
       "physical_max                    1.0           1100.0        NaN   \n",
       "physical_min                    0.0            300.0        NaN   \n",
       "psm_scale_factor              100.0              1.0        NaN   \n",
       "\n",
       "                      total_precipitable_water wind_direction wind_speed  \n",
       "Unnamed: 0                                                                \n",
       "data_source                             MERRA2         MERRA2     MERRA2  \n",
       "elevation_correction                      True          False      False  \n",
       "physical_max                              15.0          360.0       40.0  \n",
       "physical_min                               0.0            0.0        0.0  \n",
       "psm_scale_factor                          10.0            1.0       10.0  \n",
       "\n",
       "[5 rows x 28 columns]"
      ]
     },
     "execution_count": 13,
     "metadata": {},
     "output_type": "execute_result"
    }
   ],
   "source": [
    "Attributes.head()"
   ]
  },
  {
   "cell_type": "code",
   "execution_count": 14,
   "id": "c6a8f09c",
   "metadata": {},
   "outputs": [],
   "source": [
    "def getLocationData(lat, lon, cols = ['meta']):\n",
    "    \n",
    "    tree = cKDTree(nsrdb['coordinates'])\n",
    "    dist, pos = tree.query(np.array([lat, lon]))\n",
    "    \n",
    "    df = pd.DataFrame(columns = cols)\n",
    "    \n",
    "    for col in cols:\n",
    "        df[col] = nsrdb[col][:, pos]\n",
    "    \n",
    "    return df"
   ]
  },
  {
   "cell_type": "code",
   "execution_count": null,
   "id": "64f604ef",
   "metadata": {},
   "outputs": [],
   "source": [
    "columns = ['air_temperature', 'relative_humidity', 'dew_point', 'wind_speed', 'surface_pressure', 'total_precipitable_water', 'ghi']\n",
    "Locationdf1 = getLocationData(lat1, lon1, cols = columns)\n",
    "Locationdf2 = getLocationData(lat2, lon2, cols = columns)\n",
    "Locationdf3 = getLocationData(lat3, lon3, cols = columns)\n",
    "Locationdf4 = getLocationData(lat4, lon4, cols = columns)\n",
    "for col in columns:\n",
    "    scale = float(Attributes.loc['scale_factor', col])\n",
    "    Locationdf1[col] = Locationdf1[col] / scale\n",
    "    Locationdf2[col] = Locationdf2[col] / scale\n",
    "    Locationdf3[col] = Locationdf3[col] / scale\n",
    "    Locationdf4[col] = Locationdf4[col] / scale"
   ]
  },
  {
   "cell_type": "code",
   "execution_count": null,
   "id": "2cabc627",
   "metadata": {},
   "outputs": [],
   "source": [
    "column_mapper = {'air_temperature': 'TempOut',\n",
    "                'surface_pressure': 'Bar',\n",
    "                'relative_humidity': 'OutHum',\n",
    "                'wind_speed': 'WindSpeed',\n",
    "                'dew_point': 'DewPt',\n",
    "                'ghi': 'SolarRad',\n",
    "                'total_precipitable_water': 'Rain'}\n",
    "Locationdf1.rename(columns = column_mapper, inplace=True)\n",
    "Locationdf1['Bar'] = Locationdf1['Bar']\n",
    "Locationdf1['Rain'] = Locationdf1['Rain'] / 0.25\n",
    "Locationdf1['SolarEnergy'] = Locationdf1['SolarRad'] * 0.5 / 11.622\n",
    "Locationdf1['Temp_Pressure_ratio'] = Locationdf1['TempOut'] / Locationdf1['Bar']\n",
    "Locationdf2.rename(columns = column_mapper, inplace=True)\n",
    "Locationdf2['Bar'] = Locationdf2['Bar']\n",
    "Locationdf2['Rain'] = Locationdf2['Rain'] / 0.25\n",
    "Locationdf2['SolarEnergy'] = Locationdf2['SolarRad'] * 0.5 / 11.622\n",
    "Locationdf2['Temp_Pressure_ratio'] = Locationdf2['TempOut'] / Locationdf2['Bar']\n",
    "Locationdf3.rename(columns = column_mapper, inplace=True)\n",
    "Locationdf3['Bar'] = Locationdf3['Bar']\n",
    "Locationdf3['Rain'] = Locationdf3['Rain'] / 0.25\n",
    "Locationdf3['SolarEnergy'] = Locationdf3['SolarRad'] * 0.5 / 11.622\n",
    "Locationdf3['Temp_Pressure_ratio'] = Locationdf3['TempOut'] / Locationdf3['Bar']\n",
    "Locationdf4.rename(columns = column_mapper, inplace=True)\n",
    "Locationdf4['Bar'] = Locationdf4['Bar']\n",
    "Locationdf4['Rain'] = Locationdf4['Rain'] / 0.25\n",
    "Locationdf4['SolarEnergy'] = Locationdf4['SolarRad'] * 0.5 / 11.622\n",
    "Locationdf4['Temp_Pressure_ratio'] = Locationdf4['TempOut'] / Locationdf4['Bar']"
   ]
  },
  {
   "cell_type": "code",
   "execution_count": null,
   "id": "df88d8ca",
   "metadata": {},
   "outputs": [],
   "source": [
    "fig, ax = plt.subplots(3, 3, figsize = (15, 10))\n",
    "Locationdf1.hist(figsize = (15, 10), ax = ax)\n",
    "plt.subplots_adjust(hspace=0.8, wspace = 0.5)\n",
    "fig.suptitle(\"Feature Distributions for location 1: White House\");"
   ]
  },
  {
   "cell_type": "code",
   "execution_count": null,
   "id": "4a4a4bb9",
   "metadata": {},
   "outputs": [],
   "source": [
    "fig, ax = plt.subplots(3, 3, figsize = (15, 10))\n",
    "Locationdf2.hist(figsize = (15, 10), ax = ax)\n",
    "plt.subplots_adjust(hspace=0.8, wspace = 0.5)\n",
    "fig.suptitle(\"Feature Distributions for location 2: Space Needle, Seattle, Washington\");"
   ]
  },
  {
   "cell_type": "code",
   "execution_count": null,
   "id": "65d60a73",
   "metadata": {},
   "outputs": [],
   "source": [
    "fig, ax = plt.subplots(3, 3, figsize = (15, 10))\n",
    "Locationdf1.hist(figsize = (15, 10), ax = ax)\n",
    "plt.subplots_adjust(hspace=0.8, wspace = 0.5)\n",
    "fig.suptitle(\"Feature Distributions for location 3: Hotel in Albuquerque, New Mexico\");"
   ]
  },
  {
   "cell_type": "code",
   "execution_count": null,
   "id": "e9b2c822",
   "metadata": {},
   "outputs": [],
   "source": [
    "fig, ax = plt.subplots(3, 3, figsize = (15, 10))\n",
    "Locationdf1.hist(figsize = (15, 10), ax = ax)\n",
    "plt.subplots_adjust(hspace=0.8, wspace = 0.5)\n",
    "fig.suptitle(\"Feature Distributions for location 4: Hotel in Cedar Rapids, Iowa\");"
   ]
  },
  {
   "cell_type": "code",
   "execution_count": null,
   "id": "9252c1f4",
   "metadata": {},
   "outputs": [],
   "source": [
    "model.fit(x_train, y_train)"
   ]
  },
  {
   "cell_type": "code",
   "execution_count": null,
   "id": "c3e917f3",
   "metadata": {},
   "outputs": [],
   "source": [
    "Locationdf1['Power'] = model.predict(Locationdf1)\n",
    "Locationdf2['Power'] = model.predict(Locationdf2)\n",
    "Locationdf3['Power'] = model.predict(Locationdf3)\n",
    "Locationdf4['Power'] = model.predict(Locationdf4)"
   ]
  },
  {
   "cell_type": "code",
   "execution_count": null,
   "id": "30d62c78",
   "metadata": {},
   "outputs": [],
   "source": [
    "fig, ax = plt.subplots(2, 2, figsize = (14, 12))\n",
    "plt.subplots_adjust(wspace = 0.6, hspace = 0.4)\n",
    "ax[0, 0].hist(Locationdf1['Power'], bins = 10)\n",
    "ax[0, 0].set_title('Power Generated for Location 1: White House, Washington D.C.')\n",
    "ax[0, 0].set_xlabel('Power')\n",
    "ax[0, 0].set_ylabel('Count')\n",
    "ax[0, 0].axvline(x = Locationdf1['Power'].mean(), c = 'r', linestyle = '--')\n",
    "ax[0, 1].hist(Locationdf2['Power'], bins = 10)\n",
    "ax[0, 1].set_title('Power Generated for Location 2: Space Needle, Seattle, Washington')\n",
    "ax[0, 1].set_xlabel('Power')\n",
    "ax[0, 1].set_ylabel('Count')\n",
    "ax[0, 1].axvline(x = Locationdf2['Power'].mean(), c = 'r', linestyle = '--')\n",
    "ax[1, 0].hist(Locationdf3['Power'], bins = 10)\n",
    "ax[1, 0].set_title('Power Generated for Location 3: Albuquerque, New Mexico')\n",
    "ax[1, 0].set_xlabel('Power')\n",
    "ax[1, 0].set_ylabel('Count')\n",
    "ax[1, 0].axvline(x = Locationdf3['Power'].mean(), c = 'r', linestyle = '--')\n",
    "ax[1, 1].hist(Locationdf4['Power'], bins = 10)\n",
    "ax[1, 1].set_title('Power Generated for Location 4: Cedar Rapids, Iowa')\n",
    "ax[1, 1].set_xlabel('Power')\n",
    "ax[1, 1].set_ylabel('Count')\n",
    "ax[1, 1].axvline(x = Locationdf4['Power'].mean(), c = 'r', linestyle = '--')\n",
    "fig.suptitle('Power Distributions, line at mean');"
   ]
  },
  {
   "cell_type": "code",
   "execution_count": null,
   "id": "9bfd6d4c",
   "metadata": {},
   "outputs": [],
   "source": [
    "StateElectricityCost1 = Electricity_cost.loc[state1]['Electricity Prices']\n",
    "StateElectricityCost2 = Electricity_cost.loc[state2]['Electricity Prices']\n",
    "StateElectricityCost3 = Electricity_cost.loc[state3]['Electricity Prices']\n",
    "StateElectricityCost4 = Electricity_cost.loc[state4]['Electricity Prices']"
   ]
  },
  {
   "cell_type": "code",
   "execution_count": null,
   "id": "e854b3bd",
   "metadata": {},
   "outputs": [],
   "source": [
    "Locationdf1['Money_saved'] = Locationdf1['Power'] * (StateElectricityCost1 / 2)\n",
    "Locationdf2['Money_saved'] = Locationdf2['Power'] * (StateElectricityCost2 / 2)\n",
    "Locationdf3['Money_saved'] = Locationdf3['Power'] * (StateElectricityCost3 / 2)\n",
    "Locationdf4['Money_saved'] = Locationdf4['Power'] * (StateElectricityCost4 / 2)"
   ]
  },
  {
   "cell_type": "code",
   "execution_count": null,
   "id": "4a0b928b",
   "metadata": {},
   "outputs": [],
   "source": [
    "dollars_saved1 = Locationdf1['Money_saved'].sum() / 100\n",
    "dollars_saved2 = Locationdf2['Money_saved'].sum() / 100\n",
    "dollars_saved3 = Locationdf3['Money_saved'].sum() / 100\n",
    "dollars_saved4 = Locationdf4['Money_saved'].sum() / 100"
   ]
  },
  {
   "cell_type": "code",
   "execution_count": null,
   "id": "191754f6",
   "metadata": {},
   "outputs": [],
   "source": [
    "print('The amount that you would save per year at location 1 (White House) is $' + str(dollars_saved1))\n",
    "print('The amount that you would save per year at location 2 (Washington) is $' + str(dollars_saved2))\n",
    "print('The amount that you would save per year at location 3 (Seattle) is $' + str(dollars_saved3))\n",
    "print('The amount that you would save per year at location 4 (Iowa) is $' + str(dollars_saved4))"
   ]
  },
  {
   "cell_type": "markdown",
   "id": "f4d49639",
   "metadata": {},
   "source": [
    "A 600 W installation, which this model assumes, would cost around 1800 to 3000 dollars to install. Research suggests that the average time to pay off a solar installation is six to ten years. This largely depends on the electricity cost in your area. In Washington D.C., six to ten years is very achievable, but in the other locations it will take you closer to ten to fifteen years. "
   ]
  }
 ],
 "metadata": {
  "kernelspec": {
   "display_name": "Python 3 (ipykernel)",
   "language": "python",
   "name": "python3"
  },
  "language_info": {
   "codemirror_mode": {
    "name": "ipython",
    "version": 3
   },
   "file_extension": ".py",
   "mimetype": "text/x-python",
   "name": "python",
   "nbconvert_exporter": "python",
   "pygments_lexer": "ipython3",
   "version": "3.9.12"
  }
 },
 "nbformat": 4,
 "nbformat_minor": 5
}
